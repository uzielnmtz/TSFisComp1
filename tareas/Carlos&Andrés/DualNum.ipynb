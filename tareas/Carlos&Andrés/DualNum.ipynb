{
 "cells": [
  {
   "cell_type": "code",
   "execution_count": 1,
   "metadata": {},
   "outputs": [
    {
     "data": {
      "text/plain": [
       "Main.DualNum"
      ]
     },
     "execution_count": 1,
     "metadata": {},
     "output_type": "execute_result"
    }
   ],
   "source": [
    "module DualNum\n",
    "\n",
    "struct Dual\n",
    "    x  :: Float64\n",
    "    x´ :: Float64\n",
    "end\n",
    "\n",
    "Dual(c::Real) = Dual(c,0.0)\n",
    "\n",
    "dual(x0::Real)=Dual(x0,1.0)\n",
    "\n",
    "\n",
    "#Importamos la definición de los siguientes operadores\n",
    "import Base:+,-,*,/,^\n",
    "\n",
    "+(u::Dual,v::Dual)=Dual(u.x+v.x,u.x´+v.x´)\n",
    "\n",
    "-(u::Dual,v::Dual)=Dual(u.x-v.x, u.x´-v.x´)\n",
    "\n",
    "*(u::Dual,v::Dual)=Dual( u.x * v.x, u.x´*v.x + u.x*v.x´)\n",
    "\n",
    "function /(u::Dual , v::Dual)\n",
    "    y = u.x / v.x\n",
    "    Dual(y, (u.x´ - y * v.x´)/v.x)\n",
    "end\n",
    "\n",
    "function ^(a::Dual , n::Int)\n",
    "    y = a.x^(n-1)\n",
    "    Dual(a.x * y , n*y*a.x´)\n",
    "end\n",
    "\n",
    "#Extenderemos la operación +\n",
    "+(a::Real, u::Dual) = Dual(a + u.x, u.x´)\n",
    "+(u::Dual,a::Real) = Dual(a+u.x,u.x´)\n",
    "\n",
    "#Extenderemos la operación -\n",
    "-(a::Real,u::Dual) = Dual(a - u.x, -u.x´)\n",
    "-(u::Dual,a::Real) = Dual(u.x - a, u.x´)\n",
    "\n",
    "#Extenderemos la operación *\n",
    "*(a::Real, u::Dual) = Dual(a*u.x , a*u.x´)\n",
    "*(u::Dual, a::Real) = Dual(a*u.x , a*u.x´)\n",
    "\n",
    "#Extenderemos la operación /\n",
    "function /(a::Real,u::Dual)\n",
    "    Dual(a/u.x , -a*u.x´/u.x^2)\n",
    "end\n",
    "\n",
    "/(u::Dual, a::Real) = u*a^(-1)\n",
    "\n",
    "import Base: show\n",
    "\n",
    "function Base.show(io::IO, d::Dual)\n",
    "    if d.x´>= 0\n",
    "        println(\"$(d.x) + $(d.x´) ϵ\")\n",
    "    else\n",
    "        println(\"$(d.x) $(d.x´) ϵ\")\n",
    "    end\n",
    "end\n",
    "\n",
    "import Base: sqrt, exp, log, sin, cos, sinh, cosh\n",
    "\n",
    "sqrt(u::Dual) = Dual(sqrt(u.x), u.x´/(2*sqrt(u.x)))\n",
    "\n",
    "exp(u::Dual) = Dual(exp(u.x), u.x´*exp(u.x))\n",
    "\n",
    "log(u::Dual) = Dual(log(u.x), u.x´/u.x)\n",
    "\n",
    "sin(u::Dual) = Dual(sin(u.x), u.x´*cos(u.x))\n",
    "\n",
    "cos(u::Dual) = Dual(cos(u.x), -u.x´*sin(u.x))\n",
    "\n",
    "sinh(u::Dual) = Dual(sinh(u.x), u.x´*cosh(u.x))\n",
    "\n",
    "cosh(u::Dual) = Dual(cosh(u.x), u.x´*sinh(u.x))\n",
    "\n",
    "export +, -, *, /, ^, sqrt, exp, log, sin, cos, sinh, cosh, Dual, dual\n",
    "\n",
    "end"
   ]
  }
 ],
 "metadata": {
  "kernelspec": {
   "display_name": "Julia 1.0.0",
   "language": "julia",
   "name": "julia-1.0"
  },
  "language_info": {
   "file_extension": ".jl",
   "mimetype": "application/julia",
   "name": "julia",
   "version": "1.0.0"
  }
 },
 "nbformat": 4,
 "nbformat_minor": 2
}
