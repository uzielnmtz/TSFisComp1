{
 "cells": [
  {
   "cell_type": "markdown",
   "metadata": {},
   "source": [
    "# Tarea 2"
   ]
  },
  {
   "cell_type": "markdown",
   "metadata": {},
   "source": [
    "**Envío del PR inicial: 07.09.2018**\n",
    "\n",
    "**Aceptación del PR: 14.09.2018**"
   ]
  },
  {
   "cell_type": "markdown",
   "metadata": {},
   "source": [
    "## 1\n",
    "\n",
    "Extiendan los operadores `+`, `-`, `*` y `/` para que funcionen cuando una de las dos entradas es un `Dual` y la otra es un `Real` (número cualquiera), sin importar el orden."
   ]
  },
  {
   "cell_type": "code",
   "execution_count": 2,
   "metadata": {},
   "outputs": [
    {
     "data": {
      "text/plain": [
       "^ (generic function with 63 methods)"
      ]
     },
     "execution_count": 2,
     "metadata": {},
     "output_type": "execute_result"
    }
   ],
   "source": [
    "\"\"\"\n",
    "    Dual\n",
    "\n",
    "Definición de los números duales. Los campos internos son\n",
    "    x   :: Float64      # Valor de la función\n",
    "    x'  :: Float64      # Valor de su derivada\n",
    "\n",
    "\"\"\"\n",
    "struct Dual\n",
    "    x  :: Float64\n",
    "    x´ :: Float64\n",
    "end\n",
    "\n",
    "Dual(c::Real) = Dual(c,0.0)\n",
    "\n",
    "dual(x0::Real)=Dual(x0,1.0)\n",
    "\n",
    "\n",
    "#Importamos la definición de los siguientes operadores\n",
    "import Base:+,-,*,/,^\n",
    "\n",
    "+(u::Dual,v::Dual)=Dual(u.x+v.x,u.x´+v.x´)\n",
    "\n",
    "-(u::Dual,v::Dual)=Dual(u.x-v.x, u.x´-v.x´)\n",
    "\n",
    "*(u::Dual,v::Dual)=Dual( u.x * v.x, u.x´*v.x + u.x*v.x´)\n",
    "\n",
    "function /(u::Dual , v::Dual)\n",
    "    y = u.x / v.x\n",
    "    Dual(y, (u.x´ - y * v.x´)/v.x)\n",
    "end\n",
    "\n",
    "function ^(a::Dual , n::Int)\n",
    "    y = a.x^(n-1)\n",
    "    Dual(a.x * y , n*y*a.x´)\n",
    "end"
   ]
  },
  {
   "cell_type": "code",
   "execution_count": 2,
   "metadata": {},
   "outputs": [
    {
     "data": {
      "text/plain": [
       "/ (generic function with 107 methods)"
      ]
     },
     "execution_count": 2,
     "metadata": {},
     "output_type": "execute_result"
    }
   ],
   "source": [
    "#Extenderemos la operación +\n",
    "+(a::Real, u::Dual) = Dual(a + u.x, u.x´)\n",
    "+(u::Dual,a::Real) = Dual(a+u.x,u.x´)\n",
    "\n",
    "#Extenderemos la operación -\n",
    "-(a::Real,u::Dual) = Dual(a - u.x, -u.x´)\n",
    "-(u::Dual,a::Real) = Dual(u.x - a, u.x´)\n",
    "\n",
    "#Extenderemos la operación *\n",
    "*(a::Real, u::Dual) = Dual(a*u.x , a*u.x´)\n",
    "*(u::Dual, a::Real) = Dual(a*u.x , a*u.x´)\n",
    "\n",
    "#Extenderemos la operación /\n",
    "function /(a::Real,u::Dual)\n",
    "    Dual(a/u.x , -a*u.x´/u.x^2)\n",
    "end\n",
    "\n",
    "/(u::Dual, a::Real) = u*a^(-1)"
   ]
  },
  {
   "cell_type": "markdown",
   "metadata": {},
   "source": [
    "## 2\n",
    "\n",
    "Construyan 2 tests para cada una de las operaciones aritméticas definidas para los `Dual`es, incluyendo las que definieron en el ejercicio 1."
   ]
  },
  {
   "cell_type": "code",
   "execution_count": 3,
   "metadata": {},
   "outputs": [],
   "source": [
    "import Test.@test   \n",
    "\n",
    "#Funciona para cuando tnemos más de dos elementos: u + v + w = (u + v) + w"
   ]
  },
  {
   "cell_type": "code",
   "execution_count": 4,
   "metadata": {},
   "outputs": [
    {
     "data": {
      "text/plain": [
       "\u001b[32m\u001b[1mTest Passed\u001b[22m\u001b[39m"
      ]
     },
     "execution_count": 4,
     "metadata": {},
     "output_type": "execute_result"
    }
   ],
   "source": [
    "#Tests para operación +\n",
    "@test Dual(1,1) + pi + Dual(-1,-1) == Dual(pi,0)\n",
    "@test 1 + Dual(2,2) + Dual(1,1) == Dual(4,3) "
   ]
  },
  {
   "cell_type": "code",
   "execution_count": 5,
   "metadata": {},
   "outputs": [
    {
     "data": {
      "text/plain": [
       "\u001b[32m\u001b[1mTest Passed\u001b[22m\u001b[39m"
      ]
     },
     "execution_count": 5,
     "metadata": {},
     "output_type": "execute_result"
    }
   ],
   "source": [
    "#Tests para operación -\n",
    "@test Dual(1,1) - pi - Dual(-1,-1) == Dual(2-pi,2)\n",
    "@test 1 - Dual(2,2) - Dual(1,1) == Dual(-2,-3) "
   ]
  },
  {
   "cell_type": "code",
   "execution_count": 6,
   "metadata": {},
   "outputs": [
    {
     "data": {
      "text/plain": [
       "\u001b[32m\u001b[1mTest Passed\u001b[22m\u001b[39m"
      ]
     },
     "execution_count": 6,
     "metadata": {},
     "output_type": "execute_result"
    }
   ],
   "source": [
    "#Tests para operación *\n",
    "@test Dual(1,3)*5*Dual(-1,1) == Dual(-5,-10) && 5*Dual(1,3)*Dual(-1,1) == Dual(-5,-10)"
   ]
  },
  {
   "cell_type": "code",
   "execution_count": 7,
   "metadata": {},
   "outputs": [
    {
     "data": {
      "text/plain": [
       "\u001b[32m\u001b[1mTest Passed\u001b[22m\u001b[39m"
      ]
     },
     "execution_count": 7,
     "metadata": {},
     "output_type": "execute_result"
    }
   ],
   "source": [
    "#Tests para operación /\n",
    "@test Dual(2,1)/0.5/Dual(4,2) == Dual(1,0)\n",
    "\n",
    "@test 4/Dual(2,1)/Dual(2,1) == Dual(1,-1)"
   ]
  },
  {
   "cell_type": "code",
   "execution_count": 8,
   "metadata": {},
   "outputs": [
    {
     "data": {
      "text/plain": [
       "\u001b[32m\u001b[1mTest Passed\u001b[22m\u001b[39m"
      ]
     },
     "execution_count": 8,
     "metadata": {},
     "output_type": "execute_result"
    }
   ],
   "source": [
    "#Tests para la operación ^\n",
    "@test Dual(2.5,3)^3 == Dual(2.5^3,9*6.25) \n",
    "@test Dual(25,16)^1 == Dual(25, 16) "
   ]
  },
  {
   "cell_type": "code",
   "execution_count": 9,
   "metadata": {},
   "outputs": [
    {
     "data": {
      "text/plain": [
       "\u001b[32m\u001b[1mTest Passed\u001b[22m\u001b[39m"
      ]
     },
     "execution_count": 9,
     "metadata": {},
     "output_type": "execute_result"
    }
   ],
   "source": [
    "#Test passed, pero hay un error durante el testing, es mejor en líneas separadas\n",
    "@test Dual(2.5,3)^3 == Dual(2.5^3,9*6.25) && Dual(25,16)^1 == Dual(25,16) "
   ]
  },
  {
   "cell_type": "markdown",
   "metadata": {},
   "source": [
    "## 3\n",
    "\n",
    "Sobrecarguen la función `show` (que está en Base) para que cuando se impriman los duales aparezcan con la notación $\\varepsilon$ que usamos al principio de este notebook, por ejemplo, el resultado de `Dual(1,2)` debe ser parecido a `1.0 + 2.0 ε`."
   ]
  },
  {
   "cell_type": "code",
   "execution_count": 10,
   "metadata": {},
   "outputs": [],
   "source": [
    "import Base: show\n",
    "\n",
    "function Base.show(io::IO, d::Dual)\n",
    "    if d.x´>= 0\n",
    "        println(\"$(d.x) + $(d.x´) ϵ\")\n",
    "    else\n",
    "        println(\"$(d.x) $(d.x´) ϵ\")\n",
    "    end\n",
    "end"
   ]
  },
  {
   "cell_type": "code",
   "execution_count": 11,
   "metadata": {},
   "outputs": [
    {
     "data": {
      "text/plain": []
     },
     "execution_count": 11,
     "metadata": {},
     "output_type": "execute_result"
    },
    {
     "name": "stdout",
     "output_type": "stream",
     "text": [
      "3.0 + 35.0 ϵ\n"
     ]
    }
   ],
   "source": [
    "Dual(3,35)"
   ]
  },
  {
   "cell_type": "markdown",
   "metadata": {},
   "source": [
    "## 4\n",
    "\n",
    "Obtengan la derivada de \n",
    "$$g(x) = \\frac{3x^2-8x+5}{7x^3-1}$$\n",
    "en $x_0=1$."
   ]
  },
  {
   "cell_type": "code",
   "execution_count": 12,
   "metadata": {},
   "outputs": [
    {
     "data": {
      "text/plain": [
       "dg (generic function with 1 method)"
      ]
     },
     "execution_count": 12,
     "metadata": {},
     "output_type": "execute_result"
    }
   ],
   "source": [
    "g(x) = (3*x^2-8*x+5)/(7*x^3-1)\n",
    "\n",
    "dg(x) = g(dual(x))"
   ]
  },
  {
   "cell_type": "code",
   "execution_count": 13,
   "metadata": {},
   "outputs": [
    {
     "data": {
      "text/plain": []
     },
     "execution_count": 13,
     "metadata": {},
     "output_type": "execute_result"
    },
    {
     "name": "stdout",
     "output_type": "stream",
     "text": [
      "0.0 -0.3333333333333333 ϵ\n"
     ]
    }
   ],
   "source": [
    "dg(1)"
   ]
  },
  {
   "cell_type": "code",
   "execution_count": 14,
   "metadata": {},
   "outputs": [
    {
     "data": {
      "text/plain": [
       "Df (generic function with 1 method)"
      ]
     },
     "execution_count": 14,
     "metadata": {},
     "output_type": "execute_result"
    }
   ],
   "source": [
    "Df(f,x) = f(dual(x))"
   ]
  },
  {
   "cell_type": "code",
   "execution_count": 15,
   "metadata": {},
   "outputs": [
    {
     "data": {
      "text/plain": []
     },
     "execution_count": 15,
     "metadata": {},
     "output_type": "execute_result"
    },
    {
     "name": "stdout",
     "output_type": "stream",
     "text": [
      "0.0 -0.3333333333333333 ϵ\n"
     ]
    }
   ],
   "source": [
    "Df(x->(3*x^2-8*x+5)/(7*x^3-1), 1)"
   ]
  },
  {
   "cell_type": "markdown",
   "metadata": {},
   "source": [
    "## 5\n",
    "\n",
    "- Recordando la regla de la cadena(!!!), extiendan el usar los `Dual` a las funciones `sqrt`, `exp`, `log`, `sin`, `cos`, `sinh` y `cosh`. \n",
    "\n",
    "- Muestren que las cosas dan los resultados que esperan usando pruebas como hicieron en el ejercicio 2.\n",
    "\n",
    "- Calculen la derivada de $h(x) = \\sin\\Big(x^3 - \\frac{2}{x^6}\\Big)$ en $x_0 = 2$. ¿Qué tan preciso es el resultado?(Pueden usar cualquier otra manera de obtener el resultado correcto, sólo tienen que ser claros en la explicación.)\n",
    "\n",
    "- Dibujen, para $x_0 \\in [1,5]$ la función $h'(x)$."
   ]
  },
  {
   "cell_type": "code",
   "execution_count": 16,
   "metadata": {},
   "outputs": [],
   "source": [
    "import Base: sqrt, exp, log, sin, cos, sinh, cosh"
   ]
  },
  {
   "cell_type": "code",
   "execution_count": 17,
   "metadata": {},
   "outputs": [
    {
     "data": {
      "text/plain": [
       "cosh (generic function with 13 methods)"
      ]
     },
     "execution_count": 17,
     "metadata": {},
     "output_type": "execute_result"
    }
   ],
   "source": [
    "sqrt(u::Dual) = Dual(sqrt(u.x), u.x´/(2*sqrt(u.x)))\n",
    "\n",
    "exp(u::Dual) = Dual(exp(u.x), u.x´*exp(u.x))\n",
    "\n",
    "log(u::Dual) = Dual(log(u.x), u.x´/u.x)\n",
    "\n",
    "sin(u::Dual) = Dual(sin(u.x), u.x´*cos(u.x))\n",
    "\n",
    "cos(u::Dual) = Dual(cos(u.x), -u.x´*sin(u.x))\n",
    "\n",
    "sinh(u::Dual) = Dual(sinh(u.x), u.x´*cosh(u.x))\n",
    "\n",
    "cosh(u::Dual) = Dual(cosh(u.x), u.x´*sinh(u.x))"
   ]
  },
  {
   "cell_type": "code",
   "execution_count": 18,
   "metadata": {},
   "outputs": [
    {
     "data": {
      "text/plain": [
       "\u001b[32m\u001b[1mTest Passed\u001b[22m\u001b[39m"
      ]
     },
     "execution_count": 18,
     "metadata": {},
     "output_type": "execute_result"
    }
   ],
   "source": [
    "@test sqrt(Dual(1,1)) == Dual(1,0.5)"
   ]
  },
  {
   "cell_type": "code",
   "execution_count": 19,
   "metadata": {},
   "outputs": [
    {
     "data": {
      "text/plain": [
       "\u001b[32m\u001b[1mTest Passed\u001b[22m\u001b[39m"
      ]
     },
     "execution_count": 19,
     "metadata": {},
     "output_type": "execute_result"
    }
   ],
   "source": [
    "@test exp(Dual(2,3)) == Dual(exp(2),3*exp(2))"
   ]
  },
  {
   "cell_type": "code",
   "execution_count": 20,
   "metadata": {},
   "outputs": [
    {
     "data": {
      "text/plain": [
       "\u001b[32m\u001b[1mTest Passed\u001b[22m\u001b[39m"
      ]
     },
     "execution_count": 20,
     "metadata": {},
     "output_type": "execute_result"
    }
   ],
   "source": [
    "@test log(Dual(exp(1), 10)) == Dual(1,10/exp(1))"
   ]
  },
  {
   "cell_type": "code",
   "execution_count": 21,
   "metadata": {},
   "outputs": [
    {
     "data": {
      "text/plain": [
       "\u001b[32m\u001b[1mTest Passed\u001b[22m\u001b[39m"
      ]
     },
     "execution_count": 21,
     "metadata": {},
     "output_type": "execute_result"
    }
   ],
   "source": [
    "@test sin(Dual(pi,-2)) == Dual(sin(pi), 2)"
   ]
  },
  {
   "cell_type": "code",
   "execution_count": 22,
   "metadata": {},
   "outputs": [
    {
     "data": {
      "text/plain": [
       "\u001b[32m\u001b[1mTest Passed\u001b[22m\u001b[39m"
      ]
     },
     "execution_count": 22,
     "metadata": {},
     "output_type": "execute_result"
    }
   ],
   "source": [
    "@test cos(Dual(pi,3)) == Dual(-1,-3*sin(pi))"
   ]
  },
  {
   "cell_type": "code",
   "execution_count": 23,
   "metadata": {},
   "outputs": [
    {
     "data": {
      "text/plain": [
       "\u001b[32m\u001b[1mTest Passed\u001b[22m\u001b[39m"
      ]
     },
     "execution_count": 23,
     "metadata": {},
     "output_type": "execute_result"
    }
   ],
   "source": [
    "@test sinh(Dual(6,7)) == Dual(sinh(6),7.0*cosh(6))"
   ]
  },
  {
   "cell_type": "code",
   "execution_count": 24,
   "metadata": {},
   "outputs": [
    {
     "data": {
      "text/plain": [
       "\u001b[32m\u001b[1mTest Passed\u001b[22m\u001b[39m"
      ]
     },
     "execution_count": 24,
     "metadata": {},
     "output_type": "execute_result"
    }
   ],
   "source": [
    "@test cosh(Dual(3,5)) == Dual(cosh(3),5*sinh(3))"
   ]
  },
  {
   "cell_type": "code",
   "execution_count": 25,
   "metadata": {},
   "outputs": [
    {
     "name": "stdout",
     "output_type": "stream",
     "text": [
      "d1.x´ = -1.384934905523464\n",
      "d2 = -1.384934905523464\n"
     ]
    },
    {
     "data": {
      "text/plain": [
       "\u001b[32m\u001b[1mTest Passed\u001b[22m\u001b[39m"
      ]
     },
     "execution_count": 25,
     "metadata": {},
     "output_type": "execute_result"
    }
   ],
   "source": [
    "# Derivada del sin( ) usando la definición de los Duales:\n",
    "\n",
    "d1 = Df(x->sin(x^3 - 2/(x^6)),2)\n",
    "\n",
    "#La derivada exacta usando regla de la cadena:\n",
    "d2 = cos(2^3 - 2/(2^6))*(3*2^2-2*-6/2^7)\n",
    "\n",
    "println(\"d1.x´ = \", d1.x´)\n",
    "println(\"d2 = \", d2)\n",
    "\n",
    "@test d1.x´ == d2     #El resultado es exacto (16 cifras decimales) para un float64"
   ]
  },
  {
   "cell_type": "code",
   "execution_count": 26,
   "metadata": {},
   "outputs": [
    {
     "data": {
     },
     "metadata": {},
     "output_type": "display_data"
    },
    {
     "data": {
      "text/plain": [
       "Plots.GRBackend()"
      ]
     },
     "execution_count": 26,
     "metadata": {},
     "output_type": "execute_result"
    }
   ],
   "source": [
    "using Plots\n",
    "\n",
    "x = range(1,stop=5,length=5000)\n",
    "y1 = Df.(a->sin(a^3 - 2/(a^6)),x)\n",
    "y = []\n",
    "for i in 1:5000\n",
    "    push!(y,y1[i].x´)\n",
    "end\n",
    "\n",
    "gr()"
   ]
  },
  {
   "cell_type": "code",
   "execution_count": 32,
   "metadata": {},
   "outputs": [],
   "source": [
    "using Pkg"
   ]
  },
  {
   "cell_type": "code",
   "execution_count": 48,
   "metadata": {},
   "outputs": [
    {
     "name": "stdout",
     "output_type": "stream",
     "text": [
      "\u001b[32m\u001b[1m Resolving\u001b[22m\u001b[39m package versions...\n",
      "\u001b[32m\u001b[1m  Updating\u001b[22m\u001b[39m `C:\\Users\\Carlos Borja\\.julia\\environments\\v1.0\\Project.toml`\n",
      " \u001b[90m [f0f68f2c]\u001b[39m\u001b[92m + PlotlyJS v0.10.3\u001b[39m\n",
      "\u001b[32m\u001b[1m  Updating\u001b[22m\u001b[39m `C:\\Users\\Carlos Borja\\.julia\\environments\\v1.0\\Manifest.toml`\n",
      "\u001b[90m [no changes]\u001b[39m\n"
     ]
    }
   ],
   "source": [
    "Pkg.add(\"PlotlyJS\")"
   ]
  },
  {
   "cell_type": "code",
   "execution_count": 52,
   "metadata": {},
   "outputs": [
    {
     "data": {
      "text/plain": [
       "Plots.GRBackend()"
      ]
     },
     "execution_count": 52,
     "metadata": {},
     "output_type": "execute_result"
    }
   ],
   "source": [
    "gr()"
   ]
  },
  {
   "cell_type": "code",
   "execution_count": 53,
   "metadata": {},
   "outputs": [
    {
     "data": {
      "image/svg+xml": [
       "<?xml version=\"1.0\" encoding=\"utf-8\"?>\n",
       "<svg xmlns=\"http://www.w3.org/2000/svg\" xmlns:xlink=\"http://www.w3.org/1999/xlink\" width=\"600\" height=\"400\" viewBox=\"0 0 600 400\">\n",
       "<defs>\n",
       "  <clipPath id=\"clip9600\">\n",
       "    <rect x=\"0\" y=\"0\" width=\"600\" height=\"400\"/>\n",
       "  </clipPath>\n",
       "</defs>\n",
       "<polygon clip-path=\"url(#clip9600)\" points=\"\n",
       "0,400 600,400 600,0 0,0 \n",
       "  \" fill=\"#ffffff\" fill-opacity=\"1\"/>\n",
       "<defs>\n",
       "  <clipPath id=\"clip9601\">\n",
       "    <rect x=\"120\" y=\"0\" width=\"421\" height=\"400\"/>\n",
       "  </clipPath>\n",
       "</defs>\n",
       "<polygon clip-path=\"url(#clip9600)\" points=\"\n",
       "59.7788,360.121 580.315,360.121 580.315,11.811 59.7788,11.811 \n",
       "  \" fill=\"#ffffff\" fill-opacity=\"1\"/>\n",
       "<defs>\n",
       "  <clipPath id=\"clip9602\">\n",
       "    <rect x=\"59\" y=\"11\" width=\"522\" height=\"349\"/>\n",
       "  </clipPath>\n",
       "</defs>\n",
       "<polyline clip-path=\"url(#clip9602)\" style=\"stroke:#000000; stroke-width:0.5; stroke-opacity:0.1; fill:none\" points=\"\n",
       "  74.5109,360.121 74.5109,11.811 \n",
       "  \"/>\n",
       "<polyline clip-path=\"url(#clip9602)\" style=\"stroke:#000000; stroke-width:0.5; stroke-opacity:0.1; fill:none\" points=\"\n",
       "  197.279,360.121 197.279,11.811 \n",
       "  \"/>\n",
       "<polyline clip-path=\"url(#clip9602)\" style=\"stroke:#000000; stroke-width:0.5; stroke-opacity:0.1; fill:none\" points=\"\n",
       "  320.047,360.121 320.047,11.811 \n",
       "  \"/>\n",
       "<polyline clip-path=\"url(#clip9602)\" style=\"stroke:#000000; stroke-width:0.5; stroke-opacity:0.1; fill:none\" points=\"\n",
       "  442.815,360.121 442.815,11.811 \n",
       "  \"/>\n",
       "<polyline clip-path=\"url(#clip9602)\" style=\"stroke:#000000; stroke-width:0.5; stroke-opacity:0.1; fill:none\" points=\"\n",
       "  565.583,360.121 565.583,11.811 \n",
       "  \"/>\n",
       "<polyline clip-path=\"url(#clip9602)\" style=\"stroke:#000000; stroke-width:0.5; stroke-opacity:0.1; fill:none\" points=\"\n",
       "  59.7788,318.957 580.315,318.957 \n",
       "  \"/>\n",
       "<polyline clip-path=\"url(#clip9602)\" style=\"stroke:#000000; stroke-width:0.5; stroke-opacity:0.1; fill:none\" points=\"\n",
       "  59.7788,274.163 580.315,274.163 \n",
       "  \"/>\n",
       "<polyline clip-path=\"url(#clip9602)\" style=\"stroke:#000000; stroke-width:0.5; stroke-opacity:0.1; fill:none\" points=\"\n",
       "  59.7788,229.369 580.315,229.369 \n",
       "  \"/>\n",
       "<polyline clip-path=\"url(#clip9602)\" style=\"stroke:#000000; stroke-width:0.5; stroke-opacity:0.1; fill:none\" points=\"\n",
       "  59.7788,184.575 580.315,184.575 \n",
       "  \"/>\n",
       "<polyline clip-path=\"url(#clip9602)\" style=\"stroke:#000000; stroke-width:0.5; stroke-opacity:0.1; fill:none\" points=\"\n",
       "  59.7788,139.782 580.315,139.782 \n",
       "  \"/>\n",
       "<polyline clip-path=\"url(#clip9602)\" style=\"stroke:#000000; stroke-width:0.5; stroke-opacity:0.1; fill:none\" points=\"\n",
       "  59.7788,94.9879 580.315,94.9879 \n",
       "  \"/>\n",
       "<polyline clip-path=\"url(#clip9602)\" style=\"stroke:#000000; stroke-width:0.5; stroke-opacity:0.1; fill:none\" points=\"\n",
       "  59.7788,50.1942 580.315,50.1942 \n",
       "  \"/>\n",
       "<polyline clip-path=\"url(#clip9600)\" style=\"stroke:#000000; stroke-width:1; stroke-opacity:1; fill:none\" points=\"\n",
       "  59.7788,360.121 580.315,360.121 \n",
       "  \"/>\n",
       "<polyline clip-path=\"url(#clip9600)\" style=\"stroke:#000000; stroke-width:1; stroke-opacity:1; fill:none\" points=\"\n",
       "  59.7788,360.121 59.7788,11.811 \n",
       "  \"/>\n",
       "<polyline clip-path=\"url(#clip9600)\" style=\"stroke:#000000; stroke-width:1; stroke-opacity:1; fill:none\" points=\"\n",
       "  74.5109,360.121 74.5109,354.896 \n",
       "  \"/>\n",
       "<polyline clip-path=\"url(#clip9600)\" style=\"stroke:#000000; stroke-width:1; stroke-opacity:1; fill:none\" points=\"\n",
       "  197.279,360.121 197.279,354.896 \n",
       "  \"/>\n",
       "<polyline clip-path=\"url(#clip9600)\" style=\"stroke:#000000; stroke-width:1; stroke-opacity:1; fill:none\" points=\"\n",
       "  320.047,360.121 320.047,354.896 \n",
       "  \"/>\n",
       "<polyline clip-path=\"url(#clip9600)\" style=\"stroke:#000000; stroke-width:1; stroke-opacity:1; fill:none\" points=\"\n",
       "  442.815,360.121 442.815,354.896 \n",
       "  \"/>\n",
       "<polyline clip-path=\"url(#clip9600)\" style=\"stroke:#000000; stroke-width:1; stroke-opacity:1; fill:none\" points=\"\n",
       "  565.583,360.121 565.583,354.896 \n",
       "  \"/>\n",
       "<polyline clip-path=\"url(#clip9600)\" style=\"stroke:#000000; stroke-width:1; stroke-opacity:1; fill:none\" points=\"\n",
       "  59.7788,318.957 67.5868,318.957 \n",
       "  \"/>\n",
       "<polyline clip-path=\"url(#clip9600)\" style=\"stroke:#000000; stroke-width:1; stroke-opacity:1; fill:none\" points=\"\n",
       "  59.7788,274.163 67.5868,274.163 \n",
       "  \"/>\n",
       "<polyline clip-path=\"url(#clip9600)\" style=\"stroke:#000000; stroke-width:1; stroke-opacity:1; fill:none\" points=\"\n",
       "  59.7788,229.369 67.5868,229.369 \n",
       "  \"/>\n",
       "<polyline clip-path=\"url(#clip9600)\" style=\"stroke:#000000; stroke-width:1; stroke-opacity:1; fill:none\" points=\"\n",
       "  59.7788,184.575 67.5868,184.575 \n",
       "  \"/>\n",
       "<polyline clip-path=\"url(#clip9600)\" style=\"stroke:#000000; stroke-width:1; stroke-opacity:1; fill:none\" points=\"\n",
       "  59.7788,139.782 67.5868,139.782 \n",
       "  \"/>\n",
       "<polyline clip-path=\"url(#clip9600)\" style=\"stroke:#000000; stroke-width:1; stroke-opacity:1; fill:none\" points=\"\n",
       "  59.7788,94.9879 67.5868,94.9879 \n",
       "  \"/>\n",
       "<polyline clip-path=\"url(#clip9600)\" style=\"stroke:#000000; stroke-width:1; stroke-opacity:1; fill:none\" points=\"\n",
       "  59.7788,50.1942 67.5868,50.1942 \n",
       "  \"/>\n",
       "<g clip-path=\"url(#clip9600)\">\n",
       "<text style=\"fill:#000000; fill-opacity:1; font-family:Arial,Helvetica Neue,Helvetica,sans-serif; font-size:12; text-anchor:middle;\" transform=\"rotate(0, 74.5109, 373.921)\" x=\"74.5109\" y=\"373.921\">1</text>\n",
       "</g>\n",
       "<g clip-path=\"url(#clip9600)\">\n",
       "<text style=\"fill:#000000; fill-opacity:1; font-family:Arial,Helvetica Neue,Helvetica,sans-serif; font-size:12; text-anchor:middle;\" transform=\"rotate(0, 197.279, 373.921)\" x=\"197.279\" y=\"373.921\">2</text>\n",
       "</g>\n",
       "<g clip-path=\"url(#clip9600)\">\n",
       "<text style=\"fill:#000000; fill-opacity:1; font-family:Arial,Helvetica Neue,Helvetica,sans-serif; font-size:12; text-anchor:middle;\" transform=\"rotate(0, 320.047, 373.921)\" x=\"320.047\" y=\"373.921\">3</text>\n",
       "</g>\n",
       "<g clip-path=\"url(#clip9600)\">\n",
       "<text style=\"fill:#000000; fill-opacity:1; font-family:Arial,Helvetica Neue,Helvetica,sans-serif; font-size:12; text-anchor:middle;\" transform=\"rotate(0, 442.815, 373.921)\" x=\"442.815\" y=\"373.921\">4</text>\n",
       "</g>\n",
       "<g clip-path=\"url(#clip9600)\">\n",
       "<text style=\"fill:#000000; fill-opacity:1; font-family:Arial,Helvetica Neue,Helvetica,sans-serif; font-size:12; text-anchor:middle;\" transform=\"rotate(0, 565.583, 373.921)\" x=\"565.583\" y=\"373.921\">5</text>\n",
       "</g>\n",
       "<g clip-path=\"url(#clip9600)\">\n",
       "<text style=\"fill:#000000; fill-opacity:1; font-family:Arial,Helvetica Neue,Helvetica,sans-serif; font-size:12; text-anchor:end;\" transform=\"rotate(0, 53.7788, 323.457)\" x=\"53.7788\" y=\"323.457\">-60</text>\n",
       "</g>\n",
       "<g clip-path=\"url(#clip9600)\">\n",
       "<text style=\"fill:#000000; fill-opacity:1; font-family:Arial,Helvetica Neue,Helvetica,sans-serif; font-size:12; text-anchor:end;\" transform=\"rotate(0, 53.7788, 278.663)\" x=\"53.7788\" y=\"278.663\">-40</text>\n",
       "</g>\n",
       "<g clip-path=\"url(#clip9600)\">\n",
       "<text style=\"fill:#000000; fill-opacity:1; font-family:Arial,Helvetica Neue,Helvetica,sans-serif; font-size:12; text-anchor:end;\" transform=\"rotate(0, 53.7788, 233.869)\" x=\"53.7788\" y=\"233.869\">-20</text>\n",
       "</g>\n",
       "<g clip-path=\"url(#clip9600)\">\n",
       "<text style=\"fill:#000000; fill-opacity:1; font-family:Arial,Helvetica Neue,Helvetica,sans-serif; font-size:12; text-anchor:end;\" transform=\"rotate(0, 53.7788, 189.075)\" x=\"53.7788\" y=\"189.075\">0</text>\n",
       "</g>\n",
       "<g clip-path=\"url(#clip9600)\">\n",
       "<text style=\"fill:#000000; fill-opacity:1; font-family:Arial,Helvetica Neue,Helvetica,sans-serif; font-size:12; text-anchor:end;\" transform=\"rotate(0, 53.7788, 144.282)\" x=\"53.7788\" y=\"144.282\">20</text>\n",
       "</g>\n",
       "<g clip-path=\"url(#clip9600)\">\n",
       "<text style=\"fill:#000000; fill-opacity:1; font-family:Arial,Helvetica Neue,Helvetica,sans-serif; font-size:12; text-anchor:end;\" transform=\"rotate(0, 53.7788, 99.4879)\" x=\"53.7788\" y=\"99.4879\">40</text>\n",
       "</g>\n",
       "<g clip-path=\"url(#clip9600)\">\n",
       "<text style=\"fill:#000000; fill-opacity:1; font-family:Arial,Helvetica Neue,Helvetica,sans-serif; font-size:12; text-anchor:end;\" transform=\"rotate(0, 53.7788, 54.6942)\" x=\"53.7788\" y=\"54.6942\">60</text>\n",
       "</g>\n",
       "<g clip-path=\"url(#clip9600)\">\n",
       "<text style=\"fill:#000000; fill-opacity:1; font-family:Arial,Helvetica Neue,Helvetica,sans-serif; font-size:16; text-anchor:middle;\" transform=\"rotate(0, 320.047, 397.6)\" x=\"320.047\" y=\"397.6\">x</text>\n",
       "</g>\n",
       "<g clip-path=\"url(#clip9600)\">\n",
       "<text style=\"fill:#000000; fill-opacity:1; font-family:Arial,Helvetica Neue,Helvetica,sans-serif; font-size:16; text-anchor:middle;\" transform=\"rotate(-90, 14.4, 185.966)\" x=\"14.4\" y=\"185.966\">h(x)</text>\n",
       "</g>\n",
       "<polyline clip-path=\"url(#clip9602)\" style=\"stroke:#009af9; stroke-width:1; stroke-opacity:1; fill:none\" points=\"\n",
       "  74.5109,166.424 74.6092,166.163 74.7074,165.909 74.8056,165.661 74.9039,165.419 75.0021,165.183 75.1003,164.952 75.1986,164.728 75.2968,164.51 75.395,164.297 \n",
       "  75.4933,164.091 75.5915,163.889 75.6897,163.694 75.788,163.504 75.8862,163.319 75.9844,163.139 76.0827,162.965 76.1809,162.796 76.2791,162.632 76.3774,162.474 \n",
       "  76.4756,162.32 76.5738,162.171 76.6721,162.027 76.7703,161.888 76.8685,161.754 76.9668,161.624 77.065,161.499 77.1632,161.378 77.2615,161.262 77.3597,161.15 \n",
       "  77.4579,161.043 77.5562,160.939 77.6544,160.841 77.7526,160.746 77.8509,160.655 77.9491,160.568 78.0474,160.486 78.1456,160.407 78.2438,160.332 78.3421,160.261 \n",
       "  78.4403,160.193 78.5385,160.129 78.6368,160.069 78.735,160.013 78.8332,159.959 78.9315,159.91 79.0297,159.863 79.1279,159.82 79.2262,159.781 79.3244,159.744 \n",
       "  79.4226,159.711 79.5209,159.68 79.6191,159.653 79.7173,159.629 79.8156,159.608 79.9138,159.589 80.012,159.574 80.1103,159.561 80.2085,159.551 80.3067,159.544 \n",
       "  80.405,159.539 80.5032,159.537 80.6014,159.538 80.6997,159.541 80.7979,159.547 80.8961,159.555 80.9944,159.565 81.0926,159.578 81.1908,159.593 81.2891,159.61 \n",
       "  81.3873,159.63 81.4855,159.651 81.5838,159.675 81.682,159.701 81.7802,159.729 81.8785,159.759 81.9767,159.791 82.0749,159.825 82.1732,159.86 82.2714,159.898 \n",
       "  82.3696,159.937 82.4679,159.979 82.5661,160.022 82.6643,160.066 82.7626,160.113 82.8608,160.161 82.9591,160.21 83.0573,160.262 83.1555,160.314 83.2538,160.369 \n",
       "  83.352,160.425 83.4502,160.482 83.5485,160.54 83.6467,160.601 83.7449,160.662 83.8432,160.725 83.9414,160.789 84.0396,160.854 84.1379,160.921 84.2361,160.989 \n",
       "  84.3343,161.058 84.4326,161.128 84.5308,161.199 84.629,161.272 84.7273,161.345 84.8255,161.42 84.9237,161.495 85.022,161.572 85.1202,161.65 85.2184,161.729 \n",
       "  85.3167,161.808 85.4149,161.889 85.5131,161.97 85.6114,162.052 85.7096,162.136 85.8078,162.22 85.9061,162.304 86.0043,162.39 86.1025,162.477 86.2008,162.564 \n",
       "  86.299,162.652 86.3972,162.74 86.4955,162.83 86.5937,162.92 86.6919,163.01 86.7902,163.102 86.8884,163.194 86.9866,163.286 87.0849,163.38 87.1831,163.473 \n",
       "  87.2813,163.568 87.3796,163.663 87.4778,163.758 87.5761,163.854 87.6743,163.951 87.7725,164.048 87.8708,164.145 87.969,164.243 88.0672,164.341 88.1655,164.44 \n",
       "  88.2637,164.539 88.3619,164.639 88.4602,164.739 88.5584,164.839 88.6566,164.94 88.7549,165.041 88.8531,165.142 88.9513,165.244 89.0496,165.346 89.1478,165.449 \n",
       "  89.246,165.552 89.3443,165.655 89.4425,165.758 89.5407,165.861 89.639,165.965 89.7372,166.069 89.8354,166.174 89.9337,166.278 90.0319,166.383 90.1301,166.488 \n",
       "  90.2284,166.593 90.3266,166.698 90.4248,166.804 90.5231,166.91 90.6213,167.015 90.7195,167.121 90.8178,167.228 90.916,167.334 91.0142,167.44 91.1125,167.547 \n",
       "  91.2107,167.654 91.3089,167.761 91.4072,167.867 91.5054,167.975 91.6036,168.082 91.7019,168.189 91.8001,168.296 91.8983,168.403 91.9966,168.511 92.0948,168.618 \n",
       "  92.193,168.726 92.2913,168.834 92.3895,168.941 92.4878,169.049 92.586,169.157 92.6842,169.264 92.7825,169.372 92.8807,169.48 92.9789,169.588 93.0772,169.695 \n",
       "  93.1754,169.803 93.2736,169.911 93.3719,170.019 93.4701,170.127 93.5683,170.234 93.6666,170.342 93.7648,170.45 93.863,170.558 93.9613,170.665 94.0595,170.773 \n",
       "  94.1577,170.881 94.256,170.988 94.3542,171.096 94.4524,171.203 94.5507,171.311 94.6489,171.418 94.7471,171.525 94.8454,171.633 94.9436,171.74 95.0418,171.847 \n",
       "  95.1401,171.954 95.2383,172.061 95.3365,172.168 95.4348,172.275 95.533,172.382 95.6312,172.488 95.7295,172.595 95.8277,172.701 95.9259,172.808 96.0242,172.914 \n",
       "  96.1224,173.02 96.2206,173.127 96.3189,173.233 96.4171,173.339 96.5153,173.444 96.6136,173.55 96.7118,173.656 96.81,173.761 96.9083,173.867 97.0065,173.972 \n",
       "  97.1048,174.077 97.203,174.183 97.3012,174.288 97.3995,174.392 97.4977,174.497 97.5959,174.602 97.6942,174.706 97.7924,174.811 97.8906,174.915 97.9889,175.019 \n",
       "  98.0871,175.123 98.1853,175.227 98.2836,175.331 98.3818,175.435 98.48,175.538 98.5783,175.642 98.6765,175.745 98.7747,175.848 98.873,175.951 98.9712,176.054 \n",
       "  99.0694,176.157 99.1677,176.259 99.2659,176.362 99.3641,176.464 99.4624,176.566 99.5606,176.668 99.6588,176.77 99.7571,176.872 99.8553,176.974 99.9535,177.075 \n",
       "  100.052,177.177 100.15,177.278 100.248,177.379 100.346,177.48 100.445,177.581 100.543,177.682 100.641,177.782 100.739,177.883 100.838,177.983 100.936,178.083 \n",
       "  101.034,178.183 101.132,178.283 101.231,178.383 101.329,178.482 101.427,178.582 101.525,178.681 101.624,178.78 101.722,178.879 101.82,178.978 101.918,179.076 \n",
       "  102.016,179.175 102.115,179.273 102.213,179.372 102.311,179.47 102.409,179.568 102.508,179.666 102.606,179.763 102.704,179.861 102.802,179.958 102.901,180.055 \n",
       "  102.999,180.152 103.097,180.249 103.195,180.346 103.293,180.443 103.392,180.539 103.49,180.636 103.588,180.732 103.686,180.828 103.785,180.924 103.883,181.02 \n",
       "  103.981,181.115 104.079,181.211 104.178,181.306 104.276,181.401 104.374,181.496 104.472,181.591 104.571,181.686 104.669,181.781 104.767,181.875 104.865,181.969 \n",
       "  104.963,182.064 105.062,182.158 105.16,182.252 105.258,182.345 105.356,182.439 105.455,182.532 105.553,182.626 105.651,182.719 105.749,182.812 105.848,182.905 \n",
       "  105.946,182.997 106.044,183.09 106.142,183.182 106.241,183.275 106.339,183.367 106.437,183.459 106.535,183.551 106.633,183.642 106.732,183.734 106.83,183.825 \n",
       "  106.928,183.916 107.026,184.008 107.125,184.099 107.223,184.189 107.321,184.28 107.419,184.371 107.518,184.461 107.616,184.551 107.714,184.641 107.812,184.731 \n",
       "  107.91,184.821 108.009,184.911 108.107,185 108.205,185.089 108.303,185.179 108.402,185.268 108.5,185.357 108.598,185.445 108.696,185.534 108.795,185.622 \n",
       "  108.893,185.711 108.991,185.799 109.089,185.887 109.188,185.975 109.286,186.063 109.384,186.15 109.482,186.238 109.58,186.325 109.679,186.412 109.777,186.499 \n",
       "  109.875,186.586 109.973,186.672 110.072,186.759 110.17,186.845 110.268,186.932 110.366,187.018 110.465,187.104 110.563,187.189 110.661,187.275 110.759,187.36 \n",
       "  110.858,187.446 110.956,187.531 111.054,187.616 111.152,187.701 111.25,187.785 111.349,187.87 111.447,187.954 111.545,188.039 111.643,188.123 111.742,188.207 \n",
       "  111.84,188.29 111.938,188.374 112.036,188.457 112.135,188.541 112.233,188.624 112.331,188.707 112.429,188.79 112.527,188.872 112.626,188.955 112.724,189.037 \n",
       "  112.822,189.119 112.92,189.201 113.019,189.283 113.117,189.365 113.215,189.446 113.313,189.528 113.412,189.609 113.51,189.69 113.608,189.771 113.706,189.851 \n",
       "  113.805,189.932 113.903,190.012 114.001,190.092 114.099,190.173 114.197,190.252 114.296,190.332 114.394,190.412 114.492,190.491 114.59,190.57 114.689,190.649 \n",
       "  114.787,190.728 114.885,190.806 114.983,190.885 115.082,190.963 115.18,191.041 115.278,191.119 115.376,191.197 115.475,191.274 115.573,191.352 115.671,191.429 \n",
       "  115.769,191.506 115.867,191.583 115.966,191.659 116.064,191.736 116.162,191.812 116.26,191.888 116.359,191.964 116.457,192.04 116.555,192.115 116.653,192.191 \n",
       "  116.752,192.266 116.85,192.341 116.948,192.415 117.046,192.49 117.144,192.564 117.243,192.638 117.341,192.712 117.439,192.786 117.537,192.859 117.636,192.933 \n",
       "  117.734,193.006 117.832,193.079 117.93,193.152 118.029,193.224 118.127,193.296 118.225,193.368 118.323,193.44 118.422,193.512 118.52,193.583 118.618,193.655 \n",
       "  118.716,193.726 118.814,193.796 118.913,193.867 119.011,193.937 119.109,194.007 119.207,194.077 119.306,194.147 119.404,194.216 119.502,194.286 119.6,194.355 \n",
       "  119.699,194.423 119.797,194.492 119.895,194.56 119.993,194.628 120.092,194.696 120.19,194.764 120.288,194.831 120.386,194.898 120.484,194.965 120.583,195.032 \n",
       "  120.681,195.098 120.779,195.164 120.877,195.23 120.976,195.296 121.074,195.361 121.172,195.426 121.27,195.491 121.369,195.556 121.467,195.62 121.565,195.684 \n",
       "  121.663,195.748 121.761,195.812 121.86,195.875 121.958,195.938 122.056,196.001 122.154,196.064 122.253,196.126 122.351,196.188 122.449,196.249 122.547,196.311 \n",
       "  122.646,196.372 122.744,196.433 122.842,196.494 122.94,196.554 123.039,196.614 123.137,196.674 123.235,196.733 123.333,196.792 123.431,196.851 123.53,196.91 \n",
       "  123.628,196.968 123.726,197.026 123.824,197.084 123.923,197.141 124.021,197.198 124.119,197.255 124.217,197.311 124.316,197.368 124.414,197.423 124.512,197.479 \n",
       "  124.61,197.534 124.709,197.589 124.807,197.644 124.905,197.698 125.003,197.752 125.101,197.806 125.2,197.859 125.298,197.912 125.396,197.965 125.494,198.017 \n",
       "  125.593,198.069 125.691,198.121 125.789,198.172 125.887,198.223 125.986,198.273 126.084,198.324 126.182,198.374 126.28,198.423 126.378,198.473 126.477,198.521 \n",
       "  126.575,198.57 126.673,198.618 126.771,198.666 126.87,198.713 126.968,198.761 127.066,198.807 127.164,198.854 127.263,198.9 127.361,198.945 127.459,198.991 \n",
       "  127.557,199.035 127.656,199.08 127.754,199.124 127.852,199.168 127.95,199.211 128.048,199.254 128.147,199.297 128.245,199.339 128.343,199.381 128.441,199.422 \n",
       "  128.54,199.463 128.638,199.504 128.736,199.544 128.834,199.584 128.933,199.623 129.031,199.662 129.129,199.701 129.227,199.739 129.326,199.776 129.424,199.814 \n",
       "  129.522,199.851 129.62,199.887 129.718,199.923 129.817,199.959 129.915,199.994 130.013,200.029 130.111,200.063 130.21,200.097 130.308,200.131 130.406,200.164 \n",
       "  130.504,200.196 130.603,200.228 130.701,200.26 130.799,200.291 130.897,200.322 130.995,200.352 131.094,200.382 131.192,200.412 131.29,200.441 131.388,200.469 \n",
       "  131.487,200.497 131.585,200.525 131.683,200.552 131.781,200.578 131.88,200.604 131.978,200.63 132.076,200.655 132.174,200.68 132.273,200.704 132.371,200.728 \n",
       "  132.469,200.751 132.567,200.774 132.665,200.796 132.764,200.818 132.862,200.839 132.96,200.86 133.058,200.88 133.157,200.9 133.255,200.919 133.353,200.938 \n",
       "  133.451,200.956 133.55,200.974 133.648,200.991 133.746,201.008 133.844,201.024 133.943,201.04 134.041,201.055 134.139,201.069 134.237,201.083 134.335,201.097 \n",
       "  134.434,201.11 134.532,201.122 134.63,201.134 134.728,201.146 134.827,201.156 134.925,201.167 135.023,201.176 135.121,201.186 135.22,201.194 135.318,201.202 \n",
       "  135.416,201.21 135.514,201.217 135.612,201.223 135.711,201.229 135.809,201.234 135.907,201.239 136.005,201.243 136.104,201.247 136.202,201.25 136.3,201.252 \n",
       "  136.398,201.254 136.497,201.255 136.595,201.256 136.693,201.256 136.791,201.255 136.89,201.254 136.988,201.253 137.086,201.25 137.184,201.247 137.282,201.244 \n",
       "  137.381,201.24 137.479,201.235 137.577,201.23 137.675,201.224 137.774,201.218 137.872,201.21 137.97,201.203 138.068,201.194 138.167,201.186 138.265,201.176 \n",
       "  138.363,201.166 138.461,201.155 138.56,201.144 138.658,201.132 138.756,201.119 138.854,201.106 138.952,201.092 139.051,201.077 139.149,201.062 139.247,201.046 \n",
       "  139.345,201.03 139.444,201.013 139.542,200.995 139.64,200.976 139.738,200.957 139.837,200.938 139.935,200.917 140.033,200.897 140.131,200.875 140.229,200.853 \n",
       "  140.328,200.83 140.426,200.806 140.524,200.782 140.622,200.757 140.721,200.731 140.819,200.705 140.917,200.678 141.015,200.651 141.114,200.623 141.212,200.594 \n",
       "  141.31,200.564 141.408,200.534 141.507,200.503 141.605,200.472 141.703,200.439 141.801,200.406 141.899,200.373 141.998,200.339 142.096,200.304 142.194,200.268 \n",
       "  142.292,200.232 142.391,200.195 142.489,200.157 142.587,200.119 142.685,200.08 142.784,200.04 142.882,200 142.98,199.958 143.078,199.917 143.177,199.874 \n",
       "  143.275,199.831 143.373,199.787 143.471,199.743 143.569,199.697 143.668,199.651 143.766,199.605 143.864,199.557 143.962,199.509 144.061,199.461 144.159,199.411 \n",
       "  144.257,199.361 144.355,199.31 144.454,199.259 144.552,199.206 144.65,199.153 144.748,199.1 144.846,199.045 144.945,198.99 145.043,198.935 145.141,198.878 \n",
       "  145.239,198.821 145.338,198.763 145.436,198.705 145.534,198.645 145.632,198.585 145.731,198.525 145.829,198.463 145.927,198.401 146.025,198.338 146.124,198.275 \n",
       "  146.222,198.211 146.32,198.146 146.418,198.08 146.516,198.014 146.615,197.947 146.713,197.879 146.811,197.81 146.909,197.741 147.008,197.671 147.106,197.601 \n",
       "  147.204,197.529 147.302,197.457 147.401,197.385 147.499,197.311 147.597,197.237 147.695,197.162 147.794,197.087 147.892,197.011 147.99,196.934 148.088,196.856 \n",
       "  148.186,196.778 148.285,196.699 148.383,196.619 148.481,196.539 148.579,196.457 148.678,196.376 148.776,196.293 148.874,196.21 148.972,196.126 149.071,196.041 \n",
       "  149.169,195.956 149.267,195.87 149.365,195.784 149.463,195.696 149.562,195.608 149.66,195.519 149.758,195.43 149.856,195.34 149.955,195.249 150.053,195.158 \n",
       "  150.151,195.066 150.249,194.973 150.348,194.879 150.446,194.785 150.544,194.69 150.642,194.595 150.741,194.499 150.839,194.402 150.937,194.305 151.035,194.206 \n",
       "  151.133,194.108 151.232,194.008 151.33,193.908 151.428,193.807 151.526,193.706 151.625,193.604 151.723,193.501 151.821,193.398 151.919,193.294 152.018,193.189 \n",
       "  152.116,193.084 152.214,192.978 152.312,192.871 152.411,192.764 152.509,192.656 152.607,192.548 152.705,192.439 152.803,192.329 152.902,192.219 153,192.108 \n",
       "  153.098,191.997 153.196,191.885 153.295,191.772 153.393,191.659 153.491,191.545 153.589,191.43 153.688,191.315 153.786,191.199 153.884,191.083 153.982,190.966 \n",
       "  154.08,190.849 154.179,190.731 154.277,190.612 154.375,190.493 154.473,190.374 154.572,190.253 154.67,190.133 154.768,190.011 154.866,189.889 154.965,189.767 \n",
       "  155.063,189.644 155.161,189.52 155.259,189.396 155.358,189.272 155.456,189.147 155.554,189.021 155.652,188.895 155.75,188.768 155.849,188.641 155.947,188.514 \n",
       "  156.045,188.385 156.143,188.257 156.242,188.128 156.34,187.998 156.438,187.868 156.536,187.737 156.635,187.606 156.733,187.475 156.831,187.343 156.929,187.211 \n",
       "  157.028,187.078 157.126,186.945 157.224,186.811 157.322,186.677 157.42,186.542 157.519,186.407 157.617,186.272 157.715,186.136 157.813,186 157.912,185.863 \n",
       "  158.01,185.726 158.108,185.589 158.206,185.451 158.305,185.313 158.403,185.174 158.501,185.036 158.599,184.896 158.697,184.757 158.796,184.617 158.894,184.477 \n",
       "  158.992,184.336 159.09,184.195 159.189,184.054 159.287,183.912 159.385,183.77 159.483,183.628 159.582,183.486 159.68,183.343 159.778,183.2 159.876,183.057 \n",
       "  159.975,182.913 160.073,182.77 160.171,182.625 160.269,182.481 160.367,182.337 160.466,182.192 160.564,182.047 160.662,181.902 160.76,181.756 160.859,181.611 \n",
       "  160.957,181.465 161.055,181.319 161.153,181.173 161.252,181.026 161.35,180.88 161.448,180.733 161.546,180.586 161.645,180.439 161.743,180.292 161.841,180.145 \n",
       "  161.939,179.997 162.037,179.85 162.136,179.702 162.234,179.555 162.332,179.407 162.43,179.259 162.529,179.111 162.627,178.963 162.725,178.815 162.823,178.667 \n",
       "  162.922,178.519 163.02,178.371 163.118,178.223 163.216,178.075 163.314,177.927 163.413,177.779 163.511,177.631 163.609,177.482 163.707,177.334 163.806,177.186 \n",
       "  163.904,177.038 164.002,176.891 164.1,176.743 164.199,176.595 164.297,176.447 164.395,176.3 164.493,176.152 164.592,176.005 164.69,175.858 164.788,175.711 \n",
       "  164.886,175.564 164.984,175.417 165.083,175.27 165.181,175.124 165.279,174.978 165.377,174.831 165.476,174.686 165.574,174.54 165.672,174.394 165.77,174.249 \n",
       "  165.869,174.104 165.967,173.96 166.065,173.815 166.163,173.671 166.262,173.527 166.36,173.383 166.458,173.24 166.556,173.097 166.654,172.954 166.753,172.812 \n",
       "  166.851,172.67 166.949,172.528 167.047,172.387 167.146,172.246 167.244,172.105 167.342,171.965 167.44,171.825 167.539,171.686 167.637,171.547 167.735,171.409 \n",
       "  167.833,171.271 167.931,171.133 168.03,170.996 168.128,170.859 168.226,170.723 168.324,170.587 168.423,170.452 168.521,170.317 168.619,170.183 168.717,170.05 \n",
       "  168.816,169.917 168.914,169.784 169.012,169.652 169.11,169.521 169.209,169.39 169.307,169.26 169.405,169.131 169.503,169.002 169.601,168.874 169.7,168.746 \n",
       "  169.798,168.619 169.896,168.493 169.994,168.367 170.093,168.242 170.191,168.118 170.289,167.995 170.387,167.872 170.486,167.75 170.584,167.629 170.682,167.508 \n",
       "  170.78,167.388 170.879,167.269 170.977,167.151 171.075,167.034 171.173,166.917 171.271,166.802 171.37,166.687 171.468,166.573 171.566,166.46 171.664,166.347 \n",
       "  171.763,166.236 171.861,166.125 171.959,166.016 172.057,165.907 172.156,165.799 172.254,165.692 172.352,165.586 172.45,165.481 172.548,165.377 172.647,165.274 \n",
       "  172.745,165.172 172.843,165.071 172.941,164.971 173.04,164.872 173.138,164.774 173.236,164.678 173.334,164.582 173.433,164.487 173.531,164.393 173.629,164.301 \n",
       "  173.727,164.209 173.826,164.119 173.924,164.029 174.022,163.941 174.12,163.854 174.218,163.768 174.317,163.684 174.415,163.6 174.513,163.518 174.611,163.437 \n",
       "  174.71,163.357 174.808,163.278 174.906,163.201 175.004,163.124 175.103,163.049 175.201,162.976 175.299,162.903 175.397,162.832 175.496,162.762 175.594,162.694 \n",
       "  175.692,162.626 175.79,162.56 175.888,162.496 175.987,162.432 176.085,162.37 176.183,162.31 176.281,162.251 176.38,162.193 176.478,162.136 176.576,162.081 \n",
       "  176.674,162.028 176.773,161.975 176.871,161.925 176.969,161.875 177.067,161.827 177.165,161.781 177.264,161.736 177.362,161.692 177.46,161.65 177.558,161.61 \n",
       "  177.657,161.571 177.755,161.533 177.853,161.497 177.951,161.463 178.05,161.43 178.148,161.398 178.246,161.369 178.344,161.34 178.443,161.314 178.541,161.288 \n",
       "  178.639,161.265 178.737,161.243 178.835,161.223 178.934,161.204 179.032,161.187 179.13,161.171 179.228,161.157 179.327,161.145 179.425,161.135 179.523,161.126 \n",
       "  179.621,161.118 179.72,161.113 179.818,161.109 179.916,161.107 180.014,161.106 180.113,161.108 180.211,161.11 180.309,161.115 180.407,161.121 180.505,161.129 \n",
       "  180.604,161.139 180.702,161.151 180.8,161.164 180.898,161.179 180.997,161.196 181.095,161.214 181.193,161.235 181.291,161.257 181.39,161.281 181.488,161.306 \n",
       "  181.586,161.334 181.684,161.363 181.782,161.394 181.881,161.427 181.979,161.461 182.077,161.498 182.175,161.536 182.274,161.576 182.372,161.618 182.47,161.662 \n",
       "  182.568,161.707 182.667,161.755 182.765,161.804 182.863,161.855 182.961,161.908 183.06,161.963 183.158,162.019 183.256,162.078 183.354,162.138 183.452,162.2 \n",
       "  183.551,162.264 183.649,162.33 183.747,162.398 183.845,162.468 183.944,162.539 184.042,162.613 184.14,162.688 184.238,162.765 184.337,162.844 184.435,162.925 \n",
       "  184.533,163.008 184.631,163.092 184.729,163.179 184.828,163.267 184.926,163.358 185.024,163.45 185.122,163.544 185.221,163.64 185.319,163.738 185.417,163.837 \n",
       "  185.515,163.939 185.614,164.042 185.712,164.148 185.81,164.255 185.908,164.364 186.007,164.475 186.105,164.588 186.203,164.702 186.301,164.819 186.399,164.937 \n",
       "  186.498,165.058 186.596,165.18 186.694,165.304 186.792,165.429 186.891,165.557 186.989,165.687 187.087,165.818 187.185,165.951 187.284,166.086 187.382,166.223 \n",
       "  187.48,166.362 187.578,166.502 187.677,166.644 187.775,166.788 187.873,166.934 187.971,167.082 188.069,167.231 188.168,167.383 188.266,167.536 188.364,167.69 \n",
       "  188.462,167.847 188.561,168.005 188.659,168.165 188.757,168.327 188.855,168.491 188.954,168.656 189.052,168.823 189.15,168.992 189.248,169.162 189.346,169.334 \n",
       "  189.445,169.508 189.543,169.684 189.641,169.861 189.739,170.04 189.838,170.22 189.936,170.402 190.034,170.586 190.132,170.771 190.231,170.958 190.329,171.147 \n",
       "  190.427,171.337 190.525,171.529 190.624,171.722 190.722,171.917 190.82,172.114 190.918,172.311 191.016,172.511 191.115,172.712 191.213,172.915 191.311,173.119 \n",
       "  191.409,173.324 191.508,173.531 191.606,173.739 191.704,173.949 191.802,174.16 191.901,174.373 191.999,174.587 192.097,174.802 192.195,175.019 192.294,175.237 \n",
       "  192.392,175.457 192.49,175.678 192.588,175.9 192.686,176.123 192.785,176.348 192.883,176.574 192.981,176.801 193.079,177.029 193.178,177.259 193.276,177.49 \n",
       "  193.374,177.722 193.472,177.955 193.571,178.189 193.669,178.424 193.767,178.661 193.865,178.898 193.963,179.137 194.062,179.377 194.16,179.617 194.258,179.859 \n",
       "  194.356,180.102 194.455,180.345 194.553,180.59 194.651,180.836 194.749,181.082 194.848,181.33 194.946,181.578 195.044,181.827 195.142,182.077 195.241,182.328 \n",
       "  195.339,182.579 195.437,182.832 195.535,183.085 195.633,183.339 195.732,183.593 195.83,183.848 195.928,184.104 196.026,184.361 196.125,184.618 196.223,184.875 \n",
       "  196.321,185.134 196.419,185.393 196.518,185.652 196.616,185.912 196.714,186.172 196.812,186.433 196.911,186.694 197.009,186.956 197.107,187.218 197.205,187.48 \n",
       "  197.303,187.743 197.402,188.006 197.5,188.269 197.598,188.533 197.696,188.797 197.795,189.061 197.893,189.325 197.991,189.589 198.089,189.853 198.188,190.118 \n",
       "  198.286,190.383 198.384,190.647 198.482,190.912 198.58,191.177 198.679,191.441 198.777,191.706 198.875,191.971 198.973,192.235 199.072,192.499 199.17,192.763 \n",
       "  199.268,193.027 199.366,193.291 199.465,193.555 199.563,193.818 199.661,194.081 199.759,194.343 199.858,194.605 199.956,194.867 200.054,195.129 200.152,195.39 \n",
       "  200.25,195.65 200.349,195.91 200.447,196.169 200.545,196.428 200.643,196.687 200.742,196.944 200.84,197.201 200.938,197.458 201.036,197.713 201.135,197.968 \n",
       "  201.233,198.222 201.331,198.475 201.429,198.728 201.528,198.98 201.626,199.23 201.724,199.48 201.822,199.729 201.92,199.977 202.019,200.224 202.117,200.47 \n",
       "  202.215,200.714 202.313,200.958 202.412,201.201 202.51,201.442 202.608,201.682 202.706,201.921 202.805,202.159 202.903,202.396 203.001,202.631 203.099,202.865 \n",
       "  203.197,203.097 203.296,203.328 203.394,203.558 203.492,203.786 203.59,204.013 203.689,204.238 203.787,204.461 203.885,204.684 203.983,204.904 204.082,205.123 \n",
       "  204.18,205.34 204.278,205.555 204.376,205.769 204.475,205.981 204.573,206.191 204.671,206.399 204.769,206.606 204.867,206.81 204.966,207.013 205.064,207.214 \n",
       "  205.162,207.412 205.26,207.609 205.359,207.804 205.457,207.996 205.555,208.187 205.653,208.375 205.752,208.562 205.85,208.746 205.948,208.928 206.046,209.107 \n",
       "  206.145,209.285 206.243,209.46 206.341,209.633 206.439,209.803 206.537,209.971 206.636,210.137 206.734,210.3 206.832,210.461 206.93,210.619 207.029,210.775 \n",
       "  207.127,210.928 207.225,211.079 207.323,211.227 207.422,211.373 207.52,211.515 207.618,211.656 207.716,211.793 207.814,211.928 207.913,212.06 208.011,212.189 \n",
       "  208.109,212.315 208.207,212.439 208.306,212.56 208.404,212.677 208.502,212.792 208.6,212.904 208.699,213.013 208.797,213.119 208.895,213.222 208.993,213.322 \n",
       "  209.092,213.419 209.19,213.513 209.288,213.604 209.386,213.692 209.484,213.777 209.583,213.858 209.681,213.936 209.779,214.011 209.877,214.083 209.976,214.152 \n",
       "  210.074,214.217 210.172,214.279 210.27,214.338 210.369,214.393 210.467,214.446 210.565,214.494 210.663,214.54 210.762,214.582 210.86,214.62 210.958,214.655 \n",
       "  211.056,214.687 211.154,214.715 211.253,214.74 211.351,214.762 211.449,214.779 211.547,214.794 211.646,214.804 211.744,214.811 211.842,214.815 211.94,214.815 \n",
       "  212.039,214.812 212.137,214.804 212.235,214.794 212.333,214.779 212.431,214.761 212.53,214.739 212.628,214.714 212.726,214.685 212.824,214.652 212.923,214.616 \n",
       "  213.021,214.576 213.119,214.532 213.217,214.484 213.316,214.433 213.414,214.378 213.512,214.319 213.61,214.257 213.709,214.19 213.807,214.12 213.905,214.047 \n",
       "  214.003,213.969 214.101,213.888 214.2,213.803 214.298,213.714 214.396,213.621 214.494,213.525 214.593,213.425 214.691,213.321 214.789,213.213 214.887,213.101 \n",
       "  214.986,212.986 215.084,212.867 215.182,212.744 215.28,212.617 215.379,212.487 215.477,212.352 215.575,212.214 215.673,212.073 215.771,211.927 215.87,211.778 \n",
       "  215.968,211.625 216.066,211.468 216.164,211.307 216.263,211.143 216.361,210.975 216.459,210.803 216.557,210.628 216.656,210.449 216.754,210.266 216.852,210.079 \n",
       "  216.95,209.889 217.048,209.696 217.147,209.498 217.245,209.297 217.343,209.092 217.441,208.884 217.54,208.672 217.638,208.457 217.736,208.238 217.834,208.015 \n",
       "  217.933,207.789 218.031,207.56 218.129,207.327 218.227,207.09 218.326,206.85 218.424,206.607 218.522,206.36 218.62,206.11 218.718,205.856 218.817,205.599 \n",
       "  218.915,205.339 219.013,205.075 219.111,204.809 219.21,204.539 219.308,204.265 219.406,203.989 219.504,203.709 219.603,203.426 219.701,203.141 219.799,202.852 \n",
       "  219.897,202.56 219.996,202.264 220.094,201.966 220.192,201.665 220.29,201.361 220.388,201.054 220.487,200.745 220.585,200.432 220.683,200.116 220.781,199.798 \n",
       "  220.88,199.477 220.978,199.153 221.076,198.827 221.174,198.498 221.273,198.166 221.371,197.832 221.469,197.496 221.567,197.156 221.665,196.815 221.764,196.471 \n",
       "  221.862,196.124 221.96,195.776 222.058,195.424 222.157,195.071 222.255,194.716 222.353,194.358 222.451,193.998 222.55,193.636 222.648,193.272 222.746,192.906 \n",
       "  222.844,192.539 222.943,192.169 223.041,191.797 223.139,191.424 223.237,191.049 223.335,190.672 223.434,190.293 223.532,189.913 223.63,189.532 223.728,189.148 \n",
       "  223.827,188.764 223.925,188.378 224.023,187.99 224.121,187.601 224.22,187.211 224.318,186.82 224.416,186.428 224.514,186.034 224.613,185.64 224.711,185.244 \n",
       "  224.809,184.848 224.907,184.45 225.005,184.052 225.104,183.653 225.202,183.253 225.3,182.853 225.398,182.452 225.497,182.051 225.595,181.649 225.693,181.246 \n",
       "  225.791,180.843 225.89,180.44 225.988,180.037 226.086,179.633 226.184,179.23 226.282,178.826 226.381,178.422 226.479,178.018 226.577,177.615 226.675,177.211 \n",
       "  226.774,176.808 226.872,176.405 226.97,176.003 227.068,175.6 227.167,175.199 227.265,174.798 227.363,174.397 227.461,173.997 227.56,173.598 227.658,173.2 \n",
       "  227.756,172.802 227.854,172.405 227.952,172.01 228.051,171.615 228.149,171.222 228.247,170.83 228.345,170.439 228.444,170.049 228.542,169.66 228.64,169.274 \n",
       "  228.738,168.888 228.837,168.504 228.935,168.122 229.033,167.742 229.131,167.363 229.23,166.986 229.328,166.611 229.426,166.238 229.524,165.867 229.622,165.498 \n",
       "  229.721,165.131 229.819,164.766 229.917,164.404 230.015,164.044 230.114,163.686 230.212,163.331 230.31,162.979 230.408,162.629 230.507,162.281 230.605,161.937 \n",
       "  230.703,161.595 230.801,161.256 230.899,160.92 230.998,160.587 231.096,160.257 231.194,159.931 231.292,159.607 231.391,159.287 231.489,158.969 231.587,158.656 \n",
       "  231.685,158.346 231.784,158.039 231.882,157.736 231.98,157.436 232.078,157.14 232.177,156.848 232.275,156.56 232.373,156.275 232.471,155.994 232.569,155.718 \n",
       "  232.668,155.445 232.766,155.177 232.864,154.912 232.962,154.652 233.061,154.397 233.159,154.145 233.257,153.898 233.355,153.655 233.454,153.417 233.552,153.183 \n",
       "  233.65,152.954 233.748,152.73 233.847,152.51 233.945,152.295 234.043,152.085 234.141,151.88 234.239,151.68 234.338,151.484 234.436,151.294 234.534,151.109 \n",
       "  234.632,150.928 234.731,150.753 234.829,150.584 234.927,150.419 235.025,150.26 235.124,150.106 235.222,149.958 235.32,149.814 235.418,149.677 235.516,149.545 \n",
       "  235.615,149.418 235.713,149.297 235.811,149.182 235.909,149.073 236.008,148.969 236.106,148.871 236.204,148.778 236.302,148.692 236.401,148.611 236.499,148.537 \n",
       "  236.597,148.468 236.695,148.405 236.794,148.348 236.892,148.297 236.99,148.253 237.088,148.214 237.186,148.181 237.285,148.155 237.383,148.135 237.481,148.12 \n",
       "  237.579,148.113 237.678,148.111 237.776,148.116 237.874,148.126 237.972,148.144 238.071,148.167 238.169,148.197 238.267,148.233 238.365,148.275 238.464,148.324 \n",
       "  238.562,148.38 238.66,148.441 238.758,148.509 238.856,148.584 238.955,148.665 239.053,148.752 239.151,148.846 239.249,148.946 239.348,149.053 239.446,149.166 \n",
       "  239.544,149.286 239.642,149.412 239.741,149.544 239.839,149.683 239.937,149.828 240.035,149.98 240.133,150.139 240.232,150.303 240.33,150.474 240.428,150.652 \n",
       "  240.526,150.836 240.625,151.026 240.723,151.223 240.821,151.426 240.919,151.635 241.018,151.851 241.116,152.073 241.214,152.302 241.312,152.536 241.411,152.777 \n",
       "  241.509,153.024 241.607,153.277 241.705,153.537 241.803,153.803 241.902,154.074 242,154.352 242.098,154.636 242.196,154.926 242.295,155.222 242.393,155.524 \n",
       "  242.491,155.832 242.589,156.145 242.688,156.465 242.786,156.79 242.884,157.121 242.982,157.458 243.081,157.801 243.179,158.149 243.277,158.503 243.375,158.862 \n",
       "  243.473,159.227 243.572,159.597 243.67,159.972 243.768,160.353 243.866,160.739 243.965,161.131 244.063,161.527 244.161,161.929 244.259,162.336 244.358,162.748 \n",
       "  244.456,163.164 244.554,163.586 244.652,164.012 244.75,164.443 244.849,164.879 244.947,165.319 245.045,165.764 245.143,166.213 245.242,166.667 245.34,167.125 \n",
       "  245.438,167.587 245.536,168.053 245.635,168.524 245.733,168.998 245.831,169.476 245.929,169.959 246.028,170.445 246.126,170.934 246.224,171.428 246.322,171.924 \n",
       "  246.42,172.425 246.519,172.928 246.617,173.435 246.715,173.945 246.813,174.458 246.912,174.974 247.01,175.493 247.108,176.015 247.206,176.539 247.305,177.066 \n",
       "  247.403,177.596 247.501,178.127 247.599,178.662 247.698,179.198 247.796,179.737 247.894,180.277 247.992,180.82 248.09,181.364 248.189,181.91 248.287,182.458 \n",
       "  248.385,183.007 248.483,183.558 248.582,184.11 248.68,184.663 248.778,185.217 248.876,185.772 248.975,186.328 249.073,186.885 249.171,187.442 249.269,188 \n",
       "  249.367,188.558 249.466,189.116 249.564,189.675 249.662,190.234 249.76,190.793 249.859,191.351 249.957,191.91 250.055,192.468 250.153,193.025 250.252,193.582 \n",
       "  250.35,194.138 250.448,194.693 250.546,195.248 250.645,195.801 250.743,196.353 250.841,196.903 250.939,197.453 251.037,198 251.136,198.546 251.234,199.09 \n",
       "  251.332,199.633 251.43,200.173 251.529,200.711 251.627,201.247 251.725,201.78 251.823,202.311 251.922,202.839 252.02,203.364 252.118,203.887 252.216,204.407 \n",
       "  252.315,204.923 252.413,205.436 252.511,205.946 252.609,206.452 252.707,206.955 252.806,207.454 252.904,207.949 253.002,208.44 253.1,208.928 253.199,209.411 \n",
       "  253.297,209.889 253.395,210.363 253.493,210.833 253.592,211.298 253.69,211.759 253.788,212.214 253.886,212.664 253.984,213.11 254.083,213.55 254.181,213.984 \n",
       "  254.279,214.414 254.377,214.837 254.476,215.255 254.574,215.668 254.672,216.074 254.77,216.474 254.869,216.869 254.967,217.257 255.065,217.638 255.163,218.014 \n",
       "  255.262,218.383 255.36,218.745 255.458,219.1 255.556,219.449 255.654,219.791 255.753,220.125 255.851,220.453 255.949,220.773 256.047,221.086 256.146,221.392 \n",
       "  256.244,221.69 256.342,221.981 256.44,222.264 256.539,222.539 256.637,222.806 256.735,223.065 256.833,223.317 256.932,223.56 257.03,223.795 257.128,224.022 \n",
       "  257.226,224.24 257.324,224.45 257.423,224.652 257.521,224.845 257.619,225.029 257.717,225.205 257.816,225.372 257.914,225.53 258.012,225.679 258.11,225.82 \n",
       "  258.209,225.951 258.307,226.073 258.405,226.186 258.503,226.29 258.601,226.385 258.7,226.47 258.798,226.546 258.896,226.612 258.994,226.67 259.093,226.717 \n",
       "  259.191,226.755 259.289,226.784 259.387,226.803 259.486,226.812 259.584,226.812 259.682,226.802 259.78,226.782 259.879,226.753 259.977,226.714 260.075,226.665 \n",
       "  260.173,226.606 260.271,226.537 260.37,226.459 260.468,226.37 260.566,226.272 260.664,226.164 260.763,226.046 260.861,225.918 260.959,225.78 261.057,225.632 \n",
       "  261.156,225.475 261.254,225.307 261.352,225.13 261.45,224.943 261.549,224.746 261.647,224.539 261.745,224.323 261.843,224.096 261.941,223.86 262.04,223.614 \n",
       "  262.138,223.358 262.236,223.093 262.334,222.818 262.433,222.534 262.531,222.24 262.629,221.936 262.727,221.623 262.826,221.3 262.924,220.968 263.022,220.627 \n",
       "  263.12,220.276 263.218,219.916 263.317,219.547 263.415,219.169 263.513,218.782 263.611,218.386 263.71,217.981 263.808,217.567 263.906,217.144 264.004,216.713 \n",
       "  264.103,216.273 264.201,215.824 264.299,215.367 264.397,214.902 264.496,214.428 264.594,213.946 264.692,213.456 264.79,212.958 264.888,212.453 264.987,211.939 \n",
       "  265.085,211.418 265.183,210.889 265.281,210.353 265.38,209.809 265.478,209.258 265.576,208.7 265.674,208.135 265.773,207.563 265.871,206.984 265.969,206.398 \n",
       "  266.067,205.806 266.166,205.208 266.264,204.603 266.362,203.993 266.46,203.376 266.558,202.753 266.657,202.125 266.755,201.491 266.853,200.851 266.951,200.207 \n",
       "  267.05,199.557 267.148,198.902 267.246,198.243 267.344,197.578 267.443,196.909 267.541,196.236 267.639,195.559 267.737,194.877 267.835,194.192 267.934,193.503 \n",
       "  268.032,192.81 268.13,192.114 268.228,191.415 268.327,190.712 268.425,190.007 268.523,189.299 268.621,188.589 268.72,187.876 268.818,187.161 268.916,186.444 \n",
       "  269.014,185.726 269.113,185.005 269.211,184.283 269.309,183.56 269.407,182.836 269.505,182.111 269.604,181.385 269.702,180.659 269.8,179.932 269.898,179.206 \n",
       "  269.997,178.479 270.095,177.753 270.193,177.027 270.291,176.301 270.39,175.577 270.488,174.853 270.586,174.131 270.684,173.41 270.783,172.691 270.881,171.974 \n",
       "  270.979,171.258 271.077,170.545 271.175,169.834 271.274,169.126 271.372,168.421 271.47,167.719 271.568,167.02 271.667,166.324 271.765,165.632 271.863,164.943 \n",
       "  271.961,164.259 272.06,163.579 272.158,162.903 272.256,162.232 272.354,161.566 272.452,160.904 272.551,160.248 272.649,159.597 272.747,158.952 272.845,158.313 \n",
       "  272.944,157.679 273.042,157.052 273.14,156.431 273.238,155.816 273.337,155.208 273.435,154.607 273.533,154.013 273.631,153.427 273.73,152.848 273.828,152.276 \n",
       "  273.926,151.713 274.024,151.157 274.122,150.609 274.221,150.07 274.319,149.54 274.417,149.018 274.515,148.505 274.614,148.001 274.712,147.506 274.81,147.021 \n",
       "  274.908,146.545 275.007,146.079 275.105,145.623 275.203,145.177 275.301,144.741 275.4,144.315 275.498,143.9 275.596,143.496 275.694,143.102 275.792,142.719 \n",
       "  275.891,142.347 275.989,141.987 276.087,141.638 276.185,141.3 276.284,140.974 276.382,140.66 276.48,140.357 276.578,140.067 276.677,139.789 276.775,139.523 \n",
       "  276.873,139.269 276.971,139.028 277.069,138.799 277.168,138.583 277.266,138.38 277.364,138.189 277.462,138.012 277.561,137.847 277.659,137.696 277.757,137.558 \n",
       "  277.855,137.433 277.954,137.322 278.052,137.224 278.15,137.139 278.248,137.068 278.347,137.011 278.445,136.968 278.543,136.938 278.641,136.922 278.739,136.92 \n",
       "  278.838,136.931 278.936,136.957 279.034,136.997 279.132,137.05 279.231,137.118 279.329,137.199 279.427,137.295 279.525,137.405 279.624,137.529 279.722,137.667 \n",
       "  279.82,137.819 279.918,137.985 280.017,138.165 280.115,138.359 280.213,138.568 280.311,138.79 280.409,139.026 280.508,139.277 280.606,139.541 280.704,139.819 \n",
       "  280.802,140.111 280.901,140.417 280.999,140.736 281.097,141.07 281.195,141.417 281.294,141.777 281.392,142.151 281.49,142.539 281.588,142.939 281.686,143.354 \n",
       "  281.785,143.781 281.883,144.221 281.981,144.675 282.079,145.141 282.178,145.62 282.276,146.112 282.374,146.616 282.472,147.133 282.571,147.662 282.669,148.204 \n",
       "  282.767,148.757 282.865,149.322 282.964,149.9 283.062,150.488 283.16,151.089 283.258,151.701 283.356,152.324 283.455,152.958 283.553,153.602 283.651,154.258 \n",
       "  283.749,154.924 283.848,155.601 283.946,156.287 284.044,156.984 284.142,157.69 284.241,158.407 284.339,159.132 284.437,159.867 284.535,160.611 284.633,161.363 \n",
       "  284.732,162.124 284.83,162.894 284.928,163.671 285.026,164.457 285.125,165.25 285.223,166.051 285.321,166.859 285.419,167.674 285.518,168.496 285.616,169.325 \n",
       "  285.714,170.159 285.812,171 285.911,171.847 286.009,172.699 286.107,173.556 286.205,174.418 286.303,175.286 286.402,176.157 286.5,177.033 286.598,177.913 \n",
       "  286.696,178.796 286.795,179.683 286.893,180.573 286.991,181.466 287.089,182.361 287.188,183.259 287.286,184.159 287.384,185.06 287.482,185.963 287.581,186.867 \n",
       "  287.679,187.772 287.777,188.677 287.875,189.583 287.973,190.488 288.072,191.394 288.17,192.298 288.268,193.202 288.366,194.104 288.465,195.005 288.563,195.904 \n",
       "  288.661,196.801 288.759,197.695 288.858,198.587 288.956,199.476 289.054,200.361 289.152,201.243 289.25,202.12 289.349,202.994 289.447,203.863 289.545,204.727 \n",
       "  289.643,205.585 289.742,206.439 289.84,207.286 289.938,208.128 290.036,208.963 290.135,209.791 290.233,210.612 290.331,211.426 290.429,212.233 290.528,213.032 \n",
       "  290.626,213.822 290.724,214.604 290.822,215.377 290.92,216.142 291.019,216.897 291.117,217.642 291.215,218.377 291.313,219.103 291.412,219.818 291.51,220.522 \n",
       "  291.608,221.215 291.706,221.897 291.805,222.567 291.903,223.226 292.001,223.873 292.099,224.507 292.198,225.129 292.296,225.738 292.394,226.334 292.492,226.916 \n",
       "  292.59,227.485 292.689,228.041 292.787,228.582 292.885,229.109 292.983,229.622 293.082,230.119 293.18,230.603 293.278,231.071 293.376,231.523 293.475,231.96 \n",
       "  293.573,232.382 293.671,232.787 293.769,233.177 293.867,233.55 293.966,233.907 294.064,234.247 294.162,234.57 294.26,234.877 294.359,235.166 294.457,235.438 \n",
       "  294.555,235.693 294.653,235.93 294.752,236.149 294.85,236.351 294.948,236.535 295.046,236.7 295.145,236.848 295.243,236.977 295.341,237.088 295.439,237.18 \n",
       "  295.537,237.254 295.636,237.31 295.734,237.346 295.832,237.364 295.93,237.363 296.029,237.343 296.127,237.305 296.225,237.247 296.323,237.17 296.422,237.074 \n",
       "  296.52,236.96 296.618,236.826 296.716,236.673 296.815,236.501 296.913,236.31 297.011,236.101 297.109,235.872 297.207,235.624 297.306,235.357 297.404,235.071 \n",
       "  297.502,234.767 297.6,234.443 297.699,234.101 297.797,233.74 297.895,233.361 297.993,232.963 298.092,232.547 298.19,232.113 298.288,231.66 298.386,231.19 \n",
       "  298.484,230.701 298.583,230.195 298.681,229.671 298.779,229.129 298.877,228.57 298.976,227.994 299.074,227.401 299.172,226.791 299.27,226.164 299.369,225.52 \n",
       "  299.467,224.861 299.565,224.185 299.663,223.494 299.762,222.786 299.86,222.063 299.958,221.325 300.056,220.572 300.154,219.805 300.253,219.022 300.351,218.226 \n",
       "  300.449,217.415 300.547,216.591 300.646,215.753 300.744,214.902 300.842,214.038 300.94,213.162 301.039,212.273 301.137,211.373 301.235,210.46 301.333,209.537 \n",
       "  301.432,208.602 301.53,207.656 301.628,206.7 301.726,205.734 301.824,204.759 301.923,203.774 302.021,202.78 302.119,201.777 302.217,200.766 302.316,199.747 \n",
       "  302.414,198.721 302.512,197.687 302.61,196.647 302.709,195.6 302.807,194.547 302.905,193.489 303.003,192.425 303.101,191.357 303.2,190.284 303.298,189.207 \n",
       "  303.396,188.126 303.494,187.043 303.593,185.956 303.691,184.867 303.789,183.777 303.887,182.684 303.986,181.591 304.084,180.497 304.182,179.403 304.28,178.309 \n",
       "  304.379,177.215 304.477,176.123 304.575,175.032 304.673,173.943 304.771,172.857 304.87,171.773 304.968,170.693 305.066,169.616 305.164,168.543 305.263,167.475 \n",
       "  305.361,166.412 305.459,165.355 305.557,164.303 305.656,163.258 305.754,162.219 305.852,161.188 305.95,160.164 306.049,159.148 306.147,158.141 306.245,157.143 \n",
       "  306.343,156.154 306.441,155.175 306.54,154.207 306.638,153.248 306.736,152.301 306.834,151.366 306.933,150.442 307.031,149.53 307.129,148.632 307.227,147.746 \n",
       "  307.326,146.874 307.424,146.016 307.522,145.172 307.62,144.342 307.718,143.528 307.817,142.729 307.915,141.946 308.013,141.179 308.111,140.429 308.21,139.696 \n",
       "  308.308,138.979 308.406,138.281 308.504,137.6 308.603,136.937 308.701,136.293 308.799,135.668 308.897,135.063 308.996,134.476 309.094,133.91 309.192,133.363 \n",
       "  309.29,132.837 309.388,132.331 309.487,131.847 309.585,131.384 309.683,130.942 309.781,130.521 309.88,130.123 309.978,129.747 310.076,129.393 310.174,129.062 \n",
       "  310.273,128.753 310.371,128.468 310.469,128.205 310.567,127.966 310.666,127.751 310.764,127.559 310.862,127.39 310.96,127.246 311.058,127.126 311.157,127.03 \n",
       "  311.255,126.958 311.353,126.911 311.451,126.888 311.55,126.889 311.648,126.916 311.746,126.967 311.844,127.042 311.943,127.142 312.041,127.267 312.139,127.417 \n",
       "  312.237,127.592 312.335,127.791 312.434,128.016 312.532,128.264 312.63,128.538 312.728,128.836 312.827,129.159 312.925,129.506 313.023,129.878 313.121,130.274 \n",
       "  313.22,130.694 313.318,131.138 313.416,131.606 313.514,132.098 313.613,132.614 313.711,133.153 313.809,133.716 313.907,134.302 314.005,134.91 314.104,135.542 \n",
       "  314.202,136.196 314.3,136.872 314.398,137.57 314.497,138.29 314.595,139.032 314.693,139.795 314.791,140.579 314.89,141.384 314.988,142.209 315.086,143.054 \n",
       "  315.184,143.919 315.283,144.804 315.381,145.707 315.479,146.63 315.577,147.57 315.675,148.529 315.774,149.505 315.872,150.499 315.97,151.509 316.068,152.536 \n",
       "  316.167,153.579 316.265,154.638 316.363,155.711 316.461,156.8 316.56,157.902 316.658,159.019 316.756,160.149 316.854,161.291 316.952,162.446 317.051,163.613 \n",
       "  317.149,164.791 317.247,165.981 317.345,167.18 317.444,168.389 317.542,169.608 317.64,170.835 317.738,172.071 317.837,173.314 317.935,174.565 318.033,175.822 \n",
       "  318.131,177.085 318.23,178.354 318.328,179.627 318.426,180.905 318.524,182.187 318.622,183.471 318.721,184.759 318.819,186.048 318.917,187.338 319.015,188.63 \n",
       "  319.114,189.921 319.212,191.213 319.31,192.503 319.408,193.792 319.507,195.078 319.605,196.362 319.703,197.642 319.801,198.918 319.9,200.189 319.998,201.455 \n",
       "  320.096,202.716 320.194,203.97 320.292,205.216 320.391,206.455 320.489,207.686 320.587,208.908 320.685,210.12 320.784,211.323 320.882,212.514 320.98,213.694 \n",
       "  321.078,214.863 321.177,216.019 321.275,217.162 321.373,218.291 321.471,219.406 321.569,220.506 321.668,221.591 321.766,222.66 321.864,223.712 321.962,224.748 \n",
       "  322.061,225.766 322.159,226.766 322.257,227.747 322.355,228.709 322.454,229.652 322.552,230.574 322.65,231.476 322.748,232.357 322.847,233.216 322.945,234.053 \n",
       "  323.043,234.867 323.141,235.658 323.239,236.426 323.338,237.17 323.436,237.889 323.534,238.584 323.632,239.254 323.731,239.898 323.829,240.517 323.927,241.108 \n",
       "  324.025,241.674 324.124,242.212 324.222,242.723 324.32,243.207 324.418,243.662 324.517,244.089 324.615,244.488 324.713,244.857 324.811,245.198 324.909,245.509 \n",
       "  325.008,245.791 325.106,246.043 325.204,246.265 325.302,246.457 325.401,246.619 325.499,246.75 325.597,246.85 325.695,246.92 325.794,246.958 325.892,246.966 \n",
       "  325.99,246.943 326.088,246.888 326.186,246.802 326.285,246.685 326.383,246.537 326.481,246.358 326.579,246.147 326.678,245.905 326.776,245.632 326.874,245.327 \n",
       "  326.972,244.992 327.071,244.626 327.169,244.228 327.267,243.8 327.365,243.342 327.464,242.853 327.562,242.333 327.66,241.784 327.758,241.204 327.856,240.595 \n",
       "  327.955,239.957 328.053,239.289 328.151,238.592 328.249,237.867 328.348,237.113 328.446,236.331 328.544,235.521 328.642,234.685 328.741,233.821 328.839,232.93 \n",
       "  328.937,232.013 329.035,231.071 329.134,230.102 329.232,229.109 329.33,228.092 329.428,227.05 329.526,225.985 329.625,224.896 329.723,223.785 329.821,222.652 \n",
       "  329.919,221.497 330.018,220.322 330.116,219.125 330.214,217.91 330.312,216.674 330.411,215.42 330.509,214.148 330.607,212.859 330.705,211.552 330.803,210.23 \n",
       "  330.902,208.892 331,207.539 331.098,206.172 331.196,204.792 331.295,203.398 331.393,201.993 331.491,200.576 331.589,199.148 331.688,197.711 331.786,196.264 \n",
       "  331.884,194.809 331.982,193.347 332.081,191.877 332.179,190.401 332.277,188.92 332.375,187.434 332.473,185.944 332.572,184.452 332.67,182.957 332.768,181.46 \n",
       "  332.866,179.963 332.965,178.467 333.063,176.971 333.161,175.477 333.259,173.985 333.358,172.497 333.456,171.013 333.554,169.534 333.652,168.061 333.751,166.595 \n",
       "  333.849,165.136 333.947,163.685 334.045,162.244 334.143,160.812 334.242,159.391 334.34,157.982 334.438,156.584 334.536,155.201 334.635,153.83 334.733,152.475 \n",
       "  334.831,151.135 334.929,149.811 335.028,148.505 335.126,147.216 335.224,145.946 335.322,144.695 335.42,143.464 335.519,142.253 335.617,141.065 335.715,139.898 \n",
       "  335.813,138.754 335.912,137.634 336.01,136.538 336.108,135.467 336.206,134.422 336.305,133.403 336.403,132.411 336.501,131.446 336.599,130.51 336.698,129.602 \n",
       "  336.796,128.724 336.894,127.875 336.992,127.057 337.09,126.27 337.189,125.514 337.287,124.79 337.385,124.099 337.483,123.44 337.582,122.815 337.68,122.224 \n",
       "  337.778,121.667 337.876,121.145 337.975,120.658 338.073,120.206 338.171,119.79 338.269,119.41 338.368,119.067 338.466,118.76 338.564,118.49 338.662,118.258 \n",
       "  338.76,118.062 338.859,117.905 338.957,117.785 339.055,117.703 339.153,117.659 339.252,117.654 339.35,117.687 339.448,117.758 339.546,117.868 339.645,118.017 \n",
       "  339.743,118.203 339.841,118.429 339.939,118.693 340.037,118.995 340.136,119.336 340.234,119.715 340.332,120.132 340.43,120.587 340.529,121.08 340.627,121.61 \n",
       "  340.725,122.178 340.823,122.783 340.922,123.425 341.02,124.104 341.118,124.819 341.216,125.57 341.315,126.356 341.413,127.178 341.511,128.035 341.609,128.926 \n",
       "  341.707,129.851 341.806,130.81 341.904,131.802 342.002,132.826 342.1,133.883 342.199,134.971 342.297,136.09 342.395,137.239 342.493,138.418 342.592,139.626 \n",
       "  342.69,140.863 342.788,142.128 342.886,143.419 342.985,144.737 343.083,146.081 343.181,147.45 343.279,148.843 343.377,150.259 343.476,151.698 343.574,153.159 \n",
       "  343.672,154.641 343.77,156.143 343.869,157.665 343.967,159.205 344.065,160.762 344.163,162.336 344.262,163.926 344.36,165.531 344.458,167.15 344.556,168.781 \n",
       "  344.654,170.425 344.753,172.08 344.851,173.744 344.949,175.418 345.047,177.1 345.146,178.789 345.244,180.484 345.342,182.184 345.44,183.888 345.539,185.595 \n",
       "  345.637,187.304 345.735,189.014 345.833,190.724 345.932,192.432 346.03,194.138 346.128,195.841 346.226,197.54 346.324,199.233 346.423,200.919 346.521,202.598 \n",
       "  346.619,204.269 346.717,205.929 346.816,207.579 346.914,209.218 347.012,210.843 347.11,212.454 347.209,214.051 347.307,215.632 347.405,217.195 347.503,218.741 \n",
       "  347.602,220.268 347.7,221.774 347.798,223.26 347.896,224.724 347.994,226.165 348.093,227.581 348.191,228.973 348.289,230.34 348.387,231.679 348.486,232.991 \n",
       "  348.584,234.274 348.682,235.528 348.78,236.751 348.879,237.944 348.977,239.104 349.075,240.232 349.173,241.326 349.271,242.386 349.37,243.411 349.468,244.399 \n",
       "  349.566,245.352 349.664,246.267 349.763,247.143 349.861,247.982 349.959,248.781 350.057,249.54 350.156,250.259 350.254,250.937 350.352,251.573 350.45,252.168 \n",
       "  350.549,252.719 350.647,253.228 350.745,253.693 350.843,254.115 350.941,254.492 351.04,254.825 351.138,255.113 351.236,255.356 351.334,255.553 351.433,255.704 \n",
       "  351.531,255.81 351.629,255.869 351.727,255.883 351.826,255.85 351.924,255.77 352.022,255.644 352.12,255.471 352.219,255.252 352.317,254.987 352.415,254.674 \n",
       "  352.513,254.316 352.611,253.911 352.71,253.46 352.808,252.964 352.906,252.421 353.004,251.833 353.103,251.2 353.201,250.522 353.299,249.8 353.397,249.033 \n",
       "  353.496,248.223 353.594,247.369 353.692,246.473 353.79,245.534 353.888,244.553 353.987,243.531 354.085,242.468 354.183,241.365 354.281,240.223 354.38,239.042 \n",
       "  354.478,237.822 354.576,236.566 354.674,235.272 354.773,233.943 354.871,232.579 354.969,231.181 355.067,229.749 355.166,228.285 355.264,226.789 355.362,225.263 \n",
       "  355.46,223.707 355.558,222.122 355.657,220.51 355.755,218.871 355.853,217.206 355.951,215.517 356.05,213.804 356.148,212.069 356.246,210.313 356.344,208.536 \n",
       "  356.443,206.741 356.541,204.928 356.639,203.099 356.737,201.254 356.836,199.395 356.934,197.524 357.032,195.64 357.13,193.747 357.228,191.844 357.327,189.934 \n",
       "  357.425,188.017 357.523,186.095 357.621,184.169 357.72,182.24 357.818,180.311 357.916,178.381 358.014,176.453 358.113,174.528 358.211,172.607 358.309,170.692 \n",
       "  358.407,168.783 358.505,166.883 358.604,164.992 358.702,163.112 358.8,161.244 358.898,159.39 358.997,157.551 359.095,155.728 359.193,153.923 359.291,152.136 \n",
       "  359.39,150.37 359.488,148.625 359.586,146.902 359.684,145.204 359.783,143.531 359.881,141.884 359.979,140.266 360.077,138.676 360.175,137.116 360.274,135.588 \n",
       "  360.372,134.092 360.47,132.629 360.568,131.201 360.667,129.81 360.765,128.455 360.863,127.138 360.961,125.86 361.06,124.622 361.158,123.425 361.256,122.27 \n",
       "  361.354,121.157 361.453,120.089 361.551,119.065 361.649,118.087 361.747,117.155 361.845,116.27 361.944,115.432 362.042,114.644 362.14,113.904 362.238,113.215 \n",
       "  362.337,112.575 362.435,111.987 362.533,111.451 362.631,110.967 362.73,110.535 362.828,110.157 362.926,109.831 363.024,109.56 363.122,109.343 363.221,109.18 \n",
       "  363.319,109.072 363.417,109.019 363.515,109.021 363.614,109.078 363.712,109.19 363.81,109.358 363.908,109.581 364.007,109.859 364.105,110.193 364.203,110.581 \n",
       "  364.301,111.025 364.4,111.523 364.498,112.076 364.596,112.683 364.694,113.344 364.792,114.059 364.891,114.827 364.989,115.647 365.087,116.52 365.185,117.445 \n",
       "  365.284,118.42 365.382,119.447 365.48,120.523 365.578,121.648 365.677,122.822 365.775,124.044 365.873,125.312 365.971,126.627 366.07,127.986 366.168,129.39 \n",
       "  366.266,130.838 366.364,132.328 366.462,133.859 366.561,135.43 366.659,137.041 366.757,138.69 366.855,140.375 366.954,142.097 367.052,143.853 367.15,145.642 \n",
       "  367.248,147.463 367.347,149.315 367.445,151.196 367.543,153.105 367.641,155.041 367.739,157.002 367.838,158.987 367.936,160.994 368.034,163.022 368.132,165.069 \n",
       "  368.231,167.134 368.329,169.215 368.427,171.311 368.525,173.42 368.624,175.541 368.722,177.671 368.82,179.81 368.918,181.956 369.017,184.106 369.115,186.26 \n",
       "  369.213,188.416 369.311,190.572 369.409,192.726 369.508,194.877 369.606,197.023 369.704,199.162 369.802,201.294 369.901,203.415 369.999,205.524 370.097,207.62 \n",
       "  370.195,209.702 370.294,211.766 370.392,213.813 370.49,215.839 370.588,217.844 370.687,219.825 370.785,221.782 370.883,223.713 370.981,225.615 371.079,227.488 \n",
       "  371.178,229.33 371.276,231.139 371.374,232.914 371.472,234.654 371.571,236.356 371.669,238.02 371.767,239.644 371.865,241.227 371.964,242.768 372.062,244.264 \n",
       "  372.16,245.715 372.258,247.12 372.356,248.477 372.455,249.785 372.553,251.043 372.651,252.249 372.749,253.404 372.848,254.505 372.946,255.552 373.044,256.544 \n",
       "  373.142,257.479 373.241,258.357 373.339,259.178 373.437,259.939 373.535,260.642 373.634,261.284 373.732,261.865 373.83,262.384 373.928,262.842 374.026,263.237 \n",
       "  374.125,263.57 374.223,263.838 374.321,264.043 374.419,264.184 374.518,264.261 374.616,264.273 374.714,264.22 374.812,264.103 374.911,263.92 375.009,263.673 \n",
       "  375.107,263.361 375.205,262.984 375.304,262.543 375.402,262.037 375.5,261.467 375.598,260.833 375.696,260.136 375.795,259.376 375.893,258.554 375.991,257.669 \n",
       "  376.089,256.723 376.188,255.717 376.286,254.65 376.384,253.524 376.482,252.34 376.581,251.098 376.679,249.799 376.777,248.444 376.875,247.035 376.973,245.571 \n",
       "  377.072,244.055 377.17,242.488 377.268,240.87 377.366,239.203 377.465,237.488 377.563,235.726 377.661,233.92 377.759,232.07 377.858,230.177 377.956,228.243 \n",
       "  378.054,226.271 378.152,224.26 378.251,222.214 378.349,220.133 378.447,218.019 378.545,215.874 378.643,213.7 378.742,211.498 378.84,209.271 378.938,207.019 \n",
       "  379.036,204.746 379.135,202.452 379.233,200.14 379.331,197.811 379.429,195.468 379.528,193.113 379.626,190.747 379.724,188.372 379.822,185.992 379.921,183.606 \n",
       "  380.019,181.218 380.117,178.83 380.215,176.443 380.313,174.06 380.412,171.683 380.51,169.313 380.608,166.954 380.706,164.606 380.805,162.272 380.903,159.954 \n",
       "  381.001,157.654 381.099,155.375 381.198,153.117 381.296,150.883 381.394,148.676 381.492,146.496 381.59,144.347 381.689,142.229 381.787,140.146 381.885,138.098 \n",
       "  381.983,136.087 382.082,134.116 382.18,132.187 382.278,130.3 382.376,128.458 382.475,126.663 382.573,124.916 382.671,123.218 382.769,121.573 382.868,119.98 \n",
       "  382.966,118.441 383.064,116.959 383.162,115.534 383.26,114.167 383.359,112.861 383.457,111.617 383.555,110.435 383.653,109.316 383.752,108.263 383.85,107.276 \n",
       "  383.948,106.356 384.046,105.504 384.145,104.721 384.243,104.008 384.341,103.366 384.439,102.795 384.538,102.295 384.636,101.869 384.734,101.516 384.832,101.236 \n",
       "  384.93,101.031 385.029,100.9 385.127,100.843 385.225,100.862 385.323,100.956 385.422,101.125 385.52,101.369 385.618,101.688 385.716,102.082 385.815,102.551 \n",
       "  385.913,103.095 386.011,103.713 386.109,104.405 386.207,105.17 386.306,106.009 386.404,106.919 386.502,107.901 386.6,108.954 386.699,110.077 386.797,111.27 \n",
       "  386.895,112.531 386.993,113.859 387.092,115.253 387.19,116.712 387.288,118.236 387.386,119.822 387.485,121.469 387.583,123.177 387.681,124.943 387.779,126.766 \n",
       "  387.877,128.645 387.976,130.577 388.074,132.562 388.172,134.597 388.27,136.682 388.369,138.813 388.467,140.989 388.565,143.209 388.663,145.47 388.762,147.77 \n",
       "  388.86,150.107 388.958,152.479 389.056,154.885 389.154,157.321 389.253,159.786 389.351,162.277 389.449,164.792 389.547,167.329 389.646,169.886 389.744,172.46 \n",
       "  389.842,175.048 389.94,177.649 390.039,180.26 390.137,182.879 390.235,185.502 390.333,188.129 390.432,190.755 390.53,193.379 390.628,195.999 390.726,198.611 \n",
       "  390.824,201.214 390.923,203.804 391.021,206.379 391.119,208.938 391.217,211.477 391.316,213.993 391.414,216.486 391.512,218.951 391.61,221.387 391.709,223.791 \n",
       "  391.807,226.161 391.905,228.495 392.003,230.789 392.102,233.043 392.2,235.254 392.298,237.419 392.396,239.537 392.494,241.604 392.593,243.62 392.691,245.582 \n",
       "  392.789,247.488 392.887,249.336 392.986,251.124 393.084,252.85 393.182,254.513 393.28,256.111 393.379,257.642 393.477,259.104 393.575,260.497 393.673,261.817 \n",
       "  393.771,263.065 393.87,264.238 393.968,265.335 394.066,266.356 394.164,267.298 394.263,268.161 394.361,268.944 394.459,269.645 394.557,270.265 394.656,270.801 \n",
       "  394.754,271.254 394.852,271.623 394.95,271.908 395.049,272.107 395.147,272.22 395.245,272.247 395.343,272.189 395.441,272.044 395.54,271.813 395.638,271.496 \n",
       "  395.736,271.092 395.834,270.603 395.933,270.028 396.031,269.367 396.129,268.622 396.227,267.793 396.326,266.88 396.424,265.885 396.522,264.807 396.62,263.648 \n",
       "  396.719,262.409 396.817,261.09 396.915,259.694 397.013,258.221 397.111,256.673 397.21,255.05 397.308,253.355 397.406,251.588 397.504,249.753 397.603,247.849 \n",
       "  397.701,245.879 397.799,243.846 397.897,241.75 397.996,239.593 398.094,237.379 398.192,235.108 398.29,232.783 398.388,230.407 398.487,227.981 398.585,225.508 \n",
       "  398.683,222.99 398.781,220.43 398.88,217.831 398.978,215.194 399.076,212.522 399.174,209.819 399.273,207.086 399.371,204.327 399.469,201.544 399.567,198.74 \n",
       "  399.666,195.918 399.764,193.08 399.862,190.23 399.96,187.371 400.058,184.505 400.157,181.635 400.255,178.765 400.353,175.896 400.451,173.033 400.55,170.178 \n",
       "  400.648,167.334 400.746,164.504 400.844,161.692 400.943,158.899 401.041,156.129 401.139,153.384 401.237,150.669 401.336,147.985 401.434,145.335 401.532,142.723 \n",
       "  401.63,140.151 401.728,137.622 401.827,135.138 401.925,132.702 402.023,130.318 402.121,127.987 402.22,125.712 402.318,123.495 402.416,121.34 402.514,119.248 \n",
       "  402.613,117.222 402.711,115.264 402.809,113.376 402.907,111.56 403.005,109.819 403.104,108.154 403.202,106.568 403.3,105.062 403.398,103.638 403.497,102.297 \n",
       "  403.595,101.042 403.693,99.8738 403.791,98.7937 403.89,97.8031 403.988,96.9032 404.086,96.0954 404.184,95.3805 404.283,94.7597 404.381,94.2337 404.479,93.8033 \n",
       "  404.577,93.4691 404.675,93.2318 404.774,93.0919 404.872,93.0496 404.97,93.1052 405.068,93.2589 405.167,93.5107 405.265,93.8606 405.363,94.3084 405.461,94.8539 \n",
       "  405.56,95.4966 405.658,96.2361 405.756,97.0717 405.854,98.0029 405.953,99.0288 406.051,100.148 406.149,101.361 406.247,102.665 406.345,104.059 406.444,105.543 \n",
       "  406.542,107.115 406.64,108.772 406.738,110.514 406.837,112.339 406.935,114.245 407.033,116.23 407.131,118.293 407.23,120.43 407.328,122.64 407.426,124.921 \n",
       "  407.524,127.27 407.622,129.685 407.721,132.164 407.819,134.703 407.917,137.3 408.015,139.952 408.114,142.657 408.212,145.412 408.31,148.213 408.408,151.058 \n",
       "  408.507,153.944 408.605,156.868 408.703,159.825 408.801,162.814 408.9,165.831 408.998,168.873 409.096,171.936 409.194,175.017 409.292,178.113 409.391,181.22 \n",
       "  409.489,184.334 409.587,187.453 409.685,190.573 409.784,193.69 409.882,196.8 409.98,199.901 410.078,202.989 410.177,206.061 410.275,209.112 410.373,212.139 \n",
       "  410.471,215.14 410.57,218.11 410.668,221.046 410.766,223.944 410.864,226.802 410.962,229.616 411.061,232.383 411.159,235.1 411.257,237.762 411.355,240.368 \n",
       "  411.454,242.914 411.552,245.397 411.65,247.815 411.748,250.163 411.847,252.44 411.945,254.643 412.043,256.768 412.141,258.815 412.239,260.779 412.338,262.658 \n",
       "  412.436,264.451 412.534,266.155 412.632,267.767 412.731,269.286 412.829,270.71 412.927,272.037 413.025,273.265 413.124,274.393 413.222,275.419 413.32,276.342 \n",
       "  413.418,277.16 413.517,277.872 413.615,278.477 413.713,278.975 413.811,279.364 413.909,279.644 414.008,279.815 414.106,279.875 414.204,279.824 414.302,279.663 \n",
       "  414.401,279.391 414.499,279.008 414.597,278.515 414.695,277.912 414.794,277.199 414.892,276.378 414.99,275.448 415.088,274.41 415.187,273.266 415.285,272.017 \n",
       "  415.383,270.663 415.481,269.207 415.579,267.65 415.678,265.993 415.776,264.238 415.874,262.387 415.972,260.442 416.071,258.405 416.169,256.279 416.267,254.065 \n",
       "  416.365,251.766 416.464,249.384 416.562,246.923 416.66,244.385 416.758,241.773 416.856,239.089 416.955,236.338 417.053,233.521 417.151,230.642 417.249,227.705 \n",
       "  417.348,224.713 417.446,221.669 417.544,218.577 417.642,215.44 417.741,212.263 417.839,209.048 417.937,205.8 418.035,202.522 418.134,199.219 418.232,195.894 \n",
       "  418.33,192.551 418.428,189.194 418.526,185.827 418.625,182.455 418.723,179.081 418.821,175.709 418.919,172.344 419.018,168.99 419.116,165.65 419.214,162.328 \n",
       "  419.312,159.03 419.411,155.758 419.509,152.517 419.607,149.311 419.705,146.144 419.804,143.02 419.902,139.943 420,136.916 420.098,133.943 420.196,131.028 \n",
       "  420.295,128.176 420.393,125.388 420.491,122.67 420.589,120.024 420.688,117.454 420.786,114.964 420.884,112.555 420.982,110.232 421.081,107.998 421.179,105.856 \n",
       "  421.277,103.807 421.375,101.856 421.473,100.004 421.572,98.2552 421.67,96.6105 421.768,95.0727 421.866,93.6438 421.965,92.3259 422.063,91.1209 422.161,90.0305 \n",
       "  422.259,89.0562 422.358,88.1996 422.456,87.462 422.554,86.8444 422.652,86.3481 422.751,85.9737 422.849,85.7221 422.947,85.5938 423.045,85.5892 423.143,85.7086 \n",
       "  423.242,85.9521 423.34,86.3197 423.438,86.8111 423.536,87.4261 423.635,88.164 423.733,89.0242 423.831,90.0058 423.929,91.108 424.028,92.3295 424.126,93.6691 \n",
       "  424.224,95.1252 424.322,96.6964 424.421,98.3807 424.519,100.176 424.617,102.082 424.715,104.094 424.813,106.211 424.912,108.43 425.01,110.749 425.108,113.164 \n",
       "  425.206,115.674 425.305,118.275 425.403,120.964 425.501,123.737 425.599,126.592 425.698,129.524 425.796,132.531 425.894,135.608 425.992,138.752 426.09,141.958 \n",
       "  426.189,145.223 426.287,148.543 426.385,151.914 426.483,155.33 426.582,158.789 426.68,162.285 426.778,165.815 426.876,169.373 426.975,172.955 427.073,176.557 \n",
       "  427.171,180.173 427.269,183.8 427.368,187.432 427.466,191.065 427.564,194.694 427.662,198.314 427.76,201.921 427.859,205.51 427.957,209.076 428.055,212.614 \n",
       "  428.153,216.12 428.252,219.59 428.35,223.017 428.448,226.399 428.546,229.73 428.645,233.005 428.743,236.222 428.841,239.374 428.939,242.458 429.038,245.47 \n",
       "  429.136,248.405 429.234,251.259 429.332,254.03 429.43,256.712 429.529,259.301 429.627,261.795 429.725,264.19 429.823,266.483 429.922,268.669 430.02,270.747 \n",
       "  430.118,272.713 430.216,274.564 430.315,276.297 430.413,277.911 430.511,279.402 430.609,280.769 430.707,282.008 430.806,283.119 430.904,284.1 431.002,284.949 \n",
       "  431.1,285.664 431.199,286.245 431.297,286.69 431.395,286.998 431.493,287.169 431.592,287.203 431.69,287.098 431.788,286.855 431.886,286.474 431.985,285.955 \n",
       "  432.083,285.298 432.181,284.505 432.279,283.575 432.377,282.51 432.476,281.311 432.574,279.98 432.672,278.517 432.77,276.925 432.869,275.206 432.967,273.361 \n",
       "  433.065,271.393 433.163,269.304 433.262,267.097 433.36,264.775 433.458,262.341 433.556,259.797 433.655,257.147 433.753,254.395 433.851,251.543 433.949,248.596 \n",
       "  434.047,245.558 434.146,242.432 434.244,239.223 434.342,235.935 434.44,232.572 434.539,229.138 434.637,225.64 434.735,222.08 434.833,218.464 434.932,214.796 \n",
       "  435.03,211.083 435.128,207.328 435.226,203.537 435.324,199.715 435.423,195.867 435.521,191.999 435.619,188.116 435.717,184.224 435.816,180.327 435.914,176.431 \n",
       "  436.012,172.542 436.11,168.665 436.209,164.805 436.307,160.969 436.405,157.16 436.503,153.386 436.602,149.651 436.7,145.96 436.798,142.319 436.896,138.733 \n",
       "  436.994,135.207 437.093,131.746 437.191,128.355 437.289,125.04 437.387,121.804 437.486,118.653 437.584,115.592 437.682,112.624 437.78,109.755 437.879,106.988 \n",
       "  437.977,104.328 438.075,101.779 438.173,99.3435 438.272,97.0267 438.37,94.8316 438.468,92.7616 438.566,90.8199 438.664,89.0095 438.763,87.3334 438.861,85.794 \n",
       "  438.959,84.394 439.057,83.1357 439.156,82.021 439.254,81.0519 439.352,80.2301 439.45,79.5571 439.549,79.0341 439.647,78.6621 439.745,78.4421 439.843,78.3746 \n",
       "  439.941,78.4601 440.04,78.6987 440.138,79.0903 440.236,79.6349 440.334,80.3317 440.433,81.1803 440.531,82.1795 440.629,83.3283 440.727,84.6254 440.826,86.0691 \n",
       "  440.924,87.6576 441.022,89.3889 441.12,91.2608 441.219,93.2708 441.317,95.4162 441.415,97.6943 441.513,100.102 441.611,102.636 441.71,105.293 441.808,108.069 \n",
       "  441.906,110.96 442.004,113.963 442.103,117.072 442.201,120.285 442.299,123.596 442.397,127.001 442.496,130.494 442.594,134.071 442.692,137.727 442.79,141.457 \n",
       "  442.889,145.254 442.987,149.114 443.085,153.032 443.183,157 443.281,161.014 443.38,165.068 443.478,169.156 443.576,173.272 443.674,177.409 443.773,181.562 \n",
       "  443.871,185.724 443.969,189.89 444.067,194.052 444.166,198.206 444.264,202.344 444.362,206.461 444.46,210.549 444.558,214.604 444.657,218.619 444.755,222.587 \n",
       "  444.853,226.504 444.951,230.362 445.05,234.155 445.148,237.879 445.246,241.527 445.344,245.094 445.443,248.574 445.541,251.961 445.639,255.251 445.737,258.437 \n",
       "  445.836,261.516 445.934,264.483 446.032,267.332 446.13,270.058 446.228,272.659 446.327,275.129 446.425,277.464 446.523,279.661 446.621,281.716 446.72,283.625 \n",
       "  446.818,285.385 446.916,286.995 447.014,288.449 447.113,289.747 447.211,290.885 447.309,291.863 447.407,292.677 447.506,293.326 447.604,293.81 447.702,294.126 \n",
       "  447.8,294.274 447.898,294.254 447.997,294.066 448.095,293.708 448.193,293.182 448.291,292.488 448.39,291.627 448.488,290.599 448.586,289.406 448.684,288.049 \n",
       "  448.783,286.531 448.881,284.853 448.979,283.017 449.077,281.027 449.175,278.884 449.274,276.592 449.372,274.154 449.47,271.575 449.568,268.856 449.667,266.003 \n",
       "  449.765,263.019 449.863,259.91 449.961,256.678 450.06,253.331 450.158,249.872 450.256,246.306 450.354,242.639 450.453,238.877 450.551,235.026 450.649,231.09 \n",
       "  450.747,227.076 450.845,222.991 450.944,218.841 451.042,214.632 451.14,210.37 451.238,206.063 451.337,201.716 451.435,197.337 451.533,192.933 451.631,188.511 \n",
       "  451.73,184.077 451.828,179.638 451.926,175.203 452.024,170.776 452.123,166.367 452.221,161.981 452.319,157.626 452.417,153.309 452.515,149.037 452.614,144.817 \n",
       "  452.712,140.655 452.81,136.558 452.908,132.534 453.007,128.588 453.105,124.727 453.203,120.957 453.301,117.285 453.4,113.717 453.498,110.259 453.596,106.916 \n",
       "  453.694,103.694 453.792,100.599 453.891,97.636 453.989,94.8095 454.087,92.1247 454.185,89.5862 454.284,87.1983 454.382,84.9653 454.48,82.8911 454.578,80.9794 \n",
       "  454.677,79.2335 454.775,77.6566 454.873,76.2517 454.971,75.0214 455.07,73.9679 455.168,73.0934 455.266,72.3996 455.364,71.8881 455.462,71.56 455.561,71.4162 \n",
       "  455.659,71.4573 455.757,71.6836 455.855,72.0951 455.954,72.6914 456.052,73.4721 456.15,74.436 456.248,75.5821 456.347,76.9087 456.445,78.4141 456.543,80.0961 \n",
       "  456.641,81.9522 456.74,83.9799 456.838,86.1759 456.936,88.5371 457.034,91.0598 457.132,93.7403 457.231,96.5742 457.329,99.5574 457.427,102.685 457.525,105.952 \n",
       "  457.624,109.354 457.722,112.884 457.82,116.538 457.918,120.31 458.017,124.193 458.115,128.181 458.213,132.268 458.311,136.447 458.409,140.712 458.508,145.055 \n",
       "  458.606,149.469 458.704,153.947 458.802,158.481 458.901,163.065 458.999,167.69 459.097,172.348 459.195,177.033 459.294,181.736 459.392,186.449 459.49,191.165 \n",
       "  459.588,195.874 459.687,200.571 459.785,205.245 459.883,209.89 459.981,214.498 460.079,219.06 460.178,223.569 460.276,228.018 460.374,232.397 460.472,236.701 \n",
       "  460.571,240.921 460.669,245.05 460.767,249.08 460.865,253.006 460.964,256.819 461.062,260.513 461.16,264.082 461.258,267.519 461.357,270.819 461.455,273.974 \n",
       "  461.553,276.98 461.651,279.831 461.749,282.522 461.848,285.047 461.946,287.403 462.044,289.585 462.142,291.588 462.241,293.41 462.339,295.046 462.437,296.493 \n",
       "  462.535,297.749 462.634,298.811 462.732,299.676 462.83,300.343 462.928,300.81 463.026,301.077 463.125,301.142 463.223,301.004 463.321,300.664 463.419,300.122 \n",
       "  463.518,299.378 463.616,298.433 463.714,297.289 463.812,295.947 463.911,294.409 464.009,292.678 464.107,290.755 464.205,288.645 464.304,286.35 464.402,283.874 \n",
       "  464.5,281.221 464.598,278.395 464.696,275.401 464.795,272.245 464.893,268.93 464.991,265.464 465.089,261.85 465.188,258.097 465.286,254.209 465.384,250.194 \n",
       "  465.482,246.059 465.581,241.81 465.679,237.455 465.777,233.001 465.875,228.457 465.974,223.829 466.072,219.126 466.17,214.357 466.268,209.529 466.366,204.651 \n",
       "  466.465,199.732 466.563,194.78 466.661,189.805 466.759,184.814 466.858,179.817 466.956,174.824 467.054,169.841 467.152,164.88 467.251,159.948 467.349,155.054 \n",
       "  467.447,150.208 467.545,145.418 467.643,140.693 467.742,136.042 467.84,131.472 467.938,126.993 468.036,122.612 468.135,118.339 468.233,114.18 468.331,110.143 \n",
       "  468.429,106.236 468.528,102.467 468.626,98.8417 468.724,95.3677 468.822,92.0516 468.921,88.8996 469.019,85.9177 469.117,83.1117 469.215,80.487 469.313,78.0488 \n",
       "  469.412,75.8019 469.51,73.7506 469.608,71.8992 469.706,70.2514 469.805,68.8105 469.903,67.5797 470.001,66.5615 470.099,65.7583 470.198,65.1719 470.296,64.8038 \n",
       "  470.394,64.6551 470.492,64.7265 470.591,65.0183 470.689,65.5303 470.787,66.262 470.885,67.2126 470.983,68.3805 471.082,69.7642 471.18,71.3615 471.278,73.1697 \n",
       "  471.376,75.1861 471.475,77.4071 471.573,79.8292 471.671,82.4481 471.769,85.2594 471.868,88.2583 471.966,91.4395 472.064,94.7974 472.162,98.3262 472.26,102.02 \n",
       "  472.359,105.871 472.457,109.873 472.555,114.02 472.653,118.303 472.752,122.714 472.85,127.246 472.948,131.891 473.046,136.64 473.145,141.483 473.243,146.414 \n",
       "  473.341,151.421 473.439,156.496 473.538,161.63 473.636,166.813 473.734,172.035 473.832,177.287 473.93,182.558 474.029,187.839 474.127,193.12 474.225,198.391 \n",
       "  474.323,203.641 474.422,208.861 474.52,214.042 474.618,219.172 474.716,224.242 474.815,229.243 474.913,234.164 475.011,238.997 475.109,243.732 475.208,248.359 \n",
       "  475.306,252.87 475.404,257.256 475.502,261.508 475.6,265.618 475.699,269.578 475.797,273.379 475.895,277.015 475.993,280.477 476.092,283.76 476.19,286.856 \n",
       "  476.288,289.76 476.386,292.464 476.485,294.964 476.583,297.254 476.681,299.33 476.779,301.187 476.877,302.821 476.976,304.229 477.074,305.407 477.172,306.354 \n",
       "  477.27,307.065 477.369,307.54 477.467,307.778 477.565,307.777 477.663,307.536 477.762,307.057 477.86,306.339 477.958,305.384 478.056,304.193 478.155,302.767 \n",
       "  478.253,301.109 478.351,299.222 478.449,297.109 478.547,294.774 478.646,292.221 478.744,289.455 478.842,286.48 478.94,283.302 479.039,279.927 479.137,276.361 \n",
       "  479.235,272.611 479.333,268.684 479.432,264.586 479.53,260.327 479.628,255.914 479.726,251.356 479.825,246.66 479.923,241.837 480.021,236.895 480.119,231.845 \n",
       "  480.217,226.695 480.316,221.456 480.414,216.138 480.512,210.752 480.61,205.308 480.709,199.816 480.807,194.288 480.905,188.735 481.003,183.167 481.102,177.596 \n",
       "  481.2,172.032 481.298,166.488 481.396,160.973 481.494,155.499 481.593,150.077 481.691,144.719 481.789,139.434 481.887,134.233 481.986,129.128 482.084,124.128 \n",
       "  482.182,119.245 482.28,114.486 482.379,109.864 482.477,105.387 482.575,101.064 482.673,96.9051 482.772,92.9181 482.87,89.1117 482.968,85.4938 483.066,82.0722 \n",
       "  483.164,78.8542 483.263,75.8466 483.361,73.0559 483.459,70.4882 483.557,68.149 483.656,66.0437 483.754,64.1769 483.852,62.5527 483.95,61.1751 484.049,60.0472 \n",
       "  484.147,59.1718 484.245,58.5512 484.343,58.1871 484.442,58.0806 484.54,58.2326 484.638,58.6432 484.736,59.3119 484.834,60.238 484.933,61.42 485.031,62.8559 \n",
       "  485.129,64.5432 485.227,66.479 485.326,68.6598 485.424,71.0814 485.522,73.7393 485.62,76.6286 485.719,79.7436 485.817,83.0784 485.915,86.6264 486.013,90.3807 \n",
       "  486.111,94.334 486.21,98.4784 486.308,102.806 486.406,107.307 486.504,111.974 486.603,116.797 486.701,121.765 486.799,126.87 486.897,132.1 486.996,137.446 \n",
       "  487.094,142.895 487.192,148.437 487.29,154.061 487.389,159.755 487.487,165.507 487.585,171.305 487.683,177.137 487.781,182.991 487.88,188.855 487.978,194.717 \n",
       "  488.076,200.563 488.174,206.383 488.273,212.163 488.371,217.891 488.469,223.556 488.567,229.144 488.666,234.645 488.764,240.046 488.862,245.336 488.96,250.504 \n",
       "  489.059,255.538 489.157,260.427 489.255,265.161 489.353,269.729 489.451,274.122 489.55,278.33 489.648,282.344 489.746,286.154 489.844,289.752 489.943,293.13 \n",
       "  490.041,296.281 490.139,299.197 490.237,301.872 490.336,304.3 490.434,306.475 490.532,308.391 490.63,310.045 490.728,311.432 490.827,312.549 490.925,313.392 \n",
       "  491.023,313.961 491.121,314.252 491.22,314.265 491.318,313.999 491.416,313.455 491.514,312.632 491.613,311.533 491.711,310.159 491.809,308.512 491.907,306.596 \n",
       "  492.006,304.414 492.104,301.971 492.202,299.271 492.3,296.319 492.398,293.123 492.497,289.687 492.595,286.02 492.693,282.128 492.791,278.02 492.89,273.704 \n",
       "  492.988,269.19 493.086,264.486 493.184,259.603 493.283,254.552 493.381,249.341 493.479,243.984 493.577,238.491 493.675,232.874 493.774,227.146 493.872,221.318 \n",
       "  493.97,215.403 494.068,209.413 494.167,203.363 494.265,197.265 494.363,191.133 494.461,184.979 494.56,178.818 494.658,172.663 494.756,166.527 494.854,160.425 \n",
       "  494.953,154.369 495.051,148.373 495.149,142.451 495.247,136.616 495.345,130.881 495.444,125.258 495.542,119.761 495.64,114.402 495.738,109.193 495.837,104.145 \n",
       "  495.935,99.2715 496.033,94.5822 496.131,90.0883 496.23,85.8002 496.328,81.7277 496.426,77.8804 496.524,74.2673 496.623,70.8969 496.721,67.7771 496.819,64.9155 \n",
       "  496.917,62.3188 497.015,59.9933 497.114,57.9449 497.212,56.1786 497.31,54.6988 497.408,53.5095 497.507,52.6137 497.605,52.0141 497.703,51.7126 497.801,51.7103 \n",
       "  497.9,52.0079 497.998,52.6051 498.096,53.5011 498.194,54.6946 498.292,56.1832 498.391,57.9642 498.489,60.0341 498.587,62.3886 498.685,65.023 498.784,67.9317 \n",
       "  498.882,71.1087 498.98,74.5472 499.078,78.2397 499.177,82.1785 499.275,86.3549 499.373,90.7598 499.471,95.3836 499.57,100.216 499.668,105.247 499.766,110.464 \n",
       "  499.864,115.857 499.962,121.413 500.061,127.119 500.159,132.964 500.257,138.933 500.355,145.014 500.454,151.192 500.552,157.454 500.65,163.785 500.748,170.17 \n",
       "  500.847,176.596 500.945,183.046 501.043,189.508 501.141,195.964 501.24,202.402 501.338,208.805 501.436,215.159 501.534,221.449 501.632,227.66 501.731,233.777 \n",
       "  501.829,239.787 501.927,245.676 502.025,251.428 502.124,257.031 502.222,262.471 502.32,267.736 502.418,272.812 502.517,277.688 502.615,282.351 502.713,286.791 \n",
       "  502.811,290.997 502.909,294.958 503.008,298.665 503.106,302.108 503.204,305.28 503.302,308.171 503.401,310.776 503.499,313.086 503.597,315.097 503.695,316.803 \n",
       "  503.794,318.199 503.892,319.281 503.99,320.047 504.088,320.494 504.187,320.62 504.285,320.425 504.383,319.909 504.481,319.071 504.579,317.914 504.678,316.44 \n",
       "  504.776,314.651 504.874,312.552 504.972,310.146 505.071,307.439 505.169,304.437 505.267,301.147 505.365,297.575 505.464,293.73 505.562,289.62 505.66,285.256 \n",
       "  505.758,280.646 505.857,275.802 505.955,270.734 506.053,265.454 506.151,259.976 506.249,254.31 506.348,248.471 506.446,242.473 506.544,236.329 506.642,230.054 \n",
       "  506.741,223.663 506.839,217.171 506.937,210.594 507.035,203.947 507.134,197.246 507.232,190.507 507.33,183.747 507.428,176.982 507.526,170.228 507.625,163.502 \n",
       "  507.723,156.819 507.821,150.197 507.919,143.651 508.018,137.198 508.116,130.852 508.214,124.631 508.312,118.549 508.411,112.622 508.509,106.863 508.607,101.288 \n",
       "  508.705,95.9103 508.804,90.7433 508.902,85.8002 509,81.0935 509.098,76.635 509.196,72.4361 509.295,68.5076 509.393,64.8596 509.491,61.5015 509.589,58.4422 \n",
       "  509.688,55.6896 509.786,53.251 509.884,51.1331 509.982,49.3416 510.081,47.8815 510.179,46.757 510.277,45.9714 510.375,45.5274 510.474,45.4265 510.572,45.6696 \n",
       "  510.67,46.2568 510.768,47.1872 510.866,48.459 510.965,50.0699 511.063,52.0162 511.161,54.2938 511.259,56.8976 511.358,59.8218 511.456,63.0595 511.554,66.6032 \n",
       "  511.652,70.4448 511.751,74.575 511.849,78.9842 511.947,83.6617 512.045,88.5963 512.143,93.7762 512.242,99.1888 512.34,104.821 512.438,110.659 512.536,116.689 \n",
       "  512.635,122.895 512.733,129.263 512.831,135.776 512.929,142.419 513.028,149.175 513.126,156.027 513.224,162.959 513.322,169.952 513.421,176.99 513.519,184.054 \n",
       "  513.617,191.127 513.715,198.19 513.813,205.227 513.912,212.219 514.01,219.148 514.108,225.996 514.206,232.747 514.305,239.382 514.403,245.885 514.501,252.239 \n",
       "  514.599,258.427 514.698,264.434 514.796,270.243 514.894,275.84 514.992,281.21 515.091,286.339 515.189,291.213 515.287,295.819 515.385,300.145 515.483,304.18 \n",
       "  515.582,307.913 515.68,311.333 515.778,314.431 515.876,317.2 515.975,319.63 516.073,321.715 516.171,323.449 516.269,324.828 516.368,325.847 516.466,326.502 \n",
       "  516.564,326.791 516.662,326.714 516.76,326.269 516.859,325.457 516.957,324.28 517.055,322.74 517.153,320.84 517.252,318.584 517.35,315.979 517.448,313.029 \n",
       "  517.546,309.743 517.645,306.128 517.743,302.192 517.841,297.946 517.939,293.4 518.038,288.566 518.136,283.455 518.234,278.081 518.332,272.456 518.43,266.596 \n",
       "  518.529,260.515 518.627,254.229 518.725,247.754 518.823,241.107 518.922,234.304 519.02,227.364 519.118,220.304 519.216,213.142 519.315,205.898 519.413,198.591 \n",
       "  519.511,191.238 519.609,183.861 519.708,176.478 519.806,169.109 519.904,161.772 520.002,154.489 520.1,147.277 520.199,140.157 520.297,133.147 520.395,126.266 \n",
       "  520.493,119.533 520.592,112.966 520.69,106.582 520.788,100.399 520.886,94.4331 520.985,88.7013 521.083,83.2191 521.181,78.0014 521.279,73.0627 521.377,68.4166 \n",
       "  521.476,64.0761 521.574,60.0533 521.672,56.3595 521.77,53.0051 521.869,49.9998 521.967,47.3522 522.065,45.0701 522.163,43.1601 522.262,41.6281 522.36,40.4788 \n",
       "  522.458,39.716 522.556,39.3424 522.655,39.3597 522.753,39.7685 522.851,40.5684 522.949,41.7579 523.047,43.3344 523.146,45.2944 523.244,47.6332 523.342,50.3451 \n",
       "  523.44,53.4234 523.539,56.8604 523.637,60.6475 523.735,64.7748 523.833,69.2318 523.932,74.0069 524.03,79.0878 524.128,84.4609 524.226,90.1124 524.325,96.0271 \n",
       "  524.423,102.189 524.521,108.583 524.619,115.191 524.717,121.995 524.816,128.977 524.914,136.119 525.012,143.4 525.11,150.802 525.209,158.305 525.307,165.887 \n",
       "  525.405,173.528 525.503,181.207 525.602,188.904 525.7,196.597 525.798,204.264 525.896,211.885 525.994,219.438 526.093,226.903 526.191,234.259 526.289,241.485 \n",
       "  526.387,248.562 526.486,255.468 526.584,262.185 526.682,268.694 526.78,274.976 526.879,281.014 526.977,286.791 527.075,292.289 527.173,297.494 527.272,302.389 \n",
       "  527.37,306.962 527.468,311.198 527.566,315.086 527.664,318.613 527.763,321.77 527.861,324.547 527.959,326.936 528.057,328.928 528.156,330.519 528.254,331.702 \n",
       "  528.352,332.474 528.45,332.833 528.549,332.775 528.647,332.301 528.745,331.411 528.843,330.107 528.942,328.393 529.04,326.271 529.138,323.748 529.236,320.83 \n",
       "  529.334,317.524 529.433,313.84 529.531,309.786 529.629,305.374 529.727,300.616 529.826,295.524 529.924,290.113 530.022,284.397 530.12,278.392 530.219,272.114 \n",
       "  530.317,265.581 530.415,258.811 530.513,251.823 530.611,244.637 530.71,237.272 530.808,229.749 530.906,222.09 531.004,214.315 531.103,206.448 531.201,198.511 \n",
       "  531.299,190.525 531.397,182.514 531.496,174.501 531.594,166.509 531.692,158.56 531.79,150.678 531.889,142.886 531.987,135.205 532.085,127.658 532.183,120.268 \n",
       "  532.281,113.056 532.38,106.042 532.478,99.2474 532.576,92.6924 532.674,86.3961 532.773,80.3772 532.871,74.6535 532.969,69.2421 533.067,64.1593 533.166,59.4202 \n",
       "  533.264,55.0393 533.362,51.0298 533.46,47.4041 533.559,44.1733 533.657,41.3474 533.755,38.9355 533.853,36.9452 533.951,35.383 534.05,34.2542 534.148,33.5628 \n",
       "  534.246,33.3116 534.344,33.5021 534.443,34.1344 534.541,35.2075 534.639,36.719 534.737,38.6651 534.836,41.0409 534.934,43.8401 535.032,47.0552 535.13,50.6776 \n",
       "  535.228,54.6971 535.327,59.1028 535.425,63.8822 535.523,69.0218 535.621,74.5073 535.72,80.3228 535.818,86.452 535.916,92.877 536.014,99.5796 536.113,106.54 \n",
       "  536.211,113.739 536.309,121.154 536.407,128.765 536.506,136.55 536.604,144.484 536.702,152.546 536.8,160.71 536.898,168.954 536.997,177.253 537.095,185.582 \n",
       "  537.193,193.916 537.291,202.231 537.39,210.502 537.488,218.703 537.586,226.811 537.684,234.801 537.783,242.648 537.881,250.33 537.979,257.822 538.077,265.103 \n",
       "  538.176,272.149 538.274,278.94 538.372,285.454 538.47,291.671 538.568,297.572 538.667,303.14 538.765,308.356 538.863,313.204 538.961,317.669 539.06,321.737 \n",
       "  539.158,325.396 539.256,328.632 539.354,331.436 539.453,333.799 539.551,335.712 539.649,337.169 539.747,338.165 539.845,338.697 539.944,338.761 540.042,338.356 \n",
       "  540.14,337.484 540.238,336.146 540.337,334.346 540.435,332.087 540.533,329.377 540.631,326.222 540.73,322.632 540.828,318.616 540.926,314.188 541.024,309.358 \n",
       "  541.123,304.141 541.221,298.554 541.319,292.611 541.417,286.332 541.515,279.734 541.614,272.837 541.712,265.662 541.81,258.231 541.908,250.565 542.007,242.689 \n",
       "  542.105,234.626 542.203,226.401 542.301,218.039 542.4,209.564 542.498,201.005 542.596,192.386 542.694,183.734 542.793,175.076 542.891,166.439 542.989,157.849 \n",
       "  543.087,149.334 543.185,140.92 543.284,132.633 543.382,124.499 543.48,116.543 543.578,108.792 543.677,101.268 543.775,93.9969 543.873,87.0006 543.971,80.3017 \n",
       "  544.07,73.9217 544.168,67.8809 544.266,62.1989 544.364,56.894 544.462,51.9834 544.561,47.4832 544.659,43.4081 544.757,39.7717 544.855,36.586 544.954,33.8619 \n",
       "  545.052,31.6087 545.15,29.8342 545.248,28.5448 545.347,27.7453 545.445,27.4392 545.543,27.6282 545.641,28.3125 545.74,29.4907 545.838,31.16 545.936,33.3159 \n",
       "  546.034,35.9524 546.132,39.0619 546.231,42.6354 546.329,46.6623 546.427,51.1305 546.525,56.0267 546.624,61.3359 546.722,67.042 546.82,73.1276 546.918,79.5737 \n",
       "  547.017,86.3606 547.115,93.4671 547.213,100.871 547.311,108.549 547.41,116.478 547.508,124.632 547.606,132.986 547.704,141.513 547.802,150.186 547.901,158.978 \n",
       "  547.999,167.861 548.097,176.806 548.195,185.785 548.294,194.769 548.392,203.729 548.49,212.637 548.588,221.462 548.687,230.178 548.785,238.756 548.883,247.167 \n",
       "  548.981,255.384 549.079,263.382 549.178,271.132 549.276,278.61 549.374,285.792 549.472,292.653 549.571,299.17 549.669,305.323 549.767,311.09 549.865,316.452 \n",
       "  549.964,321.391 550.062,325.891 550.16,329.935 550.258,333.51 550.357,336.604 550.455,339.206 550.553,341.306 550.651,342.897 550.749,343.972 550.848,344.528 \n",
       "  550.946,344.562 551.044,344.072 551.142,343.06 551.241,341.527 551.339,339.479 551.437,336.921 551.535,333.86 551.634,330.306 551.732,326.269 551.83,321.763 \n",
       "  551.928,316.801 552.027,311.399 552.125,305.573 552.223,299.343 552.321,292.728 552.419,285.75 552.518,278.43 552.616,270.793 552.714,262.864 552.812,254.667 \n",
       "  552.911,246.231 553.009,237.582 553.107,228.748 553.205,219.759 553.304,210.645 553.402,201.435 553.5,192.16 553.598,182.851 553.696,173.538 553.795,164.253 \n",
       "  553.893,155.027 553.991,145.89 554.089,136.873 554.188,128.007 554.286,119.321 554.384,110.845 554.482,102.608 554.581,94.6364 554.679,86.9589 554.777,79.6013 \n",
       "  554.875,72.5886 554.974,65.9451 555.072,59.6937 555.17,53.8561 555.268,48.4525 555.366,43.5019 555.465,39.0216 555.563,35.0277 555.661,31.5342 555.759,28.5539 \n",
       "  555.858,26.0976 555.956,24.1744 556.054,22.7919 556.152,21.9554 556.251,21.6688 556.349,21.9339 556.447,22.7508 556.545,24.1174 556.644,26.0301 556.742,28.4833 \n",
       "  556.84,31.4695 556.938,34.9794 557.036,39.0019 557.135,43.5241 557.233,48.5315 557.331,54.0077 557.429,59.9348 557.528,66.2934 557.626,73.0623 557.724,80.219 \n",
       "  557.822,87.7398 557.921,95.5995 558.019,103.772 558.117,112.229 558.215,120.942 558.313,129.882 558.412,139.019 558.51,148.322 558.608,157.758 558.706,167.295 \n",
       "  558.805,176.902 558.903,186.544 559.001,196.188 559.099,205.802 559.198,215.352 559.296,224.805 559.394,234.128 559.492,243.289 559.591,252.255 559.689,260.996 \n",
       "  559.787,269.48 559.885,277.678 559.983,285.56 560.082,293.1 560.18,300.27 560.278,307.044 560.376,313.399 560.475,319.312 560.573,324.761 560.671,329.726 \n",
       "  560.769,334.19 560.868,338.136 560.966,341.549 561.064,344.417 561.162,346.729 561.261,348.475 561.359,349.65 561.457,350.246 561.555,350.263 561.653,349.698 \n",
       "  561.752,348.553 561.85,346.83 561.948,344.536 562.046,341.677 562.145,338.261 562.243,334.302 562.341,329.81 562.439,324.802 562.538,319.295 562.636,313.306 \n",
       "  562.734,306.856 562.832,299.968 562.93,292.666 563.029,284.973 563.127,276.917 563.225,268.526 563.323,259.829 563.422,250.857 563.52,241.641 563.618,232.213 \n",
       "  563.716,222.606 563.815,212.855 563.913,202.994 564.011,193.057 564.109,183.081 564.208,173.101 564.306,163.151 564.404,153.269 564.502,143.489 564.6,133.847 \n",
       "  564.699,124.377 564.797,115.114 564.895,106.091 564.993,97.3401 565.092,88.8942 565.19,80.7837 565.288,73.0384 565.386,65.6867 565.485,58.7556 565.583,52.2709 \n",
       "  \n",
       "  \"/>\n",
       "</svg>\n"
      ]
     },
     "execution_count": 53,
     "metadata": {},
     "output_type": "execute_result"
    }
   ],
   "source": [
    "plot(x,y,xlabel=\"x\", ylabel=\"h(x)\", legend=false)"
   ]
  },
  {
   "cell_type": "markdown",
   "metadata": {},
   "source": [
    "## 6\n",
    "\n",
    "Implementen el método de Newton para una función arbitraria $f(x)$ en una variable, explotando el uso de los `Dual`. \n",
    "\n",
    "- Obtengan, usando su función para el método de Newton, las raices del polinomio de Wilkinson \n",
    "\n",
    "$$\n",
    "W_{6}(x) = (x-1)(x-2)(x-3)(x-4)(x-5)(x-6),\n",
    "$$ \n",
    "\n",
    "usando como iterados iniciales $x_0=2.2$ y $x_0=2.45$.\n",
    "    \n",
    "- Hagan lo mismo que en el inciso anterior para $g(x) = x \\sin(2x)$, con $x_0=0.7$."
   ]
  },
  {
   "cell_type": "code",
   "execution_count": 41,
   "metadata": {},
   "outputs": [
    {
     "data": {
      "text/plain": [
       "Raíz (generic function with 1 method)"
      ]
     },
     "execution_count": 41,
     "metadata": {},
     "output_type": "execute_result"
    }
   ],
   "source": [
    "function Raíz(f,Xo,iteraciones)\n",
    "    for i in 1:iteraciones\n",
    "        Xo = Xo - f(dual(Xo)).x/f(dual(Xo)).x´\n",
    "    end\n",
    "    return Xo\n",
    "end"
   ]
  },
  {
   "cell_type": "code",
   "execution_count": 42,
   "metadata": {},
   "outputs": [
    {
     "name": "stdout",
     "output_type": "stream",
     "text": [
      "Polinomio de Wilkinson f(x) = (x-1)(x-2)(x-3)(x-4)(x-5)(x-6)\n",
      "Raíz(2.2) = 2.0\n",
      "Raíz(2.45) = 6.0\n"
     ]
    }
   ],
   "source": [
    "#Raíces para el polinomio de Wilkinson\n",
    "r1 = Raíz(x->(x-1)*(x-2)*(x-3)*(x-4)*(x-5)*(x-6), 2.2, 5)\n",
    "r2 = Raíz(x->(x-1)*(x-2)*(x-3)*(x-4)*(x-5)*(x-6), 2.45, 10)\n",
    "println(\"Polinomio de Wilkinson f(x) = (x-1)(x-2)(x-3)(x-4)(x-5)(x-6)\")\n",
    "println(\"Raíz(2.2) = \", r1)\n",
    "println(\"Raíz(2.45) = \", r2)"
   ]
  },
  {
   "cell_type": "code",
   "execution_count": 43,
   "metadata": {},
   "outputs": [
    {
     "name": "stdout",
     "output_type": "stream",
     "text": [
      "g(x)=xsin(2x)\n",
      "Raíz(0.7) = 2.11254479017457e-31\n"
     ]
    }
   ],
   "source": [
    "#Raíces para xsin(2x)\n",
    "r = Raíz(x->x*sin(2*x), 0.7, 100)\n",
    "println(\"g(x)=xsin(2x)\")\n",
    "println(\"Raíz(0.7) = \", r)"
   ]
  },
  {
   "cell_type": "markdown",
   "metadata": {},
   "source": [
    "## 7\n",
    "\n",
    "Argumenten qué podrían hacer para extender la idea de los `Dual` y calcular derivadas aún más altas. Como caso concreto, piensen en querer obtener la derivada 18 de funciones como las que hemos usado arriba"
   ]
  },
  {
   "cell_type": "markdown",
   "metadata": {},
   "source": [
    "Para extender la utilidad de los números duales a derivadas de segundo orden, se tienen que definir nuevos elementos $\\epsilon_2$ y $\\epsilon_1\\epsilon_2$ no reales, tales que:\n",
    "$$\\epsilon_1\\neq\\epsilon_2\\neq\\epsilon_1\\epsilon_2\\neq0$$ y \n",
    "$$\\epsilon_1^2=\\epsilon_2^2=(\\epsilon_1\\epsilon_2)^2=0$$\n",
    ", tales que representan las derivadas de mayores órdenes.\n"
   ]
  },
  {
   "cell_type": "markdown",
   "metadata": {},
   "source": [
    "Entonces:\n",
    "\n",
    "Sea $a = a_0 + a_1\\epsilon_1 + a_2\\epsilon_2 + 0 \\epsilon_1\\epsilon_2$\n",
    "\n",
    "donde $a_1$ y $a_2$ son las derivadas de la variable $a_0$ (se toman inicialmente como $a_1=a_2=1$).\n",
    "\n",
    "Tendremos luego que una función $f(x)$ evaluada en $x=a$ es:\n",
    "\n",
    "$$f(a)=f(a_0) + f'(a_0)a_1\\epsilon_1 + f'(a_0)a_2\\epsilon_2 + f''(a_0)a_1a_2\\epsilon_1\\epsilon_2$$\n",
    "\n",
    "de donde, la primera derivada coresponde a la parte no real $\\epsilon_1$ o la parte $\\epsilon_2$ indistintamente, y la segunda derivada corresponde a la parte $\\epsilon_1\\epsilon_2$"
   ]
  },
  {
   "cell_type": "markdown",
   "metadata": {},
   "source": [
    "Para derivadas de mayor orden, digamos orden $18$, se toman en cuenta más partes no reales $\\epsilon_3,...,\\epsilon_{18}$ distintas todas\n",
    "\n",
    "y todos los productos posibles de éstos campos:\n",
    "\n",
    "$\\epsilon_1\\epsilon_3, ... , \\epsilon_1\\epsilon_{18}, \\epsilon_1\\epsilon_2\\epsilon_3, ... , ... , \\epsilon_1\\epsilon_2\\cdot\\cdot\\cdot\\epsilon_{18}$\n",
    "\n",
    "tomando en cuenta que $\\epsilon_i^2=0$ para todo $i=1,2,...,18$\n",
    "\n",
    "al evaluar funciones sobre un $a = a_0 + a_1\\epsilon_1 + a_2\\epsilon_2 + ... + a_{18}\\epsilon_{18} + 0\\epsilon_1\\epsilon_2 + ... + 0\\epsilon_1\\epsilon_2\\cdot\\cdot\\cdot\\epsilon_{18}$\n",
    "\n",
    "se tendrá que la primera derivada de $f(a_0)$ cooresponde al coeficiente de cualquier parte no real $\\epsilon_i$.\n",
    "\n",
    "La segunda derivada, corresponde al coeficiente de cualquier parte no real $\\epsilon_{i_1}\\epsilon_{i_2}$, con $i_1\\neq i_2$\n",
    "\n",
    "La tercera derivada, al coeficiente de cualquier parte no real $\\epsilon_{i_1}\\epsilon_{i_2}\\epsilon_{i_3}$, $i_1\\neq i_2 \\neq i_3$\n",
    "\n",
    "y así sucesivamente. La derivada de orden 18 corresponde al coeficiente de la parte no real $\\epsilon_1\\epsilon_2\\cdot\\cdot\\cdot\\epsilon_{17}\\epsilon_{18}$"
   ]
  },
  {
   "cell_type": "raw",
   "metadata": {},
   "source": []
  },
  {
   "cell_type": "markdown",
   "metadata": {},
   "source": []
  }
 ],
 "metadata": {
  "kernelspec": {
   "display_name": "Julia 1.0.0",
   "language": "julia",
   "name": "julia-1.0"
  },
  "language_info": {
   "file_extension": ".jl",
   "mimetype": "application/julia",
   "name": "julia",
   "version": "1.0.0"
  }
 },
 "nbformat": 4,
 "nbformat_minor": 2
}
