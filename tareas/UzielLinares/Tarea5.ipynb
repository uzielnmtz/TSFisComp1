{
 "cells": [
  {
   "cell_type": "markdown",
   "metadata": {},
   "source": [
    "# Tarea 5"
   ]
  },
  {
   "cell_type": "markdown",
   "metadata": {},
   "source": [
    "**Envío del PR inicial:** 15 de octubre\n",
    "\n",
    "**Aceptación del PR:** 21 de octubre"
   ]
  },
  {
   "cell_type": "markdown",
   "metadata": {},
   "source": [
    "NOTA: Esta tarea debe entregarse en equipo."
   ]
  },
  {
   "cell_type": "code",
   "execution_count": 1,
   "metadata": {},
   "outputs": [
    {
     "name": "stderr",
     "output_type": "stream",
     "text": [
      "┌ Warning: Deprecated syntax `(u.x′ >= 0) ? print(io, u.x, \"+\", u.x′, \"\\u03b5\"):` at /home/uzielnmtz/TSFisComp1/tareas/UzielLinares/AutoDiff.jl:18.\n",
      "│ Use `(u.x′ >= 0) ? print(io, u.x, \"+\", u.x′, \"\\u03b5\") :` instead.\n",
      "└ @ nothing /home/uzielnmtz/TSFisComp1/tareas/UzielLinares/AutoDiff.jl:18\n"
     ]
    },
    {
     "data": {
      "text/plain": [
       "Main.AutoDiff"
      ]
     },
     "execution_count": 1,
     "metadata": {},
     "output_type": "execute_result"
    }
   ],
   "source": [
    "include(\"Mapeos.jl\")\n",
    "include(\"AutoDiff.jl\")"
   ]
  },
  {
   "cell_type": "code",
   "execution_count": 2,
   "metadata": {},
   "outputs": [],
   "source": [
    "using .Mapeos\n",
    "using .AutoDiff"
   ]
  },
  {
   "cell_type": "code",
   "execution_count": 3,
   "metadata": {},
   "outputs": [
    {
     "data": {
      "text/plain": [
       "newton_dual (generic function with 1 method)"
      ]
     },
     "execution_count": 3,
     "metadata": {},
     "output_type": "execute_result"
    }
   ],
   "source": [
    "function newton_dual(f, guess; n_iter=1000)\n",
    "    xnn = dual(guess)\n",
    "    for i in 1:n_iter\n",
    "        xnn = xnn.x - (f(xnn).x / f(xnn).x′)\n",
    "        xnn = dual(xnn)\n",
    "    end\n",
    "    return xnn.x\n",
    "end"
   ]
  },
  {
   "cell_type": "code",
   "execution_count": 4,
   "metadata": {},
   "outputs": [
    {
     "data": {
      "text/plain": [
       "Qc (generic function with 1 method)"
      ]
     },
     "execution_count": 4,
     "metadata": {},
     "output_type": "execute_result"
    }
   ],
   "source": [
    "Qc(x, c) = x^2 + c"
   ]
  },
  {
   "cell_type": "code",
   "execution_count": 5,
   "metadata": {},
   "outputs": [
    {
     "data": {
      "text/plain": [
       "fₙ (generic function with 1 method)"
      ]
     },
     "execution_count": 5,
     "metadata": {},
     "output_type": "execute_result"
    }
   ],
   "source": [
    "fₙ(cn) = (cn[1] - cn[2]) / (cn[2] - cn[3])"
   ]
  },
  {
   "cell_type": "code",
   "execution_count": 6,
   "metadata": {},
   "outputs": [
    {
     "data": {
      "text/plain": [
       "compone (generic function with 1 method)"
      ]
     },
     "execution_count": 6,
     "metadata": {},
     "output_type": "execute_result"
    }
   ],
   "source": [
    "function compone(f, x, n)\n",
    "    n_comp = x\n",
    "    for i in 1:n\n",
    "        n_comp = f(n_comp)\n",
    "    end\n",
    "    return n_comp\n",
    "end"
   ]
  },
  {
   "cell_type": "markdown",
   "metadata": {},
   "source": [
    "## 1\n",
    "\n",
    "Llamemos $c_n$ el valor del parámetro $c$ donde ocurre la bifurcación de doblamiento de periodo para el mapeo $Q_c(x)=x^2+c$, donde la órbita de periodo $2^n$ nace. Como hemos visto en notebooks anteriores, tenemos que $c_0=1/4$ marca la aparición del atractor de periodo $2^0=1$, $c_1=-1/4$ corresponde a la aparición del atractor de periodo $2^1=2$, $c_2=-3/4$ a la aparición del atractor de periodo $2^2=4$, etc. \n",
    "\n",
    "A partir de estos valores y otros que calcularán (al menos deben encontrar $c_6$), definimos la secuencia: $\\{f_0, f_1, f_2, \\dots\\}$, donde\n",
    "\n",
    "\\begin{equation}\n",
    "f_n = \\frac{c_n-c_{n+1}}{c_{n+1}-c_{n+2}} .\n",
    "\\end{equation}\n",
    "\n",
    "La pregunta es, ¿a qué valor converge esta secuencia?, es decir, dar una estimación de $f_\\infty$.\n",
    "\n",
    "\n",
    "*Hint:* Para realizar este ejercicio deben calcular el atractor para varios valores de $c$, de tal manera que puedan aislar las órbitas de periodo $2^p$ y de ahí determinar varios valores $c_n$. Se requerir suficiente cuidado para obtener una buena aproximación de $c_n$. \n",
    "Una opción se basa en recordar/usar que las bifurcaciones de doblamiento de periodo ocurren cuando los puntos de la órbita de periodo $p$ se tornan en repulsores, es decir, $(Q_c^p)'(x)=-1$. Esta opción, entonces, involucra obtener los valores $c_n$ a partir de órbitas periódicas de periodo $2^n$ usando los polinomios $Q_c^{2^p}(x)$ y diferenciación automática."
   ]
  },
  {
   "cell_type": "code",
   "execution_count": 7,
   "metadata": {},
   "outputs": [
    {
     "name": "stderr",
     "output_type": "stream",
     "text": [
      "┌ Warning: Deprecated syntax `multiple line breaks between doc string and object`.\n",
      "│ Use `at most one line break` instead.\n",
      "└ @ nothing none:8\n"
     ]
    },
    {
     "data": {
      "text/plain": [
       "calcula_cₙ"
      ]
     },
     "execution_count": 7,
     "metadata": {},
     "output_type": "execute_result"
    }
   ],
   "source": [
    "\"\"\"\n",
    "    calcula_cₙ(Fλ, rango_c, n; ϵ=0.01, n_iter=1000)\n",
    "\n",
    "Calcula el valor aproximado de 'c_n'\n",
    "\n",
    "\"\"\"\n",
    "\n",
    "function calcula_cₙ(Fλ, rango_c, n; ϵ=0.01, n_iter=1000)\n",
    "    cn = []\n",
    "    deltas = []\n",
    "    ders = []\n",
    "    x0 = 0.\n",
    "    for c in rango_c\n",
    "        F = x -> Fλ(x, c)\n",
    "        m = Mapeo(F, x0, n_iter)\n",
    "        atr = dual(m.xnn[end])\n",
    "        der = compone(F, atr, Int(2^n)).x′\n",
    "        #println(der)\n",
    "        δ = abs(der + 1)\n",
    "        if δ < ϵ\n",
    "            push!(cn, c)\n",
    "            push!(ders, der)\n",
    "            push!(deltas, δ)\n",
    "        end\n",
    "        x0 = atr.x\n",
    "    end\n",
    "    if !isempty(deltas)\n",
    "        _, ind = findmin(deltas)\n",
    "        return cn[ind]\n",
    "    else\n",
    "        return Nothing\n",
    "    end\n",
    "end"
   ]
  },
  {
   "cell_type": "markdown",
   "metadata": {},
   "source": [
    "El anterior codigo busca la bifuracion de periodo $2^n$ en el intervalo `rango_c`, entonces busquemos uno a uno estos puntos."
   ]
  },
  {
   "cell_type": "markdown",
   "metadata": {},
   "source": [
    "Por completez, encontremos veamos que estyo encuentra al primer punto de bifuracion de doblamiento de periodo $c_n=-3/4$."
   ]
  },
  {
   "cell_type": "code",
   "execution_count": 8,
   "metadata": {},
   "outputs": [
    {
     "data": {
      "text/plain": [
       "-0.5:-0.01:-1.5"
      ]
     },
     "execution_count": 8,
     "metadata": {},
     "output_type": "execute_result"
    }
   ],
   "source": [
    "rango_c = reverse(-1.5:1e-2:-1/2.)"
   ]
  },
  {
   "cell_type": "code",
   "execution_count": 9,
   "metadata": {},
   "outputs": [
    {
     "data": {
      "text/plain": [
       "-0.75"
      ]
     },
     "execution_count": 9,
     "metadata": {},
     "output_type": "execute_result"
    }
   ],
   "source": [
    "c_1 = calcula_cₙ(Qc, rango_c, 0)"
   ]
  },
  {
   "cell_type": "markdown",
   "metadata": {},
   "source": [
    "Continuemos la busqueda tomando intervalos cada vez mas chicos en el cual uno de los extremos es la $c_n$ encontrada previamente."
   ]
  },
  {
   "cell_type": "code",
   "execution_count": 10,
   "metadata": {},
   "outputs": [
    {
     "data": {
      "text/plain": [
       "-1.25"
      ]
     },
     "execution_count": 10,
     "metadata": {},
     "output_type": "execute_result"
    }
   ],
   "source": [
    "rango_c = reverse(-1.5:1e-3:c_1)\n",
    "c_2 = calcula_cₙ(Qc, rango_c, 1)"
   ]
  },
  {
   "cell_type": "code",
   "execution_count": 11,
   "metadata": {},
   "outputs": [
    {
     "data": {
      "text/plain": [
       "-1.3681"
      ]
     },
     "execution_count": 11,
     "metadata": {},
     "output_type": "execute_result"
    }
   ],
   "source": [
    "rango_c = reverse(-1.4:1e-4:c_2)\n",
    "c_3 = calcula_cₙ(Qc, rango_c, 2)"
   ]
  },
  {
   "cell_type": "code",
   "execution_count": 12,
   "metadata": {},
   "outputs": [
    {
     "data": {
      "text/plain": [
       "-1.394"
      ]
     },
     "execution_count": 12,
     "metadata": {},
     "output_type": "execute_result"
    }
   ],
   "source": [
    "rango_c = reverse(-1.4:1e-4:c_3)\n",
    "c_4 = calcula_cₙ(Qc, rango_c, 3)"
   ]
  },
  {
   "cell_type": "code",
   "execution_count": 13,
   "metadata": {},
   "outputs": [
    {
     "data": {
      "text/plain": [
       "-1.3996"
      ]
     },
     "execution_count": 13,
     "metadata": {},
     "output_type": "execute_result"
    }
   ],
   "source": [
    "rango_c = reverse(-1.5:1e-4:c_4)\n",
    "c_5 = calcula_cₙ(Qc, rango_c, 4)"
   ]
  },
  {
   "cell_type": "code",
   "execution_count": 14,
   "metadata": {},
   "outputs": [
    {
     "data": {
      "text/plain": [
       "-1.40083"
      ]
     },
     "execution_count": 14,
     "metadata": {},
     "output_type": "execute_result"
    }
   ],
   "source": [
    "rango_c = reverse(-1.5:1e-5:c_5)\n",
    "c_6 = calcula_cₙ(Qc, rango_c, 5)"
   ]
  },
  {
   "cell_type": "code",
   "execution_count": 15,
   "metadata": {},
   "outputs": [
    {
     "data": {
      "text/plain": [
       "-1.446791"
      ]
     },
     "execution_count": 15,
     "metadata": {},
     "output_type": "execute_result"
    }
   ],
   "source": [
    "rango_c = reverse(-1.5:1e-6:c_6)\n",
    "c_7 = calcula_cₙ(Qc, rango_c, 6)"
   ]
  },
  {
   "cell_type": "code",
   "execution_count": 16,
   "metadata": {},
   "outputs": [
    {
     "data": {
      "text/plain": [
       "-1.40108525"
      ]
     },
     "execution_count": 16,
     "metadata": {},
     "output_type": "execute_result"
    }
   ],
   "source": [
    "# Busquemos este ultimo con mas fineza\n",
    "rango_c = reverse((c_6-1e-3):1e-8:c_6)\n",
    "c_7 = calcula_cₙ(Qc, rango_c, 6)"
   ]
  },
  {
   "cell_type": "markdown",
   "metadata": {},
   "source": [
    "Entonces, los valores encontrados son los siguientes."
   ]
  },
  {
   "cell_type": "code",
   "execution_count": 17,
   "metadata": {},
   "outputs": [
    {
     "data": {
      "text/plain": [
       "7-element Array{Float64,1}:\n",
       " -0.75      \n",
       " -1.25      \n",
       " -1.3681    \n",
       " -1.394     \n",
       " -1.3996    \n",
       " -1.40083   \n",
       " -1.40108525"
      ]
     },
     "execution_count": 17,
     "metadata": {},
     "output_type": "execute_result"
    }
   ],
   "source": [
    "cn = [c_1, c_2, c_3, c_4, c_5, c_6, c_7]"
   ]
  },
  {
   "cell_type": "code",
   "execution_count": 18,
   "metadata": {},
   "outputs": [
    {
     "name": "stdout",
     "output_type": "stream",
     "text": [
      "1  -0.75\n",
      "2  -1.25\n",
      "3  -1.3681\n",
      "4  -1.394\n",
      "5  -1.3996\n",
      "6  -1.40083\n",
      "7  -1.40108525\n"
     ]
    }
   ],
   "source": [
    "for (i, c) in enumerate(cn)\n",
    "    println(i, \"  \", c)\n",
    "end"
   ]
  },
  {
   "cell_type": "code",
   "execution_count": 84,
   "metadata": {},
   "outputs": [
    {
     "data": {
      "text/plain": [
       "4.818805093047623"
      ]
     },
     "execution_count": 84,
     "metadata": {},
     "output_type": "execute_result"
    }
   ],
   "source": [
    "fₙ(cn[end-2:end])"
   ]
  },
  {
   "cell_type": "markdown",
   "metadata": {},
   "source": [
    "## 2\n",
    "\n",
    "Repitan el ejercicio anterior para el mapeo $S_c(x) = c \\sin(x)$. \n",
    "\n",
    "- ¿Cómo se comparan los valores obtenidos de $f_n$? \n",
    "\n",
    "- ¿Qué interpretación le pueden dar a este resultado, en comparación del ejercicio anterior?"
   ]
  },
  {
   "cell_type": "code",
   "execution_count": 20,
   "metadata": {},
   "outputs": [
    {
     "data": {
      "text/plain": [
       "Sc (generic function with 1 method)"
      ]
     },
     "execution_count": 20,
     "metadata": {},
     "output_type": "execute_result"
    }
   ],
   "source": [
    "Sc(x, c) = c * sin(x)"
   ]
  },
  {
   "cell_type": "markdown",
   "metadata": {},
   "source": [
    "## 3\n",
    "\n",
    "Como se ve en la Fig. 1 del diagrama de bifurcaciones de $Q_c$, $x=0$ pertenece a un ciclo de periodo $2^n$ para ciertos valores $C_n$ del parámetro. Dichos valores son *especiales*, ya que el hecho de que $x=0$ pertenezca a un ciclo de periodo $2^n$ define los llamados *ciclos superestable*, donde tenemos $(Q^{2^p}_{C_n})'(0)=0$.\n",
    "\n",
    "- ¿A qué converge la secuencia $f_n$, definida ahora a partir de los valores $C_n$.\n",
    "\n",
    "- De los $2^p$ puntos del ciclo de periodo $2^p$, es decir, $\\{0, p_1, \\dots p_{2^{n-1}}\\,\\}$ hay uno (distinto del 0) cuya distancia a 0 es la menor; a esa distancia la identificaremos como $d_n$. Calcular numéricamente a qué converge la secuencia $d_n/d_{n+1}$."
   ]
  },
  {
   "cell_type": "markdown",
   "metadata": {},
   "source": [
    "Para esto primero generemos distintas trayectorias y veamos quienes tienen al $0$ como punto fijo.\n",
    "Puesto que se van a tomar los ultimos puntos en las trayectorias se asume que se ha alcanzado su comportamiento \"estable\", por lo cual bastara encontrar a las trayectorias que tengan 0 en alguno de sus puntos."
   ]
  },
  {
   "cell_type": "code",
   "execution_count": 8,
   "metadata": {},
   "outputs": [],
   "source": [
    "rango_c = -5/4:0.0001:1\n",
    "Fs = [x -> Qc(x, c) for c in rango_c];\n",
    "\n",
    "x₀ = 0.0\n",
    "mapeos = [Mapeo(F, x₀, 1000) for F in Fs];\n",
    "\n",
    "# se va a tomar los últimos 101 puntos de cada mapeo\n",
    "ps = [m.xnn[end-100:end] for m in mapeos];\n",
    "\n",
    "\n",
    "Cn1 = []\n",
    "δ = 0.00001\n",
    "for (i, c) in enumerate(rango_c)\n",
    "    if any(abs.(ps[i]) .< δ)\n",
    "        push!(Cn1, c)\n",
    "    end\n",
    "end"
   ]
  },
  {
   "cell_type": "code",
   "execution_count": 9,
   "metadata": {},
   "outputs": [
    {
     "data": {
      "text/plain": [
       "2-element Array{Any,1}:\n",
       " -1.0\n",
       "  0.0"
      ]
     },
     "execution_count": 9,
     "metadata": {},
     "output_type": "execute_result"
    }
   ],
   "source": [
    "Cn1"
   ]
  },
  {
   "cell_type": "code",
   "execution_count": 10,
   "metadata": {},
   "outputs": [],
   "source": [
    "rango_c = -1.5:0.00001:-5/4\n",
    "Fs = [x -> Qc(x, c) for c in rango_c];\n",
    "\n",
    "x₀ = 0.0\n",
    "mapeos = [Mapeo(F, x₀, 1_000) for F in Fs];\n",
    "\n",
    "# se va a tomar los últimos 101 puntos de cada mapeo\n",
    "ps = [m.xnn[end-100:end] for m in mapeos];\n",
    "\n",
    "\n",
    "\n",
    "\n",
    "Cn2 = []\n",
    "δ = 0.00003\n",
    "for (i, c) in enumerate(rango_c)\n",
    "    if any(abs.(ps[i]) .< δ)\n",
    "        push!(Cn2, c)\n",
    "    end\n",
    "end\n"
   ]
  },
  {
   "cell_type": "code",
   "execution_count": 11,
   "metadata": {
    "scrolled": true
   },
   "outputs": [
    {
     "data": {
      "text/plain": [
       "38-element Array{Any,1}:\n",
       " -1.49809\n",
       " -1.49697\n",
       " -1.4964 \n",
       " -1.49597\n",
       " -1.48719\n",
       " -1.4857 \n",
       " -1.48534\n",
       " -1.48483\n",
       " -1.48465\n",
       " -1.48351\n",
       " -1.46685\n",
       " -1.45818\n",
       " -1.45779\n",
       "  ⋮      \n",
       " -1.40787\n",
       " -1.40643\n",
       " -1.40332\n",
       " -1.40307\n",
       " -1.40241\n",
       " -1.40132\n",
       " -1.39695\n",
       " -1.38155\n",
       " -1.38154\n",
       " -1.31071\n",
       " -1.3107 \n",
       " -1.31069"
      ]
     },
     "execution_count": 11,
     "metadata": {},
     "output_type": "execute_result"
    }
   ],
   "source": [
    "Cn2"
   ]
  },
  {
   "cell_type": "code",
   "execution_count": 12,
   "metadata": {},
   "outputs": [
    {
     "data": {
      "text/plain": [
       "40-element Array{Any,1}:\n",
       "  0.0    \n",
       " -1.0    \n",
       " -1.31069\n",
       " -1.3107 \n",
       " -1.31071\n",
       " -1.38154\n",
       " -1.38155\n",
       " -1.39695\n",
       " -1.40132\n",
       " -1.40241\n",
       " -1.40307\n",
       " -1.40332\n",
       " -1.40643\n",
       "  ⋮      \n",
       " -1.45818\n",
       " -1.46685\n",
       " -1.48351\n",
       " -1.48465\n",
       " -1.48483\n",
       " -1.48534\n",
       " -1.4857 \n",
       " -1.48719\n",
       " -1.49597\n",
       " -1.4964 \n",
       " -1.49697\n",
       " -1.49809"
      ]
     },
     "execution_count": 12,
     "metadata": {},
     "output_type": "execute_result"
    }
   ],
   "source": [
    "Cn = reverse(vcat(Cn2, Cn1))"
   ]
  },
  {
   "cell_type": "markdown",
   "metadata": {},
   "source": [
    "Esta ultima lista contiene los valores de $C_n$, notemos que por errores de precision hay varios puntos que se refieren al mismo punto, por eso creemos la siguiente lista en la cual se incluyen los primeros 5 puntos de interes."
   ]
  },
  {
   "cell_type": "code",
   "execution_count": 81,
   "metadata": {},
   "outputs": [
    {
     "data": {
      "text/plain": [
       "5-element Array{Float64,1}:\n",
       "  0.0    \n",
       " -1.0    \n",
       " -1.31069\n",
       " -1.38154\n",
       " -1.39695"
      ]
     },
     "execution_count": 81,
     "metadata": {},
     "output_type": "execute_result"
    }
   ],
   "source": [
    "Cn = [0.0, -1.0, -1.31069, -1.38154, -1.39695]"
   ]
  },
  {
   "cell_type": "markdown",
   "metadata": {},
   "source": [
    "Entonces"
   ]
  },
  {
   "cell_type": "code",
   "execution_count": 82,
   "metadata": {
    "scrolled": true
   },
   "outputs": [
    {
     "data": {
      "text/plain": [
       "4.5976638546398725"
      ]
     },
     "execution_count": 82,
     "metadata": {},
     "output_type": "execute_result"
    }
   ],
   "source": [
    "fₙ(Cn[end-2:end])"
   ]
  },
  {
   "cell_type": "markdown",
   "metadata": {},
   "source": [
    "Del primer problema tenemos que las primeras bifurcaciones se dan en las siguientes $c$."
   ]
  },
  {
   "cell_type": "code",
   "execution_count": 83,
   "metadata": {},
   "outputs": [
    {
     "name": "stdout",
     "output_type": "stream",
     "text": [
      "Periodo\tC\n",
      "2\t-0.75\n",
      "4\t-1.25\n",
      "8\t-1.3681\n",
      "16\t-1.394\n",
      "32\t-1.3996\n",
      "64\t-1.40083\n",
      "128\t-1.40108525\n"
     ]
    }
   ],
   "source": [
    "println(\"Periodo\\tC\")\n",
    "for (i, c) in enumerate(cn)\n",
    "    println(2^(i),\"\\t\",c)\n",
    "end"
   ]
  },
  {
   "cell_type": "markdown",
   "metadata": {},
   "source": [
    "Generemos trayectorias para estas $c$"
   ]
  },
  {
   "cell_type": "code",
   "execution_count": 107,
   "metadata": {},
   "outputs": [],
   "source": [
    "Fs = [x -> Qc(x, c-1e-4) for c in cn[1:end]] # el valor sumado a la c es para garantizar que nos encontramos en ese periodo\n",
    "mapeos = [Mapeo(F, 0, 100_000) for F in Fs];\n",
    "ps = [m.xnn[end-100:end] for m in mapeos];"
   ]
  },
  {
   "cell_type": "code",
   "execution_count": 108,
   "metadata": {},
   "outputs": [],
   "source": [
    "dd = []\n",
    "δ = 0.00001\n",
    "for p in ps\n",
    "    aux = [val for val in p if δ < abs(val)]\n",
    "    d = minimum(abs.(aux))\n",
    "    push!(dd, d)\n",
    "end"
   ]
  },
  {
   "cell_type": "code",
   "execution_count": 109,
   "metadata": {},
   "outputs": [
    {
     "data": {
      "text/plain": [
       "7-element Array{Any,1}:\n",
       " 0.4899999999894546   \n",
       " 0.19883749258369887  \n",
       " 0.07652091680610718  \n",
       " 0.02900717902772909  \n",
       " 0.009001045486740189 \n",
       " 0.0006989396045056218\n",
       " 0.0035559287663733397"
      ]
     },
     "execution_count": 109,
     "metadata": {},
     "output_type": "execute_result"
    }
   ],
   "source": [
    "dd"
   ]
  },
  {
   "cell_type": "code",
   "execution_count": 110,
   "metadata": {},
   "outputs": [
    {
     "name": "stdout",
     "output_type": "stream",
     "text": [
      "n=1\t2.4643239744294876\n",
      "n=2\t2.5984724292773964\n",
      "n=3\t2.637999259871422\n",
      "n=4\t3.2226455327284773\n",
      "n=5\t12.878144876490243\n",
      "n=6\t0.19655613214616335\n"
     ]
    }
   ],
   "source": [
    "for i in 1:length(dd)-1\n",
    "    println(\"n=$i\", \"\\t\", dd[i] / dd[i+1])\n",
    "end"
   ]
  },
  {
   "cell_type": "code",
   "execution_count": null,
   "metadata": {},
   "outputs": [],
   "source": []
  }
 ],
 "metadata": {
  "kernelspec": {
   "display_name": "Julia 0.7.0",
   "language": "julia",
   "name": "julia-0.7"
  },
  "language_info": {
   "file_extension": ".jl",
   "mimetype": "application/julia",
   "name": "julia",
   "version": "0.7.0"
  }
 },
 "nbformat": 4,
 "nbformat_minor": 1
}
