{
 "cells": [
  {
   "cell_type": "markdown",
   "metadata": {},
   "source": [
    "# Tarea 2"
   ]
  },
  {
   "cell_type": "markdown",
   "metadata": {},
   "source": [
    "**Envío del PR inicial: 07.09.2018**\n",
    "\n",
    "**Aceptación del PR: 14.09.2018**"
   ]
  },
  {
   "cell_type": "markdown",
   "metadata": {},
   "source": [
    "## 1\n",
    "\n",
    "Extiendan los operadores `+`, `-`, `*` y `/` para que funcionen cuando una de las dos entradas es un `Dual` y la otra es un `Real` (número cualquiera), sin importar el orden."
   ]
  },
  {
   "cell_type": "markdown",
   "metadata": {},
   "source": [
    "Primero hay que definir los números Duales en este notebook."
   ]
  },
  {
   "cell_type": "code",
   "execution_count": 66,
   "metadata": {
    "ExecuteTime": {
     "end_time": "2018-09-07T20:31:26.901000-05:00",
     "start_time": "2018-09-08T01:31:17.842Z"
    }
   },
   "outputs": [],
   "source": [
    "using Plots"
   ]
  },
  {
   "cell_type": "code",
   "execution_count": 1,
   "metadata": {
    "ExecuteTime": {
     "end_time": "2018-09-07T18:50:38.622000-05:00",
     "start_time": "2018-09-07T23:50:31.917Z"
    }
   },
   "outputs": [],
   "source": [
    "# Defino un tipo parametrico\n",
    "struct Dual{T, K}\n",
    "    x::T\n",
    "    x′::K\n",
    "end"
   ]
  },
  {
   "cell_type": "code",
   "execution_count": 2,
   "metadata": {
    "ExecuteTime": {
     "end_time": "2018-09-07T18:50:46.499000-05:00",
     "start_time": "2018-09-07T23:50:45.542Z"
    }
   },
   "outputs": [
    {
     "data": {
      "text/plain": [
       "dual (generic function with 1 method)"
      ]
     },
     "execution_count": 2,
     "metadata": {},
     "output_type": "execute_result"
    }
   ],
   "source": [
    "Dual(c::Real) = Dual(c, 0.)\n",
    "dual(x0::Real) = Dual(x0, 1.)"
   ]
  },
  {
   "cell_type": "code",
   "execution_count": 3,
   "metadata": {
    "ExecuteTime": {
     "end_time": "2018-09-07T18:50:47.489000-05:00",
     "start_time": "2018-09-07T23:50:47.156Z"
    }
   },
   "outputs": [
    {
     "data": {
      "text/plain": [
       "Dual{Float64,Float64}(2.0, 1.0)"
      ]
     },
     "execution_count": 3,
     "metadata": {},
     "output_type": "execute_result"
    }
   ],
   "source": [
    "dual(2.)"
   ]
  },
  {
   "cell_type": "code",
   "execution_count": 4,
   "metadata": {
    "ExecuteTime": {
     "end_time": "2018-09-07T18:50:51.780000-05:00",
     "start_time": "2018-09-07T23:50:51.769Z"
    }
   },
   "outputs": [],
   "source": [
    "import Base: +, -, *, /, ^"
   ]
  },
  {
   "cell_type": "code",
   "execution_count": 5,
   "metadata": {
    "ExecuteTime": {
     "end_time": "2018-09-07T18:50:52.485000-05:00",
     "start_time": "2018-09-07T23:50:52.361Z"
    }
   },
   "outputs": [
    {
     "data": {
      "text/plain": [
       "* (generic function with 183 methods)"
      ]
     },
     "execution_count": 5,
     "metadata": {},
     "output_type": "execute_result"
    }
   ],
   "source": [
    "+(u::Dual, v::Dual) = Dual(u.x + v.x, u.x′ + v.x′)\n",
    "-(u::Dual, v::Dual) = Dual(u.x - v.x, u.x′ - v.x′)\n",
    "*(u::Dual, v::Dual) = Dual( u.x * v.x, u.x * v.x′ + u.x′ * v.x)"
   ]
  },
  {
   "cell_type": "code",
   "execution_count": 6,
   "metadata": {
    "ExecuteTime": {
     "end_time": "2018-09-07T18:50:53.094000-05:00",
     "start_time": "2018-09-07T23:50:52.925Z"
    }
   },
   "outputs": [
    {
     "data": {
      "text/plain": [
       "/ (generic function with 74 methods)"
      ]
     },
     "execution_count": 6,
     "metadata": {},
     "output_type": "execute_result"
    }
   ],
   "source": [
    "function /(u::Dual, v::Dual)\n",
    "    y = u.x / v.x\n",
    "    Dual( y, (u.x′ - y * v.x′)/v.x )\n",
    "end"
   ]
  },
  {
   "cell_type": "code",
   "execution_count": 7,
   "metadata": {
    "ExecuteTime": {
     "end_time": "2018-09-07T18:50:55.114000-05:00",
     "start_time": "2018-09-07T23:50:54.991Z"
    },
    "scrolled": true
   },
   "outputs": [
    {
     "data": {
      "text/plain": [
       "^ (generic function with 53 methods)"
      ]
     },
     "execution_count": 7,
     "metadata": {},
     "output_type": "execute_result"
    }
   ],
   "source": [
    "function ^(u::Dual, n::Int)\n",
    "    y = u.x^(n-1)\n",
    "    Dual(u.x^n, n * y * u.x′)\n",
    "end"
   ]
  },
  {
   "cell_type": "code",
   "execution_count": 8,
   "metadata": {
    "ExecuteTime": {
     "end_time": "2018-09-07T18:50:56.039000-05:00",
     "start_time": "2018-09-07T23:50:55.898Z"
    }
   },
   "outputs": [
    {
     "data": {
      "text/plain": [
       "+ (generic function with 183 methods)"
      ]
     },
     "execution_count": 8,
     "metadata": {},
     "output_type": "execute_result"
    }
   ],
   "source": [
    "+(a::Real, u::Dual) = Dual(a + u.x, u.x′)\n",
    "+(u::Dual, a::Real) = Dual(a + u.x, u.x′)"
   ]
  },
  {
   "cell_type": "code",
   "execution_count": 25,
   "metadata": {
    "ExecuteTime": {
     "end_time": "2018-09-07T18:53:07.015000-05:00",
     "start_time": "2018-09-07T23:53:07.008Z"
    }
   },
   "outputs": [
    {
     "data": {
      "text/plain": [
       "- (generic function with 197 methods)"
      ]
     },
     "execution_count": 25,
     "metadata": {},
     "output_type": "execute_result"
    }
   ],
   "source": [
    "-(a::Real, u::Dual) = Dual(a - u.x, u.x′)\n",
    "-(u::Dual, a::Real) = Dual(u.x - a, u.x′)"
   ]
  },
  {
   "cell_type": "code",
   "execution_count": 10,
   "metadata": {
    "ExecuteTime": {
     "end_time": "2018-09-07T18:50:57.486000-05:00",
     "start_time": "2018-09-07T23:50:57.478Z"
    }
   },
   "outputs": [
    {
     "data": {
      "text/plain": [
       "* (generic function with 185 methods)"
      ]
     },
     "execution_count": 10,
     "metadata": {},
     "output_type": "execute_result"
    }
   ],
   "source": [
    "*(a::Real, u::Dual) = Dual(a * u.x, u.x′ * a)\n",
    "*(u::Dual, a::Real) = Dual(a * u.x, u.x′ * a)"
   ]
  },
  {
   "cell_type": "code",
   "execution_count": 11,
   "metadata": {
    "ExecuteTime": {
     "end_time": "2018-09-07T18:50:58.622000-05:00",
     "start_time": "2018-09-07T23:50:58.615Z"
    }
   },
   "outputs": [
    {
     "data": {
      "text/plain": [
       "/ (generic function with 76 methods)"
      ]
     },
     "execution_count": 11,
     "metadata": {},
     "output_type": "execute_result"
    }
   ],
   "source": [
    "/(a::Real, u::Dual) = Dual(a / u.x, -((a / u.x)*u.x′) / u.x)\n",
    "/(u::Dual, a::Real) = Dual(u.x / a, u.x′ / a)"
   ]
  },
  {
   "cell_type": "markdown",
   "metadata": {},
   "source": [
    "## 2\n",
    "\n",
    "Construyan 2 tests para cada una de las operaciones aritméticas definidas para los `Dual`es, incluyendo las que definieron en el ejercicio 1."
   ]
  },
  {
   "cell_type": "code",
   "execution_count": 12,
   "metadata": {
    "ExecuteTime": {
     "end_time": "2018-09-07T18:51:01.522000-05:00",
     "start_time": "2018-09-07T23:51:01.520Z"
    }
   },
   "outputs": [],
   "source": [
    "using Base.Test"
   ]
  },
  {
   "cell_type": "code",
   "execution_count": 13,
   "metadata": {
    "ExecuteTime": {
     "end_time": "2018-09-07T18:51:02.391000-05:00",
     "start_time": "2018-09-07T23:51:01.885Z"
    }
   },
   "outputs": [
    {
     "data": {
      "text/plain": [
       "\u001b[1m\u001b[32mTest Passed\u001b[39m\u001b[22m"
      ]
     },
     "execution_count": 13,
     "metadata": {},
     "output_type": "execute_result"
    }
   ],
   "source": [
    "@test Dual(1., 1.) + Dual(-1, -1) == Dual(0., 0.)"
   ]
  },
  {
   "cell_type": "code",
   "execution_count": 14,
   "metadata": {
    "ExecuteTime": {
     "end_time": "2018-09-07T18:51:02.406000-05:00",
     "start_time": "2018-09-07T23:51:02.218Z"
    }
   },
   "outputs": [
    {
     "data": {
      "text/plain": [
       "\u001b[1m\u001b[32mTest Passed\u001b[39m\u001b[22m"
      ]
     },
     "execution_count": 14,
     "metadata": {},
     "output_type": "execute_result"
    }
   ],
   "source": [
    "@test Dual(2, 2) + Dual(2, 2) == Dual(4, 4)"
   ]
  },
  {
   "cell_type": "code",
   "execution_count": 15,
   "metadata": {
    "ExecuteTime": {
     "end_time": "2018-09-07T18:51:02.588000-05:00",
     "start_time": "2018-09-07T23:51:02.579Z"
    }
   },
   "outputs": [
    {
     "data": {
      "text/plain": [
       "\u001b[1m\u001b[32mTest Passed\u001b[39m\u001b[22m"
      ]
     },
     "execution_count": 15,
     "metadata": {},
     "output_type": "execute_result"
    }
   ],
   "source": [
    "@test Dual(2, 1) - Dual(0, 1) == Dual(2, 0)"
   ]
  },
  {
   "cell_type": "code",
   "execution_count": 16,
   "metadata": {
    "ExecuteTime": {
     "end_time": "2018-09-07T18:51:04.096000-05:00",
     "start_time": "2018-09-07T23:51:04.086Z"
    }
   },
   "outputs": [
    {
     "data": {
      "text/plain": [
       "\u001b[1m\u001b[32mTest Passed\u001b[39m\u001b[22m"
      ]
     },
     "execution_count": 16,
     "metadata": {},
     "output_type": "execute_result"
    }
   ],
   "source": [
    "@test Dual(5., 5.) - Dual(1, 6) == Dual(4., -1.)"
   ]
  },
  {
   "cell_type": "code",
   "execution_count": 29,
   "metadata": {
    "ExecuteTime": {
     "end_time": "2018-09-07T18:55:21.319000-05:00",
     "start_time": "2018-09-07T23:55:21.316Z"
    }
   },
   "outputs": [
    {
     "data": {
      "text/plain": [
       "-1"
      ]
     },
     "execution_count": 29,
     "metadata": {},
     "output_type": "execute_result"
    }
   ],
   "source": [
    "sign(-5)"
   ]
  },
  {
   "cell_type": "markdown",
   "metadata": {},
   "source": [
    "## 3\n",
    "\n",
    "Sobrecarguen la función `show` (que está en Base) para que cuando se impriman los duales aparezcan con la notación $\\varepsilon$ que usamos al principio de este notebook, por ejemplo, el resultado de `Dual(1,2)` debe ser parecido a `1.0 + 2.0 ε`."
   ]
  },
  {
   "cell_type": "code",
   "execution_count": 17,
   "metadata": {
    "ExecuteTime": {
     "end_time": "2018-09-07T18:51:06.536000-05:00",
     "start_time": "2018-09-07T23:51:06.533Z"
    }
   },
   "outputs": [],
   "source": [
    "import Base:show"
   ]
  },
  {
   "cell_type": "code",
   "execution_count": 35,
   "metadata": {
    "ExecuteTime": {
     "end_time": "2018-09-07T19:03:23.640000-05:00",
     "start_time": "2018-09-08T00:03:23.635Z"
    }
   },
   "outputs": [
    {
     "data": {
      "text/plain": [
       "show (generic function with 271 methods)"
      ]
     },
     "execution_count": 35,
     "metadata": {},
     "output_type": "execute_result"
    }
   ],
   "source": [
    "function show(io::IO, u::Dual)\n",
    "    u.x′ > 0 ? print(u.x,\"+\",u.x′,\"ε\"): print(u.x, u.x′,\"ε\")\n",
    "end"
   ]
  },
  {
   "cell_type": "markdown",
   "metadata": {},
   "source": [
    "## 4\n",
    "\n",
    "Obtengan la derivada de \n",
    "$$h(x) = \\frac{3x^2-8x+5}{7x^3-1}$$\n",
    "en $x_0=1$."
   ]
  },
  {
   "cell_type": "code",
   "execution_count": 20,
   "metadata": {
    "ExecuteTime": {
     "end_time": "2018-09-07T18:51:10.755000-05:00",
     "start_time": "2018-09-07T23:51:10.619Z"
    }
   },
   "outputs": [
    {
     "data": {
      "text/plain": [
       "h (generic function with 1 method)"
      ]
     },
     "execution_count": 20,
     "metadata": {},
     "output_type": "execute_result"
    }
   ],
   "source": [
    "# Defino las las funciones y el cociente de ellas\n",
    "f(x) = 3*x^2 - 8*x + 5\n",
    "g(x) = (7*x^3) - 1\n",
    "h(x) = f(x) / g(x)"
   ]
  },
  {
   "cell_type": "code",
   "execution_count": 43,
   "metadata": {
    "ExecuteTime": {
     "end_time": "2018-09-07T19:09:02.976000-05:00",
     "start_time": "2018-09-08T00:09:02.970Z"
    }
   },
   "outputs": [
    {
     "data": {
      "text/plain": []
     },
     "execution_count": 43,
     "metadata": {},
     "output_type": "execute_result"
    },
    {
     "name": "stdout",
     "output_type": "stream",
     "text": [
      "1.0+1.0ε"
     ]
    }
   ],
   "source": [
    "x = dual(1.)"
   ]
  },
  {
   "cell_type": "code",
   "execution_count": 44,
   "metadata": {
    "ExecuteTime": {
     "end_time": "2018-09-07T19:09:03.348000-05:00",
     "start_time": "2018-09-08T00:09:03.342Z"
    }
   },
   "outputs": [
    {
     "data": {
      "text/plain": []
     },
     "execution_count": 44,
     "metadata": {},
     "output_type": "execute_result"
    },
    {
     "name": "stdout",
     "output_type": "stream",
     "text": [
      "0.0-0.3333333333333333ε"
     ]
    }
   ],
   "source": [
    "h(x)"
   ]
  },
  {
   "cell_type": "code",
   "execution_count": 45,
   "metadata": {
    "ExecuteTime": {
     "end_time": "2018-09-07T19:10:21.850000-05:00",
     "start_time": "2018-09-08T00:10:21.717Z"
    }
   },
   "outputs": [
    {
     "data": {
      "text/plain": [
       "h′ (generic function with 1 method)"
      ]
     },
     "execution_count": 45,
     "metadata": {},
     "output_type": "execute_result"
    }
   ],
   "source": [
    "# la derivada es lo siguiente\n",
    "h′(x) = ((6*x - 8) * (7*x^3 - 1) - (3*x^2 - 8*x + 5) * (21*x^2 - 1)) / (7x^3 - 1)^2"
   ]
  },
  {
   "cell_type": "markdown",
   "metadata": {},
   "source": [
    "Entonces la componente $\\varepsilon$ de $h(x_D)$ con $x_D$ un dual tiene que ser igual a $h'(x)$, veamos que esto es cierto"
   ]
  },
  {
   "cell_type": "code",
   "execution_count": 46,
   "metadata": {
    "ExecuteTime": {
     "end_time": "2018-09-07T19:25:19.282000-05:00",
     "start_time": "2018-09-08T00:25:19.256Z"
    }
   },
   "outputs": [
    {
     "data": {
      "text/plain": [
       "\u001b[1m\u001b[32mTest Passed\u001b[39m\u001b[22m"
      ]
     },
     "execution_count": 46,
     "metadata": {},
     "output_type": "execute_result"
    }
   ],
   "source": [
    "@test h(x) == Dual(h(1.), h′(1.))"
   ]
  },
  {
   "cell_type": "markdown",
   "metadata": {},
   "source": [
    "Éxito!!!"
   ]
  },
  {
   "cell_type": "markdown",
   "metadata": {},
   "source": [
    "## 5\n",
    "\n",
    "- Recordando la regla de la cadena(!!!), extiendan el usar los `Dual` a las funciones `sqrt`, `exp`, `log`, `sin`, `cos`, `sinh` y `cosh`. \n",
    "\n",
    "- Muestren que las cosas dan los resultados que esperan usando pruebas como hicieron en el ejercicio 2.\n",
    "\n",
    "- Calculen la derivada de $h(x) = \\sin\\Big(x^3 - \\frac{2}{x^6}\\Big)$ en $x_0 = 2$. ¿Qué tan preciso es el resultado?(Pueden usar cualquier otra manera de obtener el resultado correcto, sólo tienen que ser claros en la explicación.)\n",
    "\n",
    "- Dibujen, para $x_0 \\in [1,5]$ la función $h'(x)$."
   ]
  },
  {
   "cell_type": "code",
   "execution_count": 47,
   "metadata": {
    "ExecuteTime": {
     "end_time": "2018-09-07T19:37:02.107000-05:00",
     "start_time": "2018-09-08T00:37:02.100Z"
    }
   },
   "outputs": [],
   "source": [
    "import Base: sqrt, exp, log, sin, cos, sinh, cosh"
   ]
  },
  {
   "cell_type": "code",
   "execution_count": 49,
   "metadata": {
    "ExecuteTime": {
     "end_time": "2018-09-07T20:23:41.617000-05:00",
     "start_time": "2018-09-08T01:23:41.370Z"
    }
   },
   "outputs": [
    {
     "data": {
      "text/plain": [
       "cosh (generic function with 12 methods)"
      ]
     },
     "execution_count": 49,
     "metadata": {},
     "output_type": "execute_result"
    }
   ],
   "source": [
    "sin(u::Dual) = Dual(sin(u.x), u.x′ * cos(u.x))\n",
    "cos(u::Dual) = Dual(cos(u.x), -u.x′ * sin(u.x))\n",
    "exp(u::Dual) = Dual(exp(u.x), u.x′ * exp(u.x))\n",
    "log(u::Dual) = Dual(log(u.x), u.x′ / u.x)\n",
    "sinh(u::Dual) = Dual(sinh(u.x), u.x′ * cosh(u.x))\n",
    "cosh(u::Dual) = Dual(cosh(u.x), u.x′ * sinh(u.x))"
   ]
  },
  {
   "cell_type": "code",
   "execution_count": 53,
   "metadata": {
    "ExecuteTime": {
     "end_time": "2018-09-07T20:27:10.597000-05:00",
     "start_time": "2018-09-08T01:27:10.590Z"
    }
   },
   "outputs": [
    {
     "data": {
      "text/plain": [
       "h′ (generic function with 1 method)"
      ]
     },
     "execution_count": 53,
     "metadata": {},
     "output_type": "execute_result"
    }
   ],
   "source": [
    "h(x) = sin(x^3 - 2/x^6)\n",
    "h′(x) = cos(x^3 - 2/x^6) * (3*x^2 + 12/x^7) # Su derivada calculada a mano"
   ]
  },
  {
   "cell_type": "code",
   "execution_count": 55,
   "metadata": {
    "ExecuteTime": {
     "end_time": "2018-09-07T20:27:30.047000-05:00",
     "start_time": "2018-09-08T01:27:30.039Z"
    }
   },
   "outputs": [
    {
     "data": {
      "text/plain": []
     },
     "execution_count": 55,
     "metadata": {},
     "output_type": "execute_result"
    },
    {
     "name": "stdout",
     "output_type": "stream",
     "text": [
      "2+1.0ε"
     ]
    }
   ],
   "source": [
    "x0 = 2\n",
    "x = dual(x0) # La variable x evaluada en x0"
   ]
  },
  {
   "cell_type": "code",
   "execution_count": 63,
   "metadata": {
    "ExecuteTime": {
     "end_time": "2018-09-07T20:30:19.081000-05:00",
     "start_time": "2018-09-08T01:30:19.077Z"
    }
   },
   "outputs": [],
   "source": [
    "dual_der = h(x).x′\n",
    "an_der = h′(2);"
   ]
  },
  {
   "cell_type": "code",
   "execution_count": 61,
   "metadata": {
    "ExecuteTime": {
     "end_time": "2018-09-07T20:29:40.966000-05:00",
     "start_time": "2018-09-08T01:29:40.960Z"
    }
   },
   "outputs": [
    {
     "name": "stdout",
     "output_type": "stream",
     "text": [
      "La derivada evaluada en x0=2 mediante duales es -1.384934905523464"
     ]
    }
   ],
   "source": [
    "print(\"La derivada evaluada en x0=2 mediante duales es \", dual_der)"
   ]
  },
  {
   "cell_type": "code",
   "execution_count": 64,
   "metadata": {
    "ExecuteTime": {
     "end_time": "2018-09-07T20:30:24.486000-05:00",
     "start_time": "2018-09-08T01:30:24.482Z"
    }
   },
   "outputs": [
    {
     "name": "stdout",
     "output_type": "stream",
     "text": [
      "La derivada analíticamente es -1.384934905523464"
     ]
    }
   ],
   "source": [
    "print(\"La derivada analíticamente es \", an_der)"
   ]
  },
  {
   "cell_type": "code",
   "execution_count": 65,
   "metadata": {
    "ExecuteTime": {
     "end_time": "2018-09-07T20:30:38.257000-05:00",
     "start_time": "2018-09-08T01:30:38.245Z"
    }
   },
   "outputs": [
    {
     "name": "stdout",
     "output_type": "stream",
     "text": [
      "Error: 0.0"
     ]
    }
   ],
   "source": [
    "print(\"Error: \", abs(dual_der - an_der))"
   ]
  },
  {
   "cell_type": "code",
   "execution_count": 71,
   "metadata": {
    "ExecuteTime": {
     "end_time": "2018-09-07T20:34:09.044000-05:00",
     "start_time": "2018-09-08T01:34:09.028Z"
    }
   },
   "outputs": [],
   "source": [
    "x_range = 1:0.01:5\n",
    "h_primes = []\n",
    "for x0 in x_range\n",
    "    push!(h_primes, h(dual(x0)).x′)\n",
    "end"
   ]
  },
  {
   "cell_type": "code",
   "execution_count": 74,
   "metadata": {
    "ExecuteTime": {
     "end_time": "2018-09-07T20:34:41.954000-05:00",
     "start_time": "2018-09-08T01:34:41.928Z"
    }
   },
   "outputs": [
    {
     "data": {
      "image/svg+xml": [
       "<?xml version=\"1.0\" encoding=\"utf-8\"?>\n",
       "<svg xmlns=\"http://www.w3.org/2000/svg\" xmlns:xlink=\"http://www.w3.org/1999/xlink\" width=\"600\" height=\"400\" viewBox=\"0 0 600 400\">\n",
       "<defs>\n",
       "  <clipPath id=\"clip0300\">\n",
       "    <rect x=\"0\" y=\"0\" width=\"600\" height=\"400\"/>\n",
       "  </clipPath>\n",
       "</defs>\n",
       "<polygon clip-path=\"url(#clip0300)\" points=\"\n",
       "0,400 600,400 600,0 0,0 \n",
       "  \" fill=\"#ffffff\" fill-opacity=\"1\"/>\n",
       "<defs>\n",
       "  <clipPath id=\"clip0301\">\n",
       "    <rect x=\"120\" y=\"0\" width=\"421\" height=\"400\"/>\n",
       "  </clipPath>\n",
       "</defs>\n",
       "<polygon clip-path=\"url(#clip0300)\" points=\"\n",
       "44.0307,375.869 580.315,375.869 580.315,11.811 44.0307,11.811 \n",
       "  \" fill=\"#ffffff\" fill-opacity=\"1\"/>\n",
       "<defs>\n",
       "  <clipPath id=\"clip0302\">\n",
       "    <rect x=\"44\" y=\"11\" width=\"537\" height=\"365\"/>\n",
       "  </clipPath>\n",
       "</defs>\n",
       "<polyline clip-path=\"url(#clip0302)\" style=\"stroke:#000000; stroke-width:0.5; stroke-opacity:0.1; fill:none\" points=\"\n",
       "  59.2086,375.869 59.2086,11.811 \n",
       "  \"/>\n",
       "<polyline clip-path=\"url(#clip0302)\" style=\"stroke:#000000; stroke-width:0.5; stroke-opacity:0.1; fill:none\" points=\"\n",
       "  185.691,375.869 185.691,11.811 \n",
       "  \"/>\n",
       "<polyline clip-path=\"url(#clip0302)\" style=\"stroke:#000000; stroke-width:0.5; stroke-opacity:0.1; fill:none\" points=\"\n",
       "  312.173,375.869 312.173,11.811 \n",
       "  \"/>\n",
       "<polyline clip-path=\"url(#clip0302)\" style=\"stroke:#000000; stroke-width:0.5; stroke-opacity:0.1; fill:none\" points=\"\n",
       "  438.655,375.869 438.655,11.811 \n",
       "  \"/>\n",
       "<polyline clip-path=\"url(#clip0302)\" style=\"stroke:#000000; stroke-width:0.5; stroke-opacity:0.1; fill:none\" points=\"\n",
       "  565.137,375.869 565.137,11.811 \n",
       "  \"/>\n",
       "<polyline clip-path=\"url(#clip0302)\" style=\"stroke:#000000; stroke-width:0.5; stroke-opacity:0.1; fill:none\" points=\"\n",
       "  44.0307,336.572 580.315,336.572 \n",
       "  \"/>\n",
       "<polyline clip-path=\"url(#clip0302)\" style=\"stroke:#000000; stroke-width:0.5; stroke-opacity:0.1; fill:none\" points=\"\n",
       "  44.0307,288.077 580.315,288.077 \n",
       "  \"/>\n",
       "<polyline clip-path=\"url(#clip0302)\" style=\"stroke:#000000; stroke-width:0.5; stroke-opacity:0.1; fill:none\" points=\"\n",
       "  44.0307,239.582 580.315,239.582 \n",
       "  \"/>\n",
       "<polyline clip-path=\"url(#clip0302)\" style=\"stroke:#000000; stroke-width:0.5; stroke-opacity:0.1; fill:none\" points=\"\n",
       "  44.0307,191.087 580.315,191.087 \n",
       "  \"/>\n",
       "<polyline clip-path=\"url(#clip0302)\" style=\"stroke:#000000; stroke-width:0.5; stroke-opacity:0.1; fill:none\" points=\"\n",
       "  44.0307,142.592 580.315,142.592 \n",
       "  \"/>\n",
       "<polyline clip-path=\"url(#clip0302)\" style=\"stroke:#000000; stroke-width:0.5; stroke-opacity:0.1; fill:none\" points=\"\n",
       "  44.0307,94.0968 580.315,94.0968 \n",
       "  \"/>\n",
       "<polyline clip-path=\"url(#clip0302)\" style=\"stroke:#000000; stroke-width:0.5; stroke-opacity:0.1; fill:none\" points=\"\n",
       "  44.0307,45.6018 580.315,45.6018 \n",
       "  \"/>\n",
       "<polyline clip-path=\"url(#clip0300)\" style=\"stroke:#000000; stroke-width:1; stroke-opacity:1; fill:none\" points=\"\n",
       "  44.0307,375.869 580.315,375.869 \n",
       "  \"/>\n",
       "<polyline clip-path=\"url(#clip0300)\" style=\"stroke:#000000; stroke-width:1; stroke-opacity:1; fill:none\" points=\"\n",
       "  44.0307,375.869 44.0307,11.811 \n",
       "  \"/>\n",
       "<polyline clip-path=\"url(#clip0300)\" style=\"stroke:#000000; stroke-width:1; stroke-opacity:1; fill:none\" points=\"\n",
       "  59.2086,375.869 59.2086,370.408 \n",
       "  \"/>\n",
       "<polyline clip-path=\"url(#clip0300)\" style=\"stroke:#000000; stroke-width:1; stroke-opacity:1; fill:none\" points=\"\n",
       "  185.691,375.869 185.691,370.408 \n",
       "  \"/>\n",
       "<polyline clip-path=\"url(#clip0300)\" style=\"stroke:#000000; stroke-width:1; stroke-opacity:1; fill:none\" points=\"\n",
       "  312.173,375.869 312.173,370.408 \n",
       "  \"/>\n",
       "<polyline clip-path=\"url(#clip0300)\" style=\"stroke:#000000; stroke-width:1; stroke-opacity:1; fill:none\" points=\"\n",
       "  438.655,375.869 438.655,370.408 \n",
       "  \"/>\n",
       "<polyline clip-path=\"url(#clip0300)\" style=\"stroke:#000000; stroke-width:1; stroke-opacity:1; fill:none\" points=\"\n",
       "  565.137,375.869 565.137,370.408 \n",
       "  \"/>\n",
       "<polyline clip-path=\"url(#clip0300)\" style=\"stroke:#000000; stroke-width:1; stroke-opacity:1; fill:none\" points=\"\n",
       "  44.0307,336.572 52.075,336.572 \n",
       "  \"/>\n",
       "<polyline clip-path=\"url(#clip0300)\" style=\"stroke:#000000; stroke-width:1; stroke-opacity:1; fill:none\" points=\"\n",
       "  44.0307,288.077 52.075,288.077 \n",
       "  \"/>\n",
       "<polyline clip-path=\"url(#clip0300)\" style=\"stroke:#000000; stroke-width:1; stroke-opacity:1; fill:none\" points=\"\n",
       "  44.0307,239.582 52.075,239.582 \n",
       "  \"/>\n",
       "<polyline clip-path=\"url(#clip0300)\" style=\"stroke:#000000; stroke-width:1; stroke-opacity:1; fill:none\" points=\"\n",
       "  44.0307,191.087 52.075,191.087 \n",
       "  \"/>\n",
       "<polyline clip-path=\"url(#clip0300)\" style=\"stroke:#000000; stroke-width:1; stroke-opacity:1; fill:none\" points=\"\n",
       "  44.0307,142.592 52.075,142.592 \n",
       "  \"/>\n",
       "<polyline clip-path=\"url(#clip0300)\" style=\"stroke:#000000; stroke-width:1; stroke-opacity:1; fill:none\" points=\"\n",
       "  44.0307,94.0968 52.075,94.0968 \n",
       "  \"/>\n",
       "<polyline clip-path=\"url(#clip0300)\" style=\"stroke:#000000; stroke-width:1; stroke-opacity:1; fill:none\" points=\"\n",
       "  44.0307,45.6018 52.075,45.6018 \n",
       "  \"/>\n",
       "<g clip-path=\"url(#clip0300)\">\n",
       "<text style=\"fill:#000000; fill-opacity:1; font-family:Arial,Helvetica Neue,Helvetica,sans-serif; font-size:12; text-anchor:middle;\" transform=\"rotate(0, 59.2086, 389.669)\" x=\"59.2086\" y=\"389.669\">1</text>\n",
       "</g>\n",
       "<g clip-path=\"url(#clip0300)\">\n",
       "<text style=\"fill:#000000; fill-opacity:1; font-family:Arial,Helvetica Neue,Helvetica,sans-serif; font-size:12; text-anchor:middle;\" transform=\"rotate(0, 185.691, 389.669)\" x=\"185.691\" y=\"389.669\">2</text>\n",
       "</g>\n",
       "<g clip-path=\"url(#clip0300)\">\n",
       "<text style=\"fill:#000000; fill-opacity:1; font-family:Arial,Helvetica Neue,Helvetica,sans-serif; font-size:12; text-anchor:middle;\" transform=\"rotate(0, 312.173, 389.669)\" x=\"312.173\" y=\"389.669\">3</text>\n",
       "</g>\n",
       "<g clip-path=\"url(#clip0300)\">\n",
       "<text style=\"fill:#000000; fill-opacity:1; font-family:Arial,Helvetica Neue,Helvetica,sans-serif; font-size:12; text-anchor:middle;\" transform=\"rotate(0, 438.655, 389.669)\" x=\"438.655\" y=\"389.669\">4</text>\n",
       "</g>\n",
       "<g clip-path=\"url(#clip0300)\">\n",
       "<text style=\"fill:#000000; fill-opacity:1; font-family:Arial,Helvetica Neue,Helvetica,sans-serif; font-size:12; text-anchor:middle;\" transform=\"rotate(0, 565.137, 389.669)\" x=\"565.137\" y=\"389.669\">5</text>\n",
       "</g>\n",
       "<g clip-path=\"url(#clip0300)\">\n",
       "<text style=\"fill:#000000; fill-opacity:1; font-family:Arial,Helvetica Neue,Helvetica,sans-serif; font-size:12; text-anchor:end;\" transform=\"rotate(0, 38.0307, 341.072)\" x=\"38.0307\" y=\"341.072\">-60</text>\n",
       "</g>\n",
       "<g clip-path=\"url(#clip0300)\">\n",
       "<text style=\"fill:#000000; fill-opacity:1; font-family:Arial,Helvetica Neue,Helvetica,sans-serif; font-size:12; text-anchor:end;\" transform=\"rotate(0, 38.0307, 292.577)\" x=\"38.0307\" y=\"292.577\">-40</text>\n",
       "</g>\n",
       "<g clip-path=\"url(#clip0300)\">\n",
       "<text style=\"fill:#000000; fill-opacity:1; font-family:Arial,Helvetica Neue,Helvetica,sans-serif; font-size:12; text-anchor:end;\" transform=\"rotate(0, 38.0307, 244.082)\" x=\"38.0307\" y=\"244.082\">-20</text>\n",
       "</g>\n",
       "<g clip-path=\"url(#clip0300)\">\n",
       "<text style=\"fill:#000000; fill-opacity:1; font-family:Arial,Helvetica Neue,Helvetica,sans-serif; font-size:12; text-anchor:end;\" transform=\"rotate(0, 38.0307, 195.587)\" x=\"38.0307\" y=\"195.587\">0</text>\n",
       "</g>\n",
       "<g clip-path=\"url(#clip0300)\">\n",
       "<text style=\"fill:#000000; fill-opacity:1; font-family:Arial,Helvetica Neue,Helvetica,sans-serif; font-size:12; text-anchor:end;\" transform=\"rotate(0, 38.0307, 147.092)\" x=\"38.0307\" y=\"147.092\">20</text>\n",
       "</g>\n",
       "<g clip-path=\"url(#clip0300)\">\n",
       "<text style=\"fill:#000000; fill-opacity:1; font-family:Arial,Helvetica Neue,Helvetica,sans-serif; font-size:12; text-anchor:end;\" transform=\"rotate(0, 38.0307, 98.5968)\" x=\"38.0307\" y=\"98.5968\">40</text>\n",
       "</g>\n",
       "<g clip-path=\"url(#clip0300)\">\n",
       "<text style=\"fill:#000000; fill-opacity:1; font-family:Arial,Helvetica Neue,Helvetica,sans-serif; font-size:12; text-anchor:end;\" transform=\"rotate(0, 38.0307, 50.1018)\" x=\"38.0307\" y=\"50.1018\">60</text>\n",
       "</g>\n",
       "<polyline clip-path=\"url(#clip0302)\" style=\"stroke:#009af9; stroke-width:1; stroke-opacity:1; fill:none\" points=\"\n",
       "  59.2086,171.435 60.4734,168.377 61.7382,166.239 63.0031,164.881 64.2679,164.168 65.5327,163.982 66.7975,164.219 68.0623,164.791 69.3272,165.624 70.592,166.656 \n",
       "  71.8568,167.836 73.1216,169.124 74.3864,170.488 75.6513,171.9 76.9161,173.342 78.1809,174.798 79.4457,176.256 80.7106,177.707 81.9754,179.146 83.2402,180.566 \n",
       "  84.505,181.967 85.7698,183.345 87.0347,184.699 88.2995,186.029 89.5643,187.335 90.8291,188.615 92.0939,189.871 93.3588,191.103 94.6236,192.309 95.8884,193.491 \n",
       "  97.1532,194.647 98.4181,195.777 99.6829,196.879 100.948,197.953 102.213,198.997 103.477,200.009 104.742,200.986 106.007,201.927 107.272,202.828 108.537,203.686 \n",
       "  109.801,204.497 111.066,205.258 112.331,205.966 113.596,206.614 114.861,207.2 116.126,207.718 117.39,208.164 118.655,208.532 119.92,208.819 121.185,209.019 \n",
       "  122.45,209.127 123.714,209.138 124.979,209.05 126.244,208.856 127.509,208.553 128.774,208.139 130.039,207.61 131.303,206.963 132.568,206.198 133.833,205.314 \n",
       "  135.098,204.31 136.363,203.188 137.628,201.95 138.892,200.6 140.157,199.141 141.422,197.579 142.687,195.922 143.952,194.179 145.216,192.358 146.481,190.472 \n",
       "  147.746,188.534 149.011,186.557 150.276,184.559 151.541,182.556 152.805,180.567 154.07,178.612 155.335,176.711 156.6,174.887 157.865,173.162 159.129,171.559 \n",
       "  160.394,170.103 161.659,168.815 162.924,167.719 164.189,166.837 165.454,166.19 166.718,165.798 167.983,165.679 169.248,165.848 170.513,166.318 171.778,167.098 \n",
       "  173.043,168.193 174.307,169.606 175.572,171.333 176.837,173.367 178.102,175.696 179.367,178.301 180.631,181.158 181.896,184.238 183.161,187.507 184.426,190.925 \n",
       "  185.691,194.445 186.956,198.018 188.22,201.589 189.485,205.101 190.75,208.491 192.015,211.697 193.28,214.654 194.544,217.3 195.809,219.573 197.074,221.413 \n",
       "  198.339,222.765 199.604,223.582 200.869,223.823 202.133,223.455 203.398,222.458 204.663,220.823 205.928,218.553 207.193,215.665 208.458,212.193 209.722,208.185 \n",
       "  210.987,203.703 212.252,198.826 213.517,193.646 214.782,188.27 216.046,182.813 217.311,177.403 218.576,172.172 219.841,167.258 221.106,162.797 222.371,158.923 \n",
       "  223.635,155.761 224.9,153.427 226.165,152.019 227.43,151.616 228.695,152.271 229.959,154.012 231.224,156.837 232.489,160.709 233.754,165.558 235.019,171.282 \n",
       "  236.284,177.742 237.548,184.77 238.813,192.169 240.078,199.717 241.343,207.177 242.608,214.299 243.873,220.83 245.137,226.524 246.402,231.15 247.667,234.502 \n",
       "  248.932,236.41 250.197,236.745 251.461,235.432 252.726,232.454 253.991,227.857 255.256,221.754 256.521,214.323 257.786,205.806 259.05,196.504 260.315,186.766 \n",
       "  261.58,176.979 262.845,167.553 264.11,158.905 265.374,151.44 266.639,145.533 267.904,141.507 269.169,139.616 270.434,140.029 271.699,142.814 272.963,147.928 \n",
       "  274.228,155.213 275.493,164.395 276.758,175.09 278.023,186.819 279.287,199.022 280.552,211.086 281.817,222.375 283.082,232.259 284.347,240.156 285.612,245.561 \n",
       "  286.876,248.085 288.141,247.481 289.406,243.672 290.671,236.762 291.936,227.046 293.201,215.001 294.465,201.27 295.73,186.633 296.995,171.963 298.26,158.18 \n",
       "  299.525,146.192 300.789,136.834 302.054,130.809 303.319,128.632 304.584,130.582 305.849,136.667 307.114,146.61 308.378,159.847 309.643,175.553 310.908,192.684 \n",
       "  312.173,210.045 313.438,226.362 314.702,240.385 315.967,250.976 317.232,257.209 318.497,258.457 319.762,254.456 321.027,245.353 322.291,231.712 323.556,214.501 \n",
       "  324.821,195.027 326.086,174.847 327.351,155.65 328.616,139.119 329.88,126.776 331.145,119.845 332.41,119.116 333.675,124.853 334.94,136.737 336.204,153.862 \n",
       "  337.469,174.787 338.734,197.646 339.999,220.303 341.264,240.548 342.529,256.313 343.793,265.886 345.058,268.111 346.323,262.534 347.588,249.491 348.853,230.118 \n",
       "  350.117,206.272 351.382,180.371 352.647,155.161 353.912,133.429 355.177,117.691 356.442,109.896 357.706,111.168 358.971,121.632 360.236,140.343 361.501,165.344 \n",
       "  362.766,193.844 364.031,222.514 365.295,247.863 366.56,266.67 367.825,276.397 369.09,275.554 370.355,263.94 371.619,242.743 372.884,214.453 374.149,182.599 \n",
       "  375.414,151.332 376.679,124.891 377.944,107.023 379.208,100.439 380.473,106.379 381.738,124.357 383.003,152.146 384.268,186.012 385.532,221.181 386.797,252.501 \n",
       "  388.062,275.193 389.327,285.594 390.592,281.779 391.857,263.943 393.121,234.48 394.386,197.711 395.651,159.291 396.916,125.357 398.181,101.551 399.446,92.0627 \n",
       "  400.71,98.8544 401.975,121.225 403.24,155.795 404.505,196.963 405.77,237.768 407.034,271.052 408.299,290.722 409.564,292.901 410.829,276.732 412.094,244.684 \n",
       "  413.359,202.256 414.623,157.087 415.888,117.615 417.153,91.5009 418.418,84.1133 419.683,97.3723 420.947,129.208 422.212,173.788 423.477,222.509 424.742,265.621 \n",
       "  426.007,294.169 427.272,301.891 428.536,286.646 429.801,251.066 431.066,202.204 432.331,150.225 433.596,106.329 434.861,80.3367 436.125,78.4483 437.39,101.685 \n",
       "  438.655,145.426 439.92,200.21 441.185,253.699 442.449,293.431 443.714,309.745 444.979,298.201 446.244,260.881 447.509,206.174 448.774,147.001 450.038,97.8235 \n",
       "  451.303,71.1099 452.568,74.1057 453.833,106.765 455.098,161.444 456.362,224.548 457.627,279.83 458.892,312.555 460.157,313.499 461.422,281.656 462.687,224.872 \n",
       "  463.951,158.073 465.216,99.4392 466.481,65.4786 467.746,66.3035 469.011,102.489 470.276,164.502 471.54,235.039 472.805,293.744 474.07,323.085 475.335,313.683 \n",
       "  476.6,267.468 477.864,197.562 479.129,124.737 480.394,71.3306 481.659,54.3585 482.924,79.9585 484.189,141 485.453,218.816 486.718,288.753 487.983,327.937 \n",
       "  489.248,322.854 490.513,274.199 491.777,197.221 493.042,117.171 494.307,61.1284 495.572,48.793 496.837,85.38 498.102,159.223 499.366,245.207 500.631,313.142 \n",
       "  501.896,338.366 503.161,310.866 504.426,239.499 505.691,149.481 506.955,73.69 508.22,40.6916 509.485,63.8086 510.75,135.47 512.015,229.299 513.279,309.576 \n",
       "  514.544,344.79 515.809,320.178 517.074,244.217 518.339,146.126 519.604,64.8933 520.868,33.813 522.133,66.6387 523.398,151.163 524.663,253.318 525.928,330.65 \n",
       "  527.192,349.965 528.457,301.842 529.722,205.57 530.987,101.859 532.252,35.8406 533.517,37.3409 534.781,107.064 536.046,215.201 537.311,313.762 538.576,357.748 \n",
       "  539.841,325.907 541.106,231.428 542.37,117.051 543.635,36.0594 544.9,27.4331 546.165,96.7203 547.43,212.162 548.694,318.748 549.959,364.266 551.224,325.118 \n",
       "  552.489,219.062 553.754,97.7991 555.019,22.1145 556.283,31.315 557.548,122.339 558.813,249.841 560.078,348.282 561.343,365.565 562.607,291.014 563.872,162.505 \n",
       "  565.137,47.8501 \n",
       "  \"/>\n",
       "</svg>\n"
      ]
     },
     "execution_count": 74,
     "metadata": {},
     "output_type": "execute_result"
    }
   ],
   "source": [
    "plot(x_range, h_primes, label=\"\")"
   ]
  },
  {
   "cell_type": "markdown",
   "metadata": {},
   "source": [
    "## 6\n",
    "\n",
    "Implementen el método de Newton para una función arbitraria $f(x)$ en una variable, explotando el uso de los `Dual`. \n",
    "\n",
    "- Obtengan, usando su función para el método de Newton, las raices del polinomio de Wilkinson \n",
    "\n",
    "$$\n",
    "W_{6}(x) = (x-1)(x-2)(x-3)(x-4)(x-5)(x-6),\n",
    "$$ \n",
    "\n",
    "usando como iterados iniciales $x_0=2.2$ y $x_0=2.45$.\n",
    "    \n",
    "- Hagan lo mismo que en el inciso anterior para $g(x) = x \\sin(2x)$, con $x_0=0.7$."
   ]
  },
  {
   "cell_type": "code",
   "execution_count": null,
   "metadata": {},
   "outputs": [],
   "source": [
    "function newton_dual(f, x0, n_iter=1000)\n",
    "    xn = dual(x0)\n",
    "    for i in n_iter\n",
    "        xnn = xn.x - f(xn).x′ / f(xn).x\n",
    "    end\n",
    "    return xn\n",
    "    \n",
    "end"
   ]
  },
  {
   "cell_type": "markdown",
   "metadata": {},
   "source": [
    "## 7\n",
    "\n",
    "Argumenten qué podrían hacer para extender la idea de los `Dual` y calcular derivadas aún más altas. Como caso concreto, piensen en querer obtener la derivada 18 de funciones como las que hemos usado arriba"
   ]
  },
  {
   "cell_type": "code",
   "execution_count": null,
   "metadata": {},
   "outputs": [],
   "source": []
  }
 ],
 "metadata": {
  "kernelspec": {
   "display_name": "Julia 0.6.4",
   "language": "julia",
   "name": "julia-0.6"
  },
  "language_info": {
   "file_extension": ".jl",
   "mimetype": "application/julia",
   "name": "julia",
   "version": "0.6.4"
  }
 },
 "nbformat": 4,
 "nbformat_minor": 2
}
