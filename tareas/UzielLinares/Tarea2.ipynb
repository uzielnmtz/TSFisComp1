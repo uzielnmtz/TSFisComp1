{
 "cells": [
  {
   "cell_type": "markdown",
   "metadata": {},
   "source": [
    "# Tarea 2"
   ]
  },
  {
   "cell_type": "markdown",
   "metadata": {},
   "source": [
    "**Envío del PR inicial: 07.09.2018**\n",
    "\n",
    "**Aceptación del PR: 14.09.2018**"
   ]
  },
  {
   "cell_type": "markdown",
   "metadata": {},
   "source": [
    "## 1\n",
    "\n",
    "Extiendan los operadores `+`, `-`, `*` y `/` para que funcionen cuando una de las dos entradas es un `Dual` y la otra es un `Real` (número cualquiera), sin importar el orden."
   ]
  },
  {
   "cell_type": "markdown",
   "metadata": {},
   "source": [
    "Primero hay que definir los números Duales en este notebook."
   ]
  },
  {
   "cell_type": "code",
   "execution_count": 1,
   "metadata": {
    "ExecuteTime": {
     "end_time": "2018-09-04T20:27:02.756000-05:00",
     "start_time": "2018-09-05T01:26:56.436Z"
    }
   },
   "outputs": [],
   "source": [
    "# Defino un tipo parametrico\n",
    "struct Dual{T, K}\n",
    "    x::T\n",
    "    x′::K\n",
    "end"
   ]
  },
  {
   "cell_type": "code",
   "execution_count": 38,
   "metadata": {
    "ExecuteTime": {
     "end_time": "2018-09-04T20:58:57.259000-05:00",
     "start_time": "2018-09-05T01:58:56.963Z"
    }
   },
   "outputs": [
    {
     "data": {
      "text/plain": [
       "Dual"
      ]
     },
     "execution_count": 38,
     "metadata": {},
     "output_type": "execute_result"
    }
   ],
   "source": [
    "Dual(c::Real) = Dual(c, 0.)"
   ]
  },
  {
   "cell_type": "code",
   "execution_count": 4,
   "metadata": {
    "ExecuteTime": {
     "end_time": "2018-09-04T20:27:30.078000-05:00",
     "start_time": "2018-09-05T01:27:30.075Z"
    }
   },
   "outputs": [
    {
     "data": {
      "text/plain": [
       "Dual{Float64,Int64}(2.0, 2)"
      ]
     },
     "execution_count": 4,
     "metadata": {},
     "output_type": "execute_result"
    }
   ],
   "source": [
    "Dual(2., 2)"
   ]
  },
  {
   "cell_type": "code",
   "execution_count": 5,
   "metadata": {
    "ExecuteTime": {
     "end_time": "2018-09-04T20:27:32.321000-05:00",
     "start_time": "2018-09-05T01:27:32.310Z"
    }
   },
   "outputs": [],
   "source": [
    "import Base: +, -, *, /"
   ]
  },
  {
   "cell_type": "code",
   "execution_count": 11,
   "metadata": {
    "ExecuteTime": {
     "end_time": "2018-09-04T20:30:06.211000-05:00",
     "start_time": "2018-09-05T01:30:06.200Z"
    }
   },
   "outputs": [
    {
     "data": {
      "text/plain": [
       "* (generic function with 185 methods)"
      ]
     },
     "execution_count": 11,
     "metadata": {},
     "output_type": "execute_result"
    }
   ],
   "source": [
    "+(u::Dual, v::Dual) = Dual(u.x + v.x, u.x′ + v.x′)\n",
    "-(u::Dual, v::Dual) = Dual(u.x - v.x, u.x′ - v.x′)\n",
    "*(u::Dual, v::Dual) = Dual( u.x * v.x, u.x * v.x′ + u.x′ * v.x)"
   ]
  },
  {
   "cell_type": "code",
   "execution_count": 12,
   "metadata": {
    "ExecuteTime": {
     "end_time": "2018-09-04T20:30:09.567000-05:00",
     "start_time": "2018-09-05T01:30:09.562Z"
    }
   },
   "outputs": [
    {
     "data": {
      "text/plain": [
       "/ (generic function with 76 methods)"
      ]
     },
     "execution_count": 12,
     "metadata": {},
     "output_type": "execute_result"
    }
   ],
   "source": [
    "function /(u::Dual, v::Dual)\n",
    "    y = u.x / v.x\n",
    "    Dual( y, (u.x′ - y * v.x′)/v.x )\n",
    "end"
   ]
  },
  {
   "cell_type": "code",
   "execution_count": 41,
   "metadata": {
    "ExecuteTime": {
     "end_time": "2018-09-04T20:59:59.248000-05:00",
     "start_time": "2018-09-05T01:59:59.243Z"
    }
   },
   "outputs": [
    {
     "data": {
      "text/plain": [
       "^ (generic function with 1 method)"
      ]
     },
     "execution_count": 41,
     "metadata": {},
     "output_type": "execute_result"
    }
   ],
   "source": [
    "function ^(a::Dual, n::Int)\n",
    "    y = a.x^(n-1)\n",
    "    Dual(a.x * y, n*y*a.x′)\n",
    "end"
   ]
  },
  {
   "cell_type": "code",
   "execution_count": 6,
   "metadata": {
    "ExecuteTime": {
     "end_time": "2018-09-04T20:27:53.563000-05:00",
     "start_time": "2018-09-05T01:27:53.250Z"
    }
   },
   "outputs": [
    {
     "data": {
      "text/plain": [
       "+ (generic function with 182 methods)"
      ]
     },
     "execution_count": 6,
     "metadata": {},
     "output_type": "execute_result"
    }
   ],
   "source": [
    "+(a::Real, u::Dual) = Dual(a + u.x, u.x′)\n",
    "+(u::Dual, a::Real) = Dual(a + u.x, u.x′)"
   ]
  },
  {
   "cell_type": "code",
   "execution_count": 7,
   "metadata": {
    "ExecuteTime": {
     "end_time": "2018-09-04T20:27:53.967000-05:00",
     "start_time": "2018-09-05T01:27:53.819Z"
    }
   },
   "outputs": [
    {
     "data": {
      "text/plain": [
       "- (generic function with 196 methods)"
      ]
     },
     "execution_count": 7,
     "metadata": {},
     "output_type": "execute_result"
    }
   ],
   "source": [
    "-(a::Real, u::Dual) = Dual(a + u.x, u.x′)\n",
    "-(u::Dual, a::Real) = Dual(a + u.x, u.x′)"
   ]
  },
  {
   "cell_type": "code",
   "execution_count": 8,
   "metadata": {
    "ExecuteTime": {
     "end_time": "2018-09-04T20:27:55.002000-05:00",
     "start_time": "2018-09-05T01:27:54.863Z"
    }
   },
   "outputs": [
    {
     "data": {
      "text/plain": [
       "* (generic function with 184 methods)"
      ]
     },
     "execution_count": 8,
     "metadata": {},
     "output_type": "execute_result"
    }
   ],
   "source": [
    "*(a::Real, u::Dual) = Dual(a * u.x, u.x′)\n",
    "*(u::Dual, a::Real) = Dual(a * u.x, u.x′)"
   ]
  },
  {
   "cell_type": "code",
   "execution_count": 9,
   "metadata": {
    "ExecuteTime": {
     "end_time": "2018-09-04T20:27:56.244000-05:00",
     "start_time": "2018-09-05T01:27:56.100Z"
    }
   },
   "outputs": [
    {
     "data": {
      "text/plain": [
       "/ (generic function with 75 methods)"
      ]
     },
     "execution_count": 9,
     "metadata": {},
     "output_type": "execute_result"
    }
   ],
   "source": [
    "/(a::Real, u::Dual) = Dual(a / u.x, -((a / u.x)*u.x′) / u.x)\n",
    "/(u::Dual, a::Real) = Dual(u.x / a, u.x′ / a)"
   ]
  },
  {
   "cell_type": "markdown",
   "metadata": {},
   "source": [
    "## 2\n",
    "\n",
    "Construyan 2 tests para cada una de las operaciones aritméticas definidas para los `Dual`es, incluyendo las que definieron en el ejercicio 1."
   ]
  },
  {
   "cell_type": "code",
   "execution_count": 17,
   "metadata": {
    "ExecuteTime": {
     "end_time": "2018-09-04T20:31:00.631000-05:00",
     "start_time": "2018-09-05T01:31:00.628Z"
    }
   },
   "outputs": [],
   "source": [
    "using Base.Test"
   ]
  },
  {
   "cell_type": "code",
   "execution_count": 25,
   "metadata": {
    "ExecuteTime": {
     "end_time": "2018-09-04T20:33:38.816000-05:00",
     "start_time": "2018-09-05T01:33:38.805Z"
    }
   },
   "outputs": [
    {
     "data": {
      "text/plain": [
       "\u001b[1m\u001b[32mTest Passed\u001b[39m\u001b[22m"
      ]
     },
     "execution_count": 25,
     "metadata": {},
     "output_type": "execute_result"
    }
   ],
   "source": [
    "@test Dual(1., 1.) + Dual(-1, -1) == Dual(0., 0.)"
   ]
  },
  {
   "cell_type": "code",
   "execution_count": 27,
   "metadata": {
    "ExecuteTime": {
     "end_time": "2018-09-04T20:40:54.607000-05:00",
     "start_time": "2018-09-05T01:40:54.604Z"
    }
   },
   "outputs": [
    {
     "data": {
      "text/plain": [
       "\u001b[1m\u001b[32mTest Passed\u001b[39m\u001b[22m"
      ]
     },
     "execution_count": 27,
     "metadata": {},
     "output_type": "execute_result"
    }
   ],
   "source": [
    "@test Dual(2, 2) + Dual(2, 2) == Dual(4, 4)"
   ]
  },
  {
   "cell_type": "code",
   "execution_count": 28,
   "metadata": {
    "ExecuteTime": {
     "end_time": "2018-09-04T20:41:23.796000-05:00",
     "start_time": "2018-09-05T01:41:23.783Z"
    }
   },
   "outputs": [
    {
     "data": {
      "text/plain": [
       "\u001b[1m\u001b[32mTest Passed\u001b[39m\u001b[22m"
      ]
     },
     "execution_count": 28,
     "metadata": {},
     "output_type": "execute_result"
    }
   ],
   "source": [
    "@test Dual(2, 1) - Dual(0, 1) == Dual(2, 0)"
   ]
  },
  {
   "cell_type": "code",
   "execution_count": 29,
   "metadata": {
    "ExecuteTime": {
     "end_time": "2018-09-04T20:42:07.523000-05:00",
     "start_time": "2018-09-05T01:42:07.511Z"
    }
   },
   "outputs": [
    {
     "data": {
      "text/plain": [
       "\u001b[1m\u001b[32mTest Passed\u001b[39m\u001b[22m"
      ]
     },
     "execution_count": 29,
     "metadata": {},
     "output_type": "execute_result"
    }
   ],
   "source": [
    "@test Dual(5., 5.) - Dual(1, 6) == Dual(4., -1.)"
   ]
  },
  {
   "cell_type": "code",
   "execution_count": 31,
   "metadata": {
    "ExecuteTime": {
     "end_time": "2018-09-04T20:46:56.854000-05:00",
     "start_time": "2018-09-05T01:46:56.834Z"
    }
   },
   "outputs": [
    {
     "data": {
      "text/plain": [
       "0.0"
      ]
     },
     "execution_count": 31,
     "metadata": {},
     "output_type": "execute_result"
    }
   ],
   "source": [
    "f(x) = sin(x)\n",
    "g(x) = cos(x)\n",
    "h(x) = f(x) * g(x)\n",
    "x0 = h(0)"
   ]
  },
  {
   "cell_type": "code",
   "execution_count": null,
   "metadata": {},
   "outputs": [],
   "source": []
  },
  {
   "cell_type": "markdown",
   "metadata": {},
   "source": [
    "## 3\n",
    "\n",
    "Sobrecarguen la función `show` (que está en Base) para que cuando se impriman los duales aparezcan con la notación $\\varepsilon$ que usamos al principio de este notebook, por ejemplo, el resultado de `Dual(1,2)` debe ser parecido a `1.0 + 2.0 ε`."
   ]
  },
  {
   "cell_type": "code",
   "execution_count": 32,
   "metadata": {
    "ExecuteTime": {
     "end_time": "2018-09-04T20:47:47.826000-05:00",
     "start_time": "2018-09-05T01:47:47.824Z"
    }
   },
   "outputs": [],
   "source": [
    "import Base:show"
   ]
  },
  {
   "cell_type": "code",
   "execution_count": 35,
   "metadata": {
    "ExecuteTime": {
     "end_time": "2018-09-04T20:50:35.041000-05:00",
     "start_time": "2018-09-05T01:50:35.035Z"
    }
   },
   "outputs": [
    {
     "data": {
      "text/plain": [
       "show (generic function with 271 methods)"
      ]
     },
     "execution_count": 35,
     "metadata": {},
     "output_type": "execute_result"
    }
   ],
   "source": [
    "function show(io::IO, u::Dual)\n",
    "    print(u.x,\"+\",u.x′,\"ε\")\n",
    "end"
   ]
  },
  {
   "cell_type": "code",
   "execution_count": 36,
   "metadata": {
    "ExecuteTime": {
     "end_time": "2018-09-04T20:50:35.733000-05:00",
     "start_time": "2018-09-05T01:50:35.668Z"
    }
   },
   "outputs": [
    {
     "data": {
      "text/plain": []
     },
     "execution_count": 36,
     "metadata": {},
     "output_type": "execute_result"
    },
    {
     "name": "stdout",
     "output_type": "stream",
     "text": [
      "1+1ε"
     ]
    }
   ],
   "source": [
    "Dual(1, 1)"
   ]
  },
  {
   "cell_type": "markdown",
   "metadata": {},
   "source": [
    "## 4\n",
    "\n",
    "Obtengan la derivada de \n",
    "$$h(x) = \\frac{3x^2-8x+5}{7x^3-1}$$\n",
    "en $x_0=1$."
   ]
  },
  {
   "cell_type": "code",
   "execution_count": 37,
   "metadata": {
    "ExecuteTime": {
     "end_time": "2018-09-04T20:52:00.886000-05:00",
     "start_time": "2018-09-05T01:52:00.737Z"
    }
   },
   "outputs": [
    {
     "data": {
      "text/plain": [
       "h (generic function with 1 method)"
      ]
     },
     "execution_count": 37,
     "metadata": {},
     "output_type": "execute_result"
    }
   ],
   "source": [
    "f(x) = 3*x^2 - 8*x + 5\n",
    "g(x) = 7*x^3 - 1\n",
    "h(x) = f(x) / g(x)"
   ]
  },
  {
   "cell_type": "code",
   "execution_count": 39,
   "metadata": {
    "ExecuteTime": {
     "end_time": "2018-09-04T20:59:24.195000-05:00",
     "start_time": "2018-09-05T01:59:23.909Z"
    }
   },
   "outputs": [
    {
     "data": {
      "text/plain": []
     },
     "execution_count": 39,
     "metadata": {},
     "output_type": "execute_result"
    },
    {
     "name": "stdout",
     "output_type": "stream",
     "text": [
      "1+0.0ε"
     ]
    }
   ],
   "source": [
    "x = Dual(1)"
   ]
  },
  {
   "cell_type": "code",
   "execution_count": 42,
   "metadata": {
    "ExecuteTime": {
     "end_time": "2018-09-04T21:00:03.094000-05:00",
     "start_time": "2018-09-05T02:00:03.057Z"
    }
   },
   "outputs": [
    {
     "ename": "LoadError",
     "evalue": "\u001b[91mMethodError: no method matching ^(::Int64, ::Int64)\nYou may have intended to import Base.^\u001b[0m\nClosest candidates are:\n  ^(\u001b[91m::Dual\u001b[39m, ::Int64) at In[41]:2\u001b[39m",
     "output_type": "error",
     "traceback": [
      "\u001b[91mMethodError: no method matching ^(::Int64, ::Int64)\nYou may have intended to import Base.^\u001b[0m\nClosest candidates are:\n  ^(\u001b[91m::Dual\u001b[39m, ::Int64) at In[41]:2\u001b[39m",
      "",
      "Stacktrace:",
      " [1] \u001b[1m^\u001b[22m\u001b[22m at \u001b[1m./In[41]:2\u001b[22m\u001b[22m [inlined]",
      " [2] \u001b[1mliteral_pow\u001b[22m\u001b[22m at \u001b[1m./intfuncs.jl:208\u001b[22m\u001b[22m [inlined]",
      " [3] \u001b[1mf\u001b[22m\u001b[22m\u001b[1m(\u001b[22m\u001b[22m::Dual{Int64,Float64}\u001b[1m)\u001b[22m\u001b[22m at \u001b[1m./In[37]:1\u001b[22m\u001b[22m",
      " [4] \u001b[1minclude_string\u001b[22m\u001b[22m\u001b[1m(\u001b[22m\u001b[22m::String, ::String\u001b[1m)\u001b[22m\u001b[22m at \u001b[1m./loading.jl:522\u001b[22m\u001b[22m",
      " [5] \u001b[1mexecute_request\u001b[22m\u001b[22m\u001b[1m(\u001b[22m\u001b[22m::ZMQ.Socket, ::IJulia.Msg\u001b[1m)\u001b[22m\u001b[22m at \u001b[1m/Users/uzielnmtz/.julia/v0.6/IJulia/src/execute_request.jl:193\u001b[22m\u001b[22m",
      " [6] \u001b[1m(::Compat.#inner#14{Array{Any,1},IJulia.#execute_request,Tuple{ZMQ.Socket,IJulia.Msg}})\u001b[22m\u001b[22m\u001b[1m(\u001b[22m\u001b[22m\u001b[1m)\u001b[22m\u001b[22m at \u001b[1m/Users/uzielnmtz/.julia/v0.6/Compat/src/Compat.jl:332\u001b[22m\u001b[22m",
      " [7] \u001b[1meventloop\u001b[22m\u001b[22m\u001b[1m(\u001b[22m\u001b[22m::ZMQ.Socket\u001b[1m)\u001b[22m\u001b[22m at \u001b[1m/Users/uzielnmtz/.julia/v0.6/IJulia/src/eventloop.jl:8\u001b[22m\u001b[22m",
      " [8] \u001b[1m(::IJulia.##13#16)\u001b[22m\u001b[22m\u001b[1m(\u001b[22m\u001b[22m\u001b[1m)\u001b[22m\u001b[22m at \u001b[1m./task.jl:335\u001b[22m\u001b[22m"
     ]
    }
   ],
   "source": [
    "f(x)"
   ]
  },
  {
   "cell_type": "markdown",
   "metadata": {},
   "source": [
    "## 5\n",
    "\n",
    "- Recordando la regla de la cadena(!!!), extiendan el usar los `Dual` a las funciones `sqrt`, `exp`, `log`, `sin`, `cos`, `sinh` y `cosh`. \n",
    "\n",
    "- Muestren que las cosas dan los resultados que esperan usando pruebas como hicieron en el ejercicio 2.\n",
    "\n",
    "- Calculen la derivada de $h(x) = \\sin\\Big(x^3 - \\frac{2}{x^6}\\Big)$ en $x_0 = 2$. ¿Qué tan preciso es el resultado?(Pueden usar cualquier otra manera de obtener el resultado correcto, sólo tienen que ser claros en la explicación.)\n",
    "\n",
    "- Dibujen, para $x_0 \\in [1,5]$ la función $h'(x)$."
   ]
  },
  {
   "cell_type": "code",
   "execution_count": null,
   "metadata": {},
   "outputs": [],
   "source": []
  },
  {
   "cell_type": "markdown",
   "metadata": {},
   "source": [
    "## 6\n",
    "\n",
    "Implementen el método de Newton para una función arbitraria $f(x)$ en una variable, explotando el uso de los `Dual`. \n",
    "\n",
    "- Obtengan, usando su función para el método de Newton, las raices del polinomio de Wilkinson \n",
    "\n",
    "$$\n",
    "W_{6}(x) = (x-1)(x-2)(x-3)(x-4)(x-5)(x-6),\n",
    "$$ \n",
    "\n",
    "usando como iterados iniciales $x_0=2.2$ y $x_0=2.45$.\n",
    "    \n",
    "- Hagan lo mismo que en el inciso anterior para $g(x) = x \\sin(2x)$, con $x_0=0.7$."
   ]
  },
  {
   "cell_type": "code",
   "execution_count": null,
   "metadata": {},
   "outputs": [],
   "source": []
  },
  {
   "cell_type": "markdown",
   "metadata": {},
   "source": [
    "## 7\n",
    "\n",
    "Argumenten qué podrían hacer para extender la idea de los `Dual` y calcular derivadas aún más altas. Como caso concreto, piensen en querer obtener la derivada 18 de funciones como las que hemos usado arriba"
   ]
  },
  {
   "cell_type": "code",
   "execution_count": null,
   "metadata": {},
   "outputs": [],
   "source": []
  }
 ],
 "metadata": {
  "kernelspec": {
   "display_name": "Julia 0.6.4",
   "language": "julia",
   "name": "julia-0.6"
  },
  "language_info": {
   "file_extension": ".jl",
   "mimetype": "application/julia",
   "name": "julia",
   "version": "0.6.4"
  }
 },
 "nbformat": 4,
 "nbformat_minor": 2
}
