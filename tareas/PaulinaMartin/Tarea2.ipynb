{
 "cells": [
  {
   "cell_type": "markdown",
   "metadata": {},
   "source": [
    "# Tarea 2"
   ]
  },
  {
   "cell_type": "markdown",
   "metadata": {},
   "source": [
    "**Envío del PR inicial: 07.09.2018**\n",
    "\n",
    "**Aceptación del PR: 14.09.2018**"
   ]
  },
  {
   "cell_type": "markdown",
   "metadata": {},
   "source": [
    "## 1\n",
    "\n",
    "Extiendan los operadores `+`, `-`, `*` y `/` para que funcionen cuando una de las dos entradas es un `Dual` y la otra es un `Real` (número cualquiera), sin importar el orden."
   ]
  },
  {
   "cell_type": "code",
   "execution_count": 305,
   "metadata": {},
   "outputs": [],
   "source": [
    "using Plots"
   ]
  },
  {
   "cell_type": "code",
   "execution_count": 158,
   "metadata": {},
   "outputs": [
    {
     "data": {
      "text/plain": [
       "Dual"
      ]
     },
     "execution_count": 158,
     "metadata": {},
     "output_type": "execute_result"
    }
   ],
   "source": [
    "\"\"\"5\n",
    "    Dual\n",
    "\n",
    "Definición de los números duales. Los campos internos son\n",
    "    x  :: Float64   # valor de la función\n",
    "    x′ :: Float64   # valor de su derivada\n",
    "\n",
    "\"\"\"\n",
    "struct Dual\n",
    "    x  :: Float64\n",
    "    x′ :: Float64\n",
    "end"
   ]
  },
  {
   "cell_type": "code",
   "execution_count": 308,
   "metadata": {},
   "outputs": [],
   "source": [
    "import Base: +, -, *, /, ^"
   ]
  },
  {
   "cell_type": "markdown",
   "metadata": {},
   "source": [
    "### (a) Suma"
   ]
  },
  {
   "cell_type": "code",
   "execution_count": 309,
   "metadata": {},
   "outputs": [
    {
     "data": {
      "text/plain": [
       "+ (generic function with 203 methods)"
      ]
     },
     "execution_count": 309,
     "metadata": {},
     "output_type": "execute_result"
    }
   ],
   "source": [
    "+(u::Dual, v::Dual) = Dual( u.x + v.x, u.x′ + v.x′)\n",
    "\n",
    "+(a::Real, v::Dual) = Dual( a + v.x, v.x′)\n",
    "\n",
    "+(u::Dual, a::Real) = Dual( u.x + a, u.x′)"
   ]
  },
  {
   "cell_type": "markdown",
   "metadata": {},
   "source": [
    "### (b) Resta"
   ]
  },
  {
   "cell_type": "code",
   "execution_count": 310,
   "metadata": {},
   "outputs": [
    {
     "data": {
      "text/plain": [
       "- (generic function with 225 methods)"
      ]
     },
     "execution_count": 310,
     "metadata": {},
     "output_type": "execute_result"
    }
   ],
   "source": [
    "-(u::Dual, v::Dual) = Dual( u.x - v.x, u.x′ - v.x′)\n",
    "\n",
    "-(a::Real, v::Dual) = Dual( a - v.x, - v.x′)\n",
    "\n",
    "-(u::Dual, a::Real) = Dual( u.x - a, u.x′)"
   ]
  },
  {
   "cell_type": "markdown",
   "metadata": {},
   "source": [
    "### (c) Producto"
   ]
  },
  {
   "cell_type": "code",
   "execution_count": 331,
   "metadata": {},
   "outputs": [
    {
     "data": {
      "text/plain": [
       "* (generic function with 222 methods)"
      ]
     },
     "execution_count": 331,
     "metadata": {},
     "output_type": "execute_result"
    }
   ],
   "source": [
    "*(u::Dual, v::Dual) = Dual( u.x * v.x, u.x * v.x′ + u.x′ * v.x)\n",
    "\n",
    "*(a::Real, v::Dual) = Dual( a * v.x, a * v.x′)\n",
    "\n",
    "*(u::Dual, a::Real) = Dual( u.x * a, u.x′ * a)"
   ]
  },
  {
   "cell_type": "markdown",
   "metadata": {},
   "source": [
    "### (d) Cociente"
   ]
  },
  {
   "cell_type": "code",
   "execution_count": 332,
   "metadata": {},
   "outputs": [
    {
     "data": {
      "text/plain": [
       "/ (generic function with 92 methods)"
      ]
     },
     "execution_count": 332,
     "metadata": {},
     "output_type": "execute_result"
    }
   ],
   "source": [
    "function /(u::Dual, v::Dual)\n",
    "    y = u.x / v.x\n",
    "    Dual( y, (u.x′ - y * v.x′)/v.x )\n",
    "end"
   ]
  },
  {
   "cell_type": "code",
   "execution_count": 333,
   "metadata": {},
   "outputs": [
    {
     "data": {
      "text/plain": [
       "/ (generic function with 92 methods)"
      ]
     },
     "execution_count": 333,
     "metadata": {},
     "output_type": "execute_result"
    }
   ],
   "source": [
    "/(a::Real, v::Dual) = Dual(a / v.x, (-(a / v.x) * v.x′)/v.x)\n",
    "\n",
    "/(u::Dual, a::Real) = Dual(u.x / a, (u.x′ / a))"
   ]
  },
  {
   "cell_type": "markdown",
   "metadata": {},
   "source": [
    "## 2\n",
    "\n",
    "Construyan 2 tests para cada una de las operaciones aritméticas definidas para los `Dual`es, incluyendo las que definieron en el ejercicio 1."
   ]
  },
  {
   "cell_type": "code",
   "execution_count": 334,
   "metadata": {},
   "outputs": [],
   "source": [
    "using Base.Test"
   ]
  },
  {
   "cell_type": "markdown",
   "metadata": {},
   "source": [
    "### (a) Suma"
   ]
  },
  {
   "cell_type": "code",
   "execution_count": 335,
   "metadata": {},
   "outputs": [
    {
     "data": {
      "text/plain": [
       "\u001b[1m\u001b[32mTest Passed\u001b[39m\u001b[22m"
      ]
     },
     "execution_count": 335,
     "metadata": {},
     "output_type": "execute_result"
    }
   ],
   "source": [
    "@test Dual(1234, 5678) + Dual(4444, -4444) == Dual(5678, 1234)"
   ]
  },
  {
   "cell_type": "code",
   "execution_count": 336,
   "metadata": {},
   "outputs": [
    {
     "data": {
      "text/plain": [
       "\u001b[1m\u001b[32mTest Passed\u001b[39m\u001b[22m"
      ]
     },
     "execution_count": 336,
     "metadata": {},
     "output_type": "execute_result"
    }
   ],
   "source": [
    "@test Dual(pi, pi^4) + Dual(pi^4, -pi) == Dual(pi^4 + pi, pi^4 - pi)"
   ]
  },
  {
   "cell_type": "markdown",
   "metadata": {},
   "source": [
    "### (b) Resta"
   ]
  },
  {
   "cell_type": "code",
   "execution_count": 337,
   "metadata": {},
   "outputs": [
    {
     "data": {
      "text/plain": [
       "\u001b[1m\u001b[32mTest Passed\u001b[39m\u001b[22m"
      ]
     },
     "execution_count": 337,
     "metadata": {},
     "output_type": "execute_result"
    }
   ],
   "source": [
    "@test Dual(1234, 5678) - Dual(-4444, 4444) == Dual(5678, 1234)"
   ]
  },
  {
   "cell_type": "code",
   "execution_count": 338,
   "metadata": {},
   "outputs": [
    {
     "data": {
      "text/plain": [
       "\u001b[1m\u001b[32mTest Passed\u001b[39m\u001b[22m"
      ]
     },
     "execution_count": 338,
     "metadata": {},
     "output_type": "execute_result"
    }
   ],
   "source": [
    "@test Dual(234, 789) - Dual(111, 111) == Dual(123, 678)"
   ]
  },
  {
   "cell_type": "markdown",
   "metadata": {},
   "source": [
    "### (c) Producto"
   ]
  },
  {
   "cell_type": "code",
   "execution_count": 339,
   "metadata": {},
   "outputs": [
    {
     "data": {
      "text/plain": [
       "f (generic function with 1 method)"
      ]
     },
     "execution_count": 339,
     "metadata": {},
     "output_type": "execute_result"
    }
   ],
   "source": [
    "f(x) = 2x + 8"
   ]
  },
  {
   "cell_type": "code",
   "execution_count": 340,
   "metadata": {},
   "outputs": [
    {
     "data": {
      "text/plain": [
       "f′ (generic function with 1 method)"
      ]
     },
     "execution_count": 340,
     "metadata": {},
     "output_type": "execute_result"
    }
   ],
   "source": [
    "f′(x) = 2"
   ]
  },
  {
   "cell_type": "code",
   "execution_count": 341,
   "metadata": {},
   "outputs": [
    {
     "data": {
      "text/plain": [
       "g (generic function with 1 method)"
      ]
     },
     "execution_count": 341,
     "metadata": {},
     "output_type": "execute_result"
    }
   ],
   "source": [
    "g(x) = 4x^2 + 8x + 1"
   ]
  },
  {
   "cell_type": "code",
   "execution_count": 342,
   "metadata": {},
   "outputs": [
    {
     "data": {
      "text/plain": [
       "g′ (generic function with 1 method)"
      ]
     },
     "execution_count": 342,
     "metadata": {},
     "output_type": "execute_result"
    }
   ],
   "source": [
    "g′(x) = 8x + 8"
   ]
  },
  {
   "cell_type": "code",
   "execution_count": 343,
   "metadata": {},
   "outputs": [
    {
     "data": {
      "text/plain": [
       "\u001b[1m\u001b[32mTest Passed\u001b[39m\u001b[22m"
      ]
     },
     "execution_count": 343,
     "metadata": {},
     "output_type": "execute_result"
    }
   ],
   "source": [
    "@test Dual(f(1), f′(1)) * Dual(g(1), g′(1)) == Dual(f(1)*g(1), f′(1)*g(1) + f(1)*g′(1))"
   ]
  },
  {
   "cell_type": "code",
   "execution_count": 344,
   "metadata": {},
   "outputs": [
    {
     "data": {
      "text/plain": [
       "\u001b[1m\u001b[32mTest Passed\u001b[39m\u001b[22m"
      ]
     },
     "execution_count": 344,
     "metadata": {},
     "output_type": "execute_result"
    }
   ],
   "source": [
    "@test Dual(f(-3), f′(-3)) * 2 == Dual(4, 4)"
   ]
  },
  {
   "cell_type": "markdown",
   "metadata": {},
   "source": [
    "### (d) Cociente"
   ]
  },
  {
   "cell_type": "code",
   "execution_count": 176,
   "metadata": {},
   "outputs": [
    {
     "data": {
      "text/plain": [
       "\u001b[1m\u001b[32mTest Passed\u001b[39m\u001b[22m"
      ]
     },
     "execution_count": 176,
     "metadata": {},
     "output_type": "execute_result"
    }
   ],
   "source": [
    "@test Dual(f(1), f′(1)) / Dual(g(1), g′(1)) == Dual(f(1)/g(1), (f′(1)*g(1) - f(1)*g′(1))/ g(1)^2)"
   ]
  },
  {
   "cell_type": "code",
   "execution_count": 177,
   "metadata": {},
   "outputs": [
    {
     "data": {
      "text/plain": [
       "\u001b[1m\u001b[32mTest Passed\u001b[39m\u001b[22m"
      ]
     },
     "execution_count": 177,
     "metadata": {},
     "output_type": "execute_result"
    }
   ],
   "source": [
    "@test Dual(f(1.5), f′(1.5)) / 5 == Dual( f(1.5)/5, ((f′(1.5)*5)/ 5^2))"
   ]
  },
  {
   "cell_type": "markdown",
   "metadata": {},
   "source": [
    "## 3\n",
    "\n",
    "Sobrecarguen la función `show` (que está en Base) para que cuando se impriman los duales aparezcan con la notación $\\varepsilon$ que usamos al principio de este notebook, por ejemplo, el resultado de `Dual(1,2)` debe ser parecido a `1.0 + 2.0 ε`."
   ]
  },
  {
   "cell_type": "code",
   "execution_count": 178,
   "metadata": {},
   "outputs": [],
   "source": [
    "import Base:show"
   ]
  },
  {
   "cell_type": "code",
   "execution_count": 179,
   "metadata": {},
   "outputs": [
    {
     "data": {
      "text/plain": [
       "show (generic function with 273 methods)"
      ]
     },
     "execution_count": 179,
     "metadata": {},
     "output_type": "execute_result"
    }
   ],
   "source": [
    "### Definiendo funcion show ###\n",
    "\n",
    "function show(io::IO, u::Dual)\n",
    "    if u.x′ < 0\n",
    "        print(u.x, \" - \",abs(u.x′),\" ε \" )\n",
    "    else \n",
    "        print(u.x,\" + \",u.x′,\" ε \")\n",
    "    end\n",
    "end"
   ]
  },
  {
   "cell_type": "code",
   "execution_count": 180,
   "metadata": {
    "scrolled": true
   },
   "outputs": [
    {
     "data": {
      "text/plain": []
     },
     "execution_count": 180,
     "metadata": {},
     "output_type": "execute_result"
    },
    {
     "name": "stdout",
     "output_type": "stream",
     "text": [
      "97.40909103400243 - 9487.531016070572 ε "
     ]
    }
   ],
   "source": [
    "### Probando la funcion show ###\n",
    "\n",
    "Dual(pi^4, -pi^8 + 1)"
   ]
  },
  {
   "cell_type": "markdown",
   "metadata": {},
   "source": [
    "## 4\n",
    "\n",
    "Obtengan la derivada de \n",
    "$$g(x) = \\frac{3x^2-8x+5}{7x^3-1}$$\n",
    "en $x_0=1$."
   ]
  },
  {
   "cell_type": "markdown",
   "metadata": {},
   "source": [
    "#### (a) Definición de `Dual` de una constante numérica"
   ]
  },
  {
   "cell_type": "code",
   "execution_count": 185,
   "metadata": {},
   "outputs": [
    {
     "data": {
      "text/plain": [
       "Dual"
      ]
     },
     "execution_count": 185,
     "metadata": {},
     "output_type": "execute_result"
    }
   ],
   "source": [
    "Dual(c::Real) = Dual(c, 0.0)"
   ]
  },
  {
   "cell_type": "markdown",
   "metadata": {},
   "source": [
    "#### (b) Definición de `Dual` para la variable independiente $x$ en $x_0$"
   ]
  },
  {
   "cell_type": "code",
   "execution_count": 186,
   "metadata": {},
   "outputs": [
    {
     "data": {
      "text/plain": [
       "dual (generic function with 1 method)"
      ]
     },
     "execution_count": 186,
     "metadata": {},
     "output_type": "execute_result"
    }
   ],
   "source": [
    "dual(x0::Real) = Dual(x0, 1.0)"
   ]
  },
  {
   "cell_type": "markdown",
   "metadata": {},
   "source": [
    "#### (c) Obtención de la derivada de $g(x)$"
   ]
  },
  {
   "cell_type": "markdown",
   "metadata": {},
   "source": [
    "Definimos la variable $z$ de modo que $Pn$ se comporte como la función identidad. "
   ]
  },
  {
   "cell_type": "code",
   "execution_count": 194,
   "metadata": {},
   "outputs": [
    {
     "data": {
      "text/plain": []
     },
     "execution_count": 194,
     "metadata": {},
     "output_type": "execute_result"
    },
    {
     "name": "stdout",
     "output_type": "stream",
     "text": [
      "1.0 + 1.0 ε "
     ]
    }
   ],
   "source": [
    "z = dual(1)"
   ]
  },
  {
   "cell_type": "markdown",
   "metadata": {},
   "source": [
    "Definimos ahora dos funciones, $r(x)$ como el numerador de $g(x)$, y $s(x)$ como el denominador de $g(x)$."
   ]
  },
  {
   "cell_type": "code",
   "execution_count": 199,
   "metadata": {},
   "outputs": [
    {
     "data": {
      "text/plain": [
       "r (generic function with 1 method)"
      ]
     },
     "execution_count": 199,
     "metadata": {},
     "output_type": "execute_result"
    }
   ],
   "source": [
    "r(x) = 3x^2 - 8x + 5"
   ]
  },
  {
   "cell_type": "code",
   "execution_count": 200,
   "metadata": {},
   "outputs": [
    {
     "data": {
      "text/plain": [
       "s (generic function with 1 method)"
      ]
     },
     "execution_count": 200,
     "metadata": {},
     "output_type": "execute_result"
    }
   ],
   "source": [
    "s(x) = 7x^3 - 1"
   ]
  },
  {
   "cell_type": "markdown",
   "metadata": {},
   "source": [
    "Evaluamos $r(x)$ y $s(x)$ en $z$."
   ]
  },
  {
   "cell_type": "code",
   "execution_count": 190,
   "metadata": {},
   "outputs": [
    {
     "data": {
      "text/plain": []
     },
     "execution_count": 190,
     "metadata": {},
     "output_type": "execute_result"
    },
    {
     "name": "stdout",
     "output_type": "stream",
     "text": [
      "0.0 - 2.0 ε "
     ]
    }
   ],
   "source": [
    "dual_1 = r(z)"
   ]
  },
  {
   "cell_type": "code",
   "execution_count": 192,
   "metadata": {},
   "outputs": [
    {
     "data": {
      "text/plain": []
     },
     "execution_count": 192,
     "metadata": {},
     "output_type": "execute_result"
    },
    {
     "name": "stdout",
     "output_type": "stream",
     "text": [
      "6.0 + 21.0 ε "
     ]
    }
   ],
   "source": [
    "dual_2 = s(z)"
   ]
  },
  {
   "cell_type": "markdown",
   "metadata": {},
   "source": [
    "Finalmente, obtemenos la derivada  $g\\prime(x)$ utilizando para ello la definición de \"Cociente de duales\", específicamente la segunda componente del dual resultante"
   ]
  },
  {
   "cell_type": "code",
   "execution_count": 201,
   "metadata": {},
   "outputs": [
    {
     "data": {
      "text/plain": []
     },
     "execution_count": 201,
     "metadata": {},
     "output_type": "execute_result"
    },
    {
     "name": "stdout",
     "output_type": "stream",
     "text": [
      "0.0 - 0.3333333333333333 ε "
     ]
    }
   ],
   "source": [
    "Derivada_cociente = dual_1 / dual_2"
   ]
  },
  {
   "cell_type": "markdown",
   "metadata": {},
   "source": [
    "La derivada $g\\prime(x)$ es igual a -0.33333333..."
   ]
  },
  {
   "cell_type": "markdown",
   "metadata": {},
   "source": [
    "## 5\n",
    "\n",
    "- Recordando la regla de la cadena(!!!), extiendan el usar los `Dual` a las funciones `sqrt`, `exp`, `log`, `sin`, `cos`, `sinh` y `cosh`. \n",
    "\n",
    "- Muestren que las cosas dan los resultados que esperan usando pruebas como hicieron en el ejercicio 2.\n",
    "\n",
    "- Calculen la derivada de $h(x) = \\sin\\Big(x^3 - \\frac{2}{x^6}\\Big)$ en $x_0 = 2$. ¿Qué tan preciso es el resultado?(Pueden usar cualquier otra manera de obtener el resultado correcto, sólo tienen que ser claros en la explicación.)\n",
    "\n",
    "- Dibujen, para $x_0 \\in [1,5]$ la función $h'(x)$."
   ]
  },
  {
   "cell_type": "code",
   "execution_count": 208,
   "metadata": {},
   "outputs": [],
   "source": [
    "import Base: sqrt, exp, log, sin, cos, sinh, cosh "
   ]
  },
  {
   "cell_type": "markdown",
   "metadata": {},
   "source": [
    "### (a) Definición de las operaciones con Duales"
   ]
  },
  {
   "cell_type": "code",
   "execution_count": 209,
   "metadata": {},
   "outputs": [
    {
     "data": {
      "text/plain": [
       "sqrt (generic function with 11 methods)"
      ]
     },
     "execution_count": 209,
     "metadata": {},
     "output_type": "execute_result"
    }
   ],
   "source": [
    "sqrt(u::Dual) = Dual(sqrt(u.x), (u.x′)/2(sqrt(u.x)))"
   ]
  },
  {
   "cell_type": "code",
   "execution_count": 210,
   "metadata": {},
   "outputs": [
    {
     "data": {
      "text/plain": [
       "exp (generic function with 11 methods)"
      ]
     },
     "execution_count": 210,
     "metadata": {},
     "output_type": "execute_result"
    }
   ],
   "source": [
    "exp(u::Dual) = Dual(exp(u.x), u.x′*exp(u.x))"
   ]
  },
  {
   "cell_type": "code",
   "execution_count": 211,
   "metadata": {},
   "outputs": [
    {
     "data": {
      "text/plain": [
       "log (generic function with 19 methods)"
      ]
     },
     "execution_count": 211,
     "metadata": {},
     "output_type": "execute_result"
    }
   ],
   "source": [
    "log(u::Dual) = Dual(log(u.x), u.x′ / u.x)"
   ]
  },
  {
   "cell_type": "code",
   "execution_count": 214,
   "metadata": {},
   "outputs": [
    {
     "data": {
      "text/plain": [
       "sin (generic function with 11 methods)"
      ]
     },
     "execution_count": 214,
     "metadata": {},
     "output_type": "execute_result"
    }
   ],
   "source": [
    "sin(u::Dual) = Dual(sin(u.x), u.x′ * cos(u.x))"
   ]
  },
  {
   "cell_type": "code",
   "execution_count": 215,
   "metadata": {},
   "outputs": [
    {
     "data": {
      "text/plain": [
       "cos (generic function with 11 methods)"
      ]
     },
     "execution_count": 215,
     "metadata": {},
     "output_type": "execute_result"
    }
   ],
   "source": [
    "cos(u::Dual) = Dual(cos(u.x), u.x′ * (-sin(u.x)))"
   ]
  },
  {
   "cell_type": "code",
   "execution_count": 216,
   "metadata": {},
   "outputs": [
    {
     "data": {
      "text/plain": [
       "sinh (generic function with 12 methods)"
      ]
     },
     "execution_count": 216,
     "metadata": {},
     "output_type": "execute_result"
    }
   ],
   "source": [
    "sinh(u::Dual) = Dual(sinh(u.x), u.x′ * cosh(u.x))"
   ]
  },
  {
   "cell_type": "code",
   "execution_count": 217,
   "metadata": {},
   "outputs": [
    {
     "data": {
      "text/plain": [
       "cosh (generic function with 12 methods)"
      ]
     },
     "execution_count": 217,
     "metadata": {},
     "output_type": "execute_result"
    }
   ],
   "source": [
    "cosh(u::Dual) = Dual(cosh(u.x), u.x′ * sinh(u.x))"
   ]
  },
  {
   "cell_type": "markdown",
   "metadata": {},
   "source": [
    "## 6\n",
    "\n",
    "Implementen el método de Newton para una función arbitraria $f(x)$ en una variable, explotando el uso de los `Dual`. \n",
    "\n",
    "- Obtengan, usando su función para el método de Newton, las raices del polinomio de Wilkinson \n",
    "\n",
    "$$\n",
    "W_{6}(x) = (x-1)(x-2)(x-3)(x-4)(x-5)(x-6),\n",
    "$$ \n",
    "\n",
    "usando como iterados iniciales $x_0=2.2$ y $x_0=2.45$.\n",
    "    \n",
    "- Hagan lo mismo que en el inciso anterior para $g(x) = x \\sin(2x)$, con $x_0=0.7$."
   ]
  },
  {
   "cell_type": "markdown",
   "metadata": {},
   "source": [
    "### (A) Método de Newton con Duales"
   ]
  },
  {
   "cell_type": "code",
   "execution_count": 297,
   "metadata": {},
   "outputs": [
    {
     "data": {
      "text/plain": [
       "newton_dual"
      ]
     },
     "execution_count": 297,
     "metadata": {},
     "output_type": "execute_result"
    }
   ],
   "source": [
    "doc\"\"\"\n",
    "    newton(f, x0, n_iter)\n",
    "Devuelve las raíces de la función `f` cuyas entradas son un número `Dual`.\n",
    "\n",
    "\"\"\"\n",
    "function newton_dual(f, x0, n_iter::Int64=1000)\n",
    "    \n",
    "    x_nn = x_n = x0\n",
    "    \n",
    "    for i in 1:n_iter\n",
    "        a = dual(x_n)\n",
    "        z = f(a)\n",
    "        x_nn = x_n - (z.x / z.x′)\n",
    "        x_n = x_nn\n",
    "    end\n",
    "    return float(x_nn)\n",
    "end"
   ]
  },
  {
   "cell_type": "markdown",
   "metadata": {},
   "source": [
    "### (B) Polinomio de Wilkinson"
   ]
  },
  {
   "cell_type": "code",
   "execution_count": 298,
   "metadata": {},
   "outputs": [
    {
     "data": {
      "text/plain": [
       "W_6 (generic function with 1 method)"
      ]
     },
     "execution_count": 298,
     "metadata": {},
     "output_type": "execute_result"
    }
   ],
   "source": [
    "W_6(x) = (x-1)*(x-2)*(x-3)*(x-4)*(x-5)*(x-6)"
   ]
  },
  {
   "cell_type": "markdown",
   "metadata": {},
   "source": [
    "#### (i) Iterado inicial $x_0=2.2$"
   ]
  },
  {
   "cell_type": "code",
   "execution_count": 299,
   "metadata": {},
   "outputs": [],
   "source": [
    "x0 = 2.2\n",
    "\n",
    "iters = 1:2:1000\n",
    "raices_1 = []\n",
    "\n",
    "for n_iter in iters\n",
    "    raiz = newton_dual(W_6, x0, n_iter)\n",
    "    push!(raices_1, raiz)\n",
    "end"
   ]
  },
  {
   "cell_type": "markdown",
   "metadata": {},
   "source": [
    "#### (ii) Iterado inicial $x_0=2.45$"
   ]
  },
  {
   "cell_type": "code",
   "execution_count": 300,
   "metadata": {},
   "outputs": [],
   "source": [
    "x0 = 2.45\n",
    "\n",
    "iters = 1:2:1000\n",
    "raices_2 = []\n",
    "\n",
    "for n_iter in iters\n",
    "    raiz = newton_dual(W_6, x0, n_iter)\n",
    "    push!(raices_2, raiz)\n",
    "end"
   ]
  },
  {
   "cell_type": "markdown",
   "metadata": {},
   "source": [
    "#### (iii) Raíces de $W_{6}(x)$"
   ]
  },
  {
   "cell_type": "code",
   "execution_count": 301,
   "metadata": {},
   "outputs": [],
   "source": [
    "rango_x0 = -100:100\n",
    "\n",
    "n_iter = 1000\n",
    "raices_3 = []\n",
    "\n",
    "for x0 in rango_x0\n",
    "    raiz = newton_dual(W_6, x0, n_iter)\n",
    "    push!(raices_3, raiz)\n",
    "end"
   ]
  },
  {
   "cell_type": "code",
   "execution_count": 302,
   "metadata": {},
   "outputs": [
    {
     "data": {
      "text/plain": [
       "6-element Array{Float64,1}:\n",
       " 1.0\n",
       " 2.0\n",
       " 3.0\n",
       " 4.0\n",
       " 5.0\n",
       " 6.0"
      ]
     },
     "execution_count": 302,
     "metadata": {},
     "output_type": "execute_result"
    }
   ],
   "source": [
    "unique(raices_3)"
   ]
  },
  {
   "cell_type": "markdown",
   "metadata": {},
   "source": [
    "### (C) Función $g(x)=x sin(2x)$"
   ]
  },
  {
   "cell_type": "code",
   "execution_count": 303,
   "metadata": {},
   "outputs": [],
   "source": [
    "g(x) = x*sin(2x)\n",
    "\n",
    "x0 = 0.7\n",
    "\n",
    "iters = 1:2:1000\n",
    "raices_g = []\n",
    "\n",
    "for n_iter in iters\n",
    "    raiz = newton_dual(g, x0, n_iter)\n",
    "    push!(raices_g, raiz)\n",
    "end"
   ]
  },
  {
   "cell_type": "code",
   "execution_count": 306,
   "metadata": {},
   "outputs": [
    {
     "data": {
      "image/svg+xml": [
       "<?xml version=\"1.0\" encoding=\"utf-8\"?>\n",
       "<svg xmlns=\"http://www.w3.org/2000/svg\" xmlns:xlink=\"http://www.w3.org/1999/xlink\" width=\"600\" height=\"400\" viewBox=\"0 0 600 400\">\n",
       "<defs>\n",
       "  <clipPath id=\"clip8200\">\n",
       "    <rect x=\"0\" y=\"0\" width=\"600\" height=\"400\"/>\n",
       "  </clipPath>\n",
       "</defs>\n",
       "<polygon clip-path=\"url(#clip8200)\" points=\"\n",
       "0,400 600,400 600,0 0,0 \n",
       "  \" fill=\"#ffffff\" fill-opacity=\"1\"/>\n",
       "<defs>\n",
       "  <clipPath id=\"clip8201\">\n",
       "    <rect x=\"120\" y=\"0\" width=\"421\" height=\"400\"/>\n",
       "  </clipPath>\n",
       "</defs>\n",
       "<polygon clip-path=\"url(#clip8200)\" points=\"\n",
       "53.7297,375.869 580.315,375.869 580.315,11.811 53.7297,11.811 \n",
       "  \" fill=\"#ffffff\" fill-opacity=\"1\"/>\n",
       "<defs>\n",
       "  <clipPath id=\"clip8202\">\n",
       "    <rect x=\"53\" y=\"11\" width=\"528\" height=\"365\"/>\n",
       "  </clipPath>\n",
       "</defs>\n",
       "<polyline clip-path=\"url(#clip8202)\" style=\"stroke:#000000; stroke-width:0.5; stroke-opacity:0.1; fill:none\" points=\"\n",
       "  68.1353,375.869 68.1353,11.811 \n",
       "  \"/>\n",
       "<polyline clip-path=\"url(#clip8202)\" style=\"stroke:#000000; stroke-width:0.5; stroke-opacity:0.1; fill:none\" points=\"\n",
       "  192.579,375.869 192.579,11.811 \n",
       "  \"/>\n",
       "<polyline clip-path=\"url(#clip8202)\" style=\"stroke:#000000; stroke-width:0.5; stroke-opacity:0.1; fill:none\" points=\"\n",
       "  317.022,375.869 317.022,11.811 \n",
       "  \"/>\n",
       "<polyline clip-path=\"url(#clip8202)\" style=\"stroke:#000000; stroke-width:0.5; stroke-opacity:0.1; fill:none\" points=\"\n",
       "  441.466,375.869 441.466,11.811 \n",
       "  \"/>\n",
       "<polyline clip-path=\"url(#clip8202)\" style=\"stroke:#000000; stroke-width:0.5; stroke-opacity:0.1; fill:none\" points=\"\n",
       "  565.909,375.869 565.909,11.811 \n",
       "  \"/>\n",
       "<polyline clip-path=\"url(#clip8202)\" style=\"stroke:#000000; stroke-width:0.5; stroke-opacity:0.1; fill:none\" points=\"\n",
       "  53.7297,365.565 580.315,365.565 \n",
       "  \"/>\n",
       "<polyline clip-path=\"url(#clip8202)\" style=\"stroke:#000000; stroke-width:0.5; stroke-opacity:0.1; fill:none\" points=\"\n",
       "  53.7297,302.501 580.315,302.501 \n",
       "  \"/>\n",
       "<polyline clip-path=\"url(#clip8202)\" style=\"stroke:#000000; stroke-width:0.5; stroke-opacity:0.1; fill:none\" points=\"\n",
       "  53.7297,239.437 580.315,239.437 \n",
       "  \"/>\n",
       "<polyline clip-path=\"url(#clip8202)\" style=\"stroke:#000000; stroke-width:0.5; stroke-opacity:0.1; fill:none\" points=\"\n",
       "  53.7297,176.372 580.315,176.372 \n",
       "  \"/>\n",
       "<polyline clip-path=\"url(#clip8202)\" style=\"stroke:#000000; stroke-width:0.5; stroke-opacity:0.1; fill:none\" points=\"\n",
       "  53.7297,113.308 580.315,113.308 \n",
       "  \"/>\n",
       "<polyline clip-path=\"url(#clip8202)\" style=\"stroke:#000000; stroke-width:0.5; stroke-opacity:0.1; fill:none\" points=\"\n",
       "  53.7297,50.244 580.315,50.244 \n",
       "  \"/>\n",
       "<polyline clip-path=\"url(#clip8200)\" style=\"stroke:#000000; stroke-width:1; stroke-opacity:1; fill:none\" points=\"\n",
       "  53.7297,375.869 580.315,375.869 \n",
       "  \"/>\n",
       "<polyline clip-path=\"url(#clip8200)\" style=\"stroke:#000000; stroke-width:1; stroke-opacity:1; fill:none\" points=\"\n",
       "  53.7297,375.869 53.7297,11.811 \n",
       "  \"/>\n",
       "<polyline clip-path=\"url(#clip8200)\" style=\"stroke:#000000; stroke-width:1; stroke-opacity:1; fill:none\" points=\"\n",
       "  68.1353,375.869 68.1353,370.408 \n",
       "  \"/>\n",
       "<polyline clip-path=\"url(#clip8200)\" style=\"stroke:#000000; stroke-width:1; stroke-opacity:1; fill:none\" points=\"\n",
       "  192.579,375.869 192.579,370.408 \n",
       "  \"/>\n",
       "<polyline clip-path=\"url(#clip8200)\" style=\"stroke:#000000; stroke-width:1; stroke-opacity:1; fill:none\" points=\"\n",
       "  317.022,375.869 317.022,370.408 \n",
       "  \"/>\n",
       "<polyline clip-path=\"url(#clip8200)\" style=\"stroke:#000000; stroke-width:1; stroke-opacity:1; fill:none\" points=\"\n",
       "  441.466,375.869 441.466,370.408 \n",
       "  \"/>\n",
       "<polyline clip-path=\"url(#clip8200)\" style=\"stroke:#000000; stroke-width:1; stroke-opacity:1; fill:none\" points=\"\n",
       "  565.909,375.869 565.909,370.408 \n",
       "  \"/>\n",
       "<polyline clip-path=\"url(#clip8200)\" style=\"stroke:#000000; stroke-width:1; stroke-opacity:1; fill:none\" points=\"\n",
       "  53.7297,365.565 61.6285,365.565 \n",
       "  \"/>\n",
       "<polyline clip-path=\"url(#clip8200)\" style=\"stroke:#000000; stroke-width:1; stroke-opacity:1; fill:none\" points=\"\n",
       "  53.7297,302.501 61.6285,302.501 \n",
       "  \"/>\n",
       "<polyline clip-path=\"url(#clip8200)\" style=\"stroke:#000000; stroke-width:1; stroke-opacity:1; fill:none\" points=\"\n",
       "  53.7297,239.437 61.6285,239.437 \n",
       "  \"/>\n",
       "<polyline clip-path=\"url(#clip8200)\" style=\"stroke:#000000; stroke-width:1; stroke-opacity:1; fill:none\" points=\"\n",
       "  53.7297,176.372 61.6285,176.372 \n",
       "  \"/>\n",
       "<polyline clip-path=\"url(#clip8200)\" style=\"stroke:#000000; stroke-width:1; stroke-opacity:1; fill:none\" points=\"\n",
       "  53.7297,113.308 61.6285,113.308 \n",
       "  \"/>\n",
       "<polyline clip-path=\"url(#clip8200)\" style=\"stroke:#000000; stroke-width:1; stroke-opacity:1; fill:none\" points=\"\n",
       "  53.7297,50.244 61.6285,50.244 \n",
       "  \"/>\n",
       "<g clip-path=\"url(#clip8200)\">\n",
       "<text style=\"fill:#000000; fill-opacity:1; font-family:Arial,Helvetica Neue,Helvetica,sans-serif; font-size:12; text-anchor:middle;\" transform=\"rotate(0, 68.1353, 389.669)\" x=\"68.1353\" y=\"389.669\">0</text>\n",
       "</g>\n",
       "<g clip-path=\"url(#clip8200)\">\n",
       "<text style=\"fill:#000000; fill-opacity:1; font-family:Arial,Helvetica Neue,Helvetica,sans-serif; font-size:12; text-anchor:middle;\" transform=\"rotate(0, 192.579, 389.669)\" x=\"192.579\" y=\"389.669\">250</text>\n",
       "</g>\n",
       "<g clip-path=\"url(#clip8200)\">\n",
       "<text style=\"fill:#000000; fill-opacity:1; font-family:Arial,Helvetica Neue,Helvetica,sans-serif; font-size:12; text-anchor:middle;\" transform=\"rotate(0, 317.022, 389.669)\" x=\"317.022\" y=\"389.669\">500</text>\n",
       "</g>\n",
       "<g clip-path=\"url(#clip8200)\">\n",
       "<text style=\"fill:#000000; fill-opacity:1; font-family:Arial,Helvetica Neue,Helvetica,sans-serif; font-size:12; text-anchor:middle;\" transform=\"rotate(0, 441.466, 389.669)\" x=\"441.466\" y=\"389.669\">750</text>\n",
       "</g>\n",
       "<g clip-path=\"url(#clip8200)\">\n",
       "<text style=\"fill:#000000; fill-opacity:1; font-family:Arial,Helvetica Neue,Helvetica,sans-serif; font-size:12; text-anchor:middle;\" transform=\"rotate(0, 565.909, 389.669)\" x=\"565.909\" y=\"389.669\">1000</text>\n",
       "</g>\n",
       "<g clip-path=\"url(#clip8200)\">\n",
       "<text style=\"fill:#000000; fill-opacity:1; font-family:Arial,Helvetica Neue,Helvetica,sans-serif; font-size:12; text-anchor:end;\" transform=\"rotate(0, 47.7297, 370.065)\" x=\"47.7297\" y=\"370.065\">0.000</text>\n",
       "</g>\n",
       "<g clip-path=\"url(#clip8200)\">\n",
       "<text style=\"fill:#000000; fill-opacity:1; font-family:Arial,Helvetica Neue,Helvetica,sans-serif; font-size:12; text-anchor:end;\" transform=\"rotate(0, 47.7297, 307.001)\" x=\"47.7297\" y=\"307.001\">0.025</text>\n",
       "</g>\n",
       "<g clip-path=\"url(#clip8200)\">\n",
       "<text style=\"fill:#000000; fill-opacity:1; font-family:Arial,Helvetica Neue,Helvetica,sans-serif; font-size:12; text-anchor:end;\" transform=\"rotate(0, 47.7297, 243.937)\" x=\"47.7297\" y=\"243.937\">0.050</text>\n",
       "</g>\n",
       "<g clip-path=\"url(#clip8200)\">\n",
       "<text style=\"fill:#000000; fill-opacity:1; font-family:Arial,Helvetica Neue,Helvetica,sans-serif; font-size:12; text-anchor:end;\" transform=\"rotate(0, 47.7297, 180.872)\" x=\"47.7297\" y=\"180.872\">0.075</text>\n",
       "</g>\n",
       "<g clip-path=\"url(#clip8200)\">\n",
       "<text style=\"fill:#000000; fill-opacity:1; font-family:Arial,Helvetica Neue,Helvetica,sans-serif; font-size:12; text-anchor:end;\" transform=\"rotate(0, 47.7297, 117.808)\" x=\"47.7297\" y=\"117.808\">0.100</text>\n",
       "</g>\n",
       "<g clip-path=\"url(#clip8200)\">\n",
       "<text style=\"fill:#000000; fill-opacity:1; font-family:Arial,Helvetica Neue,Helvetica,sans-serif; font-size:12; text-anchor:end;\" transform=\"rotate(0, 47.7297, 54.744)\" x=\"47.7297\" y=\"54.744\">0.125</text>\n",
       "</g>\n",
       "<circle clip-path=\"url(#clip8202)\" style=\"fill:#000000; stroke:none; fill-opacity:1\" cx=\"68.633\" cy=\"22.1145\" r=\"4\"/>\n",
       "<circle clip-path=\"url(#clip8202)\" style=\"fill:#009af9; stroke:none; fill-opacity:1\" cx=\"68.633\" cy=\"22.1145\" r=\"3\"/>\n",
       "<circle clip-path=\"url(#clip8202)\" style=\"fill:#000000; stroke:none; fill-opacity:1\" cx=\"69.6286\" cy=\"281.039\" r=\"4\"/>\n",
       "<circle clip-path=\"url(#clip8202)\" style=\"fill:#009af9; stroke:none; fill-opacity:1\" cx=\"69.6286\" cy=\"281.039\" r=\"3\"/>\n",
       "<circle clip-path=\"url(#clip8202)\" style=\"fill:#000000; stroke:none; fill-opacity:1\" cx=\"70.6241\" cy=\"344.453\" r=\"4\"/>\n",
       "<circle clip-path=\"url(#clip8202)\" style=\"fill:#009af9; stroke:none; fill-opacity:1\" cx=\"70.6241\" cy=\"344.453\" r=\"3\"/>\n",
       "<circle clip-path=\"url(#clip8202)\" style=\"fill:#000000; stroke:none; fill-opacity:1\" cx=\"71.6197\" cy=\"360.288\" r=\"4\"/>\n",
       "<circle clip-path=\"url(#clip8202)\" style=\"fill:#009af9; stroke:none; fill-opacity:1\" cx=\"71.6197\" cy=\"360.288\" r=\"3\"/>\n",
       "<circle clip-path=\"url(#clip8202)\" style=\"fill:#000000; stroke:none; fill-opacity:1\" cx=\"72.6152\" cy=\"364.246\" r=\"4\"/>\n",
       "<circle clip-path=\"url(#clip8202)\" style=\"fill:#009af9; stroke:none; fill-opacity:1\" cx=\"72.6152\" cy=\"364.246\" r=\"3\"/>\n",
       "<circle clip-path=\"url(#clip8202)\" style=\"fill:#000000; stroke:none; fill-opacity:1\" cx=\"73.6108\" cy=\"365.235\" r=\"4\"/>\n",
       "<circle clip-path=\"url(#clip8202)\" style=\"fill:#009af9; stroke:none; fill-opacity:1\" cx=\"73.6108\" cy=\"365.235\" r=\"3\"/>\n",
       "<circle clip-path=\"url(#clip8202)\" style=\"fill:#000000; stroke:none; fill-opacity:1\" cx=\"74.6063\" cy=\"365.483\" r=\"4\"/>\n",
       "<circle clip-path=\"url(#clip8202)\" style=\"fill:#009af9; stroke:none; fill-opacity:1\" cx=\"74.6063\" cy=\"365.483\" r=\"3\"/>\n",
       "<circle clip-path=\"url(#clip8202)\" style=\"fill:#000000; stroke:none; fill-opacity:1\" cx=\"75.6019\" cy=\"365.545\" r=\"4\"/>\n",
       "<circle clip-path=\"url(#clip8202)\" style=\"fill:#009af9; stroke:none; fill-opacity:1\" cx=\"75.6019\" cy=\"365.545\" r=\"3\"/>\n",
       "<circle clip-path=\"url(#clip8202)\" style=\"fill:#000000; stroke:none; fill-opacity:1\" cx=\"76.5974\" cy=\"365.56\" r=\"4\"/>\n",
       "<circle clip-path=\"url(#clip8202)\" style=\"fill:#009af9; stroke:none; fill-opacity:1\" cx=\"76.5974\" cy=\"365.56\" r=\"3\"/>\n",
       "<circle clip-path=\"url(#clip8202)\" style=\"fill:#000000; stroke:none; fill-opacity:1\" cx=\"77.593\" cy=\"365.564\" r=\"4\"/>\n",
       "<circle clip-path=\"url(#clip8202)\" style=\"fill:#009af9; stroke:none; fill-opacity:1\" cx=\"77.593\" cy=\"365.564\" r=\"3\"/>\n",
       "<circle clip-path=\"url(#clip8202)\" style=\"fill:#000000; stroke:none; fill-opacity:1\" cx=\"78.5885\" cy=\"365.565\" r=\"4\"/>\n",
       "<circle clip-path=\"url(#clip8202)\" style=\"fill:#009af9; stroke:none; fill-opacity:1\" cx=\"78.5885\" cy=\"365.565\" r=\"3\"/>\n",
       "<circle clip-path=\"url(#clip8202)\" style=\"fill:#000000; stroke:none; fill-opacity:1\" cx=\"79.5841\" cy=\"365.565\" r=\"4\"/>\n",
       "<circle clip-path=\"url(#clip8202)\" style=\"fill:#009af9; stroke:none; fill-opacity:1\" cx=\"79.5841\" cy=\"365.565\" r=\"3\"/>\n",
       "<circle clip-path=\"url(#clip8202)\" style=\"fill:#000000; stroke:none; fill-opacity:1\" cx=\"80.5796\" cy=\"365.565\" r=\"4\"/>\n",
       "<circle clip-path=\"url(#clip8202)\" style=\"fill:#009af9; stroke:none; fill-opacity:1\" cx=\"80.5796\" cy=\"365.565\" r=\"3\"/>\n",
       "<circle clip-path=\"url(#clip8202)\" style=\"fill:#000000; stroke:none; fill-opacity:1\" cx=\"81.5752\" cy=\"365.565\" r=\"4\"/>\n",
       "<circle clip-path=\"url(#clip8202)\" style=\"fill:#009af9; stroke:none; fill-opacity:1\" cx=\"81.5752\" cy=\"365.565\" r=\"3\"/>\n",
       "<circle clip-path=\"url(#clip8202)\" style=\"fill:#000000; stroke:none; fill-opacity:1\" cx=\"82.5707\" cy=\"365.565\" r=\"4\"/>\n",
       "<circle clip-path=\"url(#clip8202)\" style=\"fill:#009af9; stroke:none; fill-opacity:1\" cx=\"82.5707\" cy=\"365.565\" r=\"3\"/>\n",
       "<circle clip-path=\"url(#clip8202)\" style=\"fill:#000000; stroke:none; fill-opacity:1\" cx=\"83.5663\" cy=\"365.565\" r=\"4\"/>\n",
       "<circle clip-path=\"url(#clip8202)\" style=\"fill:#009af9; stroke:none; fill-opacity:1\" cx=\"83.5663\" cy=\"365.565\" r=\"3\"/>\n",
       "<circle clip-path=\"url(#clip8202)\" style=\"fill:#000000; stroke:none; fill-opacity:1\" cx=\"84.5618\" cy=\"365.565\" r=\"4\"/>\n",
       "<circle clip-path=\"url(#clip8202)\" style=\"fill:#009af9; stroke:none; fill-opacity:1\" cx=\"84.5618\" cy=\"365.565\" r=\"3\"/>\n",
       "<circle clip-path=\"url(#clip8202)\" style=\"fill:#000000; stroke:none; fill-opacity:1\" cx=\"85.5574\" cy=\"365.565\" r=\"4\"/>\n",
       "<circle clip-path=\"url(#clip8202)\" style=\"fill:#009af9; stroke:none; fill-opacity:1\" cx=\"85.5574\" cy=\"365.565\" r=\"3\"/>\n",
       "<circle clip-path=\"url(#clip8202)\" style=\"fill:#000000; stroke:none; fill-opacity:1\" cx=\"86.5529\" cy=\"365.565\" r=\"4\"/>\n",
       "<circle clip-path=\"url(#clip8202)\" style=\"fill:#009af9; stroke:none; fill-opacity:1\" cx=\"86.5529\" cy=\"365.565\" r=\"3\"/>\n",
       "<circle clip-path=\"url(#clip8202)\" style=\"fill:#000000; stroke:none; fill-opacity:1\" cx=\"87.5485\" cy=\"365.565\" r=\"4\"/>\n",
       "<circle clip-path=\"url(#clip8202)\" style=\"fill:#009af9; stroke:none; fill-opacity:1\" cx=\"87.5485\" cy=\"365.565\" r=\"3\"/>\n",
       "<circle clip-path=\"url(#clip8202)\" style=\"fill:#000000; stroke:none; fill-opacity:1\" cx=\"88.544\" cy=\"365.565\" r=\"4\"/>\n",
       "<circle clip-path=\"url(#clip8202)\" style=\"fill:#009af9; stroke:none; fill-opacity:1\" cx=\"88.544\" cy=\"365.565\" r=\"3\"/>\n",
       "<circle clip-path=\"url(#clip8202)\" style=\"fill:#000000; stroke:none; fill-opacity:1\" cx=\"89.5395\" cy=\"365.565\" r=\"4\"/>\n",
       "<circle clip-path=\"url(#clip8202)\" style=\"fill:#009af9; stroke:none; fill-opacity:1\" cx=\"89.5395\" cy=\"365.565\" r=\"3\"/>\n",
       "<circle clip-path=\"url(#clip8202)\" style=\"fill:#000000; stroke:none; fill-opacity:1\" cx=\"90.5351\" cy=\"365.565\" r=\"4\"/>\n",
       "<circle clip-path=\"url(#clip8202)\" style=\"fill:#009af9; stroke:none; fill-opacity:1\" cx=\"90.5351\" cy=\"365.565\" r=\"3\"/>\n",
       "<circle clip-path=\"url(#clip8202)\" style=\"fill:#000000; stroke:none; fill-opacity:1\" cx=\"91.5306\" cy=\"365.565\" r=\"4\"/>\n",
       "<circle clip-path=\"url(#clip8202)\" style=\"fill:#009af9; stroke:none; fill-opacity:1\" cx=\"91.5306\" cy=\"365.565\" r=\"3\"/>\n",
       "<circle clip-path=\"url(#clip8202)\" style=\"fill:#000000; stroke:none; fill-opacity:1\" cx=\"92.5262\" cy=\"365.565\" r=\"4\"/>\n",
       "<circle clip-path=\"url(#clip8202)\" style=\"fill:#009af9; stroke:none; fill-opacity:1\" cx=\"92.5262\" cy=\"365.565\" r=\"3\"/>\n",
       "<circle clip-path=\"url(#clip8202)\" style=\"fill:#000000; stroke:none; fill-opacity:1\" cx=\"93.5217\" cy=\"365.565\" r=\"4\"/>\n",
       "<circle clip-path=\"url(#clip8202)\" style=\"fill:#009af9; stroke:none; fill-opacity:1\" cx=\"93.5217\" cy=\"365.565\" r=\"3\"/>\n",
       "<circle clip-path=\"url(#clip8202)\" style=\"fill:#000000; stroke:none; fill-opacity:1\" cx=\"94.5173\" cy=\"365.565\" r=\"4\"/>\n",
       "<circle clip-path=\"url(#clip8202)\" style=\"fill:#009af9; stroke:none; fill-opacity:1\" cx=\"94.5173\" cy=\"365.565\" r=\"3\"/>\n",
       "<circle clip-path=\"url(#clip8202)\" style=\"fill:#000000; stroke:none; fill-opacity:1\" cx=\"95.5128\" cy=\"365.565\" r=\"4\"/>\n",
       "<circle clip-path=\"url(#clip8202)\" style=\"fill:#009af9; stroke:none; fill-opacity:1\" cx=\"95.5128\" cy=\"365.565\" r=\"3\"/>\n",
       "<circle clip-path=\"url(#clip8202)\" style=\"fill:#000000; stroke:none; fill-opacity:1\" cx=\"96.5084\" cy=\"365.565\" r=\"4\"/>\n",
       "<circle clip-path=\"url(#clip8202)\" style=\"fill:#009af9; stroke:none; fill-opacity:1\" cx=\"96.5084\" cy=\"365.565\" r=\"3\"/>\n",
       "<circle clip-path=\"url(#clip8202)\" style=\"fill:#000000; stroke:none; fill-opacity:1\" cx=\"97.5039\" cy=\"365.565\" r=\"4\"/>\n",
       "<circle clip-path=\"url(#clip8202)\" style=\"fill:#009af9; stroke:none; fill-opacity:1\" cx=\"97.5039\" cy=\"365.565\" r=\"3\"/>\n",
       "<circle clip-path=\"url(#clip8202)\" style=\"fill:#000000; stroke:none; fill-opacity:1\" cx=\"98.4995\" cy=\"365.565\" r=\"4\"/>\n",
       "<circle clip-path=\"url(#clip8202)\" style=\"fill:#009af9; stroke:none; fill-opacity:1\" cx=\"98.4995\" cy=\"365.565\" r=\"3\"/>\n",
       "<circle clip-path=\"url(#clip8202)\" style=\"fill:#000000; stroke:none; fill-opacity:1\" cx=\"99.495\" cy=\"365.565\" r=\"4\"/>\n",
       "<circle clip-path=\"url(#clip8202)\" style=\"fill:#009af9; stroke:none; fill-opacity:1\" cx=\"99.495\" cy=\"365.565\" r=\"3\"/>\n",
       "<circle clip-path=\"url(#clip8202)\" style=\"fill:#000000; stroke:none; fill-opacity:1\" cx=\"100.491\" cy=\"365.565\" r=\"4\"/>\n",
       "<circle clip-path=\"url(#clip8202)\" style=\"fill:#009af9; stroke:none; fill-opacity:1\" cx=\"100.491\" cy=\"365.565\" r=\"3\"/>\n",
       "<circle clip-path=\"url(#clip8202)\" style=\"fill:#000000; stroke:none; fill-opacity:1\" cx=\"101.486\" cy=\"365.565\" r=\"4\"/>\n",
       "<circle clip-path=\"url(#clip8202)\" style=\"fill:#009af9; stroke:none; fill-opacity:1\" cx=\"101.486\" cy=\"365.565\" r=\"3\"/>\n",
       "<circle clip-path=\"url(#clip8202)\" style=\"fill:#000000; stroke:none; fill-opacity:1\" cx=\"102.482\" cy=\"365.565\" r=\"4\"/>\n",
       "<circle clip-path=\"url(#clip8202)\" style=\"fill:#009af9; stroke:none; fill-opacity:1\" cx=\"102.482\" cy=\"365.565\" r=\"3\"/>\n",
       "<circle clip-path=\"url(#clip8202)\" style=\"fill:#000000; stroke:none; fill-opacity:1\" cx=\"103.477\" cy=\"365.565\" r=\"4\"/>\n",
       "<circle clip-path=\"url(#clip8202)\" style=\"fill:#009af9; stroke:none; fill-opacity:1\" cx=\"103.477\" cy=\"365.565\" r=\"3\"/>\n",
       "<circle clip-path=\"url(#clip8202)\" style=\"fill:#000000; stroke:none; fill-opacity:1\" cx=\"104.473\" cy=\"365.565\" r=\"4\"/>\n",
       "<circle clip-path=\"url(#clip8202)\" style=\"fill:#009af9; stroke:none; fill-opacity:1\" cx=\"104.473\" cy=\"365.565\" r=\"3\"/>\n",
       "<circle clip-path=\"url(#clip8202)\" style=\"fill:#000000; stroke:none; fill-opacity:1\" cx=\"105.468\" cy=\"365.565\" r=\"4\"/>\n",
       "<circle clip-path=\"url(#clip8202)\" style=\"fill:#009af9; stroke:none; fill-opacity:1\" cx=\"105.468\" cy=\"365.565\" r=\"3\"/>\n",
       "<circle clip-path=\"url(#clip8202)\" style=\"fill:#000000; stroke:none; fill-opacity:1\" cx=\"106.464\" cy=\"365.565\" r=\"4\"/>\n",
       "<circle clip-path=\"url(#clip8202)\" style=\"fill:#009af9; stroke:none; fill-opacity:1\" cx=\"106.464\" cy=\"365.565\" r=\"3\"/>\n",
       "<circle clip-path=\"url(#clip8202)\" style=\"fill:#000000; stroke:none; fill-opacity:1\" cx=\"107.459\" cy=\"365.565\" r=\"4\"/>\n",
       "<circle clip-path=\"url(#clip8202)\" style=\"fill:#009af9; stroke:none; fill-opacity:1\" cx=\"107.459\" cy=\"365.565\" r=\"3\"/>\n",
       "<circle clip-path=\"url(#clip8202)\" style=\"fill:#000000; stroke:none; fill-opacity:1\" cx=\"108.455\" cy=\"365.565\" r=\"4\"/>\n",
       "<circle clip-path=\"url(#clip8202)\" style=\"fill:#009af9; stroke:none; fill-opacity:1\" cx=\"108.455\" cy=\"365.565\" r=\"3\"/>\n",
       "<circle clip-path=\"url(#clip8202)\" style=\"fill:#000000; stroke:none; fill-opacity:1\" cx=\"109.451\" cy=\"365.565\" r=\"4\"/>\n",
       "<circle clip-path=\"url(#clip8202)\" style=\"fill:#009af9; stroke:none; fill-opacity:1\" cx=\"109.451\" cy=\"365.565\" r=\"3\"/>\n",
       "<circle clip-path=\"url(#clip8202)\" style=\"fill:#000000; stroke:none; fill-opacity:1\" cx=\"110.446\" cy=\"365.565\" r=\"4\"/>\n",
       "<circle clip-path=\"url(#clip8202)\" style=\"fill:#009af9; stroke:none; fill-opacity:1\" cx=\"110.446\" cy=\"365.565\" r=\"3\"/>\n",
       "<circle clip-path=\"url(#clip8202)\" style=\"fill:#000000; stroke:none; fill-opacity:1\" cx=\"111.442\" cy=\"365.565\" r=\"4\"/>\n",
       "<circle clip-path=\"url(#clip8202)\" style=\"fill:#009af9; stroke:none; fill-opacity:1\" cx=\"111.442\" cy=\"365.565\" r=\"3\"/>\n",
       "<circle clip-path=\"url(#clip8202)\" style=\"fill:#000000; stroke:none; fill-opacity:1\" cx=\"112.437\" cy=\"365.565\" r=\"4\"/>\n",
       "<circle clip-path=\"url(#clip8202)\" style=\"fill:#009af9; stroke:none; fill-opacity:1\" cx=\"112.437\" cy=\"365.565\" r=\"3\"/>\n",
       "<circle clip-path=\"url(#clip8202)\" style=\"fill:#000000; stroke:none; fill-opacity:1\" cx=\"113.433\" cy=\"365.565\" r=\"4\"/>\n",
       "<circle clip-path=\"url(#clip8202)\" style=\"fill:#009af9; stroke:none; fill-opacity:1\" cx=\"113.433\" cy=\"365.565\" r=\"3\"/>\n",
       "<circle clip-path=\"url(#clip8202)\" style=\"fill:#000000; stroke:none; fill-opacity:1\" cx=\"114.428\" cy=\"365.565\" r=\"4\"/>\n",
       "<circle clip-path=\"url(#clip8202)\" style=\"fill:#009af9; stroke:none; fill-opacity:1\" cx=\"114.428\" cy=\"365.565\" r=\"3\"/>\n",
       "<circle clip-path=\"url(#clip8202)\" style=\"fill:#000000; stroke:none; fill-opacity:1\" cx=\"115.424\" cy=\"365.565\" r=\"4\"/>\n",
       "<circle clip-path=\"url(#clip8202)\" style=\"fill:#009af9; stroke:none; fill-opacity:1\" cx=\"115.424\" cy=\"365.565\" r=\"3\"/>\n",
       "<circle clip-path=\"url(#clip8202)\" style=\"fill:#000000; stroke:none; fill-opacity:1\" cx=\"116.419\" cy=\"365.565\" r=\"4\"/>\n",
       "<circle clip-path=\"url(#clip8202)\" style=\"fill:#009af9; stroke:none; fill-opacity:1\" cx=\"116.419\" cy=\"365.565\" r=\"3\"/>\n",
       "<circle clip-path=\"url(#clip8202)\" style=\"fill:#000000; stroke:none; fill-opacity:1\" cx=\"117.415\" cy=\"365.565\" r=\"4\"/>\n",
       "<circle clip-path=\"url(#clip8202)\" style=\"fill:#009af9; stroke:none; fill-opacity:1\" cx=\"117.415\" cy=\"365.565\" r=\"3\"/>\n",
       "<circle clip-path=\"url(#clip8202)\" style=\"fill:#000000; stroke:none; fill-opacity:1\" cx=\"118.41\" cy=\"365.565\" r=\"4\"/>\n",
       "<circle clip-path=\"url(#clip8202)\" style=\"fill:#009af9; stroke:none; fill-opacity:1\" cx=\"118.41\" cy=\"365.565\" r=\"3\"/>\n",
       "<circle clip-path=\"url(#clip8202)\" style=\"fill:#000000; stroke:none; fill-opacity:1\" cx=\"119.406\" cy=\"365.565\" r=\"4\"/>\n",
       "<circle clip-path=\"url(#clip8202)\" style=\"fill:#009af9; stroke:none; fill-opacity:1\" cx=\"119.406\" cy=\"365.565\" r=\"3\"/>\n",
       "<circle clip-path=\"url(#clip8202)\" style=\"fill:#000000; stroke:none; fill-opacity:1\" cx=\"120.402\" cy=\"365.565\" r=\"4\"/>\n",
       "<circle clip-path=\"url(#clip8202)\" style=\"fill:#009af9; stroke:none; fill-opacity:1\" cx=\"120.402\" cy=\"365.565\" r=\"3\"/>\n",
       "<circle clip-path=\"url(#clip8202)\" style=\"fill:#000000; stroke:none; fill-opacity:1\" cx=\"121.397\" cy=\"365.565\" r=\"4\"/>\n",
       "<circle clip-path=\"url(#clip8202)\" style=\"fill:#009af9; stroke:none; fill-opacity:1\" cx=\"121.397\" cy=\"365.565\" r=\"3\"/>\n",
       "<circle clip-path=\"url(#clip8202)\" style=\"fill:#000000; stroke:none; fill-opacity:1\" cx=\"122.393\" cy=\"365.565\" r=\"4\"/>\n",
       "<circle clip-path=\"url(#clip8202)\" style=\"fill:#009af9; stroke:none; fill-opacity:1\" cx=\"122.393\" cy=\"365.565\" r=\"3\"/>\n",
       "<circle clip-path=\"url(#clip8202)\" style=\"fill:#000000; stroke:none; fill-opacity:1\" cx=\"123.388\" cy=\"365.565\" r=\"4\"/>\n",
       "<circle clip-path=\"url(#clip8202)\" style=\"fill:#009af9; stroke:none; fill-opacity:1\" cx=\"123.388\" cy=\"365.565\" r=\"3\"/>\n",
       "<circle clip-path=\"url(#clip8202)\" style=\"fill:#000000; stroke:none; fill-opacity:1\" cx=\"124.384\" cy=\"365.565\" r=\"4\"/>\n",
       "<circle clip-path=\"url(#clip8202)\" style=\"fill:#009af9; stroke:none; fill-opacity:1\" cx=\"124.384\" cy=\"365.565\" r=\"3\"/>\n",
       "<circle clip-path=\"url(#clip8202)\" style=\"fill:#000000; stroke:none; fill-opacity:1\" cx=\"125.379\" cy=\"365.565\" r=\"4\"/>\n",
       "<circle clip-path=\"url(#clip8202)\" style=\"fill:#009af9; stroke:none; fill-opacity:1\" cx=\"125.379\" cy=\"365.565\" r=\"3\"/>\n",
       "<circle clip-path=\"url(#clip8202)\" style=\"fill:#000000; stroke:none; fill-opacity:1\" cx=\"126.375\" cy=\"365.565\" r=\"4\"/>\n",
       "<circle clip-path=\"url(#clip8202)\" style=\"fill:#009af9; stroke:none; fill-opacity:1\" cx=\"126.375\" cy=\"365.565\" r=\"3\"/>\n",
       "<circle clip-path=\"url(#clip8202)\" style=\"fill:#000000; stroke:none; fill-opacity:1\" cx=\"127.37\" cy=\"365.565\" r=\"4\"/>\n",
       "<circle clip-path=\"url(#clip8202)\" style=\"fill:#009af9; stroke:none; fill-opacity:1\" cx=\"127.37\" cy=\"365.565\" r=\"3\"/>\n",
       "<circle clip-path=\"url(#clip8202)\" style=\"fill:#000000; stroke:none; fill-opacity:1\" cx=\"128.366\" cy=\"365.565\" r=\"4\"/>\n",
       "<circle clip-path=\"url(#clip8202)\" style=\"fill:#009af9; stroke:none; fill-opacity:1\" cx=\"128.366\" cy=\"365.565\" r=\"3\"/>\n",
       "<circle clip-path=\"url(#clip8202)\" style=\"fill:#000000; stroke:none; fill-opacity:1\" cx=\"129.361\" cy=\"365.565\" r=\"4\"/>\n",
       "<circle clip-path=\"url(#clip8202)\" style=\"fill:#009af9; stroke:none; fill-opacity:1\" cx=\"129.361\" cy=\"365.565\" r=\"3\"/>\n",
       "<circle clip-path=\"url(#clip8202)\" style=\"fill:#000000; stroke:none; fill-opacity:1\" cx=\"130.357\" cy=\"365.565\" r=\"4\"/>\n",
       "<circle clip-path=\"url(#clip8202)\" style=\"fill:#009af9; stroke:none; fill-opacity:1\" cx=\"130.357\" cy=\"365.565\" r=\"3\"/>\n",
       "<circle clip-path=\"url(#clip8202)\" style=\"fill:#000000; stroke:none; fill-opacity:1\" cx=\"131.353\" cy=\"365.565\" r=\"4\"/>\n",
       "<circle clip-path=\"url(#clip8202)\" style=\"fill:#009af9; stroke:none; fill-opacity:1\" cx=\"131.353\" cy=\"365.565\" r=\"3\"/>\n",
       "<circle clip-path=\"url(#clip8202)\" style=\"fill:#000000; stroke:none; fill-opacity:1\" cx=\"132.348\" cy=\"365.565\" r=\"4\"/>\n",
       "<circle clip-path=\"url(#clip8202)\" style=\"fill:#009af9; stroke:none; fill-opacity:1\" cx=\"132.348\" cy=\"365.565\" r=\"3\"/>\n",
       "<circle clip-path=\"url(#clip8202)\" style=\"fill:#000000; stroke:none; fill-opacity:1\" cx=\"133.344\" cy=\"365.565\" r=\"4\"/>\n",
       "<circle clip-path=\"url(#clip8202)\" style=\"fill:#009af9; stroke:none; fill-opacity:1\" cx=\"133.344\" cy=\"365.565\" r=\"3\"/>\n",
       "<circle clip-path=\"url(#clip8202)\" style=\"fill:#000000; stroke:none; fill-opacity:1\" cx=\"134.339\" cy=\"365.565\" r=\"4\"/>\n",
       "<circle clip-path=\"url(#clip8202)\" style=\"fill:#009af9; stroke:none; fill-opacity:1\" cx=\"134.339\" cy=\"365.565\" r=\"3\"/>\n",
       "<circle clip-path=\"url(#clip8202)\" style=\"fill:#000000; stroke:none; fill-opacity:1\" cx=\"135.335\" cy=\"365.565\" r=\"4\"/>\n",
       "<circle clip-path=\"url(#clip8202)\" style=\"fill:#009af9; stroke:none; fill-opacity:1\" cx=\"135.335\" cy=\"365.565\" r=\"3\"/>\n",
       "<circle clip-path=\"url(#clip8202)\" style=\"fill:#000000; stroke:none; fill-opacity:1\" cx=\"136.33\" cy=\"365.565\" r=\"4\"/>\n",
       "<circle clip-path=\"url(#clip8202)\" style=\"fill:#009af9; stroke:none; fill-opacity:1\" cx=\"136.33\" cy=\"365.565\" r=\"3\"/>\n",
       "<circle clip-path=\"url(#clip8202)\" style=\"fill:#000000; stroke:none; fill-opacity:1\" cx=\"137.326\" cy=\"365.565\" r=\"4\"/>\n",
       "<circle clip-path=\"url(#clip8202)\" style=\"fill:#009af9; stroke:none; fill-opacity:1\" cx=\"137.326\" cy=\"365.565\" r=\"3\"/>\n",
       "<circle clip-path=\"url(#clip8202)\" style=\"fill:#000000; stroke:none; fill-opacity:1\" cx=\"138.321\" cy=\"365.565\" r=\"4\"/>\n",
       "<circle clip-path=\"url(#clip8202)\" style=\"fill:#009af9; stroke:none; fill-opacity:1\" cx=\"138.321\" cy=\"365.565\" r=\"3\"/>\n",
       "<circle clip-path=\"url(#clip8202)\" style=\"fill:#000000; stroke:none; fill-opacity:1\" cx=\"139.317\" cy=\"365.565\" r=\"4\"/>\n",
       "<circle clip-path=\"url(#clip8202)\" style=\"fill:#009af9; stroke:none; fill-opacity:1\" cx=\"139.317\" cy=\"365.565\" r=\"3\"/>\n",
       "<circle clip-path=\"url(#clip8202)\" style=\"fill:#000000; stroke:none; fill-opacity:1\" cx=\"140.313\" cy=\"365.565\" r=\"4\"/>\n",
       "<circle clip-path=\"url(#clip8202)\" style=\"fill:#009af9; stroke:none; fill-opacity:1\" cx=\"140.313\" cy=\"365.565\" r=\"3\"/>\n",
       "<circle clip-path=\"url(#clip8202)\" style=\"fill:#000000; stroke:none; fill-opacity:1\" cx=\"141.308\" cy=\"365.565\" r=\"4\"/>\n",
       "<circle clip-path=\"url(#clip8202)\" style=\"fill:#009af9; stroke:none; fill-opacity:1\" cx=\"141.308\" cy=\"365.565\" r=\"3\"/>\n",
       "<circle clip-path=\"url(#clip8202)\" style=\"fill:#000000; stroke:none; fill-opacity:1\" cx=\"142.304\" cy=\"365.565\" r=\"4\"/>\n",
       "<circle clip-path=\"url(#clip8202)\" style=\"fill:#009af9; stroke:none; fill-opacity:1\" cx=\"142.304\" cy=\"365.565\" r=\"3\"/>\n",
       "<circle clip-path=\"url(#clip8202)\" style=\"fill:#000000; stroke:none; fill-opacity:1\" cx=\"143.299\" cy=\"365.565\" r=\"4\"/>\n",
       "<circle clip-path=\"url(#clip8202)\" style=\"fill:#009af9; stroke:none; fill-opacity:1\" cx=\"143.299\" cy=\"365.565\" r=\"3\"/>\n",
       "<circle clip-path=\"url(#clip8202)\" style=\"fill:#000000; stroke:none; fill-opacity:1\" cx=\"144.295\" cy=\"365.565\" r=\"4\"/>\n",
       "<circle clip-path=\"url(#clip8202)\" style=\"fill:#009af9; stroke:none; fill-opacity:1\" cx=\"144.295\" cy=\"365.565\" r=\"3\"/>\n",
       "<circle clip-path=\"url(#clip8202)\" style=\"fill:#000000; stroke:none; fill-opacity:1\" cx=\"145.29\" cy=\"365.565\" r=\"4\"/>\n",
       "<circle clip-path=\"url(#clip8202)\" style=\"fill:#009af9; stroke:none; fill-opacity:1\" cx=\"145.29\" cy=\"365.565\" r=\"3\"/>\n",
       "<circle clip-path=\"url(#clip8202)\" style=\"fill:#000000; stroke:none; fill-opacity:1\" cx=\"146.286\" cy=\"365.565\" r=\"4\"/>\n",
       "<circle clip-path=\"url(#clip8202)\" style=\"fill:#009af9; stroke:none; fill-opacity:1\" cx=\"146.286\" cy=\"365.565\" r=\"3\"/>\n",
       "<circle clip-path=\"url(#clip8202)\" style=\"fill:#000000; stroke:none; fill-opacity:1\" cx=\"147.281\" cy=\"365.565\" r=\"4\"/>\n",
       "<circle clip-path=\"url(#clip8202)\" style=\"fill:#009af9; stroke:none; fill-opacity:1\" cx=\"147.281\" cy=\"365.565\" r=\"3\"/>\n",
       "<circle clip-path=\"url(#clip8202)\" style=\"fill:#000000; stroke:none; fill-opacity:1\" cx=\"148.277\" cy=\"365.565\" r=\"4\"/>\n",
       "<circle clip-path=\"url(#clip8202)\" style=\"fill:#009af9; stroke:none; fill-opacity:1\" cx=\"148.277\" cy=\"365.565\" r=\"3\"/>\n",
       "<circle clip-path=\"url(#clip8202)\" style=\"fill:#000000; stroke:none; fill-opacity:1\" cx=\"149.272\" cy=\"365.565\" r=\"4\"/>\n",
       "<circle clip-path=\"url(#clip8202)\" style=\"fill:#009af9; stroke:none; fill-opacity:1\" cx=\"149.272\" cy=\"365.565\" r=\"3\"/>\n",
       "<circle clip-path=\"url(#clip8202)\" style=\"fill:#000000; stroke:none; fill-opacity:1\" cx=\"150.268\" cy=\"365.565\" r=\"4\"/>\n",
       "<circle clip-path=\"url(#clip8202)\" style=\"fill:#009af9; stroke:none; fill-opacity:1\" cx=\"150.268\" cy=\"365.565\" r=\"3\"/>\n",
       "<circle clip-path=\"url(#clip8202)\" style=\"fill:#000000; stroke:none; fill-opacity:1\" cx=\"151.264\" cy=\"365.565\" r=\"4\"/>\n",
       "<circle clip-path=\"url(#clip8202)\" style=\"fill:#009af9; stroke:none; fill-opacity:1\" cx=\"151.264\" cy=\"365.565\" r=\"3\"/>\n",
       "<circle clip-path=\"url(#clip8202)\" style=\"fill:#000000; stroke:none; fill-opacity:1\" cx=\"152.259\" cy=\"365.565\" r=\"4\"/>\n",
       "<circle clip-path=\"url(#clip8202)\" style=\"fill:#009af9; stroke:none; fill-opacity:1\" cx=\"152.259\" cy=\"365.565\" r=\"3\"/>\n",
       "<circle clip-path=\"url(#clip8202)\" style=\"fill:#000000; stroke:none; fill-opacity:1\" cx=\"153.255\" cy=\"365.565\" r=\"4\"/>\n",
       "<circle clip-path=\"url(#clip8202)\" style=\"fill:#009af9; stroke:none; fill-opacity:1\" cx=\"153.255\" cy=\"365.565\" r=\"3\"/>\n",
       "<circle clip-path=\"url(#clip8202)\" style=\"fill:#000000; stroke:none; fill-opacity:1\" cx=\"154.25\" cy=\"365.565\" r=\"4\"/>\n",
       "<circle clip-path=\"url(#clip8202)\" style=\"fill:#009af9; stroke:none; fill-opacity:1\" cx=\"154.25\" cy=\"365.565\" r=\"3\"/>\n",
       "<circle clip-path=\"url(#clip8202)\" style=\"fill:#000000; stroke:none; fill-opacity:1\" cx=\"155.246\" cy=\"365.565\" r=\"4\"/>\n",
       "<circle clip-path=\"url(#clip8202)\" style=\"fill:#009af9; stroke:none; fill-opacity:1\" cx=\"155.246\" cy=\"365.565\" r=\"3\"/>\n",
       "<circle clip-path=\"url(#clip8202)\" style=\"fill:#000000; stroke:none; fill-opacity:1\" cx=\"156.241\" cy=\"365.565\" r=\"4\"/>\n",
       "<circle clip-path=\"url(#clip8202)\" style=\"fill:#009af9; stroke:none; fill-opacity:1\" cx=\"156.241\" cy=\"365.565\" r=\"3\"/>\n",
       "<circle clip-path=\"url(#clip8202)\" style=\"fill:#000000; stroke:none; fill-opacity:1\" cx=\"157.237\" cy=\"365.565\" r=\"4\"/>\n",
       "<circle clip-path=\"url(#clip8202)\" style=\"fill:#009af9; stroke:none; fill-opacity:1\" cx=\"157.237\" cy=\"365.565\" r=\"3\"/>\n",
       "<circle clip-path=\"url(#clip8202)\" style=\"fill:#000000; stroke:none; fill-opacity:1\" cx=\"158.232\" cy=\"365.565\" r=\"4\"/>\n",
       "<circle clip-path=\"url(#clip8202)\" style=\"fill:#009af9; stroke:none; fill-opacity:1\" cx=\"158.232\" cy=\"365.565\" r=\"3\"/>\n",
       "<circle clip-path=\"url(#clip8202)\" style=\"fill:#000000; stroke:none; fill-opacity:1\" cx=\"159.228\" cy=\"365.565\" r=\"4\"/>\n",
       "<circle clip-path=\"url(#clip8202)\" style=\"fill:#009af9; stroke:none; fill-opacity:1\" cx=\"159.228\" cy=\"365.565\" r=\"3\"/>\n",
       "<circle clip-path=\"url(#clip8202)\" style=\"fill:#000000; stroke:none; fill-opacity:1\" cx=\"160.223\" cy=\"365.565\" r=\"4\"/>\n",
       "<circle clip-path=\"url(#clip8202)\" style=\"fill:#009af9; stroke:none; fill-opacity:1\" cx=\"160.223\" cy=\"365.565\" r=\"3\"/>\n",
       "<circle clip-path=\"url(#clip8202)\" style=\"fill:#000000; stroke:none; fill-opacity:1\" cx=\"161.219\" cy=\"365.565\" r=\"4\"/>\n",
       "<circle clip-path=\"url(#clip8202)\" style=\"fill:#009af9; stroke:none; fill-opacity:1\" cx=\"161.219\" cy=\"365.565\" r=\"3\"/>\n",
       "<circle clip-path=\"url(#clip8202)\" style=\"fill:#000000; stroke:none; fill-opacity:1\" cx=\"162.215\" cy=\"365.565\" r=\"4\"/>\n",
       "<circle clip-path=\"url(#clip8202)\" style=\"fill:#009af9; stroke:none; fill-opacity:1\" cx=\"162.215\" cy=\"365.565\" r=\"3\"/>\n",
       "<circle clip-path=\"url(#clip8202)\" style=\"fill:#000000; stroke:none; fill-opacity:1\" cx=\"163.21\" cy=\"365.565\" r=\"4\"/>\n",
       "<circle clip-path=\"url(#clip8202)\" style=\"fill:#009af9; stroke:none; fill-opacity:1\" cx=\"163.21\" cy=\"365.565\" r=\"3\"/>\n",
       "<circle clip-path=\"url(#clip8202)\" style=\"fill:#000000; stroke:none; fill-opacity:1\" cx=\"164.206\" cy=\"365.565\" r=\"4\"/>\n",
       "<circle clip-path=\"url(#clip8202)\" style=\"fill:#009af9; stroke:none; fill-opacity:1\" cx=\"164.206\" cy=\"365.565\" r=\"3\"/>\n",
       "<circle clip-path=\"url(#clip8202)\" style=\"fill:#000000; stroke:none; fill-opacity:1\" cx=\"165.201\" cy=\"365.565\" r=\"4\"/>\n",
       "<circle clip-path=\"url(#clip8202)\" style=\"fill:#009af9; stroke:none; fill-opacity:1\" cx=\"165.201\" cy=\"365.565\" r=\"3\"/>\n",
       "<circle clip-path=\"url(#clip8202)\" style=\"fill:#000000; stroke:none; fill-opacity:1\" cx=\"166.197\" cy=\"365.565\" r=\"4\"/>\n",
       "<circle clip-path=\"url(#clip8202)\" style=\"fill:#009af9; stroke:none; fill-opacity:1\" cx=\"166.197\" cy=\"365.565\" r=\"3\"/>\n",
       "<circle clip-path=\"url(#clip8202)\" style=\"fill:#000000; stroke:none; fill-opacity:1\" cx=\"167.192\" cy=\"365.565\" r=\"4\"/>\n",
       "<circle clip-path=\"url(#clip8202)\" style=\"fill:#009af9; stroke:none; fill-opacity:1\" cx=\"167.192\" cy=\"365.565\" r=\"3\"/>\n",
       "<circle clip-path=\"url(#clip8202)\" style=\"fill:#000000; stroke:none; fill-opacity:1\" cx=\"168.188\" cy=\"365.565\" r=\"4\"/>\n",
       "<circle clip-path=\"url(#clip8202)\" style=\"fill:#009af9; stroke:none; fill-opacity:1\" cx=\"168.188\" cy=\"365.565\" r=\"3\"/>\n",
       "<circle clip-path=\"url(#clip8202)\" style=\"fill:#000000; stroke:none; fill-opacity:1\" cx=\"169.183\" cy=\"365.565\" r=\"4\"/>\n",
       "<circle clip-path=\"url(#clip8202)\" style=\"fill:#009af9; stroke:none; fill-opacity:1\" cx=\"169.183\" cy=\"365.565\" r=\"3\"/>\n",
       "<circle clip-path=\"url(#clip8202)\" style=\"fill:#000000; stroke:none; fill-opacity:1\" cx=\"170.179\" cy=\"365.565\" r=\"4\"/>\n",
       "<circle clip-path=\"url(#clip8202)\" style=\"fill:#009af9; stroke:none; fill-opacity:1\" cx=\"170.179\" cy=\"365.565\" r=\"3\"/>\n",
       "<circle clip-path=\"url(#clip8202)\" style=\"fill:#000000; stroke:none; fill-opacity:1\" cx=\"171.175\" cy=\"365.565\" r=\"4\"/>\n",
       "<circle clip-path=\"url(#clip8202)\" style=\"fill:#009af9; stroke:none; fill-opacity:1\" cx=\"171.175\" cy=\"365.565\" r=\"3\"/>\n",
       "<circle clip-path=\"url(#clip8202)\" style=\"fill:#000000; stroke:none; fill-opacity:1\" cx=\"172.17\" cy=\"365.565\" r=\"4\"/>\n",
       "<circle clip-path=\"url(#clip8202)\" style=\"fill:#009af9; stroke:none; fill-opacity:1\" cx=\"172.17\" cy=\"365.565\" r=\"3\"/>\n",
       "<circle clip-path=\"url(#clip8202)\" style=\"fill:#000000; stroke:none; fill-opacity:1\" cx=\"173.166\" cy=\"365.565\" r=\"4\"/>\n",
       "<circle clip-path=\"url(#clip8202)\" style=\"fill:#009af9; stroke:none; fill-opacity:1\" cx=\"173.166\" cy=\"365.565\" r=\"3\"/>\n",
       "<circle clip-path=\"url(#clip8202)\" style=\"fill:#000000; stroke:none; fill-opacity:1\" cx=\"174.161\" cy=\"365.565\" r=\"4\"/>\n",
       "<circle clip-path=\"url(#clip8202)\" style=\"fill:#009af9; stroke:none; fill-opacity:1\" cx=\"174.161\" cy=\"365.565\" r=\"3\"/>\n",
       "<circle clip-path=\"url(#clip8202)\" style=\"fill:#000000; stroke:none; fill-opacity:1\" cx=\"175.157\" cy=\"365.565\" r=\"4\"/>\n",
       "<circle clip-path=\"url(#clip8202)\" style=\"fill:#009af9; stroke:none; fill-opacity:1\" cx=\"175.157\" cy=\"365.565\" r=\"3\"/>\n",
       "<circle clip-path=\"url(#clip8202)\" style=\"fill:#000000; stroke:none; fill-opacity:1\" cx=\"176.152\" cy=\"365.565\" r=\"4\"/>\n",
       "<circle clip-path=\"url(#clip8202)\" style=\"fill:#009af9; stroke:none; fill-opacity:1\" cx=\"176.152\" cy=\"365.565\" r=\"3\"/>\n",
       "<circle clip-path=\"url(#clip8202)\" style=\"fill:#000000; stroke:none; fill-opacity:1\" cx=\"177.148\" cy=\"365.565\" r=\"4\"/>\n",
       "<circle clip-path=\"url(#clip8202)\" style=\"fill:#009af9; stroke:none; fill-opacity:1\" cx=\"177.148\" cy=\"365.565\" r=\"3\"/>\n",
       "<circle clip-path=\"url(#clip8202)\" style=\"fill:#000000; stroke:none; fill-opacity:1\" cx=\"178.143\" cy=\"365.565\" r=\"4\"/>\n",
       "<circle clip-path=\"url(#clip8202)\" style=\"fill:#009af9; stroke:none; fill-opacity:1\" cx=\"178.143\" cy=\"365.565\" r=\"3\"/>\n",
       "<circle clip-path=\"url(#clip8202)\" style=\"fill:#000000; stroke:none; fill-opacity:1\" cx=\"179.139\" cy=\"365.565\" r=\"4\"/>\n",
       "<circle clip-path=\"url(#clip8202)\" style=\"fill:#009af9; stroke:none; fill-opacity:1\" cx=\"179.139\" cy=\"365.565\" r=\"3\"/>\n",
       "<circle clip-path=\"url(#clip8202)\" style=\"fill:#000000; stroke:none; fill-opacity:1\" cx=\"180.134\" cy=\"365.565\" r=\"4\"/>\n",
       "<circle clip-path=\"url(#clip8202)\" style=\"fill:#009af9; stroke:none; fill-opacity:1\" cx=\"180.134\" cy=\"365.565\" r=\"3\"/>\n",
       "<circle clip-path=\"url(#clip8202)\" style=\"fill:#000000; stroke:none; fill-opacity:1\" cx=\"181.13\" cy=\"365.565\" r=\"4\"/>\n",
       "<circle clip-path=\"url(#clip8202)\" style=\"fill:#009af9; stroke:none; fill-opacity:1\" cx=\"181.13\" cy=\"365.565\" r=\"3\"/>\n",
       "<circle clip-path=\"url(#clip8202)\" style=\"fill:#000000; stroke:none; fill-opacity:1\" cx=\"182.126\" cy=\"365.565\" r=\"4\"/>\n",
       "<circle clip-path=\"url(#clip8202)\" style=\"fill:#009af9; stroke:none; fill-opacity:1\" cx=\"182.126\" cy=\"365.565\" r=\"3\"/>\n",
       "<circle clip-path=\"url(#clip8202)\" style=\"fill:#000000; stroke:none; fill-opacity:1\" cx=\"183.121\" cy=\"365.565\" r=\"4\"/>\n",
       "<circle clip-path=\"url(#clip8202)\" style=\"fill:#009af9; stroke:none; fill-opacity:1\" cx=\"183.121\" cy=\"365.565\" r=\"3\"/>\n",
       "<circle clip-path=\"url(#clip8202)\" style=\"fill:#000000; stroke:none; fill-opacity:1\" cx=\"184.117\" cy=\"365.565\" r=\"4\"/>\n",
       "<circle clip-path=\"url(#clip8202)\" style=\"fill:#009af9; stroke:none; fill-opacity:1\" cx=\"184.117\" cy=\"365.565\" r=\"3\"/>\n",
       "<circle clip-path=\"url(#clip8202)\" style=\"fill:#000000; stroke:none; fill-opacity:1\" cx=\"185.112\" cy=\"365.565\" r=\"4\"/>\n",
       "<circle clip-path=\"url(#clip8202)\" style=\"fill:#009af9; stroke:none; fill-opacity:1\" cx=\"185.112\" cy=\"365.565\" r=\"3\"/>\n",
       "<circle clip-path=\"url(#clip8202)\" style=\"fill:#000000; stroke:none; fill-opacity:1\" cx=\"186.108\" cy=\"365.565\" r=\"4\"/>\n",
       "<circle clip-path=\"url(#clip8202)\" style=\"fill:#009af9; stroke:none; fill-opacity:1\" cx=\"186.108\" cy=\"365.565\" r=\"3\"/>\n",
       "<circle clip-path=\"url(#clip8202)\" style=\"fill:#000000; stroke:none; fill-opacity:1\" cx=\"187.103\" cy=\"365.565\" r=\"4\"/>\n",
       "<circle clip-path=\"url(#clip8202)\" style=\"fill:#009af9; stroke:none; fill-opacity:1\" cx=\"187.103\" cy=\"365.565\" r=\"3\"/>\n",
       "<circle clip-path=\"url(#clip8202)\" style=\"fill:#000000; stroke:none; fill-opacity:1\" cx=\"188.099\" cy=\"365.565\" r=\"4\"/>\n",
       "<circle clip-path=\"url(#clip8202)\" style=\"fill:#009af9; stroke:none; fill-opacity:1\" cx=\"188.099\" cy=\"365.565\" r=\"3\"/>\n",
       "<circle clip-path=\"url(#clip8202)\" style=\"fill:#000000; stroke:none; fill-opacity:1\" cx=\"189.094\" cy=\"365.565\" r=\"4\"/>\n",
       "<circle clip-path=\"url(#clip8202)\" style=\"fill:#009af9; stroke:none; fill-opacity:1\" cx=\"189.094\" cy=\"365.565\" r=\"3\"/>\n",
       "<circle clip-path=\"url(#clip8202)\" style=\"fill:#000000; stroke:none; fill-opacity:1\" cx=\"190.09\" cy=\"365.565\" r=\"4\"/>\n",
       "<circle clip-path=\"url(#clip8202)\" style=\"fill:#009af9; stroke:none; fill-opacity:1\" cx=\"190.09\" cy=\"365.565\" r=\"3\"/>\n",
       "<circle clip-path=\"url(#clip8202)\" style=\"fill:#000000; stroke:none; fill-opacity:1\" cx=\"191.085\" cy=\"365.565\" r=\"4\"/>\n",
       "<circle clip-path=\"url(#clip8202)\" style=\"fill:#009af9; stroke:none; fill-opacity:1\" cx=\"191.085\" cy=\"365.565\" r=\"3\"/>\n",
       "<circle clip-path=\"url(#clip8202)\" style=\"fill:#000000; stroke:none; fill-opacity:1\" cx=\"192.081\" cy=\"365.565\" r=\"4\"/>\n",
       "<circle clip-path=\"url(#clip8202)\" style=\"fill:#009af9; stroke:none; fill-opacity:1\" cx=\"192.081\" cy=\"365.565\" r=\"3\"/>\n",
       "<circle clip-path=\"url(#clip8202)\" style=\"fill:#000000; stroke:none; fill-opacity:1\" cx=\"193.077\" cy=\"365.565\" r=\"4\"/>\n",
       "<circle clip-path=\"url(#clip8202)\" style=\"fill:#009af9; stroke:none; fill-opacity:1\" cx=\"193.077\" cy=\"365.565\" r=\"3\"/>\n",
       "<circle clip-path=\"url(#clip8202)\" style=\"fill:#000000; stroke:none; fill-opacity:1\" cx=\"194.072\" cy=\"365.565\" r=\"4\"/>\n",
       "<circle clip-path=\"url(#clip8202)\" style=\"fill:#009af9; stroke:none; fill-opacity:1\" cx=\"194.072\" cy=\"365.565\" r=\"3\"/>\n",
       "<circle clip-path=\"url(#clip8202)\" style=\"fill:#000000; stroke:none; fill-opacity:1\" cx=\"195.068\" cy=\"365.565\" r=\"4\"/>\n",
       "<circle clip-path=\"url(#clip8202)\" style=\"fill:#009af9; stroke:none; fill-opacity:1\" cx=\"195.068\" cy=\"365.565\" r=\"3\"/>\n",
       "<circle clip-path=\"url(#clip8202)\" style=\"fill:#000000; stroke:none; fill-opacity:1\" cx=\"196.063\" cy=\"365.565\" r=\"4\"/>\n",
       "<circle clip-path=\"url(#clip8202)\" style=\"fill:#009af9; stroke:none; fill-opacity:1\" cx=\"196.063\" cy=\"365.565\" r=\"3\"/>\n",
       "<circle clip-path=\"url(#clip8202)\" style=\"fill:#000000; stroke:none; fill-opacity:1\" cx=\"197.059\" cy=\"365.565\" r=\"4\"/>\n",
       "<circle clip-path=\"url(#clip8202)\" style=\"fill:#009af9; stroke:none; fill-opacity:1\" cx=\"197.059\" cy=\"365.565\" r=\"3\"/>\n",
       "<circle clip-path=\"url(#clip8202)\" style=\"fill:#000000; stroke:none; fill-opacity:1\" cx=\"198.054\" cy=\"365.565\" r=\"4\"/>\n",
       "<circle clip-path=\"url(#clip8202)\" style=\"fill:#009af9; stroke:none; fill-opacity:1\" cx=\"198.054\" cy=\"365.565\" r=\"3\"/>\n",
       "<circle clip-path=\"url(#clip8202)\" style=\"fill:#000000; stroke:none; fill-opacity:1\" cx=\"199.05\" cy=\"365.565\" r=\"4\"/>\n",
       "<circle clip-path=\"url(#clip8202)\" style=\"fill:#009af9; stroke:none; fill-opacity:1\" cx=\"199.05\" cy=\"365.565\" r=\"3\"/>\n",
       "<circle clip-path=\"url(#clip8202)\" style=\"fill:#000000; stroke:none; fill-opacity:1\" cx=\"200.045\" cy=\"365.565\" r=\"4\"/>\n",
       "<circle clip-path=\"url(#clip8202)\" style=\"fill:#009af9; stroke:none; fill-opacity:1\" cx=\"200.045\" cy=\"365.565\" r=\"3\"/>\n",
       "<circle clip-path=\"url(#clip8202)\" style=\"fill:#000000; stroke:none; fill-opacity:1\" cx=\"201.041\" cy=\"365.565\" r=\"4\"/>\n",
       "<circle clip-path=\"url(#clip8202)\" style=\"fill:#009af9; stroke:none; fill-opacity:1\" cx=\"201.041\" cy=\"365.565\" r=\"3\"/>\n",
       "<circle clip-path=\"url(#clip8202)\" style=\"fill:#000000; stroke:none; fill-opacity:1\" cx=\"202.036\" cy=\"365.565\" r=\"4\"/>\n",
       "<circle clip-path=\"url(#clip8202)\" style=\"fill:#009af9; stroke:none; fill-opacity:1\" cx=\"202.036\" cy=\"365.565\" r=\"3\"/>\n",
       "<circle clip-path=\"url(#clip8202)\" style=\"fill:#000000; stroke:none; fill-opacity:1\" cx=\"203.032\" cy=\"365.565\" r=\"4\"/>\n",
       "<circle clip-path=\"url(#clip8202)\" style=\"fill:#009af9; stroke:none; fill-opacity:1\" cx=\"203.032\" cy=\"365.565\" r=\"3\"/>\n",
       "<circle clip-path=\"url(#clip8202)\" style=\"fill:#000000; stroke:none; fill-opacity:1\" cx=\"204.028\" cy=\"365.565\" r=\"4\"/>\n",
       "<circle clip-path=\"url(#clip8202)\" style=\"fill:#009af9; stroke:none; fill-opacity:1\" cx=\"204.028\" cy=\"365.565\" r=\"3\"/>\n",
       "<circle clip-path=\"url(#clip8202)\" style=\"fill:#000000; stroke:none; fill-opacity:1\" cx=\"205.023\" cy=\"365.565\" r=\"4\"/>\n",
       "<circle clip-path=\"url(#clip8202)\" style=\"fill:#009af9; stroke:none; fill-opacity:1\" cx=\"205.023\" cy=\"365.565\" r=\"3\"/>\n",
       "<circle clip-path=\"url(#clip8202)\" style=\"fill:#000000; stroke:none; fill-opacity:1\" cx=\"206.019\" cy=\"365.565\" r=\"4\"/>\n",
       "<circle clip-path=\"url(#clip8202)\" style=\"fill:#009af9; stroke:none; fill-opacity:1\" cx=\"206.019\" cy=\"365.565\" r=\"3\"/>\n",
       "<circle clip-path=\"url(#clip8202)\" style=\"fill:#000000; stroke:none; fill-opacity:1\" cx=\"207.014\" cy=\"365.565\" r=\"4\"/>\n",
       "<circle clip-path=\"url(#clip8202)\" style=\"fill:#009af9; stroke:none; fill-opacity:1\" cx=\"207.014\" cy=\"365.565\" r=\"3\"/>\n",
       "<circle clip-path=\"url(#clip8202)\" style=\"fill:#000000; stroke:none; fill-opacity:1\" cx=\"208.01\" cy=\"365.565\" r=\"4\"/>\n",
       "<circle clip-path=\"url(#clip8202)\" style=\"fill:#009af9; stroke:none; fill-opacity:1\" cx=\"208.01\" cy=\"365.565\" r=\"3\"/>\n",
       "<circle clip-path=\"url(#clip8202)\" style=\"fill:#000000; stroke:none; fill-opacity:1\" cx=\"209.005\" cy=\"365.565\" r=\"4\"/>\n",
       "<circle clip-path=\"url(#clip8202)\" style=\"fill:#009af9; stroke:none; fill-opacity:1\" cx=\"209.005\" cy=\"365.565\" r=\"3\"/>\n",
       "<circle clip-path=\"url(#clip8202)\" style=\"fill:#000000; stroke:none; fill-opacity:1\" cx=\"210.001\" cy=\"365.565\" r=\"4\"/>\n",
       "<circle clip-path=\"url(#clip8202)\" style=\"fill:#009af9; stroke:none; fill-opacity:1\" cx=\"210.001\" cy=\"365.565\" r=\"3\"/>\n",
       "<circle clip-path=\"url(#clip8202)\" style=\"fill:#000000; stroke:none; fill-opacity:1\" cx=\"210.996\" cy=\"365.565\" r=\"4\"/>\n",
       "<circle clip-path=\"url(#clip8202)\" style=\"fill:#009af9; stroke:none; fill-opacity:1\" cx=\"210.996\" cy=\"365.565\" r=\"3\"/>\n",
       "<circle clip-path=\"url(#clip8202)\" style=\"fill:#000000; stroke:none; fill-opacity:1\" cx=\"211.992\" cy=\"365.565\" r=\"4\"/>\n",
       "<circle clip-path=\"url(#clip8202)\" style=\"fill:#009af9; stroke:none; fill-opacity:1\" cx=\"211.992\" cy=\"365.565\" r=\"3\"/>\n",
       "<circle clip-path=\"url(#clip8202)\" style=\"fill:#000000; stroke:none; fill-opacity:1\" cx=\"212.988\" cy=\"365.565\" r=\"4\"/>\n",
       "<circle clip-path=\"url(#clip8202)\" style=\"fill:#009af9; stroke:none; fill-opacity:1\" cx=\"212.988\" cy=\"365.565\" r=\"3\"/>\n",
       "<circle clip-path=\"url(#clip8202)\" style=\"fill:#000000; stroke:none; fill-opacity:1\" cx=\"213.983\" cy=\"365.565\" r=\"4\"/>\n",
       "<circle clip-path=\"url(#clip8202)\" style=\"fill:#009af9; stroke:none; fill-opacity:1\" cx=\"213.983\" cy=\"365.565\" r=\"3\"/>\n",
       "<circle clip-path=\"url(#clip8202)\" style=\"fill:#000000; stroke:none; fill-opacity:1\" cx=\"214.979\" cy=\"365.565\" r=\"4\"/>\n",
       "<circle clip-path=\"url(#clip8202)\" style=\"fill:#009af9; stroke:none; fill-opacity:1\" cx=\"214.979\" cy=\"365.565\" r=\"3\"/>\n",
       "<circle clip-path=\"url(#clip8202)\" style=\"fill:#000000; stroke:none; fill-opacity:1\" cx=\"215.974\" cy=\"365.565\" r=\"4\"/>\n",
       "<circle clip-path=\"url(#clip8202)\" style=\"fill:#009af9; stroke:none; fill-opacity:1\" cx=\"215.974\" cy=\"365.565\" r=\"3\"/>\n",
       "<circle clip-path=\"url(#clip8202)\" style=\"fill:#000000; stroke:none; fill-opacity:1\" cx=\"216.97\" cy=\"365.565\" r=\"4\"/>\n",
       "<circle clip-path=\"url(#clip8202)\" style=\"fill:#009af9; stroke:none; fill-opacity:1\" cx=\"216.97\" cy=\"365.565\" r=\"3\"/>\n",
       "<circle clip-path=\"url(#clip8202)\" style=\"fill:#000000; stroke:none; fill-opacity:1\" cx=\"217.965\" cy=\"365.565\" r=\"4\"/>\n",
       "<circle clip-path=\"url(#clip8202)\" style=\"fill:#009af9; stroke:none; fill-opacity:1\" cx=\"217.965\" cy=\"365.565\" r=\"3\"/>\n",
       "<circle clip-path=\"url(#clip8202)\" style=\"fill:#000000; stroke:none; fill-opacity:1\" cx=\"218.961\" cy=\"365.565\" r=\"4\"/>\n",
       "<circle clip-path=\"url(#clip8202)\" style=\"fill:#009af9; stroke:none; fill-opacity:1\" cx=\"218.961\" cy=\"365.565\" r=\"3\"/>\n",
       "<circle clip-path=\"url(#clip8202)\" style=\"fill:#000000; stroke:none; fill-opacity:1\" cx=\"219.956\" cy=\"365.565\" r=\"4\"/>\n",
       "<circle clip-path=\"url(#clip8202)\" style=\"fill:#009af9; stroke:none; fill-opacity:1\" cx=\"219.956\" cy=\"365.565\" r=\"3\"/>\n",
       "<circle clip-path=\"url(#clip8202)\" style=\"fill:#000000; stroke:none; fill-opacity:1\" cx=\"220.952\" cy=\"365.565\" r=\"4\"/>\n",
       "<circle clip-path=\"url(#clip8202)\" style=\"fill:#009af9; stroke:none; fill-opacity:1\" cx=\"220.952\" cy=\"365.565\" r=\"3\"/>\n",
       "<circle clip-path=\"url(#clip8202)\" style=\"fill:#000000; stroke:none; fill-opacity:1\" cx=\"221.947\" cy=\"365.565\" r=\"4\"/>\n",
       "<circle clip-path=\"url(#clip8202)\" style=\"fill:#009af9; stroke:none; fill-opacity:1\" cx=\"221.947\" cy=\"365.565\" r=\"3\"/>\n",
       "<circle clip-path=\"url(#clip8202)\" style=\"fill:#000000; stroke:none; fill-opacity:1\" cx=\"222.943\" cy=\"365.565\" r=\"4\"/>\n",
       "<circle clip-path=\"url(#clip8202)\" style=\"fill:#009af9; stroke:none; fill-opacity:1\" cx=\"222.943\" cy=\"365.565\" r=\"3\"/>\n",
       "<circle clip-path=\"url(#clip8202)\" style=\"fill:#000000; stroke:none; fill-opacity:1\" cx=\"223.939\" cy=\"365.565\" r=\"4\"/>\n",
       "<circle clip-path=\"url(#clip8202)\" style=\"fill:#009af9; stroke:none; fill-opacity:1\" cx=\"223.939\" cy=\"365.565\" r=\"3\"/>\n",
       "<circle clip-path=\"url(#clip8202)\" style=\"fill:#000000; stroke:none; fill-opacity:1\" cx=\"224.934\" cy=\"365.565\" r=\"4\"/>\n",
       "<circle clip-path=\"url(#clip8202)\" style=\"fill:#009af9; stroke:none; fill-opacity:1\" cx=\"224.934\" cy=\"365.565\" r=\"3\"/>\n",
       "<circle clip-path=\"url(#clip8202)\" style=\"fill:#000000; stroke:none; fill-opacity:1\" cx=\"225.93\" cy=\"365.565\" r=\"4\"/>\n",
       "<circle clip-path=\"url(#clip8202)\" style=\"fill:#009af9; stroke:none; fill-opacity:1\" cx=\"225.93\" cy=\"365.565\" r=\"3\"/>\n",
       "<circle clip-path=\"url(#clip8202)\" style=\"fill:#000000; stroke:none; fill-opacity:1\" cx=\"226.925\" cy=\"365.565\" r=\"4\"/>\n",
       "<circle clip-path=\"url(#clip8202)\" style=\"fill:#009af9; stroke:none; fill-opacity:1\" cx=\"226.925\" cy=\"365.565\" r=\"3\"/>\n",
       "<circle clip-path=\"url(#clip8202)\" style=\"fill:#000000; stroke:none; fill-opacity:1\" cx=\"227.921\" cy=\"365.565\" r=\"4\"/>\n",
       "<circle clip-path=\"url(#clip8202)\" style=\"fill:#009af9; stroke:none; fill-opacity:1\" cx=\"227.921\" cy=\"365.565\" r=\"3\"/>\n",
       "<circle clip-path=\"url(#clip8202)\" style=\"fill:#000000; stroke:none; fill-opacity:1\" cx=\"228.916\" cy=\"365.565\" r=\"4\"/>\n",
       "<circle clip-path=\"url(#clip8202)\" style=\"fill:#009af9; stroke:none; fill-opacity:1\" cx=\"228.916\" cy=\"365.565\" r=\"3\"/>\n",
       "<circle clip-path=\"url(#clip8202)\" style=\"fill:#000000; stroke:none; fill-opacity:1\" cx=\"229.912\" cy=\"365.565\" r=\"4\"/>\n",
       "<circle clip-path=\"url(#clip8202)\" style=\"fill:#009af9; stroke:none; fill-opacity:1\" cx=\"229.912\" cy=\"365.565\" r=\"3\"/>\n",
       "<circle clip-path=\"url(#clip8202)\" style=\"fill:#000000; stroke:none; fill-opacity:1\" cx=\"230.907\" cy=\"365.565\" r=\"4\"/>\n",
       "<circle clip-path=\"url(#clip8202)\" style=\"fill:#009af9; stroke:none; fill-opacity:1\" cx=\"230.907\" cy=\"365.565\" r=\"3\"/>\n",
       "<circle clip-path=\"url(#clip8202)\" style=\"fill:#000000; stroke:none; fill-opacity:1\" cx=\"231.903\" cy=\"365.565\" r=\"4\"/>\n",
       "<circle clip-path=\"url(#clip8202)\" style=\"fill:#009af9; stroke:none; fill-opacity:1\" cx=\"231.903\" cy=\"365.565\" r=\"3\"/>\n",
       "<circle clip-path=\"url(#clip8202)\" style=\"fill:#000000; stroke:none; fill-opacity:1\" cx=\"232.898\" cy=\"365.565\" r=\"4\"/>\n",
       "<circle clip-path=\"url(#clip8202)\" style=\"fill:#009af9; stroke:none; fill-opacity:1\" cx=\"232.898\" cy=\"365.565\" r=\"3\"/>\n",
       "<circle clip-path=\"url(#clip8202)\" style=\"fill:#000000; stroke:none; fill-opacity:1\" cx=\"233.894\" cy=\"365.565\" r=\"4\"/>\n",
       "<circle clip-path=\"url(#clip8202)\" style=\"fill:#009af9; stroke:none; fill-opacity:1\" cx=\"233.894\" cy=\"365.565\" r=\"3\"/>\n",
       "<circle clip-path=\"url(#clip8202)\" style=\"fill:#000000; stroke:none; fill-opacity:1\" cx=\"234.89\" cy=\"365.565\" r=\"4\"/>\n",
       "<circle clip-path=\"url(#clip8202)\" style=\"fill:#009af9; stroke:none; fill-opacity:1\" cx=\"234.89\" cy=\"365.565\" r=\"3\"/>\n",
       "<circle clip-path=\"url(#clip8202)\" style=\"fill:#000000; stroke:none; fill-opacity:1\" cx=\"235.885\" cy=\"365.565\" r=\"4\"/>\n",
       "<circle clip-path=\"url(#clip8202)\" style=\"fill:#009af9; stroke:none; fill-opacity:1\" cx=\"235.885\" cy=\"365.565\" r=\"3\"/>\n",
       "<circle clip-path=\"url(#clip8202)\" style=\"fill:#000000; stroke:none; fill-opacity:1\" cx=\"236.881\" cy=\"365.565\" r=\"4\"/>\n",
       "<circle clip-path=\"url(#clip8202)\" style=\"fill:#009af9; stroke:none; fill-opacity:1\" cx=\"236.881\" cy=\"365.565\" r=\"3\"/>\n",
       "<circle clip-path=\"url(#clip8202)\" style=\"fill:#000000; stroke:none; fill-opacity:1\" cx=\"237.876\" cy=\"365.565\" r=\"4\"/>\n",
       "<circle clip-path=\"url(#clip8202)\" style=\"fill:#009af9; stroke:none; fill-opacity:1\" cx=\"237.876\" cy=\"365.565\" r=\"3\"/>\n",
       "<circle clip-path=\"url(#clip8202)\" style=\"fill:#000000; stroke:none; fill-opacity:1\" cx=\"238.872\" cy=\"365.565\" r=\"4\"/>\n",
       "<circle clip-path=\"url(#clip8202)\" style=\"fill:#009af9; stroke:none; fill-opacity:1\" cx=\"238.872\" cy=\"365.565\" r=\"3\"/>\n",
       "<circle clip-path=\"url(#clip8202)\" style=\"fill:#000000; stroke:none; fill-opacity:1\" cx=\"239.867\" cy=\"365.565\" r=\"4\"/>\n",
       "<circle clip-path=\"url(#clip8202)\" style=\"fill:#009af9; stroke:none; fill-opacity:1\" cx=\"239.867\" cy=\"365.565\" r=\"3\"/>\n",
       "<circle clip-path=\"url(#clip8202)\" style=\"fill:#000000; stroke:none; fill-opacity:1\" cx=\"240.863\" cy=\"365.565\" r=\"4\"/>\n",
       "<circle clip-path=\"url(#clip8202)\" style=\"fill:#009af9; stroke:none; fill-opacity:1\" cx=\"240.863\" cy=\"365.565\" r=\"3\"/>\n",
       "<circle clip-path=\"url(#clip8202)\" style=\"fill:#000000; stroke:none; fill-opacity:1\" cx=\"241.858\" cy=\"365.565\" r=\"4\"/>\n",
       "<circle clip-path=\"url(#clip8202)\" style=\"fill:#009af9; stroke:none; fill-opacity:1\" cx=\"241.858\" cy=\"365.565\" r=\"3\"/>\n",
       "<circle clip-path=\"url(#clip8202)\" style=\"fill:#000000; stroke:none; fill-opacity:1\" cx=\"242.854\" cy=\"365.565\" r=\"4\"/>\n",
       "<circle clip-path=\"url(#clip8202)\" style=\"fill:#009af9; stroke:none; fill-opacity:1\" cx=\"242.854\" cy=\"365.565\" r=\"3\"/>\n",
       "<circle clip-path=\"url(#clip8202)\" style=\"fill:#000000; stroke:none; fill-opacity:1\" cx=\"243.85\" cy=\"365.565\" r=\"4\"/>\n",
       "<circle clip-path=\"url(#clip8202)\" style=\"fill:#009af9; stroke:none; fill-opacity:1\" cx=\"243.85\" cy=\"365.565\" r=\"3\"/>\n",
       "<circle clip-path=\"url(#clip8202)\" style=\"fill:#000000; stroke:none; fill-opacity:1\" cx=\"244.845\" cy=\"365.565\" r=\"4\"/>\n",
       "<circle clip-path=\"url(#clip8202)\" style=\"fill:#009af9; stroke:none; fill-opacity:1\" cx=\"244.845\" cy=\"365.565\" r=\"3\"/>\n",
       "<circle clip-path=\"url(#clip8202)\" style=\"fill:#000000; stroke:none; fill-opacity:1\" cx=\"245.841\" cy=\"365.565\" r=\"4\"/>\n",
       "<circle clip-path=\"url(#clip8202)\" style=\"fill:#009af9; stroke:none; fill-opacity:1\" cx=\"245.841\" cy=\"365.565\" r=\"3\"/>\n",
       "<circle clip-path=\"url(#clip8202)\" style=\"fill:#000000; stroke:none; fill-opacity:1\" cx=\"246.836\" cy=\"365.565\" r=\"4\"/>\n",
       "<circle clip-path=\"url(#clip8202)\" style=\"fill:#009af9; stroke:none; fill-opacity:1\" cx=\"246.836\" cy=\"365.565\" r=\"3\"/>\n",
       "<circle clip-path=\"url(#clip8202)\" style=\"fill:#000000; stroke:none; fill-opacity:1\" cx=\"247.832\" cy=\"365.565\" r=\"4\"/>\n",
       "<circle clip-path=\"url(#clip8202)\" style=\"fill:#009af9; stroke:none; fill-opacity:1\" cx=\"247.832\" cy=\"365.565\" r=\"3\"/>\n",
       "<circle clip-path=\"url(#clip8202)\" style=\"fill:#000000; stroke:none; fill-opacity:1\" cx=\"248.827\" cy=\"365.565\" r=\"4\"/>\n",
       "<circle clip-path=\"url(#clip8202)\" style=\"fill:#009af9; stroke:none; fill-opacity:1\" cx=\"248.827\" cy=\"365.565\" r=\"3\"/>\n",
       "<circle clip-path=\"url(#clip8202)\" style=\"fill:#000000; stroke:none; fill-opacity:1\" cx=\"249.823\" cy=\"365.565\" r=\"4\"/>\n",
       "<circle clip-path=\"url(#clip8202)\" style=\"fill:#009af9; stroke:none; fill-opacity:1\" cx=\"249.823\" cy=\"365.565\" r=\"3\"/>\n",
       "<circle clip-path=\"url(#clip8202)\" style=\"fill:#000000; stroke:none; fill-opacity:1\" cx=\"250.818\" cy=\"365.565\" r=\"4\"/>\n",
       "<circle clip-path=\"url(#clip8202)\" style=\"fill:#009af9; stroke:none; fill-opacity:1\" cx=\"250.818\" cy=\"365.565\" r=\"3\"/>\n",
       "<circle clip-path=\"url(#clip8202)\" style=\"fill:#000000; stroke:none; fill-opacity:1\" cx=\"251.814\" cy=\"365.565\" r=\"4\"/>\n",
       "<circle clip-path=\"url(#clip8202)\" style=\"fill:#009af9; stroke:none; fill-opacity:1\" cx=\"251.814\" cy=\"365.565\" r=\"3\"/>\n",
       "<circle clip-path=\"url(#clip8202)\" style=\"fill:#000000; stroke:none; fill-opacity:1\" cx=\"252.809\" cy=\"365.565\" r=\"4\"/>\n",
       "<circle clip-path=\"url(#clip8202)\" style=\"fill:#009af9; stroke:none; fill-opacity:1\" cx=\"252.809\" cy=\"365.565\" r=\"3\"/>\n",
       "<circle clip-path=\"url(#clip8202)\" style=\"fill:#000000; stroke:none; fill-opacity:1\" cx=\"253.805\" cy=\"365.565\" r=\"4\"/>\n",
       "<circle clip-path=\"url(#clip8202)\" style=\"fill:#009af9; stroke:none; fill-opacity:1\" cx=\"253.805\" cy=\"365.565\" r=\"3\"/>\n",
       "<circle clip-path=\"url(#clip8202)\" style=\"fill:#000000; stroke:none; fill-opacity:1\" cx=\"254.801\" cy=\"365.565\" r=\"4\"/>\n",
       "<circle clip-path=\"url(#clip8202)\" style=\"fill:#009af9; stroke:none; fill-opacity:1\" cx=\"254.801\" cy=\"365.565\" r=\"3\"/>\n",
       "<circle clip-path=\"url(#clip8202)\" style=\"fill:#000000; stroke:none; fill-opacity:1\" cx=\"255.796\" cy=\"365.565\" r=\"4\"/>\n",
       "<circle clip-path=\"url(#clip8202)\" style=\"fill:#009af9; stroke:none; fill-opacity:1\" cx=\"255.796\" cy=\"365.565\" r=\"3\"/>\n",
       "<circle clip-path=\"url(#clip8202)\" style=\"fill:#000000; stroke:none; fill-opacity:1\" cx=\"256.792\" cy=\"365.565\" r=\"4\"/>\n",
       "<circle clip-path=\"url(#clip8202)\" style=\"fill:#009af9; stroke:none; fill-opacity:1\" cx=\"256.792\" cy=\"365.565\" r=\"3\"/>\n",
       "<circle clip-path=\"url(#clip8202)\" style=\"fill:#000000; stroke:none; fill-opacity:1\" cx=\"257.787\" cy=\"365.565\" r=\"4\"/>\n",
       "<circle clip-path=\"url(#clip8202)\" style=\"fill:#009af9; stroke:none; fill-opacity:1\" cx=\"257.787\" cy=\"365.565\" r=\"3\"/>\n",
       "<circle clip-path=\"url(#clip8202)\" style=\"fill:#000000; stroke:none; fill-opacity:1\" cx=\"258.783\" cy=\"365.565\" r=\"4\"/>\n",
       "<circle clip-path=\"url(#clip8202)\" style=\"fill:#009af9; stroke:none; fill-opacity:1\" cx=\"258.783\" cy=\"365.565\" r=\"3\"/>\n",
       "<circle clip-path=\"url(#clip8202)\" style=\"fill:#000000; stroke:none; fill-opacity:1\" cx=\"259.778\" cy=\"365.565\" r=\"4\"/>\n",
       "<circle clip-path=\"url(#clip8202)\" style=\"fill:#009af9; stroke:none; fill-opacity:1\" cx=\"259.778\" cy=\"365.565\" r=\"3\"/>\n",
       "<circle clip-path=\"url(#clip8202)\" style=\"fill:#000000; stroke:none; fill-opacity:1\" cx=\"260.774\" cy=\"365.565\" r=\"4\"/>\n",
       "<circle clip-path=\"url(#clip8202)\" style=\"fill:#009af9; stroke:none; fill-opacity:1\" cx=\"260.774\" cy=\"365.565\" r=\"3\"/>\n",
       "<circle clip-path=\"url(#clip8202)\" style=\"fill:#000000; stroke:none; fill-opacity:1\" cx=\"261.769\" cy=\"365.565\" r=\"4\"/>\n",
       "<circle clip-path=\"url(#clip8202)\" style=\"fill:#009af9; stroke:none; fill-opacity:1\" cx=\"261.769\" cy=\"365.565\" r=\"3\"/>\n",
       "<circle clip-path=\"url(#clip8202)\" style=\"fill:#000000; stroke:none; fill-opacity:1\" cx=\"262.765\" cy=\"365.565\" r=\"4\"/>\n",
       "<circle clip-path=\"url(#clip8202)\" style=\"fill:#009af9; stroke:none; fill-opacity:1\" cx=\"262.765\" cy=\"365.565\" r=\"3\"/>\n",
       "<circle clip-path=\"url(#clip8202)\" style=\"fill:#000000; stroke:none; fill-opacity:1\" cx=\"263.76\" cy=\"365.565\" r=\"4\"/>\n",
       "<circle clip-path=\"url(#clip8202)\" style=\"fill:#009af9; stroke:none; fill-opacity:1\" cx=\"263.76\" cy=\"365.565\" r=\"3\"/>\n",
       "<circle clip-path=\"url(#clip8202)\" style=\"fill:#000000; stroke:none; fill-opacity:1\" cx=\"264.756\" cy=\"365.565\" r=\"4\"/>\n",
       "<circle clip-path=\"url(#clip8202)\" style=\"fill:#009af9; stroke:none; fill-opacity:1\" cx=\"264.756\" cy=\"365.565\" r=\"3\"/>\n",
       "<circle clip-path=\"url(#clip8202)\" style=\"fill:#000000; stroke:none; fill-opacity:1\" cx=\"265.752\" cy=\"365.565\" r=\"4\"/>\n",
       "<circle clip-path=\"url(#clip8202)\" style=\"fill:#009af9; stroke:none; fill-opacity:1\" cx=\"265.752\" cy=\"365.565\" r=\"3\"/>\n",
       "<circle clip-path=\"url(#clip8202)\" style=\"fill:#000000; stroke:none; fill-opacity:1\" cx=\"266.747\" cy=\"365.565\" r=\"4\"/>\n",
       "<circle clip-path=\"url(#clip8202)\" style=\"fill:#009af9; stroke:none; fill-opacity:1\" cx=\"266.747\" cy=\"365.565\" r=\"3\"/>\n",
       "<circle clip-path=\"url(#clip8202)\" style=\"fill:#000000; stroke:none; fill-opacity:1\" cx=\"267.743\" cy=\"365.565\" r=\"4\"/>\n",
       "<circle clip-path=\"url(#clip8202)\" style=\"fill:#009af9; stroke:none; fill-opacity:1\" cx=\"267.743\" cy=\"365.565\" r=\"3\"/>\n",
       "<circle clip-path=\"url(#clip8202)\" style=\"fill:#000000; stroke:none; fill-opacity:1\" cx=\"268.738\" cy=\"365.565\" r=\"4\"/>\n",
       "<circle clip-path=\"url(#clip8202)\" style=\"fill:#009af9; stroke:none; fill-opacity:1\" cx=\"268.738\" cy=\"365.565\" r=\"3\"/>\n",
       "<circle clip-path=\"url(#clip8202)\" style=\"fill:#000000; stroke:none; fill-opacity:1\" cx=\"269.734\" cy=\"365.565\" r=\"4\"/>\n",
       "<circle clip-path=\"url(#clip8202)\" style=\"fill:#009af9; stroke:none; fill-opacity:1\" cx=\"269.734\" cy=\"365.565\" r=\"3\"/>\n",
       "<circle clip-path=\"url(#clip8202)\" style=\"fill:#000000; stroke:none; fill-opacity:1\" cx=\"270.729\" cy=\"365.565\" r=\"4\"/>\n",
       "<circle clip-path=\"url(#clip8202)\" style=\"fill:#009af9; stroke:none; fill-opacity:1\" cx=\"270.729\" cy=\"365.565\" r=\"3\"/>\n",
       "<circle clip-path=\"url(#clip8202)\" style=\"fill:#000000; stroke:none; fill-opacity:1\" cx=\"271.725\" cy=\"365.565\" r=\"4\"/>\n",
       "<circle clip-path=\"url(#clip8202)\" style=\"fill:#009af9; stroke:none; fill-opacity:1\" cx=\"271.725\" cy=\"365.565\" r=\"3\"/>\n",
       "<circle clip-path=\"url(#clip8202)\" style=\"fill:#000000; stroke:none; fill-opacity:1\" cx=\"272.72\" cy=\"365.565\" r=\"4\"/>\n",
       "<circle clip-path=\"url(#clip8202)\" style=\"fill:#009af9; stroke:none; fill-opacity:1\" cx=\"272.72\" cy=\"365.565\" r=\"3\"/>\n",
       "<circle clip-path=\"url(#clip8202)\" style=\"fill:#000000; stroke:none; fill-opacity:1\" cx=\"273.716\" cy=\"365.565\" r=\"4\"/>\n",
       "<circle clip-path=\"url(#clip8202)\" style=\"fill:#009af9; stroke:none; fill-opacity:1\" cx=\"273.716\" cy=\"365.565\" r=\"3\"/>\n",
       "<circle clip-path=\"url(#clip8202)\" style=\"fill:#000000; stroke:none; fill-opacity:1\" cx=\"274.712\" cy=\"365.565\" r=\"4\"/>\n",
       "<circle clip-path=\"url(#clip8202)\" style=\"fill:#009af9; stroke:none; fill-opacity:1\" cx=\"274.712\" cy=\"365.565\" r=\"3\"/>\n",
       "<circle clip-path=\"url(#clip8202)\" style=\"fill:#000000; stroke:none; fill-opacity:1\" cx=\"275.707\" cy=\"365.565\" r=\"4\"/>\n",
       "<circle clip-path=\"url(#clip8202)\" style=\"fill:#009af9; stroke:none; fill-opacity:1\" cx=\"275.707\" cy=\"365.565\" r=\"3\"/>\n",
       "<circle clip-path=\"url(#clip8202)\" style=\"fill:#000000; stroke:none; fill-opacity:1\" cx=\"276.703\" cy=\"365.565\" r=\"4\"/>\n",
       "<circle clip-path=\"url(#clip8202)\" style=\"fill:#009af9; stroke:none; fill-opacity:1\" cx=\"276.703\" cy=\"365.565\" r=\"3\"/>\n",
       "<circle clip-path=\"url(#clip8202)\" style=\"fill:#000000; stroke:none; fill-opacity:1\" cx=\"277.698\" cy=\"365.565\" r=\"4\"/>\n",
       "<circle clip-path=\"url(#clip8202)\" style=\"fill:#009af9; stroke:none; fill-opacity:1\" cx=\"277.698\" cy=\"365.565\" r=\"3\"/>\n",
       "<circle clip-path=\"url(#clip8202)\" style=\"fill:#000000; stroke:none; fill-opacity:1\" cx=\"278.694\" cy=\"365.565\" r=\"4\"/>\n",
       "<circle clip-path=\"url(#clip8202)\" style=\"fill:#009af9; stroke:none; fill-opacity:1\" cx=\"278.694\" cy=\"365.565\" r=\"3\"/>\n",
       "<circle clip-path=\"url(#clip8202)\" style=\"fill:#000000; stroke:none; fill-opacity:1\" cx=\"279.689\" cy=\"365.565\" r=\"4\"/>\n",
       "<circle clip-path=\"url(#clip8202)\" style=\"fill:#009af9; stroke:none; fill-opacity:1\" cx=\"279.689\" cy=\"365.565\" r=\"3\"/>\n",
       "<circle clip-path=\"url(#clip8202)\" style=\"fill:#000000; stroke:none; fill-opacity:1\" cx=\"280.685\" cy=\"365.565\" r=\"4\"/>\n",
       "<circle clip-path=\"url(#clip8202)\" style=\"fill:#009af9; stroke:none; fill-opacity:1\" cx=\"280.685\" cy=\"365.565\" r=\"3\"/>\n",
       "<circle clip-path=\"url(#clip8202)\" style=\"fill:#000000; stroke:none; fill-opacity:1\" cx=\"281.68\" cy=\"365.565\" r=\"4\"/>\n",
       "<circle clip-path=\"url(#clip8202)\" style=\"fill:#009af9; stroke:none; fill-opacity:1\" cx=\"281.68\" cy=\"365.565\" r=\"3\"/>\n",
       "<circle clip-path=\"url(#clip8202)\" style=\"fill:#000000; stroke:none; fill-opacity:1\" cx=\"282.676\" cy=\"365.565\" r=\"4\"/>\n",
       "<circle clip-path=\"url(#clip8202)\" style=\"fill:#009af9; stroke:none; fill-opacity:1\" cx=\"282.676\" cy=\"365.565\" r=\"3\"/>\n",
       "<circle clip-path=\"url(#clip8202)\" style=\"fill:#000000; stroke:none; fill-opacity:1\" cx=\"283.671\" cy=\"365.565\" r=\"4\"/>\n",
       "<circle clip-path=\"url(#clip8202)\" style=\"fill:#009af9; stroke:none; fill-opacity:1\" cx=\"283.671\" cy=\"365.565\" r=\"3\"/>\n",
       "<circle clip-path=\"url(#clip8202)\" style=\"fill:#000000; stroke:none; fill-opacity:1\" cx=\"284.667\" cy=\"365.565\" r=\"4\"/>\n",
       "<circle clip-path=\"url(#clip8202)\" style=\"fill:#009af9; stroke:none; fill-opacity:1\" cx=\"284.667\" cy=\"365.565\" r=\"3\"/>\n",
       "<circle clip-path=\"url(#clip8202)\" style=\"fill:#000000; stroke:none; fill-opacity:1\" cx=\"285.663\" cy=\"365.565\" r=\"4\"/>\n",
       "<circle clip-path=\"url(#clip8202)\" style=\"fill:#009af9; stroke:none; fill-opacity:1\" cx=\"285.663\" cy=\"365.565\" r=\"3\"/>\n",
       "<circle clip-path=\"url(#clip8202)\" style=\"fill:#000000; stroke:none; fill-opacity:1\" cx=\"286.658\" cy=\"365.565\" r=\"4\"/>\n",
       "<circle clip-path=\"url(#clip8202)\" style=\"fill:#009af9; stroke:none; fill-opacity:1\" cx=\"286.658\" cy=\"365.565\" r=\"3\"/>\n",
       "<circle clip-path=\"url(#clip8202)\" style=\"fill:#000000; stroke:none; fill-opacity:1\" cx=\"287.654\" cy=\"365.565\" r=\"4\"/>\n",
       "<circle clip-path=\"url(#clip8202)\" style=\"fill:#009af9; stroke:none; fill-opacity:1\" cx=\"287.654\" cy=\"365.565\" r=\"3\"/>\n",
       "<circle clip-path=\"url(#clip8202)\" style=\"fill:#000000; stroke:none; fill-opacity:1\" cx=\"288.649\" cy=\"365.565\" r=\"4\"/>\n",
       "<circle clip-path=\"url(#clip8202)\" style=\"fill:#009af9; stroke:none; fill-opacity:1\" cx=\"288.649\" cy=\"365.565\" r=\"3\"/>\n",
       "<circle clip-path=\"url(#clip8202)\" style=\"fill:#000000; stroke:none; fill-opacity:1\" cx=\"289.645\" cy=\"365.565\" r=\"4\"/>\n",
       "<circle clip-path=\"url(#clip8202)\" style=\"fill:#009af9; stroke:none; fill-opacity:1\" cx=\"289.645\" cy=\"365.565\" r=\"3\"/>\n",
       "<circle clip-path=\"url(#clip8202)\" style=\"fill:#000000; stroke:none; fill-opacity:1\" cx=\"290.64\" cy=\"365.565\" r=\"4\"/>\n",
       "<circle clip-path=\"url(#clip8202)\" style=\"fill:#009af9; stroke:none; fill-opacity:1\" cx=\"290.64\" cy=\"365.565\" r=\"3\"/>\n",
       "<circle clip-path=\"url(#clip8202)\" style=\"fill:#000000; stroke:none; fill-opacity:1\" cx=\"291.636\" cy=\"365.565\" r=\"4\"/>\n",
       "<circle clip-path=\"url(#clip8202)\" style=\"fill:#009af9; stroke:none; fill-opacity:1\" cx=\"291.636\" cy=\"365.565\" r=\"3\"/>\n",
       "<circle clip-path=\"url(#clip8202)\" style=\"fill:#000000; stroke:none; fill-opacity:1\" cx=\"292.631\" cy=\"365.565\" r=\"4\"/>\n",
       "<circle clip-path=\"url(#clip8202)\" style=\"fill:#009af9; stroke:none; fill-opacity:1\" cx=\"292.631\" cy=\"365.565\" r=\"3\"/>\n",
       "<circle clip-path=\"url(#clip8202)\" style=\"fill:#000000; stroke:none; fill-opacity:1\" cx=\"293.627\" cy=\"365.565\" r=\"4\"/>\n",
       "<circle clip-path=\"url(#clip8202)\" style=\"fill:#009af9; stroke:none; fill-opacity:1\" cx=\"293.627\" cy=\"365.565\" r=\"3\"/>\n",
       "<circle clip-path=\"url(#clip8202)\" style=\"fill:#000000; stroke:none; fill-opacity:1\" cx=\"294.622\" cy=\"365.565\" r=\"4\"/>\n",
       "<circle clip-path=\"url(#clip8202)\" style=\"fill:#009af9; stroke:none; fill-opacity:1\" cx=\"294.622\" cy=\"365.565\" r=\"3\"/>\n",
       "<circle clip-path=\"url(#clip8202)\" style=\"fill:#000000; stroke:none; fill-opacity:1\" cx=\"295.618\" cy=\"365.565\" r=\"4\"/>\n",
       "<circle clip-path=\"url(#clip8202)\" style=\"fill:#009af9; stroke:none; fill-opacity:1\" cx=\"295.618\" cy=\"365.565\" r=\"3\"/>\n",
       "<circle clip-path=\"url(#clip8202)\" style=\"fill:#000000; stroke:none; fill-opacity:1\" cx=\"296.614\" cy=\"365.565\" r=\"4\"/>\n",
       "<circle clip-path=\"url(#clip8202)\" style=\"fill:#009af9; stroke:none; fill-opacity:1\" cx=\"296.614\" cy=\"365.565\" r=\"3\"/>\n",
       "<circle clip-path=\"url(#clip8202)\" style=\"fill:#000000; stroke:none; fill-opacity:1\" cx=\"297.609\" cy=\"365.565\" r=\"4\"/>\n",
       "<circle clip-path=\"url(#clip8202)\" style=\"fill:#009af9; stroke:none; fill-opacity:1\" cx=\"297.609\" cy=\"365.565\" r=\"3\"/>\n",
       "<circle clip-path=\"url(#clip8202)\" style=\"fill:#000000; stroke:none; fill-opacity:1\" cx=\"298.605\" cy=\"365.565\" r=\"4\"/>\n",
       "<circle clip-path=\"url(#clip8202)\" style=\"fill:#009af9; stroke:none; fill-opacity:1\" cx=\"298.605\" cy=\"365.565\" r=\"3\"/>\n",
       "<circle clip-path=\"url(#clip8202)\" style=\"fill:#000000; stroke:none; fill-opacity:1\" cx=\"299.6\" cy=\"365.565\" r=\"4\"/>\n",
       "<circle clip-path=\"url(#clip8202)\" style=\"fill:#009af9; stroke:none; fill-opacity:1\" cx=\"299.6\" cy=\"365.565\" r=\"3\"/>\n",
       "<circle clip-path=\"url(#clip8202)\" style=\"fill:#000000; stroke:none; fill-opacity:1\" cx=\"300.596\" cy=\"365.565\" r=\"4\"/>\n",
       "<circle clip-path=\"url(#clip8202)\" style=\"fill:#009af9; stroke:none; fill-opacity:1\" cx=\"300.596\" cy=\"365.565\" r=\"3\"/>\n",
       "<circle clip-path=\"url(#clip8202)\" style=\"fill:#000000; stroke:none; fill-opacity:1\" cx=\"301.591\" cy=\"365.565\" r=\"4\"/>\n",
       "<circle clip-path=\"url(#clip8202)\" style=\"fill:#009af9; stroke:none; fill-opacity:1\" cx=\"301.591\" cy=\"365.565\" r=\"3\"/>\n",
       "<circle clip-path=\"url(#clip8202)\" style=\"fill:#000000; stroke:none; fill-opacity:1\" cx=\"302.587\" cy=\"365.565\" r=\"4\"/>\n",
       "<circle clip-path=\"url(#clip8202)\" style=\"fill:#009af9; stroke:none; fill-opacity:1\" cx=\"302.587\" cy=\"365.565\" r=\"3\"/>\n",
       "<circle clip-path=\"url(#clip8202)\" style=\"fill:#000000; stroke:none; fill-opacity:1\" cx=\"303.582\" cy=\"365.565\" r=\"4\"/>\n",
       "<circle clip-path=\"url(#clip8202)\" style=\"fill:#009af9; stroke:none; fill-opacity:1\" cx=\"303.582\" cy=\"365.565\" r=\"3\"/>\n",
       "<circle clip-path=\"url(#clip8202)\" style=\"fill:#000000; stroke:none; fill-opacity:1\" cx=\"304.578\" cy=\"365.565\" r=\"4\"/>\n",
       "<circle clip-path=\"url(#clip8202)\" style=\"fill:#009af9; stroke:none; fill-opacity:1\" cx=\"304.578\" cy=\"365.565\" r=\"3\"/>\n",
       "<circle clip-path=\"url(#clip8202)\" style=\"fill:#000000; stroke:none; fill-opacity:1\" cx=\"305.574\" cy=\"365.565\" r=\"4\"/>\n",
       "<circle clip-path=\"url(#clip8202)\" style=\"fill:#009af9; stroke:none; fill-opacity:1\" cx=\"305.574\" cy=\"365.565\" r=\"3\"/>\n",
       "<circle clip-path=\"url(#clip8202)\" style=\"fill:#000000; stroke:none; fill-opacity:1\" cx=\"306.569\" cy=\"365.565\" r=\"4\"/>\n",
       "<circle clip-path=\"url(#clip8202)\" style=\"fill:#009af9; stroke:none; fill-opacity:1\" cx=\"306.569\" cy=\"365.565\" r=\"3\"/>\n",
       "<circle clip-path=\"url(#clip8202)\" style=\"fill:#000000; stroke:none; fill-opacity:1\" cx=\"307.565\" cy=\"365.565\" r=\"4\"/>\n",
       "<circle clip-path=\"url(#clip8202)\" style=\"fill:#009af9; stroke:none; fill-opacity:1\" cx=\"307.565\" cy=\"365.565\" r=\"3\"/>\n",
       "<circle clip-path=\"url(#clip8202)\" style=\"fill:#000000; stroke:none; fill-opacity:1\" cx=\"308.56\" cy=\"365.565\" r=\"4\"/>\n",
       "<circle clip-path=\"url(#clip8202)\" style=\"fill:#009af9; stroke:none; fill-opacity:1\" cx=\"308.56\" cy=\"365.565\" r=\"3\"/>\n",
       "<circle clip-path=\"url(#clip8202)\" style=\"fill:#000000; stroke:none; fill-opacity:1\" cx=\"309.556\" cy=\"365.565\" r=\"4\"/>\n",
       "<circle clip-path=\"url(#clip8202)\" style=\"fill:#009af9; stroke:none; fill-opacity:1\" cx=\"309.556\" cy=\"365.565\" r=\"3\"/>\n",
       "<circle clip-path=\"url(#clip8202)\" style=\"fill:#000000; stroke:none; fill-opacity:1\" cx=\"310.551\" cy=\"365.565\" r=\"4\"/>\n",
       "<circle clip-path=\"url(#clip8202)\" style=\"fill:#009af9; stroke:none; fill-opacity:1\" cx=\"310.551\" cy=\"365.565\" r=\"3\"/>\n",
       "<circle clip-path=\"url(#clip8202)\" style=\"fill:#000000; stroke:none; fill-opacity:1\" cx=\"311.547\" cy=\"365.565\" r=\"4\"/>\n",
       "<circle clip-path=\"url(#clip8202)\" style=\"fill:#009af9; stroke:none; fill-opacity:1\" cx=\"311.547\" cy=\"365.565\" r=\"3\"/>\n",
       "<circle clip-path=\"url(#clip8202)\" style=\"fill:#000000; stroke:none; fill-opacity:1\" cx=\"312.542\" cy=\"365.565\" r=\"4\"/>\n",
       "<circle clip-path=\"url(#clip8202)\" style=\"fill:#009af9; stroke:none; fill-opacity:1\" cx=\"312.542\" cy=\"365.565\" r=\"3\"/>\n",
       "<circle clip-path=\"url(#clip8202)\" style=\"fill:#000000; stroke:none; fill-opacity:1\" cx=\"313.538\" cy=\"365.565\" r=\"4\"/>\n",
       "<circle clip-path=\"url(#clip8202)\" style=\"fill:#009af9; stroke:none; fill-opacity:1\" cx=\"313.538\" cy=\"365.565\" r=\"3\"/>\n",
       "<circle clip-path=\"url(#clip8202)\" style=\"fill:#000000; stroke:none; fill-opacity:1\" cx=\"314.533\" cy=\"365.565\" r=\"4\"/>\n",
       "<circle clip-path=\"url(#clip8202)\" style=\"fill:#009af9; stroke:none; fill-opacity:1\" cx=\"314.533\" cy=\"365.565\" r=\"3\"/>\n",
       "<circle clip-path=\"url(#clip8202)\" style=\"fill:#000000; stroke:none; fill-opacity:1\" cx=\"315.529\" cy=\"365.565\" r=\"4\"/>\n",
       "<circle clip-path=\"url(#clip8202)\" style=\"fill:#009af9; stroke:none; fill-opacity:1\" cx=\"315.529\" cy=\"365.565\" r=\"3\"/>\n",
       "<circle clip-path=\"url(#clip8202)\" style=\"fill:#000000; stroke:none; fill-opacity:1\" cx=\"316.525\" cy=\"365.565\" r=\"4\"/>\n",
       "<circle clip-path=\"url(#clip8202)\" style=\"fill:#009af9; stroke:none; fill-opacity:1\" cx=\"316.525\" cy=\"365.565\" r=\"3\"/>\n",
       "<circle clip-path=\"url(#clip8202)\" style=\"fill:#000000; stroke:none; fill-opacity:1\" cx=\"317.52\" cy=\"365.565\" r=\"4\"/>\n",
       "<circle clip-path=\"url(#clip8202)\" style=\"fill:#009af9; stroke:none; fill-opacity:1\" cx=\"317.52\" cy=\"365.565\" r=\"3\"/>\n",
       "<circle clip-path=\"url(#clip8202)\" style=\"fill:#000000; stroke:none; fill-opacity:1\" cx=\"318.516\" cy=\"365.565\" r=\"4\"/>\n",
       "<circle clip-path=\"url(#clip8202)\" style=\"fill:#009af9; stroke:none; fill-opacity:1\" cx=\"318.516\" cy=\"365.565\" r=\"3\"/>\n",
       "<circle clip-path=\"url(#clip8202)\" style=\"fill:#000000; stroke:none; fill-opacity:1\" cx=\"319.511\" cy=\"365.565\" r=\"4\"/>\n",
       "<circle clip-path=\"url(#clip8202)\" style=\"fill:#009af9; stroke:none; fill-opacity:1\" cx=\"319.511\" cy=\"365.565\" r=\"3\"/>\n",
       "<circle clip-path=\"url(#clip8202)\" style=\"fill:#000000; stroke:none; fill-opacity:1\" cx=\"320.507\" cy=\"365.565\" r=\"4\"/>\n",
       "<circle clip-path=\"url(#clip8202)\" style=\"fill:#009af9; stroke:none; fill-opacity:1\" cx=\"320.507\" cy=\"365.565\" r=\"3\"/>\n",
       "<circle clip-path=\"url(#clip8202)\" style=\"fill:#000000; stroke:none; fill-opacity:1\" cx=\"321.502\" cy=\"365.565\" r=\"4\"/>\n",
       "<circle clip-path=\"url(#clip8202)\" style=\"fill:#009af9; stroke:none; fill-opacity:1\" cx=\"321.502\" cy=\"365.565\" r=\"3\"/>\n",
       "<circle clip-path=\"url(#clip8202)\" style=\"fill:#000000; stroke:none; fill-opacity:1\" cx=\"322.498\" cy=\"365.565\" r=\"4\"/>\n",
       "<circle clip-path=\"url(#clip8202)\" style=\"fill:#009af9; stroke:none; fill-opacity:1\" cx=\"322.498\" cy=\"365.565\" r=\"3\"/>\n",
       "<circle clip-path=\"url(#clip8202)\" style=\"fill:#000000; stroke:none; fill-opacity:1\" cx=\"323.493\" cy=\"365.565\" r=\"4\"/>\n",
       "<circle clip-path=\"url(#clip8202)\" style=\"fill:#009af9; stroke:none; fill-opacity:1\" cx=\"323.493\" cy=\"365.565\" r=\"3\"/>\n",
       "<circle clip-path=\"url(#clip8202)\" style=\"fill:#000000; stroke:none; fill-opacity:1\" cx=\"324.489\" cy=\"365.565\" r=\"4\"/>\n",
       "<circle clip-path=\"url(#clip8202)\" style=\"fill:#009af9; stroke:none; fill-opacity:1\" cx=\"324.489\" cy=\"365.565\" r=\"3\"/>\n",
       "<circle clip-path=\"url(#clip8202)\" style=\"fill:#000000; stroke:none; fill-opacity:1\" cx=\"325.484\" cy=\"365.565\" r=\"4\"/>\n",
       "<circle clip-path=\"url(#clip8202)\" style=\"fill:#009af9; stroke:none; fill-opacity:1\" cx=\"325.484\" cy=\"365.565\" r=\"3\"/>\n",
       "<circle clip-path=\"url(#clip8202)\" style=\"fill:#000000; stroke:none; fill-opacity:1\" cx=\"326.48\" cy=\"365.565\" r=\"4\"/>\n",
       "<circle clip-path=\"url(#clip8202)\" style=\"fill:#009af9; stroke:none; fill-opacity:1\" cx=\"326.48\" cy=\"365.565\" r=\"3\"/>\n",
       "<circle clip-path=\"url(#clip8202)\" style=\"fill:#000000; stroke:none; fill-opacity:1\" cx=\"327.476\" cy=\"365.565\" r=\"4\"/>\n",
       "<circle clip-path=\"url(#clip8202)\" style=\"fill:#009af9; stroke:none; fill-opacity:1\" cx=\"327.476\" cy=\"365.565\" r=\"3\"/>\n",
       "<circle clip-path=\"url(#clip8202)\" style=\"fill:#000000; stroke:none; fill-opacity:1\" cx=\"328.471\" cy=\"365.565\" r=\"4\"/>\n",
       "<circle clip-path=\"url(#clip8202)\" style=\"fill:#009af9; stroke:none; fill-opacity:1\" cx=\"328.471\" cy=\"365.565\" r=\"3\"/>\n",
       "<circle clip-path=\"url(#clip8202)\" style=\"fill:#000000; stroke:none; fill-opacity:1\" cx=\"329.467\" cy=\"365.565\" r=\"4\"/>\n",
       "<circle clip-path=\"url(#clip8202)\" style=\"fill:#009af9; stroke:none; fill-opacity:1\" cx=\"329.467\" cy=\"365.565\" r=\"3\"/>\n",
       "<circle clip-path=\"url(#clip8202)\" style=\"fill:#000000; stroke:none; fill-opacity:1\" cx=\"330.462\" cy=\"365.565\" r=\"4\"/>\n",
       "<circle clip-path=\"url(#clip8202)\" style=\"fill:#009af9; stroke:none; fill-opacity:1\" cx=\"330.462\" cy=\"365.565\" r=\"3\"/>\n",
       "<circle clip-path=\"url(#clip8202)\" style=\"fill:#000000; stroke:none; fill-opacity:1\" cx=\"331.458\" cy=\"365.565\" r=\"4\"/>\n",
       "<circle clip-path=\"url(#clip8202)\" style=\"fill:#009af9; stroke:none; fill-opacity:1\" cx=\"331.458\" cy=\"365.565\" r=\"3\"/>\n",
       "<circle clip-path=\"url(#clip8202)\" style=\"fill:#000000; stroke:none; fill-opacity:1\" cx=\"332.453\" cy=\"365.565\" r=\"4\"/>\n",
       "<circle clip-path=\"url(#clip8202)\" style=\"fill:#009af9; stroke:none; fill-opacity:1\" cx=\"332.453\" cy=\"365.565\" r=\"3\"/>\n",
       "<circle clip-path=\"url(#clip8202)\" style=\"fill:#000000; stroke:none; fill-opacity:1\" cx=\"333.449\" cy=\"365.565\" r=\"4\"/>\n",
       "<circle clip-path=\"url(#clip8202)\" style=\"fill:#009af9; stroke:none; fill-opacity:1\" cx=\"333.449\" cy=\"365.565\" r=\"3\"/>\n",
       "<circle clip-path=\"url(#clip8202)\" style=\"fill:#000000; stroke:none; fill-opacity:1\" cx=\"334.444\" cy=\"365.565\" r=\"4\"/>\n",
       "<circle clip-path=\"url(#clip8202)\" style=\"fill:#009af9; stroke:none; fill-opacity:1\" cx=\"334.444\" cy=\"365.565\" r=\"3\"/>\n",
       "<circle clip-path=\"url(#clip8202)\" style=\"fill:#000000; stroke:none; fill-opacity:1\" cx=\"335.44\" cy=\"365.565\" r=\"4\"/>\n",
       "<circle clip-path=\"url(#clip8202)\" style=\"fill:#009af9; stroke:none; fill-opacity:1\" cx=\"335.44\" cy=\"365.565\" r=\"3\"/>\n",
       "<circle clip-path=\"url(#clip8202)\" style=\"fill:#000000; stroke:none; fill-opacity:1\" cx=\"336.436\" cy=\"365.565\" r=\"4\"/>\n",
       "<circle clip-path=\"url(#clip8202)\" style=\"fill:#009af9; stroke:none; fill-opacity:1\" cx=\"336.436\" cy=\"365.565\" r=\"3\"/>\n",
       "<circle clip-path=\"url(#clip8202)\" style=\"fill:#000000; stroke:none; fill-opacity:1\" cx=\"337.431\" cy=\"365.565\" r=\"4\"/>\n",
       "<circle clip-path=\"url(#clip8202)\" style=\"fill:#009af9; stroke:none; fill-opacity:1\" cx=\"337.431\" cy=\"365.565\" r=\"3\"/>\n",
       "<circle clip-path=\"url(#clip8202)\" style=\"fill:#000000; stroke:none; fill-opacity:1\" cx=\"338.427\" cy=\"365.565\" r=\"4\"/>\n",
       "<circle clip-path=\"url(#clip8202)\" style=\"fill:#009af9; stroke:none; fill-opacity:1\" cx=\"338.427\" cy=\"365.565\" r=\"3\"/>\n",
       "<circle clip-path=\"url(#clip8202)\" style=\"fill:#000000; stroke:none; fill-opacity:1\" cx=\"339.422\" cy=\"365.565\" r=\"4\"/>\n",
       "<circle clip-path=\"url(#clip8202)\" style=\"fill:#009af9; stroke:none; fill-opacity:1\" cx=\"339.422\" cy=\"365.565\" r=\"3\"/>\n",
       "<circle clip-path=\"url(#clip8202)\" style=\"fill:#000000; stroke:none; fill-opacity:1\" cx=\"340.418\" cy=\"365.565\" r=\"4\"/>\n",
       "<circle clip-path=\"url(#clip8202)\" style=\"fill:#009af9; stroke:none; fill-opacity:1\" cx=\"340.418\" cy=\"365.565\" r=\"3\"/>\n",
       "<circle clip-path=\"url(#clip8202)\" style=\"fill:#000000; stroke:none; fill-opacity:1\" cx=\"341.413\" cy=\"365.565\" r=\"4\"/>\n",
       "<circle clip-path=\"url(#clip8202)\" style=\"fill:#009af9; stroke:none; fill-opacity:1\" cx=\"341.413\" cy=\"365.565\" r=\"3\"/>\n",
       "<circle clip-path=\"url(#clip8202)\" style=\"fill:#000000; stroke:none; fill-opacity:1\" cx=\"342.409\" cy=\"365.565\" r=\"4\"/>\n",
       "<circle clip-path=\"url(#clip8202)\" style=\"fill:#009af9; stroke:none; fill-opacity:1\" cx=\"342.409\" cy=\"365.565\" r=\"3\"/>\n",
       "<circle clip-path=\"url(#clip8202)\" style=\"fill:#000000; stroke:none; fill-opacity:1\" cx=\"343.404\" cy=\"365.565\" r=\"4\"/>\n",
       "<circle clip-path=\"url(#clip8202)\" style=\"fill:#009af9; stroke:none; fill-opacity:1\" cx=\"343.404\" cy=\"365.565\" r=\"3\"/>\n",
       "<circle clip-path=\"url(#clip8202)\" style=\"fill:#000000; stroke:none; fill-opacity:1\" cx=\"344.4\" cy=\"365.565\" r=\"4\"/>\n",
       "<circle clip-path=\"url(#clip8202)\" style=\"fill:#009af9; stroke:none; fill-opacity:1\" cx=\"344.4\" cy=\"365.565\" r=\"3\"/>\n",
       "<circle clip-path=\"url(#clip8202)\" style=\"fill:#000000; stroke:none; fill-opacity:1\" cx=\"345.395\" cy=\"365.565\" r=\"4\"/>\n",
       "<circle clip-path=\"url(#clip8202)\" style=\"fill:#009af9; stroke:none; fill-opacity:1\" cx=\"345.395\" cy=\"365.565\" r=\"3\"/>\n",
       "<circle clip-path=\"url(#clip8202)\" style=\"fill:#000000; stroke:none; fill-opacity:1\" cx=\"346.391\" cy=\"365.565\" r=\"4\"/>\n",
       "<circle clip-path=\"url(#clip8202)\" style=\"fill:#009af9; stroke:none; fill-opacity:1\" cx=\"346.391\" cy=\"365.565\" r=\"3\"/>\n",
       "<circle clip-path=\"url(#clip8202)\" style=\"fill:#000000; stroke:none; fill-opacity:1\" cx=\"347.387\" cy=\"365.565\" r=\"4\"/>\n",
       "<circle clip-path=\"url(#clip8202)\" style=\"fill:#009af9; stroke:none; fill-opacity:1\" cx=\"347.387\" cy=\"365.565\" r=\"3\"/>\n",
       "<circle clip-path=\"url(#clip8202)\" style=\"fill:#000000; stroke:none; fill-opacity:1\" cx=\"348.382\" cy=\"365.565\" r=\"4\"/>\n",
       "<circle clip-path=\"url(#clip8202)\" style=\"fill:#009af9; stroke:none; fill-opacity:1\" cx=\"348.382\" cy=\"365.565\" r=\"3\"/>\n",
       "<circle clip-path=\"url(#clip8202)\" style=\"fill:#000000; stroke:none; fill-opacity:1\" cx=\"349.378\" cy=\"365.565\" r=\"4\"/>\n",
       "<circle clip-path=\"url(#clip8202)\" style=\"fill:#009af9; stroke:none; fill-opacity:1\" cx=\"349.378\" cy=\"365.565\" r=\"3\"/>\n",
       "<circle clip-path=\"url(#clip8202)\" style=\"fill:#000000; stroke:none; fill-opacity:1\" cx=\"350.373\" cy=\"365.565\" r=\"4\"/>\n",
       "<circle clip-path=\"url(#clip8202)\" style=\"fill:#009af9; stroke:none; fill-opacity:1\" cx=\"350.373\" cy=\"365.565\" r=\"3\"/>\n",
       "<circle clip-path=\"url(#clip8202)\" style=\"fill:#000000; stroke:none; fill-opacity:1\" cx=\"351.369\" cy=\"365.565\" r=\"4\"/>\n",
       "<circle clip-path=\"url(#clip8202)\" style=\"fill:#009af9; stroke:none; fill-opacity:1\" cx=\"351.369\" cy=\"365.565\" r=\"3\"/>\n",
       "<circle clip-path=\"url(#clip8202)\" style=\"fill:#000000; stroke:none; fill-opacity:1\" cx=\"352.364\" cy=\"365.565\" r=\"4\"/>\n",
       "<circle clip-path=\"url(#clip8202)\" style=\"fill:#009af9; stroke:none; fill-opacity:1\" cx=\"352.364\" cy=\"365.565\" r=\"3\"/>\n",
       "<circle clip-path=\"url(#clip8202)\" style=\"fill:#000000; stroke:none; fill-opacity:1\" cx=\"353.36\" cy=\"365.565\" r=\"4\"/>\n",
       "<circle clip-path=\"url(#clip8202)\" style=\"fill:#009af9; stroke:none; fill-opacity:1\" cx=\"353.36\" cy=\"365.565\" r=\"3\"/>\n",
       "<circle clip-path=\"url(#clip8202)\" style=\"fill:#000000; stroke:none; fill-opacity:1\" cx=\"354.355\" cy=\"365.565\" r=\"4\"/>\n",
       "<circle clip-path=\"url(#clip8202)\" style=\"fill:#009af9; stroke:none; fill-opacity:1\" cx=\"354.355\" cy=\"365.565\" r=\"3\"/>\n",
       "<circle clip-path=\"url(#clip8202)\" style=\"fill:#000000; stroke:none; fill-opacity:1\" cx=\"355.351\" cy=\"365.565\" r=\"4\"/>\n",
       "<circle clip-path=\"url(#clip8202)\" style=\"fill:#009af9; stroke:none; fill-opacity:1\" cx=\"355.351\" cy=\"365.565\" r=\"3\"/>\n",
       "<circle clip-path=\"url(#clip8202)\" style=\"fill:#000000; stroke:none; fill-opacity:1\" cx=\"356.346\" cy=\"365.565\" r=\"4\"/>\n",
       "<circle clip-path=\"url(#clip8202)\" style=\"fill:#009af9; stroke:none; fill-opacity:1\" cx=\"356.346\" cy=\"365.565\" r=\"3\"/>\n",
       "<circle clip-path=\"url(#clip8202)\" style=\"fill:#000000; stroke:none; fill-opacity:1\" cx=\"357.342\" cy=\"365.565\" r=\"4\"/>\n",
       "<circle clip-path=\"url(#clip8202)\" style=\"fill:#009af9; stroke:none; fill-opacity:1\" cx=\"357.342\" cy=\"365.565\" r=\"3\"/>\n",
       "<circle clip-path=\"url(#clip8202)\" style=\"fill:#000000; stroke:none; fill-opacity:1\" cx=\"358.338\" cy=\"365.565\" r=\"4\"/>\n",
       "<circle clip-path=\"url(#clip8202)\" style=\"fill:#009af9; stroke:none; fill-opacity:1\" cx=\"358.338\" cy=\"365.565\" r=\"3\"/>\n",
       "<circle clip-path=\"url(#clip8202)\" style=\"fill:#000000; stroke:none; fill-opacity:1\" cx=\"359.333\" cy=\"365.565\" r=\"4\"/>\n",
       "<circle clip-path=\"url(#clip8202)\" style=\"fill:#009af9; stroke:none; fill-opacity:1\" cx=\"359.333\" cy=\"365.565\" r=\"3\"/>\n",
       "<circle clip-path=\"url(#clip8202)\" style=\"fill:#000000; stroke:none; fill-opacity:1\" cx=\"360.329\" cy=\"365.565\" r=\"4\"/>\n",
       "<circle clip-path=\"url(#clip8202)\" style=\"fill:#009af9; stroke:none; fill-opacity:1\" cx=\"360.329\" cy=\"365.565\" r=\"3\"/>\n",
       "<circle clip-path=\"url(#clip8202)\" style=\"fill:#000000; stroke:none; fill-opacity:1\" cx=\"361.324\" cy=\"365.565\" r=\"4\"/>\n",
       "<circle clip-path=\"url(#clip8202)\" style=\"fill:#009af9; stroke:none; fill-opacity:1\" cx=\"361.324\" cy=\"365.565\" r=\"3\"/>\n",
       "<circle clip-path=\"url(#clip8202)\" style=\"fill:#000000; stroke:none; fill-opacity:1\" cx=\"362.32\" cy=\"365.565\" r=\"4\"/>\n",
       "<circle clip-path=\"url(#clip8202)\" style=\"fill:#009af9; stroke:none; fill-opacity:1\" cx=\"362.32\" cy=\"365.565\" r=\"3\"/>\n",
       "<circle clip-path=\"url(#clip8202)\" style=\"fill:#000000; stroke:none; fill-opacity:1\" cx=\"363.315\" cy=\"365.565\" r=\"4\"/>\n",
       "<circle clip-path=\"url(#clip8202)\" style=\"fill:#009af9; stroke:none; fill-opacity:1\" cx=\"363.315\" cy=\"365.565\" r=\"3\"/>\n",
       "<circle clip-path=\"url(#clip8202)\" style=\"fill:#000000; stroke:none; fill-opacity:1\" cx=\"364.311\" cy=\"365.565\" r=\"4\"/>\n",
       "<circle clip-path=\"url(#clip8202)\" style=\"fill:#009af9; stroke:none; fill-opacity:1\" cx=\"364.311\" cy=\"365.565\" r=\"3\"/>\n",
       "<circle clip-path=\"url(#clip8202)\" style=\"fill:#000000; stroke:none; fill-opacity:1\" cx=\"365.306\" cy=\"365.565\" r=\"4\"/>\n",
       "<circle clip-path=\"url(#clip8202)\" style=\"fill:#009af9; stroke:none; fill-opacity:1\" cx=\"365.306\" cy=\"365.565\" r=\"3\"/>\n",
       "<circle clip-path=\"url(#clip8202)\" style=\"fill:#000000; stroke:none; fill-opacity:1\" cx=\"366.302\" cy=\"365.565\" r=\"4\"/>\n",
       "<circle clip-path=\"url(#clip8202)\" style=\"fill:#009af9; stroke:none; fill-opacity:1\" cx=\"366.302\" cy=\"365.565\" r=\"3\"/>\n",
       "<circle clip-path=\"url(#clip8202)\" style=\"fill:#000000; stroke:none; fill-opacity:1\" cx=\"367.298\" cy=\"365.565\" r=\"4\"/>\n",
       "<circle clip-path=\"url(#clip8202)\" style=\"fill:#009af9; stroke:none; fill-opacity:1\" cx=\"367.298\" cy=\"365.565\" r=\"3\"/>\n",
       "<circle clip-path=\"url(#clip8202)\" style=\"fill:#000000; stroke:none; fill-opacity:1\" cx=\"368.293\" cy=\"365.565\" r=\"4\"/>\n",
       "<circle clip-path=\"url(#clip8202)\" style=\"fill:#009af9; stroke:none; fill-opacity:1\" cx=\"368.293\" cy=\"365.565\" r=\"3\"/>\n",
       "<circle clip-path=\"url(#clip8202)\" style=\"fill:#000000; stroke:none; fill-opacity:1\" cx=\"369.289\" cy=\"365.565\" r=\"4\"/>\n",
       "<circle clip-path=\"url(#clip8202)\" style=\"fill:#009af9; stroke:none; fill-opacity:1\" cx=\"369.289\" cy=\"365.565\" r=\"3\"/>\n",
       "<circle clip-path=\"url(#clip8202)\" style=\"fill:#000000; stroke:none; fill-opacity:1\" cx=\"370.284\" cy=\"365.565\" r=\"4\"/>\n",
       "<circle clip-path=\"url(#clip8202)\" style=\"fill:#009af9; stroke:none; fill-opacity:1\" cx=\"370.284\" cy=\"365.565\" r=\"3\"/>\n",
       "<circle clip-path=\"url(#clip8202)\" style=\"fill:#000000; stroke:none; fill-opacity:1\" cx=\"371.28\" cy=\"365.565\" r=\"4\"/>\n",
       "<circle clip-path=\"url(#clip8202)\" style=\"fill:#009af9; stroke:none; fill-opacity:1\" cx=\"371.28\" cy=\"365.565\" r=\"3\"/>\n",
       "<circle clip-path=\"url(#clip8202)\" style=\"fill:#000000; stroke:none; fill-opacity:1\" cx=\"372.275\" cy=\"365.565\" r=\"4\"/>\n",
       "<circle clip-path=\"url(#clip8202)\" style=\"fill:#009af9; stroke:none; fill-opacity:1\" cx=\"372.275\" cy=\"365.565\" r=\"3\"/>\n",
       "<circle clip-path=\"url(#clip8202)\" style=\"fill:#000000; stroke:none; fill-opacity:1\" cx=\"373.271\" cy=\"365.565\" r=\"4\"/>\n",
       "<circle clip-path=\"url(#clip8202)\" style=\"fill:#009af9; stroke:none; fill-opacity:1\" cx=\"373.271\" cy=\"365.565\" r=\"3\"/>\n",
       "<circle clip-path=\"url(#clip8202)\" style=\"fill:#000000; stroke:none; fill-opacity:1\" cx=\"374.266\" cy=\"365.565\" r=\"4\"/>\n",
       "<circle clip-path=\"url(#clip8202)\" style=\"fill:#009af9; stroke:none; fill-opacity:1\" cx=\"374.266\" cy=\"365.565\" r=\"3\"/>\n",
       "<circle clip-path=\"url(#clip8202)\" style=\"fill:#000000; stroke:none; fill-opacity:1\" cx=\"375.262\" cy=\"365.565\" r=\"4\"/>\n",
       "<circle clip-path=\"url(#clip8202)\" style=\"fill:#009af9; stroke:none; fill-opacity:1\" cx=\"375.262\" cy=\"365.565\" r=\"3\"/>\n",
       "<circle clip-path=\"url(#clip8202)\" style=\"fill:#000000; stroke:none; fill-opacity:1\" cx=\"376.257\" cy=\"365.565\" r=\"4\"/>\n",
       "<circle clip-path=\"url(#clip8202)\" style=\"fill:#009af9; stroke:none; fill-opacity:1\" cx=\"376.257\" cy=\"365.565\" r=\"3\"/>\n",
       "<circle clip-path=\"url(#clip8202)\" style=\"fill:#000000; stroke:none; fill-opacity:1\" cx=\"377.253\" cy=\"365.565\" r=\"4\"/>\n",
       "<circle clip-path=\"url(#clip8202)\" style=\"fill:#009af9; stroke:none; fill-opacity:1\" cx=\"377.253\" cy=\"365.565\" r=\"3\"/>\n",
       "<circle clip-path=\"url(#clip8202)\" style=\"fill:#000000; stroke:none; fill-opacity:1\" cx=\"378.249\" cy=\"365.565\" r=\"4\"/>\n",
       "<circle clip-path=\"url(#clip8202)\" style=\"fill:#009af9; stroke:none; fill-opacity:1\" cx=\"378.249\" cy=\"365.565\" r=\"3\"/>\n",
       "<circle clip-path=\"url(#clip8202)\" style=\"fill:#000000; stroke:none; fill-opacity:1\" cx=\"379.244\" cy=\"365.565\" r=\"4\"/>\n",
       "<circle clip-path=\"url(#clip8202)\" style=\"fill:#009af9; stroke:none; fill-opacity:1\" cx=\"379.244\" cy=\"365.565\" r=\"3\"/>\n",
       "<circle clip-path=\"url(#clip8202)\" style=\"fill:#000000; stroke:none; fill-opacity:1\" cx=\"380.24\" cy=\"365.565\" r=\"4\"/>\n",
       "<circle clip-path=\"url(#clip8202)\" style=\"fill:#009af9; stroke:none; fill-opacity:1\" cx=\"380.24\" cy=\"365.565\" r=\"3\"/>\n",
       "<circle clip-path=\"url(#clip8202)\" style=\"fill:#000000; stroke:none; fill-opacity:1\" cx=\"381.235\" cy=\"365.565\" r=\"4\"/>\n",
       "<circle clip-path=\"url(#clip8202)\" style=\"fill:#009af9; stroke:none; fill-opacity:1\" cx=\"381.235\" cy=\"365.565\" r=\"3\"/>\n",
       "<circle clip-path=\"url(#clip8202)\" style=\"fill:#000000; stroke:none; fill-opacity:1\" cx=\"382.231\" cy=\"365.565\" r=\"4\"/>\n",
       "<circle clip-path=\"url(#clip8202)\" style=\"fill:#009af9; stroke:none; fill-opacity:1\" cx=\"382.231\" cy=\"365.565\" r=\"3\"/>\n",
       "<circle clip-path=\"url(#clip8202)\" style=\"fill:#000000; stroke:none; fill-opacity:1\" cx=\"383.226\" cy=\"365.565\" r=\"4\"/>\n",
       "<circle clip-path=\"url(#clip8202)\" style=\"fill:#009af9; stroke:none; fill-opacity:1\" cx=\"383.226\" cy=\"365.565\" r=\"3\"/>\n",
       "<circle clip-path=\"url(#clip8202)\" style=\"fill:#000000; stroke:none; fill-opacity:1\" cx=\"384.222\" cy=\"365.565\" r=\"4\"/>\n",
       "<circle clip-path=\"url(#clip8202)\" style=\"fill:#009af9; stroke:none; fill-opacity:1\" cx=\"384.222\" cy=\"365.565\" r=\"3\"/>\n",
       "<circle clip-path=\"url(#clip8202)\" style=\"fill:#000000; stroke:none; fill-opacity:1\" cx=\"385.217\" cy=\"365.565\" r=\"4\"/>\n",
       "<circle clip-path=\"url(#clip8202)\" style=\"fill:#009af9; stroke:none; fill-opacity:1\" cx=\"385.217\" cy=\"365.565\" r=\"3\"/>\n",
       "<circle clip-path=\"url(#clip8202)\" style=\"fill:#000000; stroke:none; fill-opacity:1\" cx=\"386.213\" cy=\"365.565\" r=\"4\"/>\n",
       "<circle clip-path=\"url(#clip8202)\" style=\"fill:#009af9; stroke:none; fill-opacity:1\" cx=\"386.213\" cy=\"365.565\" r=\"3\"/>\n",
       "<circle clip-path=\"url(#clip8202)\" style=\"fill:#000000; stroke:none; fill-opacity:1\" cx=\"387.208\" cy=\"365.565\" r=\"4\"/>\n",
       "<circle clip-path=\"url(#clip8202)\" style=\"fill:#009af9; stroke:none; fill-opacity:1\" cx=\"387.208\" cy=\"365.565\" r=\"3\"/>\n",
       "<circle clip-path=\"url(#clip8202)\" style=\"fill:#000000; stroke:none; fill-opacity:1\" cx=\"388.204\" cy=\"365.565\" r=\"4\"/>\n",
       "<circle clip-path=\"url(#clip8202)\" style=\"fill:#009af9; stroke:none; fill-opacity:1\" cx=\"388.204\" cy=\"365.565\" r=\"3\"/>\n",
       "<circle clip-path=\"url(#clip8202)\" style=\"fill:#000000; stroke:none; fill-opacity:1\" cx=\"389.2\" cy=\"365.565\" r=\"4\"/>\n",
       "<circle clip-path=\"url(#clip8202)\" style=\"fill:#009af9; stroke:none; fill-opacity:1\" cx=\"389.2\" cy=\"365.565\" r=\"3\"/>\n",
       "<circle clip-path=\"url(#clip8202)\" style=\"fill:#000000; stroke:none; fill-opacity:1\" cx=\"390.195\" cy=\"365.565\" r=\"4\"/>\n",
       "<circle clip-path=\"url(#clip8202)\" style=\"fill:#009af9; stroke:none; fill-opacity:1\" cx=\"390.195\" cy=\"365.565\" r=\"3\"/>\n",
       "<circle clip-path=\"url(#clip8202)\" style=\"fill:#000000; stroke:none; fill-opacity:1\" cx=\"391.191\" cy=\"365.565\" r=\"4\"/>\n",
       "<circle clip-path=\"url(#clip8202)\" style=\"fill:#009af9; stroke:none; fill-opacity:1\" cx=\"391.191\" cy=\"365.565\" r=\"3\"/>\n",
       "<circle clip-path=\"url(#clip8202)\" style=\"fill:#000000; stroke:none; fill-opacity:1\" cx=\"392.186\" cy=\"365.565\" r=\"4\"/>\n",
       "<circle clip-path=\"url(#clip8202)\" style=\"fill:#009af9; stroke:none; fill-opacity:1\" cx=\"392.186\" cy=\"365.565\" r=\"3\"/>\n",
       "<circle clip-path=\"url(#clip8202)\" style=\"fill:#000000; stroke:none; fill-opacity:1\" cx=\"393.182\" cy=\"365.565\" r=\"4\"/>\n",
       "<circle clip-path=\"url(#clip8202)\" style=\"fill:#009af9; stroke:none; fill-opacity:1\" cx=\"393.182\" cy=\"365.565\" r=\"3\"/>\n",
       "<circle clip-path=\"url(#clip8202)\" style=\"fill:#000000; stroke:none; fill-opacity:1\" cx=\"394.177\" cy=\"365.565\" r=\"4\"/>\n",
       "<circle clip-path=\"url(#clip8202)\" style=\"fill:#009af9; stroke:none; fill-opacity:1\" cx=\"394.177\" cy=\"365.565\" r=\"3\"/>\n",
       "<circle clip-path=\"url(#clip8202)\" style=\"fill:#000000; stroke:none; fill-opacity:1\" cx=\"395.173\" cy=\"365.565\" r=\"4\"/>\n",
       "<circle clip-path=\"url(#clip8202)\" style=\"fill:#009af9; stroke:none; fill-opacity:1\" cx=\"395.173\" cy=\"365.565\" r=\"3\"/>\n",
       "<circle clip-path=\"url(#clip8202)\" style=\"fill:#000000; stroke:none; fill-opacity:1\" cx=\"396.168\" cy=\"365.565\" r=\"4\"/>\n",
       "<circle clip-path=\"url(#clip8202)\" style=\"fill:#009af9; stroke:none; fill-opacity:1\" cx=\"396.168\" cy=\"365.565\" r=\"3\"/>\n",
       "<circle clip-path=\"url(#clip8202)\" style=\"fill:#000000; stroke:none; fill-opacity:1\" cx=\"397.164\" cy=\"365.565\" r=\"4\"/>\n",
       "<circle clip-path=\"url(#clip8202)\" style=\"fill:#009af9; stroke:none; fill-opacity:1\" cx=\"397.164\" cy=\"365.565\" r=\"3\"/>\n",
       "<circle clip-path=\"url(#clip8202)\" style=\"fill:#000000; stroke:none; fill-opacity:1\" cx=\"398.16\" cy=\"365.565\" r=\"4\"/>\n",
       "<circle clip-path=\"url(#clip8202)\" style=\"fill:#009af9; stroke:none; fill-opacity:1\" cx=\"398.16\" cy=\"365.565\" r=\"3\"/>\n",
       "<circle clip-path=\"url(#clip8202)\" style=\"fill:#000000; stroke:none; fill-opacity:1\" cx=\"399.155\" cy=\"365.565\" r=\"4\"/>\n",
       "<circle clip-path=\"url(#clip8202)\" style=\"fill:#009af9; stroke:none; fill-opacity:1\" cx=\"399.155\" cy=\"365.565\" r=\"3\"/>\n",
       "<circle clip-path=\"url(#clip8202)\" style=\"fill:#000000; stroke:none; fill-opacity:1\" cx=\"400.151\" cy=\"365.565\" r=\"4\"/>\n",
       "<circle clip-path=\"url(#clip8202)\" style=\"fill:#009af9; stroke:none; fill-opacity:1\" cx=\"400.151\" cy=\"365.565\" r=\"3\"/>\n",
       "<circle clip-path=\"url(#clip8202)\" style=\"fill:#000000; stroke:none; fill-opacity:1\" cx=\"401.146\" cy=\"365.565\" r=\"4\"/>\n",
       "<circle clip-path=\"url(#clip8202)\" style=\"fill:#009af9; stroke:none; fill-opacity:1\" cx=\"401.146\" cy=\"365.565\" r=\"3\"/>\n",
       "<circle clip-path=\"url(#clip8202)\" style=\"fill:#000000; stroke:none; fill-opacity:1\" cx=\"402.142\" cy=\"365.565\" r=\"4\"/>\n",
       "<circle clip-path=\"url(#clip8202)\" style=\"fill:#009af9; stroke:none; fill-opacity:1\" cx=\"402.142\" cy=\"365.565\" r=\"3\"/>\n",
       "<circle clip-path=\"url(#clip8202)\" style=\"fill:#000000; stroke:none; fill-opacity:1\" cx=\"403.137\" cy=\"365.565\" r=\"4\"/>\n",
       "<circle clip-path=\"url(#clip8202)\" style=\"fill:#009af9; stroke:none; fill-opacity:1\" cx=\"403.137\" cy=\"365.565\" r=\"3\"/>\n",
       "<circle clip-path=\"url(#clip8202)\" style=\"fill:#000000; stroke:none; fill-opacity:1\" cx=\"404.133\" cy=\"365.565\" r=\"4\"/>\n",
       "<circle clip-path=\"url(#clip8202)\" style=\"fill:#009af9; stroke:none; fill-opacity:1\" cx=\"404.133\" cy=\"365.565\" r=\"3\"/>\n",
       "<circle clip-path=\"url(#clip8202)\" style=\"fill:#000000; stroke:none; fill-opacity:1\" cx=\"405.128\" cy=\"365.565\" r=\"4\"/>\n",
       "<circle clip-path=\"url(#clip8202)\" style=\"fill:#009af9; stroke:none; fill-opacity:1\" cx=\"405.128\" cy=\"365.565\" r=\"3\"/>\n",
       "<circle clip-path=\"url(#clip8202)\" style=\"fill:#000000; stroke:none; fill-opacity:1\" cx=\"406.124\" cy=\"365.565\" r=\"4\"/>\n",
       "<circle clip-path=\"url(#clip8202)\" style=\"fill:#009af9; stroke:none; fill-opacity:1\" cx=\"406.124\" cy=\"365.565\" r=\"3\"/>\n",
       "<circle clip-path=\"url(#clip8202)\" style=\"fill:#000000; stroke:none; fill-opacity:1\" cx=\"407.119\" cy=\"365.565\" r=\"4\"/>\n",
       "<circle clip-path=\"url(#clip8202)\" style=\"fill:#009af9; stroke:none; fill-opacity:1\" cx=\"407.119\" cy=\"365.565\" r=\"3\"/>\n",
       "<circle clip-path=\"url(#clip8202)\" style=\"fill:#000000; stroke:none; fill-opacity:1\" cx=\"408.115\" cy=\"365.565\" r=\"4\"/>\n",
       "<circle clip-path=\"url(#clip8202)\" style=\"fill:#009af9; stroke:none; fill-opacity:1\" cx=\"408.115\" cy=\"365.565\" r=\"3\"/>\n",
       "<circle clip-path=\"url(#clip8202)\" style=\"fill:#000000; stroke:none; fill-opacity:1\" cx=\"409.111\" cy=\"365.565\" r=\"4\"/>\n",
       "<circle clip-path=\"url(#clip8202)\" style=\"fill:#009af9; stroke:none; fill-opacity:1\" cx=\"409.111\" cy=\"365.565\" r=\"3\"/>\n",
       "<circle clip-path=\"url(#clip8202)\" style=\"fill:#000000; stroke:none; fill-opacity:1\" cx=\"410.106\" cy=\"365.565\" r=\"4\"/>\n",
       "<circle clip-path=\"url(#clip8202)\" style=\"fill:#009af9; stroke:none; fill-opacity:1\" cx=\"410.106\" cy=\"365.565\" r=\"3\"/>\n",
       "<circle clip-path=\"url(#clip8202)\" style=\"fill:#000000; stroke:none; fill-opacity:1\" cx=\"411.102\" cy=\"365.565\" r=\"4\"/>\n",
       "<circle clip-path=\"url(#clip8202)\" style=\"fill:#009af9; stroke:none; fill-opacity:1\" cx=\"411.102\" cy=\"365.565\" r=\"3\"/>\n",
       "<circle clip-path=\"url(#clip8202)\" style=\"fill:#000000; stroke:none; fill-opacity:1\" cx=\"412.097\" cy=\"365.565\" r=\"4\"/>\n",
       "<circle clip-path=\"url(#clip8202)\" style=\"fill:#009af9; stroke:none; fill-opacity:1\" cx=\"412.097\" cy=\"365.565\" r=\"3\"/>\n",
       "<circle clip-path=\"url(#clip8202)\" style=\"fill:#000000; stroke:none; fill-opacity:1\" cx=\"413.093\" cy=\"365.565\" r=\"4\"/>\n",
       "<circle clip-path=\"url(#clip8202)\" style=\"fill:#009af9; stroke:none; fill-opacity:1\" cx=\"413.093\" cy=\"365.565\" r=\"3\"/>\n",
       "<circle clip-path=\"url(#clip8202)\" style=\"fill:#000000; stroke:none; fill-opacity:1\" cx=\"414.088\" cy=\"365.565\" r=\"4\"/>\n",
       "<circle clip-path=\"url(#clip8202)\" style=\"fill:#009af9; stroke:none; fill-opacity:1\" cx=\"414.088\" cy=\"365.565\" r=\"3\"/>\n",
       "<circle clip-path=\"url(#clip8202)\" style=\"fill:#000000; stroke:none; fill-opacity:1\" cx=\"415.084\" cy=\"365.565\" r=\"4\"/>\n",
       "<circle clip-path=\"url(#clip8202)\" style=\"fill:#009af9; stroke:none; fill-opacity:1\" cx=\"415.084\" cy=\"365.565\" r=\"3\"/>\n",
       "<circle clip-path=\"url(#clip8202)\" style=\"fill:#000000; stroke:none; fill-opacity:1\" cx=\"416.079\" cy=\"365.565\" r=\"4\"/>\n",
       "<circle clip-path=\"url(#clip8202)\" style=\"fill:#009af9; stroke:none; fill-opacity:1\" cx=\"416.079\" cy=\"365.565\" r=\"3\"/>\n",
       "<circle clip-path=\"url(#clip8202)\" style=\"fill:#000000; stroke:none; fill-opacity:1\" cx=\"417.075\" cy=\"365.565\" r=\"4\"/>\n",
       "<circle clip-path=\"url(#clip8202)\" style=\"fill:#009af9; stroke:none; fill-opacity:1\" cx=\"417.075\" cy=\"365.565\" r=\"3\"/>\n",
       "<circle clip-path=\"url(#clip8202)\" style=\"fill:#000000; stroke:none; fill-opacity:1\" cx=\"418.07\" cy=\"365.565\" r=\"4\"/>\n",
       "<circle clip-path=\"url(#clip8202)\" style=\"fill:#009af9; stroke:none; fill-opacity:1\" cx=\"418.07\" cy=\"365.565\" r=\"3\"/>\n",
       "<circle clip-path=\"url(#clip8202)\" style=\"fill:#000000; stroke:none; fill-opacity:1\" cx=\"419.066\" cy=\"365.565\" r=\"4\"/>\n",
       "<circle clip-path=\"url(#clip8202)\" style=\"fill:#009af9; stroke:none; fill-opacity:1\" cx=\"419.066\" cy=\"365.565\" r=\"3\"/>\n",
       "<circle clip-path=\"url(#clip8202)\" style=\"fill:#000000; stroke:none; fill-opacity:1\" cx=\"420.062\" cy=\"365.565\" r=\"4\"/>\n",
       "<circle clip-path=\"url(#clip8202)\" style=\"fill:#009af9; stroke:none; fill-opacity:1\" cx=\"420.062\" cy=\"365.565\" r=\"3\"/>\n",
       "<circle clip-path=\"url(#clip8202)\" style=\"fill:#000000; stroke:none; fill-opacity:1\" cx=\"421.057\" cy=\"365.565\" r=\"4\"/>\n",
       "<circle clip-path=\"url(#clip8202)\" style=\"fill:#009af9; stroke:none; fill-opacity:1\" cx=\"421.057\" cy=\"365.565\" r=\"3\"/>\n",
       "<circle clip-path=\"url(#clip8202)\" style=\"fill:#000000; stroke:none; fill-opacity:1\" cx=\"422.053\" cy=\"365.565\" r=\"4\"/>\n",
       "<circle clip-path=\"url(#clip8202)\" style=\"fill:#009af9; stroke:none; fill-opacity:1\" cx=\"422.053\" cy=\"365.565\" r=\"3\"/>\n",
       "<circle clip-path=\"url(#clip8202)\" style=\"fill:#000000; stroke:none; fill-opacity:1\" cx=\"423.048\" cy=\"365.565\" r=\"4\"/>\n",
       "<circle clip-path=\"url(#clip8202)\" style=\"fill:#009af9; stroke:none; fill-opacity:1\" cx=\"423.048\" cy=\"365.565\" r=\"3\"/>\n",
       "<circle clip-path=\"url(#clip8202)\" style=\"fill:#000000; stroke:none; fill-opacity:1\" cx=\"424.044\" cy=\"365.565\" r=\"4\"/>\n",
       "<circle clip-path=\"url(#clip8202)\" style=\"fill:#009af9; stroke:none; fill-opacity:1\" cx=\"424.044\" cy=\"365.565\" r=\"3\"/>\n",
       "<circle clip-path=\"url(#clip8202)\" style=\"fill:#000000; stroke:none; fill-opacity:1\" cx=\"425.039\" cy=\"365.565\" r=\"4\"/>\n",
       "<circle clip-path=\"url(#clip8202)\" style=\"fill:#009af9; stroke:none; fill-opacity:1\" cx=\"425.039\" cy=\"365.565\" r=\"3\"/>\n",
       "<circle clip-path=\"url(#clip8202)\" style=\"fill:#000000; stroke:none; fill-opacity:1\" cx=\"426.035\" cy=\"365.565\" r=\"4\"/>\n",
       "<circle clip-path=\"url(#clip8202)\" style=\"fill:#009af9; stroke:none; fill-opacity:1\" cx=\"426.035\" cy=\"365.565\" r=\"3\"/>\n",
       "<circle clip-path=\"url(#clip8202)\" style=\"fill:#000000; stroke:none; fill-opacity:1\" cx=\"427.03\" cy=\"365.565\" r=\"4\"/>\n",
       "<circle clip-path=\"url(#clip8202)\" style=\"fill:#009af9; stroke:none; fill-opacity:1\" cx=\"427.03\" cy=\"365.565\" r=\"3\"/>\n",
       "<circle clip-path=\"url(#clip8202)\" style=\"fill:#000000; stroke:none; fill-opacity:1\" cx=\"428.026\" cy=\"365.565\" r=\"4\"/>\n",
       "<circle clip-path=\"url(#clip8202)\" style=\"fill:#009af9; stroke:none; fill-opacity:1\" cx=\"428.026\" cy=\"365.565\" r=\"3\"/>\n",
       "<circle clip-path=\"url(#clip8202)\" style=\"fill:#000000; stroke:none; fill-opacity:1\" cx=\"429.021\" cy=\"365.565\" r=\"4\"/>\n",
       "<circle clip-path=\"url(#clip8202)\" style=\"fill:#009af9; stroke:none; fill-opacity:1\" cx=\"429.021\" cy=\"365.565\" r=\"3\"/>\n",
       "<circle clip-path=\"url(#clip8202)\" style=\"fill:#000000; stroke:none; fill-opacity:1\" cx=\"430.017\" cy=\"365.565\" r=\"4\"/>\n",
       "<circle clip-path=\"url(#clip8202)\" style=\"fill:#009af9; stroke:none; fill-opacity:1\" cx=\"430.017\" cy=\"365.565\" r=\"3\"/>\n",
       "<circle clip-path=\"url(#clip8202)\" style=\"fill:#000000; stroke:none; fill-opacity:1\" cx=\"431.013\" cy=\"365.565\" r=\"4\"/>\n",
       "<circle clip-path=\"url(#clip8202)\" style=\"fill:#009af9; stroke:none; fill-opacity:1\" cx=\"431.013\" cy=\"365.565\" r=\"3\"/>\n",
       "<circle clip-path=\"url(#clip8202)\" style=\"fill:#000000; stroke:none; fill-opacity:1\" cx=\"432.008\" cy=\"365.565\" r=\"4\"/>\n",
       "<circle clip-path=\"url(#clip8202)\" style=\"fill:#009af9; stroke:none; fill-opacity:1\" cx=\"432.008\" cy=\"365.565\" r=\"3\"/>\n",
       "<circle clip-path=\"url(#clip8202)\" style=\"fill:#000000; stroke:none; fill-opacity:1\" cx=\"433.004\" cy=\"365.565\" r=\"4\"/>\n",
       "<circle clip-path=\"url(#clip8202)\" style=\"fill:#009af9; stroke:none; fill-opacity:1\" cx=\"433.004\" cy=\"365.565\" r=\"3\"/>\n",
       "<circle clip-path=\"url(#clip8202)\" style=\"fill:#000000; stroke:none; fill-opacity:1\" cx=\"433.999\" cy=\"365.565\" r=\"4\"/>\n",
       "<circle clip-path=\"url(#clip8202)\" style=\"fill:#009af9; stroke:none; fill-opacity:1\" cx=\"433.999\" cy=\"365.565\" r=\"3\"/>\n",
       "<circle clip-path=\"url(#clip8202)\" style=\"fill:#000000; stroke:none; fill-opacity:1\" cx=\"434.995\" cy=\"365.565\" r=\"4\"/>\n",
       "<circle clip-path=\"url(#clip8202)\" style=\"fill:#009af9; stroke:none; fill-opacity:1\" cx=\"434.995\" cy=\"365.565\" r=\"3\"/>\n",
       "<circle clip-path=\"url(#clip8202)\" style=\"fill:#000000; stroke:none; fill-opacity:1\" cx=\"435.99\" cy=\"365.565\" r=\"4\"/>\n",
       "<circle clip-path=\"url(#clip8202)\" style=\"fill:#009af9; stroke:none; fill-opacity:1\" cx=\"435.99\" cy=\"365.565\" r=\"3\"/>\n",
       "<circle clip-path=\"url(#clip8202)\" style=\"fill:#000000; stroke:none; fill-opacity:1\" cx=\"436.986\" cy=\"365.565\" r=\"4\"/>\n",
       "<circle clip-path=\"url(#clip8202)\" style=\"fill:#009af9; stroke:none; fill-opacity:1\" cx=\"436.986\" cy=\"365.565\" r=\"3\"/>\n",
       "<circle clip-path=\"url(#clip8202)\" style=\"fill:#000000; stroke:none; fill-opacity:1\" cx=\"437.981\" cy=\"365.565\" r=\"4\"/>\n",
       "<circle clip-path=\"url(#clip8202)\" style=\"fill:#009af9; stroke:none; fill-opacity:1\" cx=\"437.981\" cy=\"365.565\" r=\"3\"/>\n",
       "<circle clip-path=\"url(#clip8202)\" style=\"fill:#000000; stroke:none; fill-opacity:1\" cx=\"438.977\" cy=\"365.565\" r=\"4\"/>\n",
       "<circle clip-path=\"url(#clip8202)\" style=\"fill:#009af9; stroke:none; fill-opacity:1\" cx=\"438.977\" cy=\"365.565\" r=\"3\"/>\n",
       "<circle clip-path=\"url(#clip8202)\" style=\"fill:#000000; stroke:none; fill-opacity:1\" cx=\"439.973\" cy=\"365.565\" r=\"4\"/>\n",
       "<circle clip-path=\"url(#clip8202)\" style=\"fill:#009af9; stroke:none; fill-opacity:1\" cx=\"439.973\" cy=\"365.565\" r=\"3\"/>\n",
       "<circle clip-path=\"url(#clip8202)\" style=\"fill:#000000; stroke:none; fill-opacity:1\" cx=\"440.968\" cy=\"365.565\" r=\"4\"/>\n",
       "<circle clip-path=\"url(#clip8202)\" style=\"fill:#009af9; stroke:none; fill-opacity:1\" cx=\"440.968\" cy=\"365.565\" r=\"3\"/>\n",
       "<circle clip-path=\"url(#clip8202)\" style=\"fill:#000000; stroke:none; fill-opacity:1\" cx=\"441.964\" cy=\"365.565\" r=\"4\"/>\n",
       "<circle clip-path=\"url(#clip8202)\" style=\"fill:#009af9; stroke:none; fill-opacity:1\" cx=\"441.964\" cy=\"365.565\" r=\"3\"/>\n",
       "<circle clip-path=\"url(#clip8202)\" style=\"fill:#000000; stroke:none; fill-opacity:1\" cx=\"442.959\" cy=\"365.565\" r=\"4\"/>\n",
       "<circle clip-path=\"url(#clip8202)\" style=\"fill:#009af9; stroke:none; fill-opacity:1\" cx=\"442.959\" cy=\"365.565\" r=\"3\"/>\n",
       "<circle clip-path=\"url(#clip8202)\" style=\"fill:#000000; stroke:none; fill-opacity:1\" cx=\"443.955\" cy=\"365.565\" r=\"4\"/>\n",
       "<circle clip-path=\"url(#clip8202)\" style=\"fill:#009af9; stroke:none; fill-opacity:1\" cx=\"443.955\" cy=\"365.565\" r=\"3\"/>\n",
       "<circle clip-path=\"url(#clip8202)\" style=\"fill:#000000; stroke:none; fill-opacity:1\" cx=\"444.95\" cy=\"365.565\" r=\"4\"/>\n",
       "<circle clip-path=\"url(#clip8202)\" style=\"fill:#009af9; stroke:none; fill-opacity:1\" cx=\"444.95\" cy=\"365.565\" r=\"3\"/>\n",
       "<circle clip-path=\"url(#clip8202)\" style=\"fill:#000000; stroke:none; fill-opacity:1\" cx=\"445.946\" cy=\"365.565\" r=\"4\"/>\n",
       "<circle clip-path=\"url(#clip8202)\" style=\"fill:#009af9; stroke:none; fill-opacity:1\" cx=\"445.946\" cy=\"365.565\" r=\"3\"/>\n",
       "<circle clip-path=\"url(#clip8202)\" style=\"fill:#000000; stroke:none; fill-opacity:1\" cx=\"446.941\" cy=\"365.565\" r=\"4\"/>\n",
       "<circle clip-path=\"url(#clip8202)\" style=\"fill:#009af9; stroke:none; fill-opacity:1\" cx=\"446.941\" cy=\"365.565\" r=\"3\"/>\n",
       "<circle clip-path=\"url(#clip8202)\" style=\"fill:#000000; stroke:none; fill-opacity:1\" cx=\"447.937\" cy=\"365.565\" r=\"4\"/>\n",
       "<circle clip-path=\"url(#clip8202)\" style=\"fill:#009af9; stroke:none; fill-opacity:1\" cx=\"447.937\" cy=\"365.565\" r=\"3\"/>\n",
       "<circle clip-path=\"url(#clip8202)\" style=\"fill:#000000; stroke:none; fill-opacity:1\" cx=\"448.932\" cy=\"365.565\" r=\"4\"/>\n",
       "<circle clip-path=\"url(#clip8202)\" style=\"fill:#009af9; stroke:none; fill-opacity:1\" cx=\"448.932\" cy=\"365.565\" r=\"3\"/>\n",
       "<circle clip-path=\"url(#clip8202)\" style=\"fill:#000000; stroke:none; fill-opacity:1\" cx=\"449.928\" cy=\"365.565\" r=\"4\"/>\n",
       "<circle clip-path=\"url(#clip8202)\" style=\"fill:#009af9; stroke:none; fill-opacity:1\" cx=\"449.928\" cy=\"365.565\" r=\"3\"/>\n",
       "<circle clip-path=\"url(#clip8202)\" style=\"fill:#000000; stroke:none; fill-opacity:1\" cx=\"450.924\" cy=\"365.565\" r=\"4\"/>\n",
       "<circle clip-path=\"url(#clip8202)\" style=\"fill:#009af9; stroke:none; fill-opacity:1\" cx=\"450.924\" cy=\"365.565\" r=\"3\"/>\n",
       "<circle clip-path=\"url(#clip8202)\" style=\"fill:#000000; stroke:none; fill-opacity:1\" cx=\"451.919\" cy=\"365.565\" r=\"4\"/>\n",
       "<circle clip-path=\"url(#clip8202)\" style=\"fill:#009af9; stroke:none; fill-opacity:1\" cx=\"451.919\" cy=\"365.565\" r=\"3\"/>\n",
       "<circle clip-path=\"url(#clip8202)\" style=\"fill:#000000; stroke:none; fill-opacity:1\" cx=\"452.915\" cy=\"365.565\" r=\"4\"/>\n",
       "<circle clip-path=\"url(#clip8202)\" style=\"fill:#009af9; stroke:none; fill-opacity:1\" cx=\"452.915\" cy=\"365.565\" r=\"3\"/>\n",
       "<circle clip-path=\"url(#clip8202)\" style=\"fill:#000000; stroke:none; fill-opacity:1\" cx=\"453.91\" cy=\"365.565\" r=\"4\"/>\n",
       "<circle clip-path=\"url(#clip8202)\" style=\"fill:#009af9; stroke:none; fill-opacity:1\" cx=\"453.91\" cy=\"365.565\" r=\"3\"/>\n",
       "<circle clip-path=\"url(#clip8202)\" style=\"fill:#000000; stroke:none; fill-opacity:1\" cx=\"454.906\" cy=\"365.565\" r=\"4\"/>\n",
       "<circle clip-path=\"url(#clip8202)\" style=\"fill:#009af9; stroke:none; fill-opacity:1\" cx=\"454.906\" cy=\"365.565\" r=\"3\"/>\n",
       "<circle clip-path=\"url(#clip8202)\" style=\"fill:#000000; stroke:none; fill-opacity:1\" cx=\"455.901\" cy=\"365.565\" r=\"4\"/>\n",
       "<circle clip-path=\"url(#clip8202)\" style=\"fill:#009af9; stroke:none; fill-opacity:1\" cx=\"455.901\" cy=\"365.565\" r=\"3\"/>\n",
       "<circle clip-path=\"url(#clip8202)\" style=\"fill:#000000; stroke:none; fill-opacity:1\" cx=\"456.897\" cy=\"365.565\" r=\"4\"/>\n",
       "<circle clip-path=\"url(#clip8202)\" style=\"fill:#009af9; stroke:none; fill-opacity:1\" cx=\"456.897\" cy=\"365.565\" r=\"3\"/>\n",
       "<circle clip-path=\"url(#clip8202)\" style=\"fill:#000000; stroke:none; fill-opacity:1\" cx=\"457.892\" cy=\"365.565\" r=\"4\"/>\n",
       "<circle clip-path=\"url(#clip8202)\" style=\"fill:#009af9; stroke:none; fill-opacity:1\" cx=\"457.892\" cy=\"365.565\" r=\"3\"/>\n",
       "<circle clip-path=\"url(#clip8202)\" style=\"fill:#000000; stroke:none; fill-opacity:1\" cx=\"458.888\" cy=\"365.565\" r=\"4\"/>\n",
       "<circle clip-path=\"url(#clip8202)\" style=\"fill:#009af9; stroke:none; fill-opacity:1\" cx=\"458.888\" cy=\"365.565\" r=\"3\"/>\n",
       "<circle clip-path=\"url(#clip8202)\" style=\"fill:#000000; stroke:none; fill-opacity:1\" cx=\"459.883\" cy=\"365.565\" r=\"4\"/>\n",
       "<circle clip-path=\"url(#clip8202)\" style=\"fill:#009af9; stroke:none; fill-opacity:1\" cx=\"459.883\" cy=\"365.565\" r=\"3\"/>\n",
       "<circle clip-path=\"url(#clip8202)\" style=\"fill:#000000; stroke:none; fill-opacity:1\" cx=\"460.879\" cy=\"365.565\" r=\"4\"/>\n",
       "<circle clip-path=\"url(#clip8202)\" style=\"fill:#009af9; stroke:none; fill-opacity:1\" cx=\"460.879\" cy=\"365.565\" r=\"3\"/>\n",
       "<circle clip-path=\"url(#clip8202)\" style=\"fill:#000000; stroke:none; fill-opacity:1\" cx=\"461.875\" cy=\"365.565\" r=\"4\"/>\n",
       "<circle clip-path=\"url(#clip8202)\" style=\"fill:#009af9; stroke:none; fill-opacity:1\" cx=\"461.875\" cy=\"365.565\" r=\"3\"/>\n",
       "<circle clip-path=\"url(#clip8202)\" style=\"fill:#000000; stroke:none; fill-opacity:1\" cx=\"462.87\" cy=\"365.565\" r=\"4\"/>\n",
       "<circle clip-path=\"url(#clip8202)\" style=\"fill:#009af9; stroke:none; fill-opacity:1\" cx=\"462.87\" cy=\"365.565\" r=\"3\"/>\n",
       "<circle clip-path=\"url(#clip8202)\" style=\"fill:#000000; stroke:none; fill-opacity:1\" cx=\"463.866\" cy=\"365.565\" r=\"4\"/>\n",
       "<circle clip-path=\"url(#clip8202)\" style=\"fill:#009af9; stroke:none; fill-opacity:1\" cx=\"463.866\" cy=\"365.565\" r=\"3\"/>\n",
       "<circle clip-path=\"url(#clip8202)\" style=\"fill:#000000; stroke:none; fill-opacity:1\" cx=\"464.861\" cy=\"365.565\" r=\"4\"/>\n",
       "<circle clip-path=\"url(#clip8202)\" style=\"fill:#009af9; stroke:none; fill-opacity:1\" cx=\"464.861\" cy=\"365.565\" r=\"3\"/>\n",
       "<circle clip-path=\"url(#clip8202)\" style=\"fill:#000000; stroke:none; fill-opacity:1\" cx=\"465.857\" cy=\"365.565\" r=\"4\"/>\n",
       "<circle clip-path=\"url(#clip8202)\" style=\"fill:#009af9; stroke:none; fill-opacity:1\" cx=\"465.857\" cy=\"365.565\" r=\"3\"/>\n",
       "<circle clip-path=\"url(#clip8202)\" style=\"fill:#000000; stroke:none; fill-opacity:1\" cx=\"466.852\" cy=\"365.565\" r=\"4\"/>\n",
       "<circle clip-path=\"url(#clip8202)\" style=\"fill:#009af9; stroke:none; fill-opacity:1\" cx=\"466.852\" cy=\"365.565\" r=\"3\"/>\n",
       "<circle clip-path=\"url(#clip8202)\" style=\"fill:#000000; stroke:none; fill-opacity:1\" cx=\"467.848\" cy=\"365.565\" r=\"4\"/>\n",
       "<circle clip-path=\"url(#clip8202)\" style=\"fill:#009af9; stroke:none; fill-opacity:1\" cx=\"467.848\" cy=\"365.565\" r=\"3\"/>\n",
       "<circle clip-path=\"url(#clip8202)\" style=\"fill:#000000; stroke:none; fill-opacity:1\" cx=\"468.843\" cy=\"365.565\" r=\"4\"/>\n",
       "<circle clip-path=\"url(#clip8202)\" style=\"fill:#009af9; stroke:none; fill-opacity:1\" cx=\"468.843\" cy=\"365.565\" r=\"3\"/>\n",
       "<circle clip-path=\"url(#clip8202)\" style=\"fill:#000000; stroke:none; fill-opacity:1\" cx=\"469.839\" cy=\"365.565\" r=\"4\"/>\n",
       "<circle clip-path=\"url(#clip8202)\" style=\"fill:#009af9; stroke:none; fill-opacity:1\" cx=\"469.839\" cy=\"365.565\" r=\"3\"/>\n",
       "<circle clip-path=\"url(#clip8202)\" style=\"fill:#000000; stroke:none; fill-opacity:1\" cx=\"470.835\" cy=\"365.565\" r=\"4\"/>\n",
       "<circle clip-path=\"url(#clip8202)\" style=\"fill:#009af9; stroke:none; fill-opacity:1\" cx=\"470.835\" cy=\"365.565\" r=\"3\"/>\n",
       "<circle clip-path=\"url(#clip8202)\" style=\"fill:#000000; stroke:none; fill-opacity:1\" cx=\"471.83\" cy=\"365.565\" r=\"4\"/>\n",
       "<circle clip-path=\"url(#clip8202)\" style=\"fill:#009af9; stroke:none; fill-opacity:1\" cx=\"471.83\" cy=\"365.565\" r=\"3\"/>\n",
       "<circle clip-path=\"url(#clip8202)\" style=\"fill:#000000; stroke:none; fill-opacity:1\" cx=\"472.826\" cy=\"365.565\" r=\"4\"/>\n",
       "<circle clip-path=\"url(#clip8202)\" style=\"fill:#009af9; stroke:none; fill-opacity:1\" cx=\"472.826\" cy=\"365.565\" r=\"3\"/>\n",
       "<circle clip-path=\"url(#clip8202)\" style=\"fill:#000000; stroke:none; fill-opacity:1\" cx=\"473.821\" cy=\"365.565\" r=\"4\"/>\n",
       "<circle clip-path=\"url(#clip8202)\" style=\"fill:#009af9; stroke:none; fill-opacity:1\" cx=\"473.821\" cy=\"365.565\" r=\"3\"/>\n",
       "<circle clip-path=\"url(#clip8202)\" style=\"fill:#000000; stroke:none; fill-opacity:1\" cx=\"474.817\" cy=\"365.565\" r=\"4\"/>\n",
       "<circle clip-path=\"url(#clip8202)\" style=\"fill:#009af9; stroke:none; fill-opacity:1\" cx=\"474.817\" cy=\"365.565\" r=\"3\"/>\n",
       "<circle clip-path=\"url(#clip8202)\" style=\"fill:#000000; stroke:none; fill-opacity:1\" cx=\"475.812\" cy=\"365.565\" r=\"4\"/>\n",
       "<circle clip-path=\"url(#clip8202)\" style=\"fill:#009af9; stroke:none; fill-opacity:1\" cx=\"475.812\" cy=\"365.565\" r=\"3\"/>\n",
       "<circle clip-path=\"url(#clip8202)\" style=\"fill:#000000; stroke:none; fill-opacity:1\" cx=\"476.808\" cy=\"365.565\" r=\"4\"/>\n",
       "<circle clip-path=\"url(#clip8202)\" style=\"fill:#009af9; stroke:none; fill-opacity:1\" cx=\"476.808\" cy=\"365.565\" r=\"3\"/>\n",
       "<circle clip-path=\"url(#clip8202)\" style=\"fill:#000000; stroke:none; fill-opacity:1\" cx=\"477.803\" cy=\"365.565\" r=\"4\"/>\n",
       "<circle clip-path=\"url(#clip8202)\" style=\"fill:#009af9; stroke:none; fill-opacity:1\" cx=\"477.803\" cy=\"365.565\" r=\"3\"/>\n",
       "<circle clip-path=\"url(#clip8202)\" style=\"fill:#000000; stroke:none; fill-opacity:1\" cx=\"478.799\" cy=\"365.565\" r=\"4\"/>\n",
       "<circle clip-path=\"url(#clip8202)\" style=\"fill:#009af9; stroke:none; fill-opacity:1\" cx=\"478.799\" cy=\"365.565\" r=\"3\"/>\n",
       "<circle clip-path=\"url(#clip8202)\" style=\"fill:#000000; stroke:none; fill-opacity:1\" cx=\"479.794\" cy=\"365.565\" r=\"4\"/>\n",
       "<circle clip-path=\"url(#clip8202)\" style=\"fill:#009af9; stroke:none; fill-opacity:1\" cx=\"479.794\" cy=\"365.565\" r=\"3\"/>\n",
       "<circle clip-path=\"url(#clip8202)\" style=\"fill:#000000; stroke:none; fill-opacity:1\" cx=\"480.79\" cy=\"365.565\" r=\"4\"/>\n",
       "<circle clip-path=\"url(#clip8202)\" style=\"fill:#009af9; stroke:none; fill-opacity:1\" cx=\"480.79\" cy=\"365.565\" r=\"3\"/>\n",
       "<circle clip-path=\"url(#clip8202)\" style=\"fill:#000000; stroke:none; fill-opacity:1\" cx=\"481.786\" cy=\"365.565\" r=\"4\"/>\n",
       "<circle clip-path=\"url(#clip8202)\" style=\"fill:#009af9; stroke:none; fill-opacity:1\" cx=\"481.786\" cy=\"365.565\" r=\"3\"/>\n",
       "<circle clip-path=\"url(#clip8202)\" style=\"fill:#000000; stroke:none; fill-opacity:1\" cx=\"482.781\" cy=\"365.565\" r=\"4\"/>\n",
       "<circle clip-path=\"url(#clip8202)\" style=\"fill:#009af9; stroke:none; fill-opacity:1\" cx=\"482.781\" cy=\"365.565\" r=\"3\"/>\n",
       "<circle clip-path=\"url(#clip8202)\" style=\"fill:#000000; stroke:none; fill-opacity:1\" cx=\"483.777\" cy=\"365.565\" r=\"4\"/>\n",
       "<circle clip-path=\"url(#clip8202)\" style=\"fill:#009af9; stroke:none; fill-opacity:1\" cx=\"483.777\" cy=\"365.565\" r=\"3\"/>\n",
       "<circle clip-path=\"url(#clip8202)\" style=\"fill:#000000; stroke:none; fill-opacity:1\" cx=\"484.772\" cy=\"365.565\" r=\"4\"/>\n",
       "<circle clip-path=\"url(#clip8202)\" style=\"fill:#009af9; stroke:none; fill-opacity:1\" cx=\"484.772\" cy=\"365.565\" r=\"3\"/>\n",
       "<circle clip-path=\"url(#clip8202)\" style=\"fill:#000000; stroke:none; fill-opacity:1\" cx=\"485.768\" cy=\"365.565\" r=\"4\"/>\n",
       "<circle clip-path=\"url(#clip8202)\" style=\"fill:#009af9; stroke:none; fill-opacity:1\" cx=\"485.768\" cy=\"365.565\" r=\"3\"/>\n",
       "<circle clip-path=\"url(#clip8202)\" style=\"fill:#000000; stroke:none; fill-opacity:1\" cx=\"486.763\" cy=\"365.565\" r=\"4\"/>\n",
       "<circle clip-path=\"url(#clip8202)\" style=\"fill:#009af9; stroke:none; fill-opacity:1\" cx=\"486.763\" cy=\"365.565\" r=\"3\"/>\n",
       "<circle clip-path=\"url(#clip8202)\" style=\"fill:#000000; stroke:none; fill-opacity:1\" cx=\"487.759\" cy=\"365.565\" r=\"4\"/>\n",
       "<circle clip-path=\"url(#clip8202)\" style=\"fill:#009af9; stroke:none; fill-opacity:1\" cx=\"487.759\" cy=\"365.565\" r=\"3\"/>\n",
       "<circle clip-path=\"url(#clip8202)\" style=\"fill:#000000; stroke:none; fill-opacity:1\" cx=\"488.754\" cy=\"365.565\" r=\"4\"/>\n",
       "<circle clip-path=\"url(#clip8202)\" style=\"fill:#009af9; stroke:none; fill-opacity:1\" cx=\"488.754\" cy=\"365.565\" r=\"3\"/>\n",
       "<circle clip-path=\"url(#clip8202)\" style=\"fill:#000000; stroke:none; fill-opacity:1\" cx=\"489.75\" cy=\"365.565\" r=\"4\"/>\n",
       "<circle clip-path=\"url(#clip8202)\" style=\"fill:#009af9; stroke:none; fill-opacity:1\" cx=\"489.75\" cy=\"365.565\" r=\"3\"/>\n",
       "<circle clip-path=\"url(#clip8202)\" style=\"fill:#000000; stroke:none; fill-opacity:1\" cx=\"490.745\" cy=\"365.565\" r=\"4\"/>\n",
       "<circle clip-path=\"url(#clip8202)\" style=\"fill:#009af9; stroke:none; fill-opacity:1\" cx=\"490.745\" cy=\"365.565\" r=\"3\"/>\n",
       "<circle clip-path=\"url(#clip8202)\" style=\"fill:#000000; stroke:none; fill-opacity:1\" cx=\"491.741\" cy=\"365.565\" r=\"4\"/>\n",
       "<circle clip-path=\"url(#clip8202)\" style=\"fill:#009af9; stroke:none; fill-opacity:1\" cx=\"491.741\" cy=\"365.565\" r=\"3\"/>\n",
       "<circle clip-path=\"url(#clip8202)\" style=\"fill:#000000; stroke:none; fill-opacity:1\" cx=\"492.737\" cy=\"365.565\" r=\"4\"/>\n",
       "<circle clip-path=\"url(#clip8202)\" style=\"fill:#009af9; stroke:none; fill-opacity:1\" cx=\"492.737\" cy=\"365.565\" r=\"3\"/>\n",
       "<circle clip-path=\"url(#clip8202)\" style=\"fill:#000000; stroke:none; fill-opacity:1\" cx=\"493.732\" cy=\"365.565\" r=\"4\"/>\n",
       "<circle clip-path=\"url(#clip8202)\" style=\"fill:#009af9; stroke:none; fill-opacity:1\" cx=\"493.732\" cy=\"365.565\" r=\"3\"/>\n",
       "<circle clip-path=\"url(#clip8202)\" style=\"fill:#000000; stroke:none; fill-opacity:1\" cx=\"494.728\" cy=\"365.565\" r=\"4\"/>\n",
       "<circle clip-path=\"url(#clip8202)\" style=\"fill:#009af9; stroke:none; fill-opacity:1\" cx=\"494.728\" cy=\"365.565\" r=\"3\"/>\n",
       "<circle clip-path=\"url(#clip8202)\" style=\"fill:#000000; stroke:none; fill-opacity:1\" cx=\"495.723\" cy=\"365.565\" r=\"4\"/>\n",
       "<circle clip-path=\"url(#clip8202)\" style=\"fill:#009af9; stroke:none; fill-opacity:1\" cx=\"495.723\" cy=\"365.565\" r=\"3\"/>\n",
       "<circle clip-path=\"url(#clip8202)\" style=\"fill:#000000; stroke:none; fill-opacity:1\" cx=\"496.719\" cy=\"365.565\" r=\"4\"/>\n",
       "<circle clip-path=\"url(#clip8202)\" style=\"fill:#009af9; stroke:none; fill-opacity:1\" cx=\"496.719\" cy=\"365.565\" r=\"3\"/>\n",
       "<circle clip-path=\"url(#clip8202)\" style=\"fill:#000000; stroke:none; fill-opacity:1\" cx=\"497.714\" cy=\"365.565\" r=\"4\"/>\n",
       "<circle clip-path=\"url(#clip8202)\" style=\"fill:#009af9; stroke:none; fill-opacity:1\" cx=\"497.714\" cy=\"365.565\" r=\"3\"/>\n",
       "<circle clip-path=\"url(#clip8202)\" style=\"fill:#000000; stroke:none; fill-opacity:1\" cx=\"498.71\" cy=\"365.565\" r=\"4\"/>\n",
       "<circle clip-path=\"url(#clip8202)\" style=\"fill:#009af9; stroke:none; fill-opacity:1\" cx=\"498.71\" cy=\"365.565\" r=\"3\"/>\n",
       "<circle clip-path=\"url(#clip8202)\" style=\"fill:#000000; stroke:none; fill-opacity:1\" cx=\"499.705\" cy=\"365.565\" r=\"4\"/>\n",
       "<circle clip-path=\"url(#clip8202)\" style=\"fill:#009af9; stroke:none; fill-opacity:1\" cx=\"499.705\" cy=\"365.565\" r=\"3\"/>\n",
       "<circle clip-path=\"url(#clip8202)\" style=\"fill:#000000; stroke:none; fill-opacity:1\" cx=\"500.701\" cy=\"365.565\" r=\"4\"/>\n",
       "<circle clip-path=\"url(#clip8202)\" style=\"fill:#009af9; stroke:none; fill-opacity:1\" cx=\"500.701\" cy=\"365.565\" r=\"3\"/>\n",
       "<circle clip-path=\"url(#clip8202)\" style=\"fill:#000000; stroke:none; fill-opacity:1\" cx=\"501.697\" cy=\"365.565\" r=\"4\"/>\n",
       "<circle clip-path=\"url(#clip8202)\" style=\"fill:#009af9; stroke:none; fill-opacity:1\" cx=\"501.697\" cy=\"365.565\" r=\"3\"/>\n",
       "<circle clip-path=\"url(#clip8202)\" style=\"fill:#000000; stroke:none; fill-opacity:1\" cx=\"502.692\" cy=\"365.565\" r=\"4\"/>\n",
       "<circle clip-path=\"url(#clip8202)\" style=\"fill:#009af9; stroke:none; fill-opacity:1\" cx=\"502.692\" cy=\"365.565\" r=\"3\"/>\n",
       "<circle clip-path=\"url(#clip8202)\" style=\"fill:#000000; stroke:none; fill-opacity:1\" cx=\"503.688\" cy=\"365.565\" r=\"4\"/>\n",
       "<circle clip-path=\"url(#clip8202)\" style=\"fill:#009af9; stroke:none; fill-opacity:1\" cx=\"503.688\" cy=\"365.565\" r=\"3\"/>\n",
       "<circle clip-path=\"url(#clip8202)\" style=\"fill:#000000; stroke:none; fill-opacity:1\" cx=\"504.683\" cy=\"365.565\" r=\"4\"/>\n",
       "<circle clip-path=\"url(#clip8202)\" style=\"fill:#009af9; stroke:none; fill-opacity:1\" cx=\"504.683\" cy=\"365.565\" r=\"3\"/>\n",
       "<circle clip-path=\"url(#clip8202)\" style=\"fill:#000000; stroke:none; fill-opacity:1\" cx=\"505.679\" cy=\"365.565\" r=\"4\"/>\n",
       "<circle clip-path=\"url(#clip8202)\" style=\"fill:#009af9; stroke:none; fill-opacity:1\" cx=\"505.679\" cy=\"365.565\" r=\"3\"/>\n",
       "<circle clip-path=\"url(#clip8202)\" style=\"fill:#000000; stroke:none; fill-opacity:1\" cx=\"506.674\" cy=\"365.565\" r=\"4\"/>\n",
       "<circle clip-path=\"url(#clip8202)\" style=\"fill:#009af9; stroke:none; fill-opacity:1\" cx=\"506.674\" cy=\"365.565\" r=\"3\"/>\n",
       "<circle clip-path=\"url(#clip8202)\" style=\"fill:#000000; stroke:none; fill-opacity:1\" cx=\"507.67\" cy=\"365.565\" r=\"4\"/>\n",
       "<circle clip-path=\"url(#clip8202)\" style=\"fill:#009af9; stroke:none; fill-opacity:1\" cx=\"507.67\" cy=\"365.565\" r=\"3\"/>\n",
       "<circle clip-path=\"url(#clip8202)\" style=\"fill:#000000; stroke:none; fill-opacity:1\" cx=\"508.665\" cy=\"365.565\" r=\"4\"/>\n",
       "<circle clip-path=\"url(#clip8202)\" style=\"fill:#009af9; stroke:none; fill-opacity:1\" cx=\"508.665\" cy=\"365.565\" r=\"3\"/>\n",
       "<circle clip-path=\"url(#clip8202)\" style=\"fill:#000000; stroke:none; fill-opacity:1\" cx=\"509.661\" cy=\"365.565\" r=\"4\"/>\n",
       "<circle clip-path=\"url(#clip8202)\" style=\"fill:#009af9; stroke:none; fill-opacity:1\" cx=\"509.661\" cy=\"365.565\" r=\"3\"/>\n",
       "<circle clip-path=\"url(#clip8202)\" style=\"fill:#000000; stroke:none; fill-opacity:1\" cx=\"510.656\" cy=\"365.565\" r=\"4\"/>\n",
       "<circle clip-path=\"url(#clip8202)\" style=\"fill:#009af9; stroke:none; fill-opacity:1\" cx=\"510.656\" cy=\"365.565\" r=\"3\"/>\n",
       "<circle clip-path=\"url(#clip8202)\" style=\"fill:#000000; stroke:none; fill-opacity:1\" cx=\"511.652\" cy=\"365.565\" r=\"4\"/>\n",
       "<circle clip-path=\"url(#clip8202)\" style=\"fill:#009af9; stroke:none; fill-opacity:1\" cx=\"511.652\" cy=\"365.565\" r=\"3\"/>\n",
       "<circle clip-path=\"url(#clip8202)\" style=\"fill:#000000; stroke:none; fill-opacity:1\" cx=\"512.648\" cy=\"365.565\" r=\"4\"/>\n",
       "<circle clip-path=\"url(#clip8202)\" style=\"fill:#009af9; stroke:none; fill-opacity:1\" cx=\"512.648\" cy=\"365.565\" r=\"3\"/>\n",
       "<circle clip-path=\"url(#clip8202)\" style=\"fill:#000000; stroke:none; fill-opacity:1\" cx=\"513.643\" cy=\"365.565\" r=\"4\"/>\n",
       "<circle clip-path=\"url(#clip8202)\" style=\"fill:#009af9; stroke:none; fill-opacity:1\" cx=\"513.643\" cy=\"365.565\" r=\"3\"/>\n",
       "<circle clip-path=\"url(#clip8202)\" style=\"fill:#000000; stroke:none; fill-opacity:1\" cx=\"514.639\" cy=\"365.565\" r=\"4\"/>\n",
       "<circle clip-path=\"url(#clip8202)\" style=\"fill:#009af9; stroke:none; fill-opacity:1\" cx=\"514.639\" cy=\"365.565\" r=\"3\"/>\n",
       "<circle clip-path=\"url(#clip8202)\" style=\"fill:#000000; stroke:none; fill-opacity:1\" cx=\"515.634\" cy=\"365.565\" r=\"4\"/>\n",
       "<circle clip-path=\"url(#clip8202)\" style=\"fill:#009af9; stroke:none; fill-opacity:1\" cx=\"515.634\" cy=\"365.565\" r=\"3\"/>\n",
       "<circle clip-path=\"url(#clip8202)\" style=\"fill:#000000; stroke:none; fill-opacity:1\" cx=\"516.63\" cy=\"365.565\" r=\"4\"/>\n",
       "<circle clip-path=\"url(#clip8202)\" style=\"fill:#009af9; stroke:none; fill-opacity:1\" cx=\"516.63\" cy=\"365.565\" r=\"3\"/>\n",
       "<circle clip-path=\"url(#clip8202)\" style=\"fill:#000000; stroke:none; fill-opacity:1\" cx=\"517.625\" cy=\"365.565\" r=\"4\"/>\n",
       "<circle clip-path=\"url(#clip8202)\" style=\"fill:#009af9; stroke:none; fill-opacity:1\" cx=\"517.625\" cy=\"365.565\" r=\"3\"/>\n",
       "<circle clip-path=\"url(#clip8202)\" style=\"fill:#000000; stroke:none; fill-opacity:1\" cx=\"518.621\" cy=\"365.565\" r=\"4\"/>\n",
       "<circle clip-path=\"url(#clip8202)\" style=\"fill:#009af9; stroke:none; fill-opacity:1\" cx=\"518.621\" cy=\"365.565\" r=\"3\"/>\n",
       "<circle clip-path=\"url(#clip8202)\" style=\"fill:#000000; stroke:none; fill-opacity:1\" cx=\"519.616\" cy=\"365.565\" r=\"4\"/>\n",
       "<circle clip-path=\"url(#clip8202)\" style=\"fill:#009af9; stroke:none; fill-opacity:1\" cx=\"519.616\" cy=\"365.565\" r=\"3\"/>\n",
       "<circle clip-path=\"url(#clip8202)\" style=\"fill:#000000; stroke:none; fill-opacity:1\" cx=\"520.612\" cy=\"365.565\" r=\"4\"/>\n",
       "<circle clip-path=\"url(#clip8202)\" style=\"fill:#009af9; stroke:none; fill-opacity:1\" cx=\"520.612\" cy=\"365.565\" r=\"3\"/>\n",
       "<circle clip-path=\"url(#clip8202)\" style=\"fill:#000000; stroke:none; fill-opacity:1\" cx=\"521.607\" cy=\"365.565\" r=\"4\"/>\n",
       "<circle clip-path=\"url(#clip8202)\" style=\"fill:#009af9; stroke:none; fill-opacity:1\" cx=\"521.607\" cy=\"365.565\" r=\"3\"/>\n",
       "<circle clip-path=\"url(#clip8202)\" style=\"fill:#000000; stroke:none; fill-opacity:1\" cx=\"522.603\" cy=\"365.565\" r=\"4\"/>\n",
       "<circle clip-path=\"url(#clip8202)\" style=\"fill:#009af9; stroke:none; fill-opacity:1\" cx=\"522.603\" cy=\"365.565\" r=\"3\"/>\n",
       "<circle clip-path=\"url(#clip8202)\" style=\"fill:#000000; stroke:none; fill-opacity:1\" cx=\"523.599\" cy=\"365.565\" r=\"4\"/>\n",
       "<circle clip-path=\"url(#clip8202)\" style=\"fill:#009af9; stroke:none; fill-opacity:1\" cx=\"523.599\" cy=\"365.565\" r=\"3\"/>\n",
       "<circle clip-path=\"url(#clip8202)\" style=\"fill:#000000; stroke:none; fill-opacity:1\" cx=\"524.594\" cy=\"365.565\" r=\"4\"/>\n",
       "<circle clip-path=\"url(#clip8202)\" style=\"fill:#009af9; stroke:none; fill-opacity:1\" cx=\"524.594\" cy=\"365.565\" r=\"3\"/>\n",
       "<circle clip-path=\"url(#clip8202)\" style=\"fill:#000000; stroke:none; fill-opacity:1\" cx=\"525.59\" cy=\"365.565\" r=\"4\"/>\n",
       "<circle clip-path=\"url(#clip8202)\" style=\"fill:#009af9; stroke:none; fill-opacity:1\" cx=\"525.59\" cy=\"365.565\" r=\"3\"/>\n",
       "<circle clip-path=\"url(#clip8202)\" style=\"fill:#000000; stroke:none; fill-opacity:1\" cx=\"526.585\" cy=\"365.565\" r=\"4\"/>\n",
       "<circle clip-path=\"url(#clip8202)\" style=\"fill:#009af9; stroke:none; fill-opacity:1\" cx=\"526.585\" cy=\"365.565\" r=\"3\"/>\n",
       "<circle clip-path=\"url(#clip8202)\" style=\"fill:#000000; stroke:none; fill-opacity:1\" cx=\"527.581\" cy=\"365.565\" r=\"4\"/>\n",
       "<circle clip-path=\"url(#clip8202)\" style=\"fill:#009af9; stroke:none; fill-opacity:1\" cx=\"527.581\" cy=\"365.565\" r=\"3\"/>\n",
       "<circle clip-path=\"url(#clip8202)\" style=\"fill:#000000; stroke:none; fill-opacity:1\" cx=\"528.576\" cy=\"365.565\" r=\"4\"/>\n",
       "<circle clip-path=\"url(#clip8202)\" style=\"fill:#009af9; stroke:none; fill-opacity:1\" cx=\"528.576\" cy=\"365.565\" r=\"3\"/>\n",
       "<circle clip-path=\"url(#clip8202)\" style=\"fill:#000000; stroke:none; fill-opacity:1\" cx=\"529.572\" cy=\"365.565\" r=\"4\"/>\n",
       "<circle clip-path=\"url(#clip8202)\" style=\"fill:#009af9; stroke:none; fill-opacity:1\" cx=\"529.572\" cy=\"365.565\" r=\"3\"/>\n",
       "<circle clip-path=\"url(#clip8202)\" style=\"fill:#000000; stroke:none; fill-opacity:1\" cx=\"530.567\" cy=\"365.565\" r=\"4\"/>\n",
       "<circle clip-path=\"url(#clip8202)\" style=\"fill:#009af9; stroke:none; fill-opacity:1\" cx=\"530.567\" cy=\"365.565\" r=\"3\"/>\n",
       "<circle clip-path=\"url(#clip8202)\" style=\"fill:#000000; stroke:none; fill-opacity:1\" cx=\"531.563\" cy=\"365.565\" r=\"4\"/>\n",
       "<circle clip-path=\"url(#clip8202)\" style=\"fill:#009af9; stroke:none; fill-opacity:1\" cx=\"531.563\" cy=\"365.565\" r=\"3\"/>\n",
       "<circle clip-path=\"url(#clip8202)\" style=\"fill:#000000; stroke:none; fill-opacity:1\" cx=\"532.559\" cy=\"365.565\" r=\"4\"/>\n",
       "<circle clip-path=\"url(#clip8202)\" style=\"fill:#009af9; stroke:none; fill-opacity:1\" cx=\"532.559\" cy=\"365.565\" r=\"3\"/>\n",
       "<circle clip-path=\"url(#clip8202)\" style=\"fill:#000000; stroke:none; fill-opacity:1\" cx=\"533.554\" cy=\"365.565\" r=\"4\"/>\n",
       "<circle clip-path=\"url(#clip8202)\" style=\"fill:#009af9; stroke:none; fill-opacity:1\" cx=\"533.554\" cy=\"365.565\" r=\"3\"/>\n",
       "<circle clip-path=\"url(#clip8202)\" style=\"fill:#000000; stroke:none; fill-opacity:1\" cx=\"534.55\" cy=\"365.565\" r=\"4\"/>\n",
       "<circle clip-path=\"url(#clip8202)\" style=\"fill:#009af9; stroke:none; fill-opacity:1\" cx=\"534.55\" cy=\"365.565\" r=\"3\"/>\n",
       "<circle clip-path=\"url(#clip8202)\" style=\"fill:#000000; stroke:none; fill-opacity:1\" cx=\"535.545\" cy=\"365.565\" r=\"4\"/>\n",
       "<circle clip-path=\"url(#clip8202)\" style=\"fill:#009af9; stroke:none; fill-opacity:1\" cx=\"535.545\" cy=\"365.565\" r=\"3\"/>\n",
       "<circle clip-path=\"url(#clip8202)\" style=\"fill:#000000; stroke:none; fill-opacity:1\" cx=\"536.541\" cy=\"365.565\" r=\"4\"/>\n",
       "<circle clip-path=\"url(#clip8202)\" style=\"fill:#009af9; stroke:none; fill-opacity:1\" cx=\"536.541\" cy=\"365.565\" r=\"3\"/>\n",
       "<circle clip-path=\"url(#clip8202)\" style=\"fill:#000000; stroke:none; fill-opacity:1\" cx=\"537.536\" cy=\"365.565\" r=\"4\"/>\n",
       "<circle clip-path=\"url(#clip8202)\" style=\"fill:#009af9; stroke:none; fill-opacity:1\" cx=\"537.536\" cy=\"365.565\" r=\"3\"/>\n",
       "<circle clip-path=\"url(#clip8202)\" style=\"fill:#000000; stroke:none; fill-opacity:1\" cx=\"538.532\" cy=\"365.565\" r=\"4\"/>\n",
       "<circle clip-path=\"url(#clip8202)\" style=\"fill:#009af9; stroke:none; fill-opacity:1\" cx=\"538.532\" cy=\"365.565\" r=\"3\"/>\n",
       "<circle clip-path=\"url(#clip8202)\" style=\"fill:#000000; stroke:none; fill-opacity:1\" cx=\"539.527\" cy=\"365.565\" r=\"4\"/>\n",
       "<circle clip-path=\"url(#clip8202)\" style=\"fill:#009af9; stroke:none; fill-opacity:1\" cx=\"539.527\" cy=\"365.565\" r=\"3\"/>\n",
       "<circle clip-path=\"url(#clip8202)\" style=\"fill:#000000; stroke:none; fill-opacity:1\" cx=\"540.523\" cy=\"365.565\" r=\"4\"/>\n",
       "<circle clip-path=\"url(#clip8202)\" style=\"fill:#009af9; stroke:none; fill-opacity:1\" cx=\"540.523\" cy=\"365.565\" r=\"3\"/>\n",
       "<circle clip-path=\"url(#clip8202)\" style=\"fill:#000000; stroke:none; fill-opacity:1\" cx=\"541.518\" cy=\"365.565\" r=\"4\"/>\n",
       "<circle clip-path=\"url(#clip8202)\" style=\"fill:#009af9; stroke:none; fill-opacity:1\" cx=\"541.518\" cy=\"365.565\" r=\"3\"/>\n",
       "<circle clip-path=\"url(#clip8202)\" style=\"fill:#000000; stroke:none; fill-opacity:1\" cx=\"542.514\" cy=\"365.565\" r=\"4\"/>\n",
       "<circle clip-path=\"url(#clip8202)\" style=\"fill:#009af9; stroke:none; fill-opacity:1\" cx=\"542.514\" cy=\"365.565\" r=\"3\"/>\n",
       "<circle clip-path=\"url(#clip8202)\" style=\"fill:#000000; stroke:none; fill-opacity:1\" cx=\"543.51\" cy=\"365.565\" r=\"4\"/>\n",
       "<circle clip-path=\"url(#clip8202)\" style=\"fill:#009af9; stroke:none; fill-opacity:1\" cx=\"543.51\" cy=\"365.565\" r=\"3\"/>\n",
       "<circle clip-path=\"url(#clip8202)\" style=\"fill:#000000; stroke:none; fill-opacity:1\" cx=\"544.505\" cy=\"365.565\" r=\"4\"/>\n",
       "<circle clip-path=\"url(#clip8202)\" style=\"fill:#009af9; stroke:none; fill-opacity:1\" cx=\"544.505\" cy=\"365.565\" r=\"3\"/>\n",
       "<circle clip-path=\"url(#clip8202)\" style=\"fill:#000000; stroke:none; fill-opacity:1\" cx=\"545.501\" cy=\"365.565\" r=\"4\"/>\n",
       "<circle clip-path=\"url(#clip8202)\" style=\"fill:#009af9; stroke:none; fill-opacity:1\" cx=\"545.501\" cy=\"365.565\" r=\"3\"/>\n",
       "<circle clip-path=\"url(#clip8202)\" style=\"fill:#000000; stroke:none; fill-opacity:1\" cx=\"546.496\" cy=\"365.565\" r=\"4\"/>\n",
       "<circle clip-path=\"url(#clip8202)\" style=\"fill:#009af9; stroke:none; fill-opacity:1\" cx=\"546.496\" cy=\"365.565\" r=\"3\"/>\n",
       "<circle clip-path=\"url(#clip8202)\" style=\"fill:#000000; stroke:none; fill-opacity:1\" cx=\"547.492\" cy=\"365.565\" r=\"4\"/>\n",
       "<circle clip-path=\"url(#clip8202)\" style=\"fill:#009af9; stroke:none; fill-opacity:1\" cx=\"547.492\" cy=\"365.565\" r=\"3\"/>\n",
       "<circle clip-path=\"url(#clip8202)\" style=\"fill:#000000; stroke:none; fill-opacity:1\" cx=\"548.487\" cy=\"365.565\" r=\"4\"/>\n",
       "<circle clip-path=\"url(#clip8202)\" style=\"fill:#009af9; stroke:none; fill-opacity:1\" cx=\"548.487\" cy=\"365.565\" r=\"3\"/>\n",
       "<circle clip-path=\"url(#clip8202)\" style=\"fill:#000000; stroke:none; fill-opacity:1\" cx=\"549.483\" cy=\"365.565\" r=\"4\"/>\n",
       "<circle clip-path=\"url(#clip8202)\" style=\"fill:#009af9; stroke:none; fill-opacity:1\" cx=\"549.483\" cy=\"365.565\" r=\"3\"/>\n",
       "<circle clip-path=\"url(#clip8202)\" style=\"fill:#000000; stroke:none; fill-opacity:1\" cx=\"550.478\" cy=\"365.565\" r=\"4\"/>\n",
       "<circle clip-path=\"url(#clip8202)\" style=\"fill:#009af9; stroke:none; fill-opacity:1\" cx=\"550.478\" cy=\"365.565\" r=\"3\"/>\n",
       "<circle clip-path=\"url(#clip8202)\" style=\"fill:#000000; stroke:none; fill-opacity:1\" cx=\"551.474\" cy=\"365.565\" r=\"4\"/>\n",
       "<circle clip-path=\"url(#clip8202)\" style=\"fill:#009af9; stroke:none; fill-opacity:1\" cx=\"551.474\" cy=\"365.565\" r=\"3\"/>\n",
       "<circle clip-path=\"url(#clip8202)\" style=\"fill:#000000; stroke:none; fill-opacity:1\" cx=\"552.469\" cy=\"365.565\" r=\"4\"/>\n",
       "<circle clip-path=\"url(#clip8202)\" style=\"fill:#009af9; stroke:none; fill-opacity:1\" cx=\"552.469\" cy=\"365.565\" r=\"3\"/>\n",
       "<circle clip-path=\"url(#clip8202)\" style=\"fill:#000000; stroke:none; fill-opacity:1\" cx=\"553.465\" cy=\"365.565\" r=\"4\"/>\n",
       "<circle clip-path=\"url(#clip8202)\" style=\"fill:#009af9; stroke:none; fill-opacity:1\" cx=\"553.465\" cy=\"365.565\" r=\"3\"/>\n",
       "<circle clip-path=\"url(#clip8202)\" style=\"fill:#000000; stroke:none; fill-opacity:1\" cx=\"554.461\" cy=\"365.565\" r=\"4\"/>\n",
       "<circle clip-path=\"url(#clip8202)\" style=\"fill:#009af9; stroke:none; fill-opacity:1\" cx=\"554.461\" cy=\"365.565\" r=\"3\"/>\n",
       "<circle clip-path=\"url(#clip8202)\" style=\"fill:#000000; stroke:none; fill-opacity:1\" cx=\"555.456\" cy=\"365.565\" r=\"4\"/>\n",
       "<circle clip-path=\"url(#clip8202)\" style=\"fill:#009af9; stroke:none; fill-opacity:1\" cx=\"555.456\" cy=\"365.565\" r=\"3\"/>\n",
       "<circle clip-path=\"url(#clip8202)\" style=\"fill:#000000; stroke:none; fill-opacity:1\" cx=\"556.452\" cy=\"365.565\" r=\"4\"/>\n",
       "<circle clip-path=\"url(#clip8202)\" style=\"fill:#009af9; stroke:none; fill-opacity:1\" cx=\"556.452\" cy=\"365.565\" r=\"3\"/>\n",
       "<circle clip-path=\"url(#clip8202)\" style=\"fill:#000000; stroke:none; fill-opacity:1\" cx=\"557.447\" cy=\"365.565\" r=\"4\"/>\n",
       "<circle clip-path=\"url(#clip8202)\" style=\"fill:#009af9; stroke:none; fill-opacity:1\" cx=\"557.447\" cy=\"365.565\" r=\"3\"/>\n",
       "<circle clip-path=\"url(#clip8202)\" style=\"fill:#000000; stroke:none; fill-opacity:1\" cx=\"558.443\" cy=\"365.565\" r=\"4\"/>\n",
       "<circle clip-path=\"url(#clip8202)\" style=\"fill:#009af9; stroke:none; fill-opacity:1\" cx=\"558.443\" cy=\"365.565\" r=\"3\"/>\n",
       "<circle clip-path=\"url(#clip8202)\" style=\"fill:#000000; stroke:none; fill-opacity:1\" cx=\"559.438\" cy=\"365.565\" r=\"4\"/>\n",
       "<circle clip-path=\"url(#clip8202)\" style=\"fill:#009af9; stroke:none; fill-opacity:1\" cx=\"559.438\" cy=\"365.565\" r=\"3\"/>\n",
       "<circle clip-path=\"url(#clip8202)\" style=\"fill:#000000; stroke:none; fill-opacity:1\" cx=\"560.434\" cy=\"365.565\" r=\"4\"/>\n",
       "<circle clip-path=\"url(#clip8202)\" style=\"fill:#009af9; stroke:none; fill-opacity:1\" cx=\"560.434\" cy=\"365.565\" r=\"3\"/>\n",
       "<circle clip-path=\"url(#clip8202)\" style=\"fill:#000000; stroke:none; fill-opacity:1\" cx=\"561.429\" cy=\"365.565\" r=\"4\"/>\n",
       "<circle clip-path=\"url(#clip8202)\" style=\"fill:#009af9; stroke:none; fill-opacity:1\" cx=\"561.429\" cy=\"365.565\" r=\"3\"/>\n",
       "<circle clip-path=\"url(#clip8202)\" style=\"fill:#000000; stroke:none; fill-opacity:1\" cx=\"562.425\" cy=\"365.565\" r=\"4\"/>\n",
       "<circle clip-path=\"url(#clip8202)\" style=\"fill:#009af9; stroke:none; fill-opacity:1\" cx=\"562.425\" cy=\"365.565\" r=\"3\"/>\n",
       "<circle clip-path=\"url(#clip8202)\" style=\"fill:#000000; stroke:none; fill-opacity:1\" cx=\"563.421\" cy=\"365.565\" r=\"4\"/>\n",
       "<circle clip-path=\"url(#clip8202)\" style=\"fill:#009af9; stroke:none; fill-opacity:1\" cx=\"563.421\" cy=\"365.565\" r=\"3\"/>\n",
       "<circle clip-path=\"url(#clip8202)\" style=\"fill:#000000; stroke:none; fill-opacity:1\" cx=\"564.416\" cy=\"365.565\" r=\"4\"/>\n",
       "<circle clip-path=\"url(#clip8202)\" style=\"fill:#009af9; stroke:none; fill-opacity:1\" cx=\"564.416\" cy=\"365.565\" r=\"3\"/>\n",
       "<circle clip-path=\"url(#clip8202)\" style=\"fill:#000000; stroke:none; fill-opacity:1\" cx=\"565.412\" cy=\"365.565\" r=\"4\"/>\n",
       "<circle clip-path=\"url(#clip8202)\" style=\"fill:#009af9; stroke:none; fill-opacity:1\" cx=\"565.412\" cy=\"365.565\" r=\"3\"/>\n",
       "<polygon clip-path=\"url(#clip8200)\" points=\"\n",
       "489.608,62.931 562.315,62.931 562.315,32.691 489.608,32.691 \n",
       "  \" fill=\"#ffffff\" fill-opacity=\"1\"/>\n",
       "<polyline clip-path=\"url(#clip8200)\" style=\"stroke:#000000; stroke-width:1; stroke-opacity:1; fill:none\" points=\"\n",
       "  489.608,62.931 562.315,62.931 562.315,32.691 489.608,32.691 489.608,62.931 \n",
       "  \"/>\n",
       "<circle clip-path=\"url(#clip8200)\" style=\"fill:#000000; stroke:none; fill-opacity:1\" cx=\"516.608\" cy=\"47.811\" r=\"6\"/>\n",
       "<circle clip-path=\"url(#clip8200)\" style=\"fill:#009af9; stroke:none; fill-opacity:1\" cx=\"516.608\" cy=\"47.811\" r=\"5\"/>\n",
       "<g clip-path=\"url(#clip8200)\">\n",
       "<text style=\"fill:#000000; fill-opacity:1; font-family:Arial,Helvetica Neue,Helvetica,sans-serif; font-size:12; text-anchor:start;\" transform=\"rotate(0, 537.608, 52.311)\" x=\"537.608\" y=\"52.311\">y1</text>\n",
       "</g>\n",
       "</svg>\n"
      ]
     },
     "execution_count": 306,
     "metadata": {},
     "output_type": "execute_result"
    }
   ],
   "source": [
    "scatter(iters, raices_g)"
   ]
  },
  {
   "cell_type": "code",
   "execution_count": 304,
   "metadata": {},
   "outputs": [
    {
     "data": {
      "text/plain": [
       "269-element Array{Float64,1}:\n",
       " 0.136151    \n",
       " 0.0335081   \n",
       " 0.00836917  \n",
       " 0.00209217  \n",
       " 0.000523041 \n",
       " 0.00013076  \n",
       " 3.269e-5    \n",
       " 8.17251e-6  \n",
       " 2.04313e-6  \n",
       " 5.10782e-7  \n",
       " 1.27695e-7  \n",
       " 3.19239e-8  \n",
       " 7.98097e-9  \n",
       " ⋮           \n",
       " 2.49665e-156\n",
       " 6.24163e-157\n",
       " 1.56041e-157\n",
       " 3.90102e-158\n",
       " 9.75254e-159\n",
       " 2.43814e-159\n",
       " 6.09534e-160\n",
       " 1.52385e-160\n",
       " 3.80958e-161\n",
       " 9.53945e-162\n",
       " 2.40777e-162\n",
       " 4.8789e-163 "
      ]
     },
     "execution_count": 304,
     "metadata": {},
     "output_type": "execute_result"
    }
   ],
   "source": [
    "unique(raices_g)"
   ]
  },
  {
   "cell_type": "markdown",
   "metadata": {},
   "source": [
    "## 7\n",
    "\n",
    "Argumenten qué podrían hacer para extender la idea de los `Dual` y calcular derivadas aún más altas. Como caso concreto, piensen en querer obtener la derivada 18 de funciones como las que hemos usado arriba"
   ]
  },
  {
   "cell_type": "code",
   "execution_count": null,
   "metadata": {},
   "outputs": [],
   "source": []
  }
 ],
 "metadata": {
  "kernelspec": {
   "display_name": "Julia 0.6.4",
   "language": "julia",
   "name": "julia-0.6"
  },
  "language_info": {
   "file_extension": ".jl",
   "mimetype": "application/julia",
   "name": "julia",
   "version": "0.6.4"
  }
 },
 "nbformat": 4,
 "nbformat_minor": 2
}
