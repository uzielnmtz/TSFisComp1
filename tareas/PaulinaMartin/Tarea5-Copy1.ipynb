{
 "cells": [
  {
   "cell_type": "markdown",
   "metadata": {},
   "source": [
    "# Tarea 5"
   ]
  },
  {
   "cell_type": "markdown",
   "metadata": {},
   "source": [
    "**Envío del PR inicial:** 15 de octubre\n",
    "\n",
    "**Aceptación del PR:** 21 de octubre"
   ]
  },
  {
   "cell_type": "markdown",
   "metadata": {},
   "source": [
    "NOTA: Esta tarea debe entregarse en equipo."
   ]
  },
  {
   "cell_type": "code",
   "execution_count": 1,
   "metadata": {},
   "outputs": [
    {
     "data": {
      "text/plain": [
       "AutoDiff"
      ]
     },
     "execution_count": 1,
     "metadata": {},
     "output_type": "execute_result"
    }
   ],
   "source": [
    "include(\"Mapeos.jl\")\n",
    "include(\"AutoDiff.jl\")"
   ]
  },
  {
   "cell_type": "code",
   "execution_count": null,
   "metadata": {},
   "outputs": [],
   "source": [
    "using Mapeos\n",
    "using AutoDiff\n",
    "using Plots\n",
    "using LaTeXStrings\n",
    "\n",
    "gr(grid=false)"
   ]
  },
  {
   "cell_type": "code",
   "execution_count": null,
   "metadata": {},
   "outputs": [],
   "source": [
    "function newton_dual(f, guess; n_iter=1000)\n",
    "    xnn = dual(guess)\n",
    "    for i in 1:n_iter\n",
    "        xnn = xnn.x - (f(xnn).x / f(xnn).x′)\n",
    "        xnn = dual(xnn)\n",
    "    end\n",
    "    return xnn.x\n",
    "end"
   ]
  },
  {
   "cell_type": "code",
   "execution_count": null,
   "metadata": {},
   "outputs": [],
   "source": [
    "function compone(f, x, n)\n",
    "    n_comp = x\n",
    "    for i in 1:n\n",
    "        n_comp = f(n_comp)\n",
    "    end\n",
    "    return n_comp\n",
    "end"
   ]
  },
  {
   "cell_type": "code",
   "execution_count": null,
   "metadata": {},
   "outputs": [],
   "source": [
    "Qc(x, c) = x^2 + c"
   ]
  },
  {
   "cell_type": "code",
   "execution_count": null,
   "metadata": {},
   "outputs": [],
   "source": [
    "fₙ(cn) = (cn[1] - cn[2]) / (cn[2] - cn[3])"
   ]
  },
  {
   "cell_type": "markdown",
   "metadata": {},
   "source": [
    "## 1\n",
    "\n",
    "Llamemos $c_n$ el valor del parámetro $c$ donde ocurre la bifurcación de doblamiento de periodo para el mapeo $Q_c(x)=x^2+c$, donde la órbita de periodo $2^n$ nace. Como hemos visto en notebooks anteriores, tenemos que $c_0=1/4$ marca la aparición del atractor de periodo $2^0=1$, $c_1=-1/4$ corresponde a la aparición del atractor de periodo $2^1=2$, $c_2=-3/4$ a la aparición del atractor de periodo $2^2=4$, etc. \n",
    "\n",
    "A partir de estos valores y otros que calcularán (al menos deben encontrar $c_6$), definimos la secuencia: $\\{f_0, f_1, f_2, \\dots\\}$, donde\n",
    "\n",
    "\\begin{equation}\n",
    "f_n = \\frac{c_n-c_{n+1}}{c_{n+1}-c_{n+2}} .\n",
    "\\end{equation}\n",
    "\n",
    "La pregunta es, ¿a qué valor converge esta secuencia?, es decir, dar una estimación de $f_\\infty$.\n",
    "\n",
    "\n",
    "*Hint:* Para realizar este ejercicio deben calcular el atractor para varios valores de $c$, de tal manera que puedan aislar las órbitas de periodo $2^p$ y de ahí determinar varios valores $c_n$. Se requerir suficiente cuidado para obtener una buena aproximación de $c_n$. \n",
    "Una opción se basa en recordar/usar que las bifurcaciones de doblamiento de periodo ocurren cuando los puntos de la órbita de periodo $p$ se tornan en repulsores, es decir, $(Q_c^p)'(x)=-1$. Esta opción, entonces, involucra obtener los valores $c_n$ a partir de órbitas periódicas de periodo $2^n$ usando los polinomios $Q_c^{2^p}(x)$ y diferenciación automática."
   ]
  },
  {
   "cell_type": "code",
   "execution_count": null,
   "metadata": {},
   "outputs": [],
   "source": [
    "fn(cn) = (cn[1] - cn[2]) / (cn[2] - cn[3])"
   ]
  },
  {
   "cell_type": "code",
   "execution_count": null,
   "metadata": {},
   "outputs": [],
   "source": [
    "c_range = reverse(-1.5:0.00001:-1.4)\n",
    "\n",
    "ϵ = 0.001\n",
    "p = 0\n",
    "x₀ = 0.\n",
    "cn = []\n",
    "\n",
    "for c in c_range\n",
    "    Q = x -> Qc(x, c)\n",
    "    m = Mapeo(Q, x₀, 10000)\n",
    "    atr_pt = dual(m.xnn[end])\n",
    "    der = compone(Q, atr_pt, Int(2^p)).x\n",
    "    if abs(der +1) < ϵ\n",
    "        push!(cn, [der, c])\n",
    "        p += 1\n",
    "    end\n",
    "    x₀ = atr_pt.x\n",
    "end"
   ]
  },
  {
   "cell_type": "code",
   "execution_count": null,
   "metadata": {},
   "outputs": [],
   "source": []
  },
  {
   "cell_type": "code",
   "execution_count": null,
   "metadata": {},
   "outputs": [],
   "source": [
    "cn"
   ]
  },
  {
   "cell_type": "code",
   "execution_count": null,
   "metadata": {},
   "outputs": [],
   "source": [
    "\"\"\"\n",
    "    calcula_cₙ(Fλ, rango_c, n; ϵ=0.01, n_iter=1000)\n",
    "\n",
    "Calcula el valor aproximado de 'c_n'\n",
    "\n",
    "\"\"\"\n",
    "\n",
    "function calcula_cₙ(Fλ, rango_c, n; ϵ=0.01, n_iter=1000)\n",
    "    cn = []\n",
    "    deltas = []\n",
    "    ders = []\n",
    "    x0 = 0.\n",
    "    for c in rango_c\n",
    "        F = x -> Fλ(x, c)\n",
    "        m = Mapeo(F, x0, n_iter)\n",
    "        atr = dual(m.xnn[end])\n",
    "        der = compone(F, atr, Int(2^n)).x′\n",
    "        #println(der)\n",
    "        δ = abs(der + 1)\n",
    "        if δ < ϵ\n",
    "            push!(cn, c)\n",
    "            push!(ders, der)\n",
    "            push!(deltas, δ)\n",
    "        end\n",
    "        x0 = atr.x\n",
    "    end\n",
    "    if !isempty(deltas)\n",
    "        _, ind = findmin(deltas)\n",
    "        return cn[ind]\n",
    "    else\n",
    "        return Nothing\n",
    "    end\n",
    "end"
   ]
  },
  {
   "cell_type": "markdown",
   "metadata": {},
   "source": [
    "## 2\n",
    "\n",
    "Repitan el ejercicio anterior para el mapeo $S_c(x) = c \\sin(x)$. \n",
    "\n",
    "- ¿Cómo se comparan los valores obtenidos de $f_n$? \n",
    "\n",
    "- ¿Qué interpretación le pueden dar a este resultado, en comparación del ejercicio anterior?"
   ]
  },
  {
   "cell_type": "code",
   "execution_count": null,
   "metadata": {},
   "outputs": [],
   "source": [
    "Sc(x, c) = c*sin(x)"
   ]
  },
  {
   "cell_type": "code",
   "execution_count": null,
   "metadata": {},
   "outputs": [],
   "source": [
    "pyplot()"
   ]
  },
  {
   "cell_type": "code",
   "execution_count": null,
   "metadata": {},
   "outputs": [],
   "source": [
    "rango_c = 1:0.005:10\n",
    "Fs = [x -> Sc(x, c) for c in rango_c];"
   ]
  },
  {
   "cell_type": "code",
   "execution_count": null,
   "metadata": {},
   "outputs": [],
   "source": [
    "x₀ = 0.1\n",
    "mapeos = [Mapeo(F, x₀, 1000) for F in Fs];"
   ]
  },
  {
   "cell_type": "code",
   "execution_count": null,
   "metadata": {},
   "outputs": [],
   "source": [
    "ps = [m.xnn[end-100:end] for m in mapeos];"
   ]
  },
  {
   "cell_type": "code",
   "execution_count": null,
   "metadata": {},
   "outputs": [],
   "source": [
    "cs = []\n",
    "for c in rango_c\n",
    "    for i in 1:101\n",
    "        push!(cs, c)\n",
    "    end\n",
    "end"
   ]
  },
  {
   "cell_type": "code",
   "execution_count": null,
   "metadata": {},
   "outputs": [],
   "source": [
    "xn = []\n",
    "for p in ps\n",
    "    for x in p\n",
    "        push!(xn, x)\n",
    "    end\n",
    "end"
   ]
  },
  {
   "cell_type": "code",
   "execution_count": null,
   "metadata": {},
   "outputs": [],
   "source": [
    "d1 = scatter(cs, xn, ms=0.05, legend=false)\n",
    "xlabel!(\"C\")\n",
    "ylabel!(\"F(xₙ)\")"
   ]
  },
  {
   "cell_type": "code",
   "execution_count": null,
   "metadata": {},
   "outputs": [],
   "source": [
    "rango_c = 1:0.001:4\n",
    "Fs = [x -> Sc(x, c) for c in rango_c];"
   ]
  },
  {
   "cell_type": "code",
   "execution_count": null,
   "metadata": {},
   "outputs": [],
   "source": [
    "x₀ = 0.1\n",
    "mapeos = [Mapeo(F, x₀, 1000) for F in Fs];"
   ]
  },
  {
   "cell_type": "code",
   "execution_count": null,
   "metadata": {},
   "outputs": [],
   "source": [
    "ps = [m.xnn[end-100:end] for m in mapeos];"
   ]
  },
  {
   "cell_type": "code",
   "execution_count": null,
   "metadata": {},
   "outputs": [],
   "source": [
    "cs = []\n",
    "for c in rango_c\n",
    "    for i in 1:101\n",
    "        push!(cs, c)\n",
    "    end\n",
    "end"
   ]
  },
  {
   "cell_type": "code",
   "execution_count": null,
   "metadata": {},
   "outputs": [],
   "source": [
    "xn = []\n",
    "for p in ps\n",
    "    for x in p\n",
    "        push!(xn, x)\n",
    "    end\n",
    "end"
   ]
  },
  {
   "cell_type": "code",
   "execution_count": null,
   "metadata": {},
   "outputs": [],
   "source": [
    "d1 = scatter(cs, xn, ms=0.05, legend=false)\n",
    "xlabel!(\"C\")\n",
    "ylabel!(\"F(xₙ)\")\n",
    "vline!(cnn)"
   ]
  },
  {
   "cell_type": "code",
   "execution_count": null,
   "metadata": {},
   "outputs": [],
   "source": [
    "c_range = 1:0.0000001:2.8\n",
    "\n",
    "ϵ = 0.001\n",
    "p = 0\n",
    "x₀ = 0.1\n",
    "cn = []\n",
    "\n",
    "#for c in c_range\n",
    "    sin = x -> Sc(x, c)\n",
    "    m = Mapeo(sin, x₀, 10000)\n",
    "    atr_pt = dual(m.xnn[end])\n",
    "    der = compone(sin, atr_pt, Int(2^p)).x′\n",
    "    if abs(der +1) < ϵ\n",
    "        push!(cn, [p, c])\n",
    "        p += 1\n",
    "    end\n",
    "    x₀ = atr_pt.x\n",
    "end"
   ]
  },
  {
   "cell_type": "code",
   "execution_count": null,
   "metadata": {},
   "outputs": [],
   "source": [
    "#cnn = [c[2] for c in cn]"
   ]
  },
  {
   "cell_type": "code",
   "execution_count": null,
   "metadata": {},
   "outputs": [],
   "source": []
  },
  {
   "cell_type": "code",
   "execution_count": null,
   "metadata": {},
   "outputs": [],
   "source": []
  },
  {
   "cell_type": "code",
   "execution_count": null,
   "metadata": {},
   "outputs": [],
   "source": [
    "rango_c = reverse(1:1e-4:3)\n",
    "c_1 = calcula_cₙ(Sc, rango_c, 0)"
   ]
  },
  {
   "cell_type": "code",
   "execution_count": null,
   "metadata": {},
   "outputs": [],
   "source": []
  },
  {
   "cell_type": "code",
   "execution_count": null,
   "metadata": {},
   "outputs": [],
   "source": []
  },
  {
   "cell_type": "code",
   "execution_count": null,
   "metadata": {},
   "outputs": [],
   "source": []
  },
  {
   "cell_type": "code",
   "execution_count": null,
   "metadata": {},
   "outputs": [],
   "source": []
  },
  {
   "cell_type": "code",
   "execution_count": null,
   "metadata": {},
   "outputs": [],
   "source": []
  },
  {
   "cell_type": "markdown",
   "metadata": {},
   "source": [
    "## 3\n",
    "\n",
    "Como se ve en la Fig. 1 del diagrama de bifurcaciones de $Q_c$, $x=0$ pertenece a un ciclo de periodo $2^n$ para ciertos valores $C_n$ del parámetro. Dichos valores son *especiales*, ya que el hecho de que $x=0$ pertenezca a un ciclo de periodo $2^n$ define los llamados *ciclos superestable*, donde tenemos $(Q^{2^p}_{C_n})'(0)=0$.\n",
    "\n",
    "- ¿A qué converge la secuencia $f_n$, definida ahora a partir de los valores $C_n$.\n",
    "\n",
    "- De los $2^p$ puntos del ciclo de periodo $2^p$, es decir, $\\{0, p_1, \\dots p_{2^{n-1}}\\,\\}$ hay uno (distinto del 0) cuya distancia a 0 es la menor; a esa distancia la identificaremos como $d_n$. Calcular numéricamente a qué converge la secuencia $d_n/d_{n+1}$."
   ]
  },
  {
   "cell_type": "code",
   "execution_count": null,
   "metadata": {},
   "outputs": [],
   "source": [
    "\n",
    "\n",
    "\n",
    "\n"
   ]
  },
  {
   "cell_type": "code",
   "execution_count": null,
   "metadata": {},
   "outputs": [],
   "source": [
    "#include(\"DifAuto.jl\")\n",
    "#include(\"AutoDiff.jl\")\n",
    "import Base: ∘"
   ]
  },
  {
   "cell_type": "code",
   "execution_count": null,
   "metadata": {},
   "outputs": [],
   "source": [
    "##f_n devuelve la distancia entre el valor c_n (donde ocurre la n-esima bifurcacion) y el de valor c_n+1 \n",
    "\n",
    "function f_n(cn, cn1, cn2)\n",
    "    \n",
    "    f_n = (cn - cn1) / (cn1 - cn2)\n",
    "    \n",
    "end"
   ]
  },
  {
   "cell_type": "code",
   "execution_count": null,
   "metadata": {},
   "outputs": [],
   "source": [
    "iterate(x->x, 2)"
   ]
  },
  {
   "cell_type": "code",
   "execution_count": null,
   "metadata": {},
   "outputs": [],
   "source": [
    "function compone(f0::Function, n_comp)\n",
    "    \n",
    "    fn(x) = f0(x)\n",
    "    f_2n(x) = fn(f0(x))\n",
    "    f_3n(x) = f_2n(fn(x))\n",
    "    f_4n(x) = f_3n(f0(x))\n",
    "    f_5n(x) = f_4n(f0(x))\n",
    "    f_6n(x) = f_5n(f0(x))\n",
    "    f_7n(x) = f_6n(f0(x))\n",
    "    f_8n(x) = f_7n(f0(x))\n",
    "    f_9n(x) = f_8n(f0(x))\n",
    "    f_10n(x) = f_9n(f0(x))\n",
    "    \n",
    "    if n_comp==0\n",
    "    return fn\n",
    "        \n",
    "        elseif n_comp==1\n",
    "        return f_2n\n",
    "        \n",
    "    elseif n_comp==2\n",
    "        return f_3n\n",
    "        \n",
    "    elseif n_comp==3\n",
    "        return f_4n\n",
    "        \n",
    "    elseif n_comp==4\n",
    "        return f_5n\n",
    "        \n",
    "    elseif n_comp==5\n",
    "        return f_6n\n",
    "        \n",
    "    elseif n_comp==6\n",
    "        return f_7n\n",
    "        \n",
    "    elseif n_comp==7\n",
    "        return f_8n\n",
    "        \n",
    "    elseif n_comp==8\n",
    "        return f_9n\n",
    "        \n",
    "    elseif n_comp==9\n",
    "        return f_10n\n",
    "        \n",
    "    end\n",
    "end\n",
    "    \n",
    "    #for i in 1:n_comp\n",
    "       # fnnn(x) = fnn(fn(f0(x)))\n",
    "        #fnn(x) = fnnn(x) \n",
    "    #end\n",
    "    #return fnnn\n",
    "#end\n",
    "    "
   ]
  },
  {
   "cell_type": "code",
   "execution_count": null,
   "metadata": {},
   "outputs": [],
   "source": [
    "f(x) = x^2"
   ]
  },
  {
   "cell_type": "code",
   "execution_count": null,
   "metadata": {},
   "outputs": [],
   "source": [
    "octava = compone(x -> x+1, 9)"
   ]
  },
  {
   "cell_type": "code",
   "execution_count": null,
   "metadata": {},
   "outputs": [],
   "source": [
    "octava(1)"
   ]
  },
  {
   "cell_type": "code",
   "execution_count": null,
   "metadata": {},
   "outputs": [],
   "source": [
    "Probando = compone(x -> x^2, 3)"
   ]
  },
  {
   "cell_type": "code",
   "execution_count": null,
   "metadata": {},
   "outputs": [],
   "source": [
    "@generated function compone2(f0::Function, n_comp::Int64)\n",
    "    ex = f0(:x)\n",
    "    for i = 1:n_comp\n",
    "        ex2 = f0(:ex)\n",
    "        ex = ex2\n",
    "    end\n",
    "    return ex2\n",
    "end"
   ]
  },
  {
   "cell_type": "code",
   "execution_count": null,
   "metadata": {},
   "outputs": [],
   "source": [
    "macro comp3(f0::Function, n_comp::Int64)\n",
    "    "
   ]
  },
  {
   "cell_type": "code",
   "execution_count": null,
   "metadata": {},
   "outputs": [],
   "source": [
    "args = [f0(:x), f0(f0(:x)), f0(f0(f0(:x))), f0(f0(f0(f0(:x)))), f0(f0(f0(f0(f0(:x))))), f0(f0(f0(f0(f0(f0(:x)))))), f0(f0(f0(f0(f0(f0(f0(:x)))))))]\n",
    "\n",
    "function compone(f0::Function, n_comp)\n",
    "    (f0($args[n_comp]))\n",
    "    end\n",
    "    \n",
    "        "
   ]
  },
  {
   "cell_type": "code",
   "execution_count": null,
   "metadata": {},
   "outputs": [],
   "source": [
    "function ∘(f::Function, g::Function)\n",
    "    x -> f(g(x))\n",
    "end"
   ]
  },
  {
   "cell_type": "code",
   "execution_count": null,
   "metadata": {},
   "outputs": [],
   "source": [
    "function compone(f0::Function, n_comp)\n",
    "    \n",
    "    fn(x) = ∘(f0, f0)\n",
    "    fnn(x) = f0(x)\n",
    "    for i = 1:n_comp\n",
    "    fnn(x) = ∘(fn, f0)\n",
    "    fn(x) = fnn(x)\n",
    "        return fnn\n",
    "    end\n",
    "end\n",
    "    "
   ]
  },
  {
   "cell_type": "code",
   "execution_count": null,
   "metadata": {},
   "outputs": [],
   "source": [
    "prueba = compone(x ->x^2, 2)"
   ]
  },
  {
   "cell_type": "code",
   "execution_count": null,
   "metadata": {},
   "outputs": [],
   "source": [
    "prueba(2)"
   ]
  },
  {
   "cell_type": "code",
   "execution_count": null,
   "metadata": {},
   "outputs": [],
   "source": []
  },
  {
   "cell_type": "code",
   "execution_count": null,
   "metadata": {},
   "outputs": [],
   "source": [
    "function make_expr2(op, opr1, opr2)\n",
    "           opr1f, opr2f = map(x -> isa(x, Number) ? 2*x : x, (opr1, opr2))\n",
    "           retexpr = Expr(:call, op, opr1f, opr2f)\n",
    "           return retexpr\n",
    "       end"
   ]
  },
  {
   "cell_type": "code",
   "execution_count": null,
   "metadata": {},
   "outputs": [],
   "source": [
    "ex1 = make_expr2(∘, x->x^2, x->x^2)"
   ]
  },
  {
   "cell_type": "code",
   "execution_count": null,
   "metadata": {},
   "outputs": [],
   "source": []
  },
  {
   "cell_type": "code",
   "execution_count": null,
   "metadata": {},
   "outputs": [],
   "source": [
    "f1(1)"
   ]
  },
  {
   "cell_type": "code",
   "execution_count": null,
   "metadata": {},
   "outputs": [],
   "source": [
    "ex2 = make_expr2(∘, x->x^2, Expr(:call, :∘, x->x^2, x->x^2))"
   ]
  },
  {
   "cell_type": "code",
   "execution_count": null,
   "metadata": {},
   "outputs": [],
   "source": [
    "f3(x)= eval(ex2)"
   ]
  },
  {
   "cell_type": "code",
   "execution_count": null,
   "metadata": {},
   "outputs": [],
   "source": []
  },
  {
   "cell_type": "code",
   "execution_count": null,
   "metadata": {},
   "outputs": [],
   "source": [
    "#include(\"DifAuto.jl\")\n",
    "#include(\"AutoDiff.jl\")\n",
    "import Base: ∘"
   ]
  },
  {
   "cell_type": "code",
   "execution_count": null,
   "metadata": {},
   "outputs": [],
   "source": [
    "##f_n devuelve la distancia entre el valor c_n (donde ocurre la n-esima bifurcacion) y el de valor c_n+1 \n",
    "\n",
    "function f_n(cn, cn1, cn2)\n",
    "    \n",
    "    f_n = (cn - cn1) / (cn1 - cn2)\n",
    "    \n",
    "end"
   ]
  },
  {
   "cell_type": "code",
   "execution_count": null,
   "metadata": {},
   "outputs": [],
   "source": [
    "iterate(x->x, 2)"
   ]
  },
  {
   "cell_type": "code",
   "execution_count": null,
   "metadata": {},
   "outputs": [],
   "source": [
    "function compone(f0::Function, n_comp)\n",
    "    \n",
    "    fn(x) = f0(x)\n",
    "    f_2n(x) = fn(f0(x))\n",
    "    f_3n(x) = f_2n(fn(x))\n",
    "    f_4n(x) = f_3n(f0(x))\n",
    "    f_5n(x) = f_4n(f0(x))\n",
    "    f_6n(x) = f_5n(f0(x))\n",
    "    f_7n(x) = f_6n(f0(x))\n",
    "    f_8n(x) = f_7n(f0(x))\n",
    "    f_9n(x) = f_8n(f0(x))\n",
    "    f_10n(x) = f_9n(f0(x))\n",
    "    \n",
    "    if n_comp==0\n",
    "    return fn\n",
    "        \n",
    "        elseif n_comp==1\n",
    "        return f_2n\n",
    "        \n",
    "    elseif n_comp==2\n",
    "        return f_3n\n",
    "        \n",
    "    elseif n_comp==3\n",
    "        return f_4n\n",
    "        \n",
    "    elseif n_comp==4\n",
    "        return f_5n\n",
    "        \n",
    "    elseif n_comp==5\n",
    "        return f_6n\n",
    "        \n",
    "    elseif n_comp==6\n",
    "        return f_7n\n",
    "        \n",
    "    elseif n_comp==7\n",
    "        return f_8n\n",
    "        \n",
    "    elseif n_comp==8\n",
    "        return f_9n\n",
    "        \n",
    "    elseif n_comp==9\n",
    "        return f_10n\n",
    "        \n",
    "    end\n",
    "end\n",
    "    \n",
    "    #for i in 1:n_comp\n",
    "       # fnnn(x) = fnn(fn(f0(x)))\n",
    "        #fnn(x) = fnnn(x) \n",
    "    #end\n",
    "    #return fnnn\n",
    "#end\n",
    "    "
   ]
  },
  {
   "cell_type": "code",
   "execution_count": null,
   "metadata": {},
   "outputs": [],
   "source": [
    "f(x) = x^2"
   ]
  },
  {
   "cell_type": "code",
   "execution_count": null,
   "metadata": {},
   "outputs": [],
   "source": [
    "octava = compone(x -> x+1, 9)"
   ]
  },
  {
   "cell_type": "code",
   "execution_count": null,
   "metadata": {},
   "outputs": [],
   "source": [
    "octava(1)"
   ]
  },
  {
   "cell_type": "code",
   "execution_count": null,
   "metadata": {},
   "outputs": [],
   "source": [
    "Probando = compone(x -> x^2, 3)"
   ]
  },
  {
   "cell_type": "code",
   "execution_count": null,
   "metadata": {},
   "outputs": [],
   "source": [
    "@generated function compone2(f0::Function, n_comp::Int64)\n",
    "    ex = f0(:x)\n",
    "    for i = 1:n_comp\n",
    "        ex2 = f0(:ex)\n",
    "        ex = ex2\n",
    "    end\n",
    "    return ex2\n",
    "end"
   ]
  },
  {
   "cell_type": "code",
   "execution_count": null,
   "metadata": {},
   "outputs": [],
   "source": [
    "macro comp3(f0::Function, n_comp::Int64)\n",
    "    "
   ]
  },
  {
   "cell_type": "code",
   "execution_count": null,
   "metadata": {},
   "outputs": [],
   "source": [
    "args = [f0(:x), f0(f0(:x)), f0(f0(f0(:x))), f0(f0(f0(f0(:x)))), f0(f0(f0(f0(f0(:x))))), f0(f0(f0(f0(f0(f0(:x)))))), f0(f0(f0(f0(f0(f0(f0(:x)))))))]\n",
    "\n",
    "function compone(f0::Function, n_comp)\n",
    "    (f0($args[n_comp]))\n",
    "    end\n",
    "    \n",
    "        "
   ]
  },
  {
   "cell_type": "code",
   "execution_count": null,
   "metadata": {},
   "outputs": [],
   "source": [
    "function ∘(f::Function, g::Function)\n",
    "    x -> f(g(x))\n",
    "end"
   ]
  },
  {
   "cell_type": "code",
   "execution_count": null,
   "metadata": {},
   "outputs": [],
   "source": [
    "function compone(f0::Function, n_comp)\n",
    "    \n",
    "    fn(x) = ∘(f0, f0)\n",
    "    fnn(x) = f0(x)\n",
    "    for i = 1:n_comp\n",
    "    fnn(x) = ∘(fn, f0)\n",
    "    fn(x) = fnn(x)\n",
    "        return fnn\n",
    "    end\n",
    "end\n",
    "    "
   ]
  },
  {
   "cell_type": "code",
   "execution_count": null,
   "metadata": {},
   "outputs": [],
   "source": [
    "prueba = compone(x ->x^2, 2)"
   ]
  },
  {
   "cell_type": "code",
   "execution_count": null,
   "metadata": {},
   "outputs": [],
   "source": [
    "prueba(2)"
   ]
  },
  {
   "cell_type": "code",
   "execution_count": null,
   "metadata": {},
   "outputs": [],
   "source": []
  },
  {
   "cell_type": "code",
   "execution_count": null,
   "metadata": {},
   "outputs": [],
   "source": [
    "function make_expr2(op, opr1, opr2)\n",
    "           opr1f, opr2f = map(x -> isa(x, Number) ? 2*x : x, (opr1, opr2))\n",
    "           retexpr = Expr(:call, op, opr1f, opr2f)\n",
    "           return retexpr\n",
    "       end"
   ]
  },
  {
   "cell_type": "code",
   "execution_count": null,
   "metadata": {},
   "outputs": [],
   "source": [
    "ex1 = make_expr2(∘, x->x^2, x->x^2)"
   ]
  },
  {
   "cell_type": "code",
   "execution_count": null,
   "metadata": {},
   "outputs": [],
   "source": []
  },
  {
   "cell_type": "code",
   "execution_count": null,
   "metadata": {},
   "outputs": [],
   "source": [
    "f1(1)"
   ]
  },
  {
   "cell_type": "code",
   "execution_count": null,
   "metadata": {},
   "outputs": [],
   "source": [
    "ex2 = make_expr2(∘, x->x^2, Expr(:call, :∘, x->x^2, x->x^2))"
   ]
  },
  {
   "cell_type": "code",
   "execution_count": null,
   "metadata": {},
   "outputs": [],
   "source": [
    "f3(x)= eval(ex2)"
   ]
  },
  {
   "cell_type": "code",
   "execution_count": null,
   "metadata": {},
   "outputs": [],
   "source": []
  }
 ],
 "metadata": {
  "kernelspec": {
   "display_name": "Julia 0.6.4",
   "language": "julia",
   "name": "julia-0.6"
  },
  "language_info": {
   "file_extension": ".jl",
   "mimetype": "application/julia",
   "name": "julia",
   "version": "0.6.4"
  }
 },
 "nbformat": 4,
 "nbformat_minor": 1
}
