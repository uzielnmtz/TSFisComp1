{
 "cells": [
  {
   "cell_type": "markdown",
   "metadata": {},
   "source": [
    "# Tarea 3"
   ]
  },
  {
   "cell_type": "markdown",
   "metadata": {},
   "source": [
    "**Envío del PR inicial:** viernes 21 de septiembre\n",
    "\n",
    "**Aceptación del PR:** martes 25 de septiembre"
   ]
  },
  {
   "cell_type": "markdown",
   "metadata": {},
   "source": [
    "## 1\n",
    "\n",
    "Consideren el mapeo $F(x) = x^2-2$ definido en el intervalo $[-2,2]$. \n",
    "\n",
    "- ¿Qué podemos concluir después de muchos iterados para las condiciones iniciales $x_0=0$, $x_0=0.1$, $x_0=0.001$?\n",
    "    \n",
    "- ¿Qué propiedad hace que el interés en este mapeo sea el intervalo [-2,2]$\n"
   ]
  },
  {
   "cell_type": "code",
   "execution_count": 227,
   "metadata": {},
   "outputs": [
    {
     "name": "stderr",
     "output_type": "stream",
     "text": [
      "\u001b[1m\u001b[36mINFO: \u001b[39m\u001b[22m\u001b[36mPrecompiling module PyPlot.\n",
      "\u001b[39m\u001b[1m\u001b[36mInfo: \u001b[39m\u001b[22m\u001b[36mInstalling matplotlib via the Conda matplotlib package...\n",
      "\u001b[39m\u001b[1m\u001b[36mInfo: \u001b[39m\u001b[22m\u001b[36mRunning `conda install -y matplotlib` in root environment\n",
      "\u001b[39m"
     ]
    },
    {
     "name": "stdout",
     "output_type": "stream",
     "text": [
      "Solving environment: ...working... done\n",
      "\n",
      "## Package Plan ##\n",
      "\n",
      "  environment location: C:\\Users\\Pau Martin\\.julia\\v0.6\\Conda\\deps\\usr\n",
      "\n",
      "  added / updated specs: \n",
      "    - matplotlib\n",
      "\n",
      "\n",
      "The following packages will be downloaded:\n",
      "\n",
      "    package                    |            build\n",
      "    ---------------------------|-----------------\n",
      "    sip-4.19.8                 |   py36h6538335_0         282 KB\n",
      "    freetype-2.9.1             |       ha9979f8_1         470 KB\n",
      "    cycler-0.10.0              |   py36h009560c_0          13 KB\n",
      "    pyqt-5.9.2                 |   py36h6538335_2         4.2 MB\n",
      "    pytz-2018.5                |           py36_0         232 KB\n",
      "    kiwisolver-1.0.1           |   py36h6538335_0          61 KB\n",
      "    pyparsing-2.2.0            |           py36_1          96 KB\n",
      "    matplotlib-2.2.3           |   py36hd159220_0         6.5 MB\n",
      "    ------------------------------------------------------------\n",
      "                                           Total:        11.8 MB\n",
      "\n",
      "The following NEW packages will be INSTALLED:\n",
      "\n",
      "    cycler:     0.10.0-py36h009560c_0 \n",
      "    freetype:   2.9.1-ha9979f8_1      \n",
      "    kiwisolver: 1.0.1-py36h6538335_0  \n",
      "    matplotlib: 2.2.3-py36hd159220_0  \n",
      "    pyparsing:  2.2.0-py36_1          \n",
      "    pytz:       2018.5-py36_0         \n",
      "\n",
      "The following packages will be UPDATED:\n",
      "\n",
      "    pyqt:       5.9.2-py36ha878b3d_0   --> 5.9.2-py36h6538335_2 \n",
      "\n",
      "The following packages will be DOWNGRADED:\n",
      "\n",
      "    sip:        4.19.12-py36h6538335_0 --> 4.19.8-py36h6538335_0\n",
      "\n",
      "\n",
      "Downloading and Extracting Packages\n"
     ]
    },
    {
     "name": "stderr",
     "output_type": "stream",
     "text": [
      "sip-4.19.8           | 282 KB    | ########## | 100% \n",
      "freetype-2.9.1       | 470 KB    | ########## | 100% \n",
      "cycler-0.10.0        | 13 KB     | ########## | 100% \n",
      "pyqt-5.9.2           | 4.2 MB    | ########## | 100% \n",
      "pytz-2018.5          | 232 KB    | ########## | 100% \n",
      "kiwisolver-1.0.1     | 61 KB     | ########## | 100% \n",
      "pyparsing-2.2.0      | 96 KB     | ########## | 100% \n",
      "matplotlib-2.2.3     | 6.5 MB    | #########9 | 100% "
     ]
    },
    {
     "name": "stdout",
     "output_type": "stream",
     "text": [
      "Preparing transaction: ...working... "
     ]
    },
    {
     "name": "stderr",
     "output_type": "stream",
     "text": [
      "\r",
      "matplotlib-2.2.3     | 6.5 MB    | ########## | 100% \r\n"
     ]
    },
    {
     "name": "stdout",
     "output_type": "stream",
     "text": [
      "done\n",
      "Verifying transaction: ...working... done\n",
      "Executing transaction: ...working... done\n"
     ]
    },
    {
     "name": "stderr",
     "output_type": "stream",
     "text": [
      "WARNING: using PyPlot.plot in module Main conflicts with an existing identifier.\n",
      "WARNING: using PyPlot.scatter in module Main conflicts with an existing identifier.\n"
     ]
    },
    {
     "data": {
      "text/plain": [
       "Plots.PlotlyBackend()"
      ]
     },
     "execution_count": 227,
     "metadata": {},
     "output_type": "execute_result"
    },
    {
     "name": "stderr",
     "output_type": "stream",
     "text": [
      "WARNING: using PyPlot.bar in module Main conflicts with an existing identifier.\n",
      "WARNING: using PyPlot.arrow in module Main conflicts with an existing identifier.\n",
      "WARNING: using PyPlot.barh in module Main conflicts with an existing identifier.\n",
      "WARNING: using PyPlot.grid in module Main conflicts with an existing identifier.\n",
      "WARNING: using PyPlot.hexbin in module Main conflicts with an existing identifier.\n",
      "WARNING: using PyPlot.contourf in module Main conflicts with an existing identifier.\n",
      "WARNING: using PyPlot.pie in module Main conflicts with an existing identifier.\n",
      "WARNING: using PyPlot.boxplot in module Main conflicts with an existing identifier.\n",
      "WARNING: using PyPlot.contour in module Main conflicts with an existing identifier.\n",
      "WARNING: using PyPlot.spy in module Main conflicts with an existing identifier.\n",
      "WARNING: using PyPlot.gray in module Main conflicts with an existing identifier.\n",
      "WARNING: using PyPlot.twinx in module Main conflicts with an existing identifier.\n",
      "WARNING: using PyPlot.savefig in module Main conflicts with an existing identifier.\n",
      "WARNING: using PyPlot.text in module Main conflicts with an existing identifier.\n",
      "WARNING: using PyPlot.quiver in module Main conflicts with an existing identifier.\n"
     ]
    }
   ],
   "source": [
    "using Plots\n",
    "using PyPlot\n",
    "using PlotRecipes\n",
    "using LaTeXStrings\n",
    "gr()\n",
    "pyplot()\n",
    "plotly()"
   ]
  },
  {
   "cell_type": "code",
   "execution_count": 268,
   "metadata": {},
   "outputs": [
    {
     "data": {
      "text/plain": [
       "Fμ"
      ]
     },
     "execution_count": 268,
     "metadata": {},
     "output_type": "execute_result"
    }
   ],
   "source": [
    "doc\"\"\"\n",
    "    Fμ(f, x0, n_iter)\n",
    "Devuelve el vector `iterados` que incluye como componentes a la condicion inicial `x_0` y a los iterados obtenidos a partir de `x_0` evaluado en la función `F` \n",
    "\"\"\"\n",
    "function Fμ(f, x0, n_iter::Int64=1000)\n",
    "\n",
    "    iterados= [x0]    \n",
    "    x_nn = x_n = x0\n",
    "    \n",
    "    for i in 1:n_iter\n",
    "        x_nn = f(x_n)\n",
    "        x_n = x_nn\n",
    "        push!(iterados, x_nn)\n",
    "    end\n",
    "    \n",
    "    return iterados\n",
    "end"
   ]
  },
  {
   "cell_type": "code",
   "execution_count": 269,
   "metadata": {},
   "outputs": [
    {
     "data": {
      "text/plain": [
       "F (generic function with 1 method)"
      ]
     },
     "execution_count": 269,
     "metadata": {},
     "output_type": "execute_result"
    }
   ],
   "source": [
    "F(x) = x^2 - 2"
   ]
  },
  {
   "cell_type": "markdown",
   "metadata": {},
   "source": [
    "### (a) Condición inicial $x_0 = 0 $"
   ]
  },
  {
   "cell_type": "code",
   "execution_count": 270,
   "metadata": {},
   "outputs": [
    {
     "data": {
      "text/plain": [
       "10001-element Array{Int64,1}:\n",
       "  0\n",
       " -2\n",
       "  2\n",
       "  2\n",
       "  2\n",
       "  2\n",
       "  2\n",
       "  2\n",
       "  2\n",
       "  2\n",
       "  2\n",
       "  2\n",
       "  2\n",
       "  ⋮\n",
       "  2\n",
       "  2\n",
       "  2\n",
       "  2\n",
       "  2\n",
       "  2\n",
       "  2\n",
       "  2\n",
       "  2\n",
       "  2\n",
       "  2\n",
       "  2"
      ]
     },
     "execution_count": 270,
     "metadata": {},
     "output_type": "execute_result"
    }
   ],
   "source": [
    "Fμ(F, 0, 10000)"
   ]
  },
  {
   "cell_type": "markdown",
   "metadata": {},
   "source": [
    " Para la condición $x_0 = 0$ observamos que a partir de $F^2$, $F(x) = 2$, es decir, que desde $F^2(x)$ hasta $F^{100}(x)$, $F(x) = 2$. Dicho de otra manera, el unico itereado diferente de 2 es el primer iterado $F^1(x)$"
   ]
  },
  {
   "cell_type": "markdown",
   "metadata": {},
   "source": [
    "### (b) Condición inicial $x_0 = 0.1$"
   ]
  },
  {
   "cell_type": "code",
   "execution_count": 271,
   "metadata": {},
   "outputs": [
    {
     "data": {
      "text/plain": [
       "10001-element Array{Float64,1}:\n",
       "  0.1      \n",
       " -1.99     \n",
       "  1.9601   \n",
       "  1.84199  \n",
       "  1.39293  \n",
       " -0.0597333\n",
       " -1.99643  \n",
       "  1.98574  \n",
       "  1.94317  \n",
       "  1.77589  \n",
       "  1.15379  \n",
       " -0.668772 \n",
       " -1.55274  \n",
       "  ⋮        \n",
       " -0.18187  \n",
       " -1.96692  \n",
       "  1.86879  \n",
       "  1.49237  \n",
       "  0.227155 \n",
       " -1.9484   \n",
       "  1.79626  \n",
       "  1.22657  \n",
       " -0.495532 \n",
       " -1.75445  \n",
       "  1.07809  \n",
       " -0.837723 "
      ]
     },
     "execution_count": 271,
     "metadata": {},
     "output_type": "execute_result"
    }
   ],
   "source": [
    "Fμ(F, 0.1, 10000)"
   ]
  },
  {
   "cell_type": "markdown",
   "metadata": {},
   "source": [
    "### (c) Condición inicial $x_0 = 0.001$"
   ]
  },
  {
   "cell_type": "code",
   "execution_count": 272,
   "metadata": {},
   "outputs": [
    {
     "data": {
      "text/plain": [
       "10001-element Array{Float64,1}:\n",
       "  0.001   \n",
       " -2.0     \n",
       "  2.0     \n",
       "  1.99998 \n",
       "  1.99994 \n",
       "  1.99974 \n",
       "  1.99898 \n",
       "  1.99591 \n",
       "  1.98364 \n",
       "  1.93482 \n",
       "  1.74353 \n",
       "  1.03991 \n",
       " -0.918594\n",
       "  ⋮       \n",
       " -0.354982\n",
       " -1.87399 \n",
       "  1.51183 \n",
       "  0.28563 \n",
       " -1.91842 \n",
       "  1.68032 \n",
       "  0.823468\n",
       " -1.3219  \n",
       " -0.25258 \n",
       " -1.9362  \n",
       "  1.74888 \n",
       "  1.05859 "
      ]
     },
     "execution_count": 272,
     "metadata": {},
     "output_type": "execute_result"
    }
   ],
   "source": [
    "Fμ(F, 0.001, 10000)"
   ]
  },
  {
   "cell_type": "markdown",
   "metadata": {},
   "source": [
    "## 2\n",
    "\n",
    "Escriban una función cuyos argumentos son la función `F` del mapeo, `x0`, la condición inicial, y `n` el número de iterados del mapeo (un número entero), que genere los `n` iterados del mapeo y haga el análisis gráfico descrito del mapeo. Ilustren el funcionamiento con $F(x)=\\sqrt{x}$.\n",
    "\n",
    "¿Qué pueden concluir de iterar *muchas* veces una condición inicial?"
   ]
  },
  {
   "cell_type": "code",
   "execution_count": 104,
   "metadata": {},
   "outputs": [
    {
     "data": {
      "text/plain": [
       "Fμ"
      ]
     },
     "execution_count": 104,
     "metadata": {},
     "output_type": "execute_result"
    }
   ],
   "source": [
    "doc\"\"\"\n",
    "    mapeoitertivo(f, x0, n_iter)\n",
    "Devuelve la n-ésima iteración de la función `f` a partir de la condición inicial $x_0$.\n",
    "\n",
    "\"\"\"\n",
    "function mapeoiterativo(f, x0, n_iter::Int64=1000)\n",
    "    \n",
    "x_nn = x_n = x0\n",
    "iteraciones = []\n",
    "    \n",
    "    for i in 1:n_iter\n",
    "        x_nn = f(x_n)\n",
    "        x_n = x_nn\n",
    "    end\n",
    "\n",
    "\n",
    "grafica = plot(rangox, sqrt, \n",
    "    xaxis=(L\"x\", (0.0, 5.0), 0:5.0), \n",
    "    yaxis=((0.0, 3.0), L\"F(x)\"), \n",
    "    legend=false, title=L\"F(x)=\\sqrt{x}\", grid=false)\n",
    "plot!(rangox, x->x, color=:red) \n",
    "\n",
    "plot!([x0, x0, x1, x1, x2], [-0.5, x1, x1, x2, x2], \n",
    "line=(:green, :path, 2.0, :dot), marker=(:dot, 0.5))\n",
    "    \n",
    "    \n",
    "    \n",
    "    \n",
    "    \n",
    "    \n",
    "    return grafica\n",
    "end"
   ]
  },
  {
   "cell_type": "code",
   "execution_count": 135,
   "metadata": {},
   "outputs": [],
   "source": [
    "G(x) = sqrt(x)\n",
    "\n",
    "condiciones_iniciales = 0:0.1:10\n",
    "iterados4 = []\n",
    "for x0 in condiciones_iniciales\n",
    "    iterado = Fμ(G, x0, 100)\n",
    "    push!(iterados4, iterado)\n",
    "end"
   ]
  },
  {
   "cell_type": "code",
   "execution_count": 136,
   "metadata": {},
   "outputs": [
    {
     "data": {
      "text/plain": [
       "101-element Array{Any,1}:\n",
       " 0.0\n",
       " 1.0\n",
       " 1.0\n",
       " 1.0\n",
       " 1.0\n",
       " 1.0\n",
       " 1.0\n",
       " 1.0\n",
       " 1.0\n",
       " 1.0\n",
       " 1.0\n",
       " 1.0\n",
       " 1.0\n",
       " ⋮  \n",
       " 1.0\n",
       " 1.0\n",
       " 1.0\n",
       " 1.0\n",
       " 1.0\n",
       " 1.0\n",
       " 1.0\n",
       " 1.0\n",
       " 1.0\n",
       " 1.0\n",
       " 1.0\n",
       " 1.0"
      ]
     },
     "execution_count": 136,
     "metadata": {},
     "output_type": "execute_result"
    }
   ],
   "source": [
    "iterados4"
   ]
  },
  {
   "cell_type": "code",
   "execution_count": 143,
   "metadata": {},
   "outputs": [
    {
     "data": {
      "image/svg+xml": [
       "<?xml version=\"1.0\" encoding=\"utf-8\"?>\n",
       "<svg xmlns=\"http://www.w3.org/2000/svg\" xmlns:xlink=\"http://www.w3.org/1999/xlink\" width=\"600\" height=\"400\" viewBox=\"0 0 600 400\">\n",
       "<defs>\n",
       "  <clipPath id=\"clip8300\">\n",
       "    <rect x=\"0\" y=\"0\" width=\"600\" height=\"400\"/>\n",
       "  </clipPath>\n",
       "</defs>\n",
       "<polygon clip-path=\"url(#clip8300)\" points=\"\n",
       "0,400 600,400 600,0 0,0 \n",
       "  \" fill=\"#ffffff\" fill-opacity=\"1\"/>\n",
       "<defs>\n",
       "  <clipPath id=\"clip8301\">\n",
       "    <rect x=\"120\" y=\"0\" width=\"421\" height=\"400\"/>\n",
       "  </clipPath>\n",
       "</defs>\n",
       "<polygon clip-path=\"url(#clip8300)\" points=\"\n",
       "47.0391,360.121 580.315,360.121 580.315,11.811 47.0391,11.811 \n",
       "  \" fill=\"#ffffff\" fill-opacity=\"1\"/>\n",
       "<defs>\n",
       "  <clipPath id=\"clip8302\">\n",
       "    <rect x=\"47\" y=\"11\" width=\"534\" height=\"349\"/>\n",
       "  </clipPath>\n",
       "</defs>\n",
       "<polyline clip-path=\"url(#clip8302)\" style=\"stroke:#000000; stroke-width:0.5; stroke-opacity:0.1; fill:none\" points=\"\n",
       "  62.1318,360.121 62.1318,11.811 \n",
       "  \"/>\n",
       "<polyline clip-path=\"url(#clip8302)\" style=\"stroke:#000000; stroke-width:0.5; stroke-opacity:0.1; fill:none\" points=\"\n",
       "  187.904,360.121 187.904,11.811 \n",
       "  \"/>\n",
       "<polyline clip-path=\"url(#clip8302)\" style=\"stroke:#000000; stroke-width:0.5; stroke-opacity:0.1; fill:none\" points=\"\n",
       "  313.677,360.121 313.677,11.811 \n",
       "  \"/>\n",
       "<polyline clip-path=\"url(#clip8302)\" style=\"stroke:#000000; stroke-width:0.5; stroke-opacity:0.1; fill:none\" points=\"\n",
       "  439.45,360.121 439.45,11.811 \n",
       "  \"/>\n",
       "<polyline clip-path=\"url(#clip8302)\" style=\"stroke:#000000; stroke-width:0.5; stroke-opacity:0.1; fill:none\" points=\"\n",
       "  565.222,360.121 565.222,11.811 \n",
       "  \"/>\n",
       "<polyline clip-path=\"url(#clip8302)\" style=\"stroke:#000000; stroke-width:0.5; stroke-opacity:0.1; fill:none\" points=\"\n",
       "  47.0391,350.263 580.315,350.263 \n",
       "  \"/>\n",
       "<polyline clip-path=\"url(#clip8302)\" style=\"stroke:#000000; stroke-width:0.5; stroke-opacity:0.1; fill:none\" points=\"\n",
       "  47.0391,268.114 580.315,268.114 \n",
       "  \"/>\n",
       "<polyline clip-path=\"url(#clip8302)\" style=\"stroke:#000000; stroke-width:0.5; stroke-opacity:0.1; fill:none\" points=\"\n",
       "  47.0391,185.966 580.315,185.966 \n",
       "  \"/>\n",
       "<polyline clip-path=\"url(#clip8302)\" style=\"stroke:#000000; stroke-width:0.5; stroke-opacity:0.1; fill:none\" points=\"\n",
       "  47.0391,103.817 580.315,103.817 \n",
       "  \"/>\n",
       "<polyline clip-path=\"url(#clip8302)\" style=\"stroke:#000000; stroke-width:0.5; stroke-opacity:0.1; fill:none\" points=\"\n",
       "  47.0391,21.6688 580.315,21.6688 \n",
       "  \"/>\n",
       "<polyline clip-path=\"url(#clip8300)\" style=\"stroke:#000000; stroke-width:1; stroke-opacity:1; fill:none\" points=\"\n",
       "  47.0391,360.121 580.315,360.121 \n",
       "  \"/>\n",
       "<polyline clip-path=\"url(#clip8300)\" style=\"stroke:#000000; stroke-width:1; stroke-opacity:1; fill:none\" points=\"\n",
       "  47.0391,360.121 47.0391,11.811 \n",
       "  \"/>\n",
       "<polyline clip-path=\"url(#clip8300)\" style=\"stroke:#000000; stroke-width:1; stroke-opacity:1; fill:none\" points=\"\n",
       "  62.1318,360.121 62.1318,354.896 \n",
       "  \"/>\n",
       "<polyline clip-path=\"url(#clip8300)\" style=\"stroke:#000000; stroke-width:1; stroke-opacity:1; fill:none\" points=\"\n",
       "  187.904,360.121 187.904,354.896 \n",
       "  \"/>\n",
       "<polyline clip-path=\"url(#clip8300)\" style=\"stroke:#000000; stroke-width:1; stroke-opacity:1; fill:none\" points=\"\n",
       "  313.677,360.121 313.677,354.896 \n",
       "  \"/>\n",
       "<polyline clip-path=\"url(#clip8300)\" style=\"stroke:#000000; stroke-width:1; stroke-opacity:1; fill:none\" points=\"\n",
       "  439.45,360.121 439.45,354.896 \n",
       "  \"/>\n",
       "<polyline clip-path=\"url(#clip8300)\" style=\"stroke:#000000; stroke-width:1; stroke-opacity:1; fill:none\" points=\"\n",
       "  565.222,360.121 565.222,354.896 \n",
       "  \"/>\n",
       "<polyline clip-path=\"url(#clip8300)\" style=\"stroke:#000000; stroke-width:1; stroke-opacity:1; fill:none\" points=\"\n",
       "  47.0391,350.263 55.0382,350.263 \n",
       "  \"/>\n",
       "<polyline clip-path=\"url(#clip8300)\" style=\"stroke:#000000; stroke-width:1; stroke-opacity:1; fill:none\" points=\"\n",
       "  47.0391,268.114 55.0382,268.114 \n",
       "  \"/>\n",
       "<polyline clip-path=\"url(#clip8300)\" style=\"stroke:#000000; stroke-width:1; stroke-opacity:1; fill:none\" points=\"\n",
       "  47.0391,185.966 55.0382,185.966 \n",
       "  \"/>\n",
       "<polyline clip-path=\"url(#clip8300)\" style=\"stroke:#000000; stroke-width:1; stroke-opacity:1; fill:none\" points=\"\n",
       "  47.0391,103.817 55.0382,103.817 \n",
       "  \"/>\n",
       "<polyline clip-path=\"url(#clip8300)\" style=\"stroke:#000000; stroke-width:1; stroke-opacity:1; fill:none\" points=\"\n",
       "  47.0391,21.6688 55.0382,21.6688 \n",
       "  \"/>\n",
       "<g clip-path=\"url(#clip8300)\">\n",
       "<text style=\"fill:#000000; fill-opacity:1; font-family:Arial,Helvetica Neue,Helvetica,sans-serif; font-size:12; text-anchor:middle;\" transform=\"rotate(0, 62.1318, 373.921)\" x=\"62.1318\" y=\"373.921\">0.0</text>\n",
       "</g>\n",
       "<g clip-path=\"url(#clip8300)\">\n",
       "<text style=\"fill:#000000; fill-opacity:1; font-family:Arial,Helvetica Neue,Helvetica,sans-serif; font-size:12; text-anchor:middle;\" transform=\"rotate(0, 187.904, 373.921)\" x=\"187.904\" y=\"373.921\">2.5</text>\n",
       "</g>\n",
       "<g clip-path=\"url(#clip8300)\">\n",
       "<text style=\"fill:#000000; fill-opacity:1; font-family:Arial,Helvetica Neue,Helvetica,sans-serif; font-size:12; text-anchor:middle;\" transform=\"rotate(0, 313.677, 373.921)\" x=\"313.677\" y=\"373.921\">5.0</text>\n",
       "</g>\n",
       "<g clip-path=\"url(#clip8300)\">\n",
       "<text style=\"fill:#000000; fill-opacity:1; font-family:Arial,Helvetica Neue,Helvetica,sans-serif; font-size:12; text-anchor:middle;\" transform=\"rotate(0, 439.45, 373.921)\" x=\"439.45\" y=\"373.921\">7.5</text>\n",
       "</g>\n",
       "<g clip-path=\"url(#clip8300)\">\n",
       "<text style=\"fill:#000000; fill-opacity:1; font-family:Arial,Helvetica Neue,Helvetica,sans-serif; font-size:12; text-anchor:middle;\" transform=\"rotate(0, 565.222, 373.921)\" x=\"565.222\" y=\"373.921\">10.0</text>\n",
       "</g>\n",
       "<g clip-path=\"url(#clip8300)\">\n",
       "<text style=\"fill:#000000; fill-opacity:1; font-family:Arial,Helvetica Neue,Helvetica,sans-serif; font-size:12; text-anchor:end;\" transform=\"rotate(0, 41.0391, 354.763)\" x=\"41.0391\" y=\"354.763\">0.00</text>\n",
       "</g>\n",
       "<g clip-path=\"url(#clip8300)\">\n",
       "<text style=\"fill:#000000; fill-opacity:1; font-family:Arial,Helvetica Neue,Helvetica,sans-serif; font-size:12; text-anchor:end;\" transform=\"rotate(0, 41.0391, 272.614)\" x=\"41.0391\" y=\"272.614\">0.25</text>\n",
       "</g>\n",
       "<g clip-path=\"url(#clip8300)\">\n",
       "<text style=\"fill:#000000; fill-opacity:1; font-family:Arial,Helvetica Neue,Helvetica,sans-serif; font-size:12; text-anchor:end;\" transform=\"rotate(0, 41.0391, 190.466)\" x=\"41.0391\" y=\"190.466\">0.50</text>\n",
       "</g>\n",
       "<g clip-path=\"url(#clip8300)\">\n",
       "<text style=\"fill:#000000; fill-opacity:1; font-family:Arial,Helvetica Neue,Helvetica,sans-serif; font-size:12; text-anchor:end;\" transform=\"rotate(0, 41.0391, 108.317)\" x=\"41.0391\" y=\"108.317\">0.75</text>\n",
       "</g>\n",
       "<g clip-path=\"url(#clip8300)\">\n",
       "<text style=\"fill:#000000; fill-opacity:1; font-family:Arial,Helvetica Neue,Helvetica,sans-serif; font-size:12; text-anchor:end;\" transform=\"rotate(0, 41.0391, 26.1688)\" x=\"41.0391\" y=\"26.1688\">1.00</text>\n",
       "</g>\n",
       "<g clip-path=\"url(#clip8300)\">\n",
       "<text style=\"fill:#000000; fill-opacity:1; font-family:Arial,Helvetica Neue,Helvetica,sans-serif; font-size:16; text-anchor:middle;\" transform=\"rotate(0, 313.677, 397.6)\" x=\"313.677\" y=\"397.6\">Condición inicial</text>\n",
       "</g>\n",
       "<circle clip-path=\"url(#clip8302)\" style=\"fill:#000000; stroke:none; fill-opacity:1\" cx=\"62.1318\" cy=\"350.263\" r=\"4\"/>\n",
       "<circle clip-path=\"url(#clip8302)\" style=\"fill:#009af9; stroke:none; fill-opacity:1\" cx=\"62.1318\" cy=\"350.263\" r=\"3\"/>\n",
       "<circle clip-path=\"url(#clip8302)\" style=\"fill:#000000; stroke:none; fill-opacity:1\" cx=\"67.1627\" cy=\"21.6688\" r=\"4\"/>\n",
       "<circle clip-path=\"url(#clip8302)\" style=\"fill:#009af9; stroke:none; fill-opacity:1\" cx=\"67.1627\" cy=\"21.6688\" r=\"3\"/>\n",
       "<circle clip-path=\"url(#clip8302)\" style=\"fill:#000000; stroke:none; fill-opacity:1\" cx=\"72.1936\" cy=\"21.6688\" r=\"4\"/>\n",
       "<circle clip-path=\"url(#clip8302)\" style=\"fill:#009af9; stroke:none; fill-opacity:1\" cx=\"72.1936\" cy=\"21.6688\" r=\"3\"/>\n",
       "<circle clip-path=\"url(#clip8302)\" style=\"fill:#000000; stroke:none; fill-opacity:1\" cx=\"77.2245\" cy=\"21.6688\" r=\"4\"/>\n",
       "<circle clip-path=\"url(#clip8302)\" style=\"fill:#009af9; stroke:none; fill-opacity:1\" cx=\"77.2245\" cy=\"21.6688\" r=\"3\"/>\n",
       "<circle clip-path=\"url(#clip8302)\" style=\"fill:#000000; stroke:none; fill-opacity:1\" cx=\"82.2554\" cy=\"21.6688\" r=\"4\"/>\n",
       "<circle clip-path=\"url(#clip8302)\" style=\"fill:#009af9; stroke:none; fill-opacity:1\" cx=\"82.2554\" cy=\"21.6688\" r=\"3\"/>\n",
       "<circle clip-path=\"url(#clip8302)\" style=\"fill:#000000; stroke:none; fill-opacity:1\" cx=\"87.2863\" cy=\"21.6688\" r=\"4\"/>\n",
       "<circle clip-path=\"url(#clip8302)\" style=\"fill:#009af9; stroke:none; fill-opacity:1\" cx=\"87.2863\" cy=\"21.6688\" r=\"3\"/>\n",
       "<circle clip-path=\"url(#clip8302)\" style=\"fill:#000000; stroke:none; fill-opacity:1\" cx=\"92.3172\" cy=\"21.6688\" r=\"4\"/>\n",
       "<circle clip-path=\"url(#clip8302)\" style=\"fill:#009af9; stroke:none; fill-opacity:1\" cx=\"92.3172\" cy=\"21.6688\" r=\"3\"/>\n",
       "<circle clip-path=\"url(#clip8302)\" style=\"fill:#000000; stroke:none; fill-opacity:1\" cx=\"97.3481\" cy=\"21.6688\" r=\"4\"/>\n",
       "<circle clip-path=\"url(#clip8302)\" style=\"fill:#009af9; stroke:none; fill-opacity:1\" cx=\"97.3481\" cy=\"21.6688\" r=\"3\"/>\n",
       "<circle clip-path=\"url(#clip8302)\" style=\"fill:#000000; stroke:none; fill-opacity:1\" cx=\"102.379\" cy=\"21.6688\" r=\"4\"/>\n",
       "<circle clip-path=\"url(#clip8302)\" style=\"fill:#009af9; stroke:none; fill-opacity:1\" cx=\"102.379\" cy=\"21.6688\" r=\"3\"/>\n",
       "<circle clip-path=\"url(#clip8302)\" style=\"fill:#000000; stroke:none; fill-opacity:1\" cx=\"107.41\" cy=\"21.6688\" r=\"4\"/>\n",
       "<circle clip-path=\"url(#clip8302)\" style=\"fill:#009af9; stroke:none; fill-opacity:1\" cx=\"107.41\" cy=\"21.6688\" r=\"3\"/>\n",
       "<circle clip-path=\"url(#clip8302)\" style=\"fill:#000000; stroke:none; fill-opacity:1\" cx=\"112.441\" cy=\"21.6688\" r=\"4\"/>\n",
       "<circle clip-path=\"url(#clip8302)\" style=\"fill:#009af9; stroke:none; fill-opacity:1\" cx=\"112.441\" cy=\"21.6688\" r=\"3\"/>\n",
       "<circle clip-path=\"url(#clip8302)\" style=\"fill:#000000; stroke:none; fill-opacity:1\" cx=\"117.472\" cy=\"21.6688\" r=\"4\"/>\n",
       "<circle clip-path=\"url(#clip8302)\" style=\"fill:#009af9; stroke:none; fill-opacity:1\" cx=\"117.472\" cy=\"21.6688\" r=\"3\"/>\n",
       "<circle clip-path=\"url(#clip8302)\" style=\"fill:#000000; stroke:none; fill-opacity:1\" cx=\"122.503\" cy=\"21.6688\" r=\"4\"/>\n",
       "<circle clip-path=\"url(#clip8302)\" style=\"fill:#009af9; stroke:none; fill-opacity:1\" cx=\"122.503\" cy=\"21.6688\" r=\"3\"/>\n",
       "<circle clip-path=\"url(#clip8302)\" style=\"fill:#000000; stroke:none; fill-opacity:1\" cx=\"127.534\" cy=\"21.6688\" r=\"4\"/>\n",
       "<circle clip-path=\"url(#clip8302)\" style=\"fill:#009af9; stroke:none; fill-opacity:1\" cx=\"127.534\" cy=\"21.6688\" r=\"3\"/>\n",
       "<circle clip-path=\"url(#clip8302)\" style=\"fill:#000000; stroke:none; fill-opacity:1\" cx=\"132.564\" cy=\"21.6688\" r=\"4\"/>\n",
       "<circle clip-path=\"url(#clip8302)\" style=\"fill:#009af9; stroke:none; fill-opacity:1\" cx=\"132.564\" cy=\"21.6688\" r=\"3\"/>\n",
       "<circle clip-path=\"url(#clip8302)\" style=\"fill:#000000; stroke:none; fill-opacity:1\" cx=\"137.595\" cy=\"21.6688\" r=\"4\"/>\n",
       "<circle clip-path=\"url(#clip8302)\" style=\"fill:#009af9; stroke:none; fill-opacity:1\" cx=\"137.595\" cy=\"21.6688\" r=\"3\"/>\n",
       "<circle clip-path=\"url(#clip8302)\" style=\"fill:#000000; stroke:none; fill-opacity:1\" cx=\"142.626\" cy=\"21.6688\" r=\"4\"/>\n",
       "<circle clip-path=\"url(#clip8302)\" style=\"fill:#009af9; stroke:none; fill-opacity:1\" cx=\"142.626\" cy=\"21.6688\" r=\"3\"/>\n",
       "<circle clip-path=\"url(#clip8302)\" style=\"fill:#000000; stroke:none; fill-opacity:1\" cx=\"147.657\" cy=\"21.6688\" r=\"4\"/>\n",
       "<circle clip-path=\"url(#clip8302)\" style=\"fill:#009af9; stroke:none; fill-opacity:1\" cx=\"147.657\" cy=\"21.6688\" r=\"3\"/>\n",
       "<circle clip-path=\"url(#clip8302)\" style=\"fill:#000000; stroke:none; fill-opacity:1\" cx=\"152.688\" cy=\"21.6688\" r=\"4\"/>\n",
       "<circle clip-path=\"url(#clip8302)\" style=\"fill:#009af9; stroke:none; fill-opacity:1\" cx=\"152.688\" cy=\"21.6688\" r=\"3\"/>\n",
       "<circle clip-path=\"url(#clip8302)\" style=\"fill:#000000; stroke:none; fill-opacity:1\" cx=\"157.719\" cy=\"21.6688\" r=\"4\"/>\n",
       "<circle clip-path=\"url(#clip8302)\" style=\"fill:#009af9; stroke:none; fill-opacity:1\" cx=\"157.719\" cy=\"21.6688\" r=\"3\"/>\n",
       "<circle clip-path=\"url(#clip8302)\" style=\"fill:#000000; stroke:none; fill-opacity:1\" cx=\"162.75\" cy=\"21.6688\" r=\"4\"/>\n",
       "<circle clip-path=\"url(#clip8302)\" style=\"fill:#009af9; stroke:none; fill-opacity:1\" cx=\"162.75\" cy=\"21.6688\" r=\"3\"/>\n",
       "<circle clip-path=\"url(#clip8302)\" style=\"fill:#000000; stroke:none; fill-opacity:1\" cx=\"167.781\" cy=\"21.6688\" r=\"4\"/>\n",
       "<circle clip-path=\"url(#clip8302)\" style=\"fill:#009af9; stroke:none; fill-opacity:1\" cx=\"167.781\" cy=\"21.6688\" r=\"3\"/>\n",
       "<circle clip-path=\"url(#clip8302)\" style=\"fill:#000000; stroke:none; fill-opacity:1\" cx=\"172.812\" cy=\"21.6688\" r=\"4\"/>\n",
       "<circle clip-path=\"url(#clip8302)\" style=\"fill:#009af9; stroke:none; fill-opacity:1\" cx=\"172.812\" cy=\"21.6688\" r=\"3\"/>\n",
       "<circle clip-path=\"url(#clip8302)\" style=\"fill:#000000; stroke:none; fill-opacity:1\" cx=\"177.843\" cy=\"21.6688\" r=\"4\"/>\n",
       "<circle clip-path=\"url(#clip8302)\" style=\"fill:#009af9; stroke:none; fill-opacity:1\" cx=\"177.843\" cy=\"21.6688\" r=\"3\"/>\n",
       "<circle clip-path=\"url(#clip8302)\" style=\"fill:#000000; stroke:none; fill-opacity:1\" cx=\"182.874\" cy=\"21.6688\" r=\"4\"/>\n",
       "<circle clip-path=\"url(#clip8302)\" style=\"fill:#009af9; stroke:none; fill-opacity:1\" cx=\"182.874\" cy=\"21.6688\" r=\"3\"/>\n",
       "<circle clip-path=\"url(#clip8302)\" style=\"fill:#000000; stroke:none; fill-opacity:1\" cx=\"187.904\" cy=\"21.6688\" r=\"4\"/>\n",
       "<circle clip-path=\"url(#clip8302)\" style=\"fill:#009af9; stroke:none; fill-opacity:1\" cx=\"187.904\" cy=\"21.6688\" r=\"3\"/>\n",
       "<circle clip-path=\"url(#clip8302)\" style=\"fill:#000000; stroke:none; fill-opacity:1\" cx=\"192.935\" cy=\"21.6688\" r=\"4\"/>\n",
       "<circle clip-path=\"url(#clip8302)\" style=\"fill:#009af9; stroke:none; fill-opacity:1\" cx=\"192.935\" cy=\"21.6688\" r=\"3\"/>\n",
       "<circle clip-path=\"url(#clip8302)\" style=\"fill:#000000; stroke:none; fill-opacity:1\" cx=\"197.966\" cy=\"21.6688\" r=\"4\"/>\n",
       "<circle clip-path=\"url(#clip8302)\" style=\"fill:#009af9; stroke:none; fill-opacity:1\" cx=\"197.966\" cy=\"21.6688\" r=\"3\"/>\n",
       "<circle clip-path=\"url(#clip8302)\" style=\"fill:#000000; stroke:none; fill-opacity:1\" cx=\"202.997\" cy=\"21.6688\" r=\"4\"/>\n",
       "<circle clip-path=\"url(#clip8302)\" style=\"fill:#009af9; stroke:none; fill-opacity:1\" cx=\"202.997\" cy=\"21.6688\" r=\"3\"/>\n",
       "<circle clip-path=\"url(#clip8302)\" style=\"fill:#000000; stroke:none; fill-opacity:1\" cx=\"208.028\" cy=\"21.6688\" r=\"4\"/>\n",
       "<circle clip-path=\"url(#clip8302)\" style=\"fill:#009af9; stroke:none; fill-opacity:1\" cx=\"208.028\" cy=\"21.6688\" r=\"3\"/>\n",
       "<circle clip-path=\"url(#clip8302)\" style=\"fill:#000000; stroke:none; fill-opacity:1\" cx=\"213.059\" cy=\"21.6688\" r=\"4\"/>\n",
       "<circle clip-path=\"url(#clip8302)\" style=\"fill:#009af9; stroke:none; fill-opacity:1\" cx=\"213.059\" cy=\"21.6688\" r=\"3\"/>\n",
       "<circle clip-path=\"url(#clip8302)\" style=\"fill:#000000; stroke:none; fill-opacity:1\" cx=\"218.09\" cy=\"21.6688\" r=\"4\"/>\n",
       "<circle clip-path=\"url(#clip8302)\" style=\"fill:#009af9; stroke:none; fill-opacity:1\" cx=\"218.09\" cy=\"21.6688\" r=\"3\"/>\n",
       "<circle clip-path=\"url(#clip8302)\" style=\"fill:#000000; stroke:none; fill-opacity:1\" cx=\"223.121\" cy=\"21.6688\" r=\"4\"/>\n",
       "<circle clip-path=\"url(#clip8302)\" style=\"fill:#009af9; stroke:none; fill-opacity:1\" cx=\"223.121\" cy=\"21.6688\" r=\"3\"/>\n",
       "<circle clip-path=\"url(#clip8302)\" style=\"fill:#000000; stroke:none; fill-opacity:1\" cx=\"228.152\" cy=\"21.6688\" r=\"4\"/>\n",
       "<circle clip-path=\"url(#clip8302)\" style=\"fill:#009af9; stroke:none; fill-opacity:1\" cx=\"228.152\" cy=\"21.6688\" r=\"3\"/>\n",
       "<circle clip-path=\"url(#clip8302)\" style=\"fill:#000000; stroke:none; fill-opacity:1\" cx=\"233.183\" cy=\"21.6688\" r=\"4\"/>\n",
       "<circle clip-path=\"url(#clip8302)\" style=\"fill:#009af9; stroke:none; fill-opacity:1\" cx=\"233.183\" cy=\"21.6688\" r=\"3\"/>\n",
       "<circle clip-path=\"url(#clip8302)\" style=\"fill:#000000; stroke:none; fill-opacity:1\" cx=\"238.213\" cy=\"21.6688\" r=\"4\"/>\n",
       "<circle clip-path=\"url(#clip8302)\" style=\"fill:#009af9; stroke:none; fill-opacity:1\" cx=\"238.213\" cy=\"21.6688\" r=\"3\"/>\n",
       "<circle clip-path=\"url(#clip8302)\" style=\"fill:#000000; stroke:none; fill-opacity:1\" cx=\"243.244\" cy=\"21.6688\" r=\"4\"/>\n",
       "<circle clip-path=\"url(#clip8302)\" style=\"fill:#009af9; stroke:none; fill-opacity:1\" cx=\"243.244\" cy=\"21.6688\" r=\"3\"/>\n",
       "<circle clip-path=\"url(#clip8302)\" style=\"fill:#000000; stroke:none; fill-opacity:1\" cx=\"248.275\" cy=\"21.6688\" r=\"4\"/>\n",
       "<circle clip-path=\"url(#clip8302)\" style=\"fill:#009af9; stroke:none; fill-opacity:1\" cx=\"248.275\" cy=\"21.6688\" r=\"3\"/>\n",
       "<circle clip-path=\"url(#clip8302)\" style=\"fill:#000000; stroke:none; fill-opacity:1\" cx=\"253.306\" cy=\"21.6688\" r=\"4\"/>\n",
       "<circle clip-path=\"url(#clip8302)\" style=\"fill:#009af9; stroke:none; fill-opacity:1\" cx=\"253.306\" cy=\"21.6688\" r=\"3\"/>\n",
       "<circle clip-path=\"url(#clip8302)\" style=\"fill:#000000; stroke:none; fill-opacity:1\" cx=\"258.337\" cy=\"21.6688\" r=\"4\"/>\n",
       "<circle clip-path=\"url(#clip8302)\" style=\"fill:#009af9; stroke:none; fill-opacity:1\" cx=\"258.337\" cy=\"21.6688\" r=\"3\"/>\n",
       "<circle clip-path=\"url(#clip8302)\" style=\"fill:#000000; stroke:none; fill-opacity:1\" cx=\"263.368\" cy=\"21.6688\" r=\"4\"/>\n",
       "<circle clip-path=\"url(#clip8302)\" style=\"fill:#009af9; stroke:none; fill-opacity:1\" cx=\"263.368\" cy=\"21.6688\" r=\"3\"/>\n",
       "<circle clip-path=\"url(#clip8302)\" style=\"fill:#000000; stroke:none; fill-opacity:1\" cx=\"268.399\" cy=\"21.6688\" r=\"4\"/>\n",
       "<circle clip-path=\"url(#clip8302)\" style=\"fill:#009af9; stroke:none; fill-opacity:1\" cx=\"268.399\" cy=\"21.6688\" r=\"3\"/>\n",
       "<circle clip-path=\"url(#clip8302)\" style=\"fill:#000000; stroke:none; fill-opacity:1\" cx=\"273.43\" cy=\"21.6688\" r=\"4\"/>\n",
       "<circle clip-path=\"url(#clip8302)\" style=\"fill:#009af9; stroke:none; fill-opacity:1\" cx=\"273.43\" cy=\"21.6688\" r=\"3\"/>\n",
       "<circle clip-path=\"url(#clip8302)\" style=\"fill:#000000; stroke:none; fill-opacity:1\" cx=\"278.461\" cy=\"21.6688\" r=\"4\"/>\n",
       "<circle clip-path=\"url(#clip8302)\" style=\"fill:#009af9; stroke:none; fill-opacity:1\" cx=\"278.461\" cy=\"21.6688\" r=\"3\"/>\n",
       "<circle clip-path=\"url(#clip8302)\" style=\"fill:#000000; stroke:none; fill-opacity:1\" cx=\"283.492\" cy=\"21.6688\" r=\"4\"/>\n",
       "<circle clip-path=\"url(#clip8302)\" style=\"fill:#009af9; stroke:none; fill-opacity:1\" cx=\"283.492\" cy=\"21.6688\" r=\"3\"/>\n",
       "<circle clip-path=\"url(#clip8302)\" style=\"fill:#000000; stroke:none; fill-opacity:1\" cx=\"288.523\" cy=\"21.6688\" r=\"4\"/>\n",
       "<circle clip-path=\"url(#clip8302)\" style=\"fill:#009af9; stroke:none; fill-opacity:1\" cx=\"288.523\" cy=\"21.6688\" r=\"3\"/>\n",
       "<circle clip-path=\"url(#clip8302)\" style=\"fill:#000000; stroke:none; fill-opacity:1\" cx=\"293.553\" cy=\"21.6688\" r=\"4\"/>\n",
       "<circle clip-path=\"url(#clip8302)\" style=\"fill:#009af9; stroke:none; fill-opacity:1\" cx=\"293.553\" cy=\"21.6688\" r=\"3\"/>\n",
       "<circle clip-path=\"url(#clip8302)\" style=\"fill:#000000; stroke:none; fill-opacity:1\" cx=\"298.584\" cy=\"21.6688\" r=\"4\"/>\n",
       "<circle clip-path=\"url(#clip8302)\" style=\"fill:#009af9; stroke:none; fill-opacity:1\" cx=\"298.584\" cy=\"21.6688\" r=\"3\"/>\n",
       "<circle clip-path=\"url(#clip8302)\" style=\"fill:#000000; stroke:none; fill-opacity:1\" cx=\"303.615\" cy=\"21.6688\" r=\"4\"/>\n",
       "<circle clip-path=\"url(#clip8302)\" style=\"fill:#009af9; stroke:none; fill-opacity:1\" cx=\"303.615\" cy=\"21.6688\" r=\"3\"/>\n",
       "<circle clip-path=\"url(#clip8302)\" style=\"fill:#000000; stroke:none; fill-opacity:1\" cx=\"308.646\" cy=\"21.6688\" r=\"4\"/>\n",
       "<circle clip-path=\"url(#clip8302)\" style=\"fill:#009af9; stroke:none; fill-opacity:1\" cx=\"308.646\" cy=\"21.6688\" r=\"3\"/>\n",
       "<circle clip-path=\"url(#clip8302)\" style=\"fill:#000000; stroke:none; fill-opacity:1\" cx=\"313.677\" cy=\"21.6688\" r=\"4\"/>\n",
       "<circle clip-path=\"url(#clip8302)\" style=\"fill:#009af9; stroke:none; fill-opacity:1\" cx=\"313.677\" cy=\"21.6688\" r=\"3\"/>\n",
       "<circle clip-path=\"url(#clip8302)\" style=\"fill:#000000; stroke:none; fill-opacity:1\" cx=\"318.708\" cy=\"21.6688\" r=\"4\"/>\n",
       "<circle clip-path=\"url(#clip8302)\" style=\"fill:#009af9; stroke:none; fill-opacity:1\" cx=\"318.708\" cy=\"21.6688\" r=\"3\"/>\n",
       "<circle clip-path=\"url(#clip8302)\" style=\"fill:#000000; stroke:none; fill-opacity:1\" cx=\"323.739\" cy=\"21.6688\" r=\"4\"/>\n",
       "<circle clip-path=\"url(#clip8302)\" style=\"fill:#009af9; stroke:none; fill-opacity:1\" cx=\"323.739\" cy=\"21.6688\" r=\"3\"/>\n",
       "<circle clip-path=\"url(#clip8302)\" style=\"fill:#000000; stroke:none; fill-opacity:1\" cx=\"328.77\" cy=\"21.6688\" r=\"4\"/>\n",
       "<circle clip-path=\"url(#clip8302)\" style=\"fill:#009af9; stroke:none; fill-opacity:1\" cx=\"328.77\" cy=\"21.6688\" r=\"3\"/>\n",
       "<circle clip-path=\"url(#clip8302)\" style=\"fill:#000000; stroke:none; fill-opacity:1\" cx=\"333.801\" cy=\"21.6688\" r=\"4\"/>\n",
       "<circle clip-path=\"url(#clip8302)\" style=\"fill:#009af9; stroke:none; fill-opacity:1\" cx=\"333.801\" cy=\"21.6688\" r=\"3\"/>\n",
       "<circle clip-path=\"url(#clip8302)\" style=\"fill:#000000; stroke:none; fill-opacity:1\" cx=\"338.832\" cy=\"21.6688\" r=\"4\"/>\n",
       "<circle clip-path=\"url(#clip8302)\" style=\"fill:#009af9; stroke:none; fill-opacity:1\" cx=\"338.832\" cy=\"21.6688\" r=\"3\"/>\n",
       "<circle clip-path=\"url(#clip8302)\" style=\"fill:#000000; stroke:none; fill-opacity:1\" cx=\"343.862\" cy=\"21.6688\" r=\"4\"/>\n",
       "<circle clip-path=\"url(#clip8302)\" style=\"fill:#009af9; stroke:none; fill-opacity:1\" cx=\"343.862\" cy=\"21.6688\" r=\"3\"/>\n",
       "<circle clip-path=\"url(#clip8302)\" style=\"fill:#000000; stroke:none; fill-opacity:1\" cx=\"348.893\" cy=\"21.6688\" r=\"4\"/>\n",
       "<circle clip-path=\"url(#clip8302)\" style=\"fill:#009af9; stroke:none; fill-opacity:1\" cx=\"348.893\" cy=\"21.6688\" r=\"3\"/>\n",
       "<circle clip-path=\"url(#clip8302)\" style=\"fill:#000000; stroke:none; fill-opacity:1\" cx=\"353.924\" cy=\"21.6688\" r=\"4\"/>\n",
       "<circle clip-path=\"url(#clip8302)\" style=\"fill:#009af9; stroke:none; fill-opacity:1\" cx=\"353.924\" cy=\"21.6688\" r=\"3\"/>\n",
       "<circle clip-path=\"url(#clip8302)\" style=\"fill:#000000; stroke:none; fill-opacity:1\" cx=\"358.955\" cy=\"21.6688\" r=\"4\"/>\n",
       "<circle clip-path=\"url(#clip8302)\" style=\"fill:#009af9; stroke:none; fill-opacity:1\" cx=\"358.955\" cy=\"21.6688\" r=\"3\"/>\n",
       "<circle clip-path=\"url(#clip8302)\" style=\"fill:#000000; stroke:none; fill-opacity:1\" cx=\"363.986\" cy=\"21.6688\" r=\"4\"/>\n",
       "<circle clip-path=\"url(#clip8302)\" style=\"fill:#009af9; stroke:none; fill-opacity:1\" cx=\"363.986\" cy=\"21.6688\" r=\"3\"/>\n",
       "<circle clip-path=\"url(#clip8302)\" style=\"fill:#000000; stroke:none; fill-opacity:1\" cx=\"369.017\" cy=\"21.6688\" r=\"4\"/>\n",
       "<circle clip-path=\"url(#clip8302)\" style=\"fill:#009af9; stroke:none; fill-opacity:1\" cx=\"369.017\" cy=\"21.6688\" r=\"3\"/>\n",
       "<circle clip-path=\"url(#clip8302)\" style=\"fill:#000000; stroke:none; fill-opacity:1\" cx=\"374.048\" cy=\"21.6688\" r=\"4\"/>\n",
       "<circle clip-path=\"url(#clip8302)\" style=\"fill:#009af9; stroke:none; fill-opacity:1\" cx=\"374.048\" cy=\"21.6688\" r=\"3\"/>\n",
       "<circle clip-path=\"url(#clip8302)\" style=\"fill:#000000; stroke:none; fill-opacity:1\" cx=\"379.079\" cy=\"21.6688\" r=\"4\"/>\n",
       "<circle clip-path=\"url(#clip8302)\" style=\"fill:#009af9; stroke:none; fill-opacity:1\" cx=\"379.079\" cy=\"21.6688\" r=\"3\"/>\n",
       "<circle clip-path=\"url(#clip8302)\" style=\"fill:#000000; stroke:none; fill-opacity:1\" cx=\"384.11\" cy=\"21.6688\" r=\"4\"/>\n",
       "<circle clip-path=\"url(#clip8302)\" style=\"fill:#009af9; stroke:none; fill-opacity:1\" cx=\"384.11\" cy=\"21.6688\" r=\"3\"/>\n",
       "<circle clip-path=\"url(#clip8302)\" style=\"fill:#000000; stroke:none; fill-opacity:1\" cx=\"389.141\" cy=\"21.6688\" r=\"4\"/>\n",
       "<circle clip-path=\"url(#clip8302)\" style=\"fill:#009af9; stroke:none; fill-opacity:1\" cx=\"389.141\" cy=\"21.6688\" r=\"3\"/>\n",
       "<circle clip-path=\"url(#clip8302)\" style=\"fill:#000000; stroke:none; fill-opacity:1\" cx=\"394.171\" cy=\"21.6688\" r=\"4\"/>\n",
       "<circle clip-path=\"url(#clip8302)\" style=\"fill:#009af9; stroke:none; fill-opacity:1\" cx=\"394.171\" cy=\"21.6688\" r=\"3\"/>\n",
       "<circle clip-path=\"url(#clip8302)\" style=\"fill:#000000; stroke:none; fill-opacity:1\" cx=\"399.202\" cy=\"21.6688\" r=\"4\"/>\n",
       "<circle clip-path=\"url(#clip8302)\" style=\"fill:#009af9; stroke:none; fill-opacity:1\" cx=\"399.202\" cy=\"21.6688\" r=\"3\"/>\n",
       "<circle clip-path=\"url(#clip8302)\" style=\"fill:#000000; stroke:none; fill-opacity:1\" cx=\"404.233\" cy=\"21.6688\" r=\"4\"/>\n",
       "<circle clip-path=\"url(#clip8302)\" style=\"fill:#009af9; stroke:none; fill-opacity:1\" cx=\"404.233\" cy=\"21.6688\" r=\"3\"/>\n",
       "<circle clip-path=\"url(#clip8302)\" style=\"fill:#000000; stroke:none; fill-opacity:1\" cx=\"409.264\" cy=\"21.6688\" r=\"4\"/>\n",
       "<circle clip-path=\"url(#clip8302)\" style=\"fill:#009af9; stroke:none; fill-opacity:1\" cx=\"409.264\" cy=\"21.6688\" r=\"3\"/>\n",
       "<circle clip-path=\"url(#clip8302)\" style=\"fill:#000000; stroke:none; fill-opacity:1\" cx=\"414.295\" cy=\"21.6688\" r=\"4\"/>\n",
       "<circle clip-path=\"url(#clip8302)\" style=\"fill:#009af9; stroke:none; fill-opacity:1\" cx=\"414.295\" cy=\"21.6688\" r=\"3\"/>\n",
       "<circle clip-path=\"url(#clip8302)\" style=\"fill:#000000; stroke:none; fill-opacity:1\" cx=\"419.326\" cy=\"21.6688\" r=\"4\"/>\n",
       "<circle clip-path=\"url(#clip8302)\" style=\"fill:#009af9; stroke:none; fill-opacity:1\" cx=\"419.326\" cy=\"21.6688\" r=\"3\"/>\n",
       "<circle clip-path=\"url(#clip8302)\" style=\"fill:#000000; stroke:none; fill-opacity:1\" cx=\"424.357\" cy=\"21.6688\" r=\"4\"/>\n",
       "<circle clip-path=\"url(#clip8302)\" style=\"fill:#009af9; stroke:none; fill-opacity:1\" cx=\"424.357\" cy=\"21.6688\" r=\"3\"/>\n",
       "<circle clip-path=\"url(#clip8302)\" style=\"fill:#000000; stroke:none; fill-opacity:1\" cx=\"429.388\" cy=\"21.6688\" r=\"4\"/>\n",
       "<circle clip-path=\"url(#clip8302)\" style=\"fill:#009af9; stroke:none; fill-opacity:1\" cx=\"429.388\" cy=\"21.6688\" r=\"3\"/>\n",
       "<circle clip-path=\"url(#clip8302)\" style=\"fill:#000000; stroke:none; fill-opacity:1\" cx=\"434.419\" cy=\"21.6688\" r=\"4\"/>\n",
       "<circle clip-path=\"url(#clip8302)\" style=\"fill:#009af9; stroke:none; fill-opacity:1\" cx=\"434.419\" cy=\"21.6688\" r=\"3\"/>\n",
       "<circle clip-path=\"url(#clip8302)\" style=\"fill:#000000; stroke:none; fill-opacity:1\" cx=\"439.45\" cy=\"21.6688\" r=\"4\"/>\n",
       "<circle clip-path=\"url(#clip8302)\" style=\"fill:#009af9; stroke:none; fill-opacity:1\" cx=\"439.45\" cy=\"21.6688\" r=\"3\"/>\n",
       "<circle clip-path=\"url(#clip8302)\" style=\"fill:#000000; stroke:none; fill-opacity:1\" cx=\"444.481\" cy=\"21.6688\" r=\"4\"/>\n",
       "<circle clip-path=\"url(#clip8302)\" style=\"fill:#009af9; stroke:none; fill-opacity:1\" cx=\"444.481\" cy=\"21.6688\" r=\"3\"/>\n",
       "<circle clip-path=\"url(#clip8302)\" style=\"fill:#000000; stroke:none; fill-opacity:1\" cx=\"449.511\" cy=\"21.6688\" r=\"4\"/>\n",
       "<circle clip-path=\"url(#clip8302)\" style=\"fill:#009af9; stroke:none; fill-opacity:1\" cx=\"449.511\" cy=\"21.6688\" r=\"3\"/>\n",
       "<circle clip-path=\"url(#clip8302)\" style=\"fill:#000000; stroke:none; fill-opacity:1\" cx=\"454.542\" cy=\"21.6688\" r=\"4\"/>\n",
       "<circle clip-path=\"url(#clip8302)\" style=\"fill:#009af9; stroke:none; fill-opacity:1\" cx=\"454.542\" cy=\"21.6688\" r=\"3\"/>\n",
       "<circle clip-path=\"url(#clip8302)\" style=\"fill:#000000; stroke:none; fill-opacity:1\" cx=\"459.573\" cy=\"21.6688\" r=\"4\"/>\n",
       "<circle clip-path=\"url(#clip8302)\" style=\"fill:#009af9; stroke:none; fill-opacity:1\" cx=\"459.573\" cy=\"21.6688\" r=\"3\"/>\n",
       "<circle clip-path=\"url(#clip8302)\" style=\"fill:#000000; stroke:none; fill-opacity:1\" cx=\"464.604\" cy=\"21.6688\" r=\"4\"/>\n",
       "<circle clip-path=\"url(#clip8302)\" style=\"fill:#009af9; stroke:none; fill-opacity:1\" cx=\"464.604\" cy=\"21.6688\" r=\"3\"/>\n",
       "<circle clip-path=\"url(#clip8302)\" style=\"fill:#000000; stroke:none; fill-opacity:1\" cx=\"469.635\" cy=\"21.6688\" r=\"4\"/>\n",
       "<circle clip-path=\"url(#clip8302)\" style=\"fill:#009af9; stroke:none; fill-opacity:1\" cx=\"469.635\" cy=\"21.6688\" r=\"3\"/>\n",
       "<circle clip-path=\"url(#clip8302)\" style=\"fill:#000000; stroke:none; fill-opacity:1\" cx=\"474.666\" cy=\"21.6688\" r=\"4\"/>\n",
       "<circle clip-path=\"url(#clip8302)\" style=\"fill:#009af9; stroke:none; fill-opacity:1\" cx=\"474.666\" cy=\"21.6688\" r=\"3\"/>\n",
       "<circle clip-path=\"url(#clip8302)\" style=\"fill:#000000; stroke:none; fill-opacity:1\" cx=\"479.697\" cy=\"21.6688\" r=\"4\"/>\n",
       "<circle clip-path=\"url(#clip8302)\" style=\"fill:#009af9; stroke:none; fill-opacity:1\" cx=\"479.697\" cy=\"21.6688\" r=\"3\"/>\n",
       "<circle clip-path=\"url(#clip8302)\" style=\"fill:#000000; stroke:none; fill-opacity:1\" cx=\"484.728\" cy=\"21.6688\" r=\"4\"/>\n",
       "<circle clip-path=\"url(#clip8302)\" style=\"fill:#009af9; stroke:none; fill-opacity:1\" cx=\"484.728\" cy=\"21.6688\" r=\"3\"/>\n",
       "<circle clip-path=\"url(#clip8302)\" style=\"fill:#000000; stroke:none; fill-opacity:1\" cx=\"489.759\" cy=\"21.6688\" r=\"4\"/>\n",
       "<circle clip-path=\"url(#clip8302)\" style=\"fill:#009af9; stroke:none; fill-opacity:1\" cx=\"489.759\" cy=\"21.6688\" r=\"3\"/>\n",
       "<circle clip-path=\"url(#clip8302)\" style=\"fill:#000000; stroke:none; fill-opacity:1\" cx=\"494.79\" cy=\"21.6688\" r=\"4\"/>\n",
       "<circle clip-path=\"url(#clip8302)\" style=\"fill:#009af9; stroke:none; fill-opacity:1\" cx=\"494.79\" cy=\"21.6688\" r=\"3\"/>\n",
       "<circle clip-path=\"url(#clip8302)\" style=\"fill:#000000; stroke:none; fill-opacity:1\" cx=\"499.82\" cy=\"21.6688\" r=\"4\"/>\n",
       "<circle clip-path=\"url(#clip8302)\" style=\"fill:#009af9; stroke:none; fill-opacity:1\" cx=\"499.82\" cy=\"21.6688\" r=\"3\"/>\n",
       "<circle clip-path=\"url(#clip8302)\" style=\"fill:#000000; stroke:none; fill-opacity:1\" cx=\"504.851\" cy=\"21.6688\" r=\"4\"/>\n",
       "<circle clip-path=\"url(#clip8302)\" style=\"fill:#009af9; stroke:none; fill-opacity:1\" cx=\"504.851\" cy=\"21.6688\" r=\"3\"/>\n",
       "<circle clip-path=\"url(#clip8302)\" style=\"fill:#000000; stroke:none; fill-opacity:1\" cx=\"509.882\" cy=\"21.6688\" r=\"4\"/>\n",
       "<circle clip-path=\"url(#clip8302)\" style=\"fill:#009af9; stroke:none; fill-opacity:1\" cx=\"509.882\" cy=\"21.6688\" r=\"3\"/>\n",
       "<circle clip-path=\"url(#clip8302)\" style=\"fill:#000000; stroke:none; fill-opacity:1\" cx=\"514.913\" cy=\"21.6688\" r=\"4\"/>\n",
       "<circle clip-path=\"url(#clip8302)\" style=\"fill:#009af9; stroke:none; fill-opacity:1\" cx=\"514.913\" cy=\"21.6688\" r=\"3\"/>\n",
       "<circle clip-path=\"url(#clip8302)\" style=\"fill:#000000; stroke:none; fill-opacity:1\" cx=\"519.944\" cy=\"21.6688\" r=\"4\"/>\n",
       "<circle clip-path=\"url(#clip8302)\" style=\"fill:#009af9; stroke:none; fill-opacity:1\" cx=\"519.944\" cy=\"21.6688\" r=\"3\"/>\n",
       "<circle clip-path=\"url(#clip8302)\" style=\"fill:#000000; stroke:none; fill-opacity:1\" cx=\"524.975\" cy=\"21.6688\" r=\"4\"/>\n",
       "<circle clip-path=\"url(#clip8302)\" style=\"fill:#009af9; stroke:none; fill-opacity:1\" cx=\"524.975\" cy=\"21.6688\" r=\"3\"/>\n",
       "<circle clip-path=\"url(#clip8302)\" style=\"fill:#000000; stroke:none; fill-opacity:1\" cx=\"530.006\" cy=\"21.6688\" r=\"4\"/>\n",
       "<circle clip-path=\"url(#clip8302)\" style=\"fill:#009af9; stroke:none; fill-opacity:1\" cx=\"530.006\" cy=\"21.6688\" r=\"3\"/>\n",
       "<circle clip-path=\"url(#clip8302)\" style=\"fill:#000000; stroke:none; fill-opacity:1\" cx=\"535.037\" cy=\"21.6688\" r=\"4\"/>\n",
       "<circle clip-path=\"url(#clip8302)\" style=\"fill:#009af9; stroke:none; fill-opacity:1\" cx=\"535.037\" cy=\"21.6688\" r=\"3\"/>\n",
       "<circle clip-path=\"url(#clip8302)\" style=\"fill:#000000; stroke:none; fill-opacity:1\" cx=\"540.068\" cy=\"21.6688\" r=\"4\"/>\n",
       "<circle clip-path=\"url(#clip8302)\" style=\"fill:#009af9; stroke:none; fill-opacity:1\" cx=\"540.068\" cy=\"21.6688\" r=\"3\"/>\n",
       "<circle clip-path=\"url(#clip8302)\" style=\"fill:#000000; stroke:none; fill-opacity:1\" cx=\"545.099\" cy=\"21.6688\" r=\"4\"/>\n",
       "<circle clip-path=\"url(#clip8302)\" style=\"fill:#009af9; stroke:none; fill-opacity:1\" cx=\"545.099\" cy=\"21.6688\" r=\"3\"/>\n",
       "<circle clip-path=\"url(#clip8302)\" style=\"fill:#000000; stroke:none; fill-opacity:1\" cx=\"550.13\" cy=\"21.6688\" r=\"4\"/>\n",
       "<circle clip-path=\"url(#clip8302)\" style=\"fill:#009af9; stroke:none; fill-opacity:1\" cx=\"550.13\" cy=\"21.6688\" r=\"3\"/>\n",
       "<circle clip-path=\"url(#clip8302)\" style=\"fill:#000000; stroke:none; fill-opacity:1\" cx=\"555.16\" cy=\"21.6688\" r=\"4\"/>\n",
       "<circle clip-path=\"url(#clip8302)\" style=\"fill:#009af9; stroke:none; fill-opacity:1\" cx=\"555.16\" cy=\"21.6688\" r=\"3\"/>\n",
       "<circle clip-path=\"url(#clip8302)\" style=\"fill:#000000; stroke:none; fill-opacity:1\" cx=\"560.191\" cy=\"21.6688\" r=\"4\"/>\n",
       "<circle clip-path=\"url(#clip8302)\" style=\"fill:#009af9; stroke:none; fill-opacity:1\" cx=\"560.191\" cy=\"21.6688\" r=\"3\"/>\n",
       "<circle clip-path=\"url(#clip8302)\" style=\"fill:#000000; stroke:none; fill-opacity:1\" cx=\"565.222\" cy=\"21.6688\" r=\"4\"/>\n",
       "<circle clip-path=\"url(#clip8302)\" style=\"fill:#009af9; stroke:none; fill-opacity:1\" cx=\"565.222\" cy=\"21.6688\" r=\"3\"/>\n",
       "<polygon clip-path=\"url(#clip8300)\" points=\"\n",
       "439.789,62.931 562.315,62.931 562.315,32.691 439.789,32.691 \n",
       "  \" fill=\"#ffffff\" fill-opacity=\"1\"/>\n",
       "<polyline clip-path=\"url(#clip8300)\" style=\"stroke:#000000; stroke-width:1; stroke-opacity:1; fill:none\" points=\"\n",
       "  439.789,62.931 562.315,62.931 562.315,32.691 439.789,32.691 439.789,62.931 \n",
       "  \"/>\n",
       "<circle clip-path=\"url(#clip8300)\" style=\"fill:#000000; stroke:none; fill-opacity:1\" cx=\"466.789\" cy=\"47.811\" r=\"6\"/>\n",
       "<circle clip-path=\"url(#clip8300)\" style=\"fill:#009af9; stroke:none; fill-opacity:1\" cx=\"466.789\" cy=\"47.811\" r=\"5\"/>\n",
       "<g clip-path=\"url(#clip8300)\">\n",
       "<text style=\"fill:#000000; fill-opacity:1; font-family:Arial,Helvetica Neue,Helvetica,sans-serif; font-size:12; text-anchor:start;\" transform=\"rotate(0, 487.789, 52.311)\" x=\"487.789\" y=\"52.311\">F(x)=sqrt{x}</text>\n",
       "</g>\n",
       "</svg>\n"
      ]
     },
     "execution_count": 143,
     "metadata": {},
     "output_type": "execute_result"
    }
   ],
   "source": [
    "scatter(condiciones_iniciales, iterados4, label=\"F(x)=\\sqrt{x}\", xlabel=\"Condición inicial\")"
   ]
  },
  {
   "cell_type": "markdown",
   "metadata": {},
   "source": [
    "Para analizar lo que ocurre "
   ]
  },
  {
   "cell_type": "markdown",
   "metadata": {},
   "source": [
    "## 3\n",
    "\n",
    "- Usen el análisis gráfico para encontrar los puntos de periodo dos del mapeo $F(x) = x^2 -1.1$. Den explícitamente los puntos fijos.\n",
    "    \n",
    "- Usen el método de Newton, usando iterados iniciales  sagazmente seleccionados, para obtener los puntos fijos."
   ]
  },
  {
   "cell_type": "code",
   "execution_count": null,
   "metadata": {},
   "outputs": [],
   "source": []
  },
  {
   "cell_type": "markdown",
   "metadata": {},
   "source": [
    "## 4\n",
    "\n",
    "Hagan un análisis completo de las posibles órbitas de los siguientes mapeos, usando distintos colores para distintas órbitas. Interesa entre otras cosas saber cuántos puntos fijos tiene y cómo es la dinámica cerca de ésos puntos.\n",
    "\n",
    "- $F_1(x) = \\frac{1}{3x}$.\n",
    "\n",
    "- $F_2(x) = -\\frac{x^5}{5}$.\n",
    "\n",
    "- $F_3(x) = \\frac{x}{2}-2$."
   ]
  },
  {
   "cell_type": "code",
   "execution_count": null,
   "metadata": {},
   "outputs": [],
   "source": []
  },
  {
   "cell_type": "markdown",
   "metadata": {},
   "source": [
    "## 5\n",
    "\n",
    "- Para el mapeo $F(x) = x^2-2$ en el intervalo $[-2,2]$ (ejercicio 1), consideren un punto al azar en el intervalo $[-2,2]$ y construyan una órbita muy larga, por ejemplo, de $20\\,000$ iterados. Obtengan el histograma de frecuencia (normalizado) de visita de los puntos de la órbita. ¿Qué conclusión podemos sacar de este histograma?\n",
    "\n",
    "- \\Repitan el inciso anterior para el mapeo: $G(x) = 2x \\mod 1$ en el intervalo [0,1].\n",
    "\n",
    "(NOTA: En cuanto al histograma, pueden construir su propia función que haga el histograma, o buscar en las entrañas de la documentación.)"
   ]
  },
  {
   "cell_type": "code",
   "execution_count": 154,
   "metadata": {},
   "outputs": [
    {
     "data": {
      "text/plain": [
       "random"
      ]
     },
     "execution_count": 154,
     "metadata": {},
     "output_type": "execute_result"
    }
   ],
   "source": [
    "\"\"\"\n",
    "    random(distancia, semidistancia)\n",
    "Devuelve un numero aleatorio entre el intervalo [a,b] (y sus variantes (a,b), (a,b], [a,b)). La primera componenete de l funcnion es la `distancia` entre `a` y `b`, mientras que la segunda componenete hace referencia a la `semidistancia` entre `a y `b`.\n",
    "\"\"\"\n",
    "\n",
    "function random(distancia, semidistancia)\n",
    "    aleatorio = (distancia * rand()) - semidistancia\n",
    "    return aleatorio\n",
    "end "
   ]
  },
  {
   "cell_type": "markdown",
   "metadata": {},
   "source": [
    "### (a) $"
   ]
  },
  {
   "cell_type": "code",
   "execution_count": 244,
   "metadata": {
    "scrolled": true
   },
   "outputs": [
    {
     "data": {
      "text/plain": [
       "20001-element Array{Float64,1}:\n",
       " -1.97867 \n",
       "  1.91515 \n",
       "  1.6678  \n",
       "  0.781569\n",
       " -1.38915 \n",
       " -0.070262\n",
       " -1.99506 \n",
       "  1.98028 \n",
       "  1.9215  \n",
       "  1.69216 \n",
       "  0.863394\n",
       " -1.25455 \n",
       " -0.426102\n",
       "  ⋮       \n",
       "  0.840225\n",
       " -1.29402 \n",
       " -0.325507\n",
       " -1.89405 \n",
       "  1.58741 \n",
       "  0.519863\n",
       " -1.72974 \n",
       "  0.992007\n",
       " -1.01592 \n",
       " -0.967904\n",
       " -1.06316 \n",
       " -0.869685"
      ]
     },
     "execution_count": 244,
     "metadata": {},
     "output_type": "execute_result"
    }
   ],
   "source": [
    "x_aleatorio = random(4, 2)\n",
    "\n",
    "iterados_aleatorios = Fμ(F, x_aleatorio, 20000)"
   ]
  },
  {
   "cell_type": "code",
   "execution_count": 250,
   "metadata": {},
   "outputs": [
    {
     "data": {
      "text/plain": [
       "Plots.GRBackend()"
      ]
     },
     "execution_count": 250,
     "metadata": {},
     "output_type": "execute_result"
    }
   ],
   "source": [
    "gr()"
   ]
  },
  {
   "cell_type": "code",
   "execution_count": 253,
   "metadata": {},
   "outputs": [],
   "source": [
    "h = histogram(iterados_aleatorios, nbins=length(iterados_aleatorios));\n",
    "savefig(h, \"histograma.png\")"
   ]
  },
  {
   "attachments": {
    "histograma.png": {
     "image/png": "[encoded data removed]"
    }
   },
   "cell_type": "markdown",
   "metadata": {},
   "source": [
    "![histograma.png](attachment:histograma.png)"
   ]
  },
  {
   "cell_type": "code",
   "execution_count": 266,
   "metadata": {},
   "outputs": [
    {
     "data": {
      "image/png": "[encoded data removed]",
      "text/plain": [
       "PyPlot.Figure(PyObject <Figure size 640x480 with 1 Axes>)"
      ]
     },
     "metadata": {},
     "output_type": "display_data"
    }
   ],
   "source": [
    "h_norm = PyPlot.plt[:hist](iterados_aleatorios,normed=true, bins=100);"
   ]
  },
  {
   "cell_type": "code",
   "execution_count": 247,
   "metadata": {},
   "outputs": [
    {
     "data": {
      "text/plain": [
       "20001-element Array{Float64,1}:\n",
       " -0.00989631 \n",
       "  0.0095786  \n",
       "  0.00834149 \n",
       "  0.003909   \n",
       " -0.00694781 \n",
       " -0.000351414\n",
       " -0.00997828 \n",
       "  0.00990432 \n",
       "  0.00961034 \n",
       "  0.00846329 \n",
       "  0.00431825 \n",
       " -0.00627462 \n",
       " -0.00213114 \n",
       "  ⋮          \n",
       "  0.00420237 \n",
       " -0.00647203 \n",
       " -0.00162802 \n",
       " -0.00947304 \n",
       "  0.00793939 \n",
       "  0.00260009 \n",
       " -0.00865128 \n",
       "  0.00496151 \n",
       " -0.00508111 \n",
       " -0.00484095 \n",
       " -0.00531739 \n",
       " -0.00434972 "
      ]
     },
     "execution_count": 247,
     "metadata": {},
     "output_type": "execute_result"
    }
   ],
   "source": [
    "it_aleatorios_norm = normalize(iterados_aleatorios)"
   ]
  },
  {
   "cell_type": "code",
   "execution_count": 248,
   "metadata": {},
   "outputs": [
    {
     "data": {
      "application/vnd.plotly.v1+json": {
       "data": [
        {
         "fill": "tozeroy",
         "fillcolor": "rgba(0, 154, 250, 1.000)",
         "legendgroup": "y1",
         "line": {
          "color": "rgba(0, 0, 0, 1.000)",
          "dash": "solid",
          "width": 1
         },
         "mode": "lines",
         "name": "y1",
         "showlegend": true,
         "type": "scatter",
         "x": [
          -0.011,
          -0.011,
          -0.009999999999999998,
          -0.009999999999999998,
          -0.011,
          -0.011
         ],
         "xaxis": "x1",
         "y": [
          139,
          0,
          0,
          139,
          139,
          139
         ],
         "yaxis": "y1"
        },
        {
         "fill": "tozeroy",
         "fillcolor": "rgba(0, 154, 250, 1.000)",
         "legendgroup": "y1",
         "line": {
          "color": "rgba(0, 0, 0, 1.000)",
          "dash": "solid",
          "width": 1
         },
         "mode": "lines",
         "name": "y1",
         "showlegend": false,
         "type": "scatter",
         "x": [
          -0.01,
          -0.01,
          -0.009,
          -0.009,
          -0.01,
          -0.01
         ],
         "xaxis": "x1",
         "y": [
          2756,
          0,
          0,
          2756,
          2756,
          2756
         ],
         "yaxis": "y1"
        },
        {
         "fill": "tozeroy",
         "fillcolor": "rgba(0, 154, 250, 1.000)",
         "legendgroup": "y1",
         "line": {
          "color": "rgba(0, 0, 0, 1.000)",
          "dash": "solid",
          "width": 1
         },
         "mode": "lines",
         "name": "y1",
         "showlegend": false,
         "type": "scatter",
         "x": [
          -0.009000000000000001,
          -0.009000000000000001,
          -0.008,
          -0.008,
          -0.009000000000000001,
          -0.009000000000000001
         ],
         "xaxis": "x1",
         "y": [
          1237,
          0,
          0,
          1237,
          1237,
          1237
         ],
         "yaxis": "y1"
        },
        {
         "fill": "tozeroy",
         "fillcolor": "rgba(0, 154, 250, 1.000)",
         "legendgroup": "y1",
         "line": {
          "color": "rgba(0, 0, 0, 1.000)",
          "dash": "solid",
          "width": 1
         },
         "mode": "lines",
         "name": "y1",
         "showlegend": false,
         "type": "scatter",
         "x": [
          -0.008,
          -0.008,
          -0.006999999999999999,
          -0.006999999999999999,
          -0.008,
          -0.008
         ],
         "xaxis": "x1",
         "y": [
          992,
          0,
          0,
          992,
          992,
          992
         ],
         "yaxis": "y1"
        },
        {
         "fill": "tozeroy",
         "fillcolor": "rgba(0, 154, 250, 1.000)",
         "legendgroup": "y1",
         "line": {
          "color": "rgba(0, 0, 0, 1.000)",
          "dash": "solid",
          "width": 1
         },
         "mode": "lines",
         "name": "y1",
         "showlegend": false,
         "type": "scatter",
         "x": [
          -0.007000000000000001,
          -0.007000000000000001,
          -0.006,
          -0.006,
          -0.007000000000000001,
          -0.007000000000000001
         ],
         "xaxis": "x1",
         "y": [
          813,
          0,
          0,
          813,
          813,
          813
         ],
         "yaxis": "y1"
        },
        {
         "fill": "tozeroy",
         "fillcolor": "rgba(0, 154, 250, 1.000)",
         "legendgroup": "y1",
         "line": {
          "color": "rgba(0, 0, 0, 1.000)",
          "dash": "solid",
          "width": 1
         },
         "mode": "lines",
         "name": "y1",
         "showlegend": false,
         "type": "scatter",
         "x": [
          -0.006,
          -0.006,
          -0.004999999999999999,
          -0.004999999999999999,
          -0.006,
          -0.006
         ],
         "xaxis": "x1",
         "y": [
          726,
          0,
          0,
          726,
          726,
          726
         ],
         "yaxis": "y1"
        },
        {
         "fill": "tozeroy",
         "fillcolor": "rgba(0, 154, 250, 1.000)",
         "legendgroup": "y1",
         "line": {
          "color": "rgba(0, 0, 0, 1.000)",
          "dash": "solid",
          "width": 1
         },
         "mode": "lines",
         "name": "y1",
         "showlegend": false,
         "type": "scatter",
         "x": [
          -0.005000000000000001,
          -0.005000000000000001,
          -0.004,
          -0.004,
          -0.005000000000000001,
          -0.005000000000000001
         ],
         "xaxis": "x1",
         "y": [
          683,
          0,
          0,
          683,
          683,
          683
         ],
         "yaxis": "y1"
        },
        {
         "fill": "tozeroy",
         "fillcolor": "rgba(0, 154, 250, 1.000)",
         "legendgroup": "y1",
         "line": {
          "color": "rgba(0, 0, 0, 1.000)",
          "dash": "solid",
          "width": 1
         },
         "mode": "lines",
         "name": "y1",
         "showlegend": false,
         "type": "scatter",
         "x": [
          -0.004,
          -0.004,
          -0.003,
          -0.003,
          -0.004,
          -0.004
         ],
         "xaxis": "x1",
         "y": [
          705,
          0,
          0,
          705,
          705,
          705
         ],
         "yaxis": "y1"
        },
        {
         "fill": "tozeroy",
         "fillcolor": "rgba(0, 154, 250, 1.000)",
         "legendgroup": "y1",
         "line": {
          "color": "rgba(0, 0, 0, 1.000)",
          "dash": "solid",
          "width": 1
         },
         "mode": "lines",
         "name": "y1",
         "showlegend": false,
         "type": "scatter",
         "x": [
          -0.003,
          -0.003,
          -0.002,
          -0.002,
          -0.003,
          -0.003
         ],
         "xaxis": "x1",
         "y": [
          643,
          0,
          0,
          643,
          643,
          643
         ],
         "yaxis": "y1"
        },
        {
         "fill": "tozeroy",
         "fillcolor": "rgba(0, 154, 250, 1.000)",
         "legendgroup": "y1",
         "line": {
          "color": "rgba(0, 0, 0, 1.000)",
          "dash": "solid",
          "width": 1
         },
         "mode": "lines",
         "name": "y1",
         "showlegend": false,
         "type": "scatter",
         "x": [
          -0.002,
          -0.002,
          -0.001,
          -0.001,
          -0.002,
          -0.002
         ],
         "xaxis": "x1",
         "y": [
          654,
          0,
          0,
          654,
          654,
          654
         ],
         "yaxis": "y1"
        },
        {
         "fill": "tozeroy",
         "fillcolor": "rgba(0, 154, 250, 1.000)",
         "legendgroup": "y1",
         "line": {
          "color": "rgba(0, 0, 0, 1.000)",
          "dash": "solid",
          "width": 1
         },
         "mode": "lines",
         "name": "y1",
         "showlegend": false,
         "type": "scatter",
         "x": [
          -0.001,
          -0.001,
          0,
          0,
          -0.001,
          -0.001
         ],
         "xaxis": "x1",
         "y": [
          614,
          0,
          0,
          614,
          614,
          614
         ],
         "yaxis": "y1"
        },
        {
         "fill": "tozeroy",
         "fillcolor": "rgba(0, 154, 250, 1.000)",
         "legendgroup": "y1",
         "line": {
          "color": "rgba(0, 0, 0, 1.000)",
          "dash": "solid",
          "width": 1
         },
         "mode": "lines",
         "name": "y1",
         "showlegend": false,
         "type": "scatter",
         "x": [
          0,
          0,
          0.001,
          0.001,
          0,
          0
         ],
         "xaxis": "x1",
         "y": [
          660,
          0,
          0,
          660,
          660,
          660
         ],
         "yaxis": "y1"
        },
        {
         "fill": "tozeroy",
         "fillcolor": "rgba(0, 154, 250, 1.000)",
         "legendgroup": "y1",
         "line": {
          "color": "rgba(0, 0, 0, 1.000)",
          "dash": "solid",
          "width": 1
         },
         "mode": "lines",
         "name": "y1",
         "showlegend": false,
         "type": "scatter",
         "x": [
          0.001,
          0.001,
          0.002,
          0.002,
          0.001,
          0.001
         ],
         "xaxis": "x1",
         "y": [
          664,
          0,
          0,
          664,
          664,
          664
         ],
         "yaxis": "y1"
        },
        {
         "fill": "tozeroy",
         "fillcolor": "rgba(0, 154, 250, 1.000)",
         "legendgroup": "y1",
         "line": {
          "color": "rgba(0, 0, 0, 1.000)",
          "dash": "solid",
          "width": 1
         },
         "mode": "lines",
         "name": "y1",
         "showlegend": false,
         "type": "scatter",
         "x": [
          0.002,
          0.002,
          0.003,
          0.003,
          0.002,
          0.002
         ],
         "xaxis": "x1",
         "y": [
          643,
          0,
          0,
          643,
          643,
          643
         ],
         "yaxis": "y1"
        },
        {
         "fill": "tozeroy",
         "fillcolor": "rgba(0, 154, 250, 1.000)",
         "legendgroup": "y1",
         "line": {
          "color": "rgba(0, 0, 0, 1.000)",
          "dash": "solid",
          "width": 1
         },
         "mode": "lines",
         "name": "y1",
         "showlegend": false,
         "type": "scatter",
         "x": [
          0.003,
          0.003,
          0.004,
          0.004,
          0.003,
          0.003
         ],
         "xaxis": "x1",
         "y": [
          707,
          0,
          0,
          707,
          707,
          707
         ],
         "yaxis": "y1"
        },
        {
         "fill": "tozeroy",
         "fillcolor": "rgba(0, 154, 250, 1.000)",
         "legendgroup": "y1",
         "line": {
          "color": "rgba(0, 0, 0, 1.000)",
          "dash": "solid",
          "width": 1
         },
         "mode": "lines",
         "name": "y1",
         "showlegend": false,
         "type": "scatter",
         "x": [
          0.004,
          0.004,
          0.005000000000000001,
          0.005000000000000001,
          0.004,
          0.004
         ],
         "xaxis": "x1",
         "y": [
          687,
          0,
          0,
          687,
          687,
          687
         ],
         "yaxis": "y1"
        },
        {
         "fill": "tozeroy",
         "fillcolor": "rgba(0, 154, 250, 1.000)",
         "legendgroup": "y1",
         "line": {
          "color": "rgba(0, 0, 0, 1.000)",
          "dash": "solid",
          "width": 1
         },
         "mode": "lines",
         "name": "y1",
         "showlegend": false,
         "type": "scatter",
         "x": [
          0.004999999999999999,
          0.004999999999999999,
          0.006,
          0.006,
          0.004999999999999999,
          0.004999999999999999
         ],
         "xaxis": "x1",
         "y": [
          787,
          0,
          0,
          787,
          787,
          787
         ],
         "yaxis": "y1"
        },
        {
         "fill": "tozeroy",
         "fillcolor": "rgba(0, 154, 250, 1.000)",
         "legendgroup": "y1",
         "line": {
          "color": "rgba(0, 0, 0, 1.000)",
          "dash": "solid",
          "width": 1
         },
         "mode": "lines",
         "name": "y1",
         "showlegend": false,
         "type": "scatter",
         "x": [
          0.006,
          0.006,
          0.007000000000000001,
          0.007000000000000001,
          0.006,
          0.006
         ],
         "xaxis": "x1",
         "y": [
          851,
          0,
          0,
          851,
          851,
          851
         ],
         "yaxis": "y1"
        },
        {
         "fill": "tozeroy",
         "fillcolor": "rgba(0, 154, 250, 1.000)",
         "legendgroup": "y1",
         "line": {
          "color": "rgba(0, 0, 0, 1.000)",
          "dash": "solid",
          "width": 1
         },
         "mode": "lines",
         "name": "y1",
         "showlegend": false,
         "type": "scatter",
         "x": [
          0.006999999999999999,
          0.006999999999999999,
          0.008,
          0.008,
          0.006999999999999999,
          0.006999999999999999
         ],
         "xaxis": "x1",
         "y": [
          973,
          0,
          0,
          973,
          973,
          973
         ],
         "yaxis": "y1"
        },
        {
         "fill": "tozeroy",
         "fillcolor": "rgba(0, 154, 250, 1.000)",
         "legendgroup": "y1",
         "line": {
          "color": "rgba(0, 0, 0, 1.000)",
          "dash": "solid",
          "width": 1
         },
         "mode": "lines",
         "name": "y1",
         "showlegend": false,
         "type": "scatter",
         "x": [
          0.008,
          0.008,
          0.009000000000000001,
          0.009000000000000001,
          0.008,
          0.008
         ],
         "xaxis": "x1",
         "y": [
          1227,
          0,
          0,
          1227,
          1227,
          1227
         ],
         "yaxis": "y1"
        },
        {
         "fill": "tozeroy",
         "fillcolor": "rgba(0, 154, 250, 1.000)",
         "legendgroup": "y1",
         "line": {
          "color": "rgba(0, 0, 0, 1.000)",
          "dash": "solid",
          "width": 1
         },
         "mode": "lines",
         "name": "y1",
         "showlegend": false,
         "type": "scatter",
         "x": [
          0.009,
          0.009,
          0.01,
          0.01,
          0.009,
          0.009
         ],
         "xaxis": "x1",
         "y": [
          2706,
          0,
          0,
          2706,
          2706,
          2706
         ],
         "yaxis": "y1"
        },
        {
         "fill": "tozeroy",
         "fillcolor": "rgba(0, 154, 250, 1.000)",
         "legendgroup": "y1",
         "line": {
          "color": "rgba(0, 0, 0, 1.000)",
          "dash": "solid",
          "width": 1
         },
         "mode": "lines",
         "name": "y1",
         "showlegend": false,
         "type": "scatter",
         "x": [
          0.009999999999999998,
          0.009999999999999998,
          0.011,
          0.011,
          0.009999999999999998,
          0.009999999999999998
         ],
         "xaxis": "x1",
         "y": [
          134,
          0,
          0,
          134,
          134,
          134
         ],
         "yaxis": "y1"
        }
       ],
       "layout": {
        "annotations": [],
        "height": 400,
        "legend": {
         "bgcolor": "rgba(255, 255, 255, 1.000)",
         "bordercolor": "rgba(0, 0, 0, 1.000)",
         "font": {
          "color": "rgba(0, 0, 0, 1.000)",
          "family": "sans-serif",
          "size": 11
         },
         "tracegroupgap": 0,
         "x": 1,
         "y": 1
        },
        "margin": {
         "b": 20,
         "l": 0,
         "r": 0,
         "t": 20
        },
        "paper_bgcolor": "rgba(255, 255, 255, 1.000)",
        "plot_bgcolor": "rgba(255, 255, 255, 1.000)",
        "showlegend": true,
        "width": 600,
        "xaxis": {
         "anchor": "y1",
         "domain": [
          0.0658209390492855,
          0.9934383202099738
         ],
         "gridcolor": "rgba(0, 0, 0, 0.100)",
         "gridwidth": 0.5,
         "linecolor": "rgba(0, 0, 0, 1.000)",
         "mirror": false,
         "range": [
          -0.012359599999999998,
          0.012359599999999998
         ],
         "showgrid": true,
         "showline": true,
         "showticklabels": true,
         "tickangle": 0,
         "tickcolor": "rgb(0, 0, 0)",
         "tickfont": {
          "color": "rgba(0, 0, 0, 1.000)",
          "family": "sans-serif",
          "size": 11
         },
         "tickmode": "array",
         "ticks": "inside",
         "ticktext": [
          "-0.010",
          "-0.005",
          "0.000",
          "0.005",
          "0.010"
         ],
         "tickvals": [
          -0.01,
          -0.005,
          0,
          0.005,
          0.01
         ],
         "title": "",
         "titlefont": {
          "color": "rgba(0, 0, 0, 1.000)",
          "family": "sans-serif",
          "size": 15
         },
         "type": "-",
         "visible": true,
         "zeroline": false,
         "zerolinecolor": "rgba(0, 0, 0, 1.000)"
        },
        "yaxis": {
         "anchor": "x1",
         "domain": [
          0.03762029746281716,
          0.9901574803149606
         ],
         "gridcolor": "rgba(0, 0, 0, 0.100)",
         "gridwidth": 0.5,
         "linecolor": "rgba(0, 0, 0, 1.000)",
         "mirror": false,
         "range": [
          -82.67999999999999,
          2838.68
         ],
         "showgrid": true,
         "showline": true,
         "showticklabels": true,
         "tickangle": 0,
         "tickcolor": "rgb(0, 0, 0)",
         "tickfont": {
          "color": "rgba(0, 0, 0, 1.000)",
          "family": "sans-serif",
          "size": 11
         },
         "tickmode": "array",
         "ticks": "inside",
         "ticktext": [
          "0",
          "500",
          "1000",
          "1500",
          "2000",
          "2500"
         ],
         "tickvals": [
          0,
          500,
          1000,
          1500,
          2000,
          2500
         ],
         "title": "",
         "titlefont": {
          "color": "rgba(0, 0, 0, 1.000)",
          "family": "sans-serif",
          "size": 15
         },
         "type": "-",
         "visible": true,
         "zeroline": false,
         "zerolinecolor": "rgba(0, 0, 0, 1.000)"
        }
       }
      },
      "text/html": [
       "<script src=\"file://C:\\Users\\Pau Martin\\.julia\\v0.6\\Plots\\src\\backends\\..\\..\\deps\\plotly-latest.min.js\"></script>    <div id=\"786e5a66-7c5b-4476-a721-94d7839bc975\" style=\"width:600px;height:400px;\"></div>\n",
       "    <script>\n",
       "    PLOT = document.getElementById('786e5a66-7c5b-4476-a721-94d7839bc975');\n",
       "    Plotly.plot(PLOT, [{\"xaxis\":\"x1\",\"fill\":\"tozeroy\",\"yaxis\":\"y1\",\"x\":[-0.011,-0.011,-0.009999999999999998,-0.009999999999999998,-0.011,-0.011],\"showlegend\":true,\"mode\":\"lines\",\"fillcolor\":\"rgba(0, 154, 250, 1.000)\",\"name\":\"y1\",\"legendgroup\":\"y1\",\"line\":{\"color\":\"rgba(0, 0, 0, 1.000)\",\"dash\":\"solid\",\"width\":1},\"y\":[139.0,0.0,0.0,139.0,139.0,139.0],\"type\":\"scatter\"},{\"xaxis\":\"x1\",\"fill\":\"tozeroy\",\"yaxis\":\"y1\",\"x\":[-0.01,-0.01,-0.009,-0.009,-0.01,-0.01],\"showlegend\":false,\"mode\":\"lines\",\"fillcolor\":\"rgba(0, 154, 250, 1.000)\",\"name\":\"y1\",\"legendgroup\":\"y1\",\"line\":{\"color\":\"rgba(0, 0, 0, 1.000)\",\"dash\":\"solid\",\"width\":1},\"y\":[2756.0,0.0,0.0,2756.0,2756.0,2756.0],\"type\":\"scatter\"},{\"xaxis\":\"x1\",\"fill\":\"tozeroy\",\"yaxis\":\"y1\",\"x\":[-0.009000000000000001,-0.009000000000000001,-0.008,-0.008,-0.009000000000000001,-0.009000000000000001],\"showlegend\":false,\"mode\":\"lines\",\"fillcolor\":\"rgba(0, 154, 250, 1.000)\",\"name\":\"y1\",\"legendgroup\":\"y1\",\"line\":{\"color\":\"rgba(0, 0, 0, 1.000)\",\"dash\":\"solid\",\"width\":1},\"y\":[1237.0,0.0,0.0,1237.0,1237.0,1237.0],\"type\":\"scatter\"},{\"xaxis\":\"x1\",\"fill\":\"tozeroy\",\"yaxis\":\"y1\",\"x\":[-0.008,-0.008,-0.006999999999999999,-0.006999999999999999,-0.008,-0.008],\"showlegend\":false,\"mode\":\"lines\",\"fillcolor\":\"rgba(0, 154, 250, 1.000)\",\"name\":\"y1\",\"legendgroup\":\"y1\",\"line\":{\"color\":\"rgba(0, 0, 0, 1.000)\",\"dash\":\"solid\",\"width\":1},\"y\":[992.0,0.0,0.0,992.0,992.0,992.0],\"type\":\"scatter\"},{\"xaxis\":\"x1\",\"fill\":\"tozeroy\",\"yaxis\":\"y1\",\"x\":[-0.007000000000000001,-0.007000000000000001,-0.006,-0.006,-0.007000000000000001,-0.007000000000000001],\"showlegend\":false,\"mode\":\"lines\",\"fillcolor\":\"rgba(0, 154, 250, 1.000)\",\"name\":\"y1\",\"legendgroup\":\"y1\",\"line\":{\"color\":\"rgba(0, 0, 0, 1.000)\",\"dash\":\"solid\",\"width\":1},\"y\":[813.0,0.0,0.0,813.0,813.0,813.0],\"type\":\"scatter\"},{\"xaxis\":\"x1\",\"fill\":\"tozeroy\",\"yaxis\":\"y1\",\"x\":[-0.006,-0.006,-0.004999999999999999,-0.004999999999999999,-0.006,-0.006],\"showlegend\":false,\"mode\":\"lines\",\"fillcolor\":\"rgba(0, 154, 250, 1.000)\",\"name\":\"y1\",\"legendgroup\":\"y1\",\"line\":{\"color\":\"rgba(0, 0, 0, 1.000)\",\"dash\":\"solid\",\"width\":1},\"y\":[726.0,0.0,0.0,726.0,726.0,726.0],\"type\":\"scatter\"},{\"xaxis\":\"x1\",\"fill\":\"tozeroy\",\"yaxis\":\"y1\",\"x\":[-0.005000000000000001,-0.005000000000000001,-0.004,-0.004,-0.005000000000000001,-0.005000000000000001],\"showlegend\":false,\"mode\":\"lines\",\"fillcolor\":\"rgba(0, 154, 250, 1.000)\",\"name\":\"y1\",\"legendgroup\":\"y1\",\"line\":{\"color\":\"rgba(0, 0, 0, 1.000)\",\"dash\":\"solid\",\"width\":1},\"y\":[683.0,0.0,0.0,683.0,683.0,683.0],\"type\":\"scatter\"},{\"xaxis\":\"x1\",\"fill\":\"tozeroy\",\"yaxis\":\"y1\",\"x\":[-0.004,-0.004,-0.003,-0.003,-0.004,-0.004],\"showlegend\":false,\"mode\":\"lines\",\"fillcolor\":\"rgba(0, 154, 250, 1.000)\",\"name\":\"y1\",\"legendgroup\":\"y1\",\"line\":{\"color\":\"rgba(0, 0, 0, 1.000)\",\"dash\":\"solid\",\"width\":1},\"y\":[705.0,0.0,0.0,705.0,705.0,705.0],\"type\":\"scatter\"},{\"xaxis\":\"x1\",\"fill\":\"tozeroy\",\"yaxis\":\"y1\",\"x\":[-0.003,-0.003,-0.002,-0.002,-0.003,-0.003],\"showlegend\":false,\"mode\":\"lines\",\"fillcolor\":\"rgba(0, 154, 250, 1.000)\",\"name\":\"y1\",\"legendgroup\":\"y1\",\"line\":{\"color\":\"rgba(0, 0, 0, 1.000)\",\"dash\":\"solid\",\"width\":1},\"y\":[643.0,0.0,0.0,643.0,643.0,643.0],\"type\":\"scatter\"},{\"xaxis\":\"x1\",\"fill\":\"tozeroy\",\"yaxis\":\"y1\",\"x\":[-0.002,-0.002,-0.001,-0.001,-0.002,-0.002],\"showlegend\":false,\"mode\":\"lines\",\"fillcolor\":\"rgba(0, 154, 250, 1.000)\",\"name\":\"y1\",\"legendgroup\":\"y1\",\"line\":{\"color\":\"rgba(0, 0, 0, 1.000)\",\"dash\":\"solid\",\"width\":1},\"y\":[654.0,0.0,0.0,654.0,654.0,654.0],\"type\":\"scatter\"},{\"xaxis\":\"x1\",\"fill\":\"tozeroy\",\"yaxis\":\"y1\",\"x\":[-0.001,-0.001,0.0,0.0,-0.001,-0.001],\"showlegend\":false,\"mode\":\"lines\",\"fillcolor\":\"rgba(0, 154, 250, 1.000)\",\"name\":\"y1\",\"legendgroup\":\"y1\",\"line\":{\"color\":\"rgba(0, 0, 0, 1.000)\",\"dash\":\"solid\",\"width\":1},\"y\":[614.0,0.0,0.0,614.0,614.0,614.0],\"type\":\"scatter\"},{\"xaxis\":\"x1\",\"fill\":\"tozeroy\",\"yaxis\":\"y1\",\"x\":[0.0,0.0,0.001,0.001,0.0,0.0],\"showlegend\":false,\"mode\":\"lines\",\"fillcolor\":\"rgba(0, 154, 250, 1.000)\",\"name\":\"y1\",\"legendgroup\":\"y1\",\"line\":{\"color\":\"rgba(0, 0, 0, 1.000)\",\"dash\":\"solid\",\"width\":1},\"y\":[660.0,0.0,0.0,660.0,660.0,660.0],\"type\":\"scatter\"},{\"xaxis\":\"x1\",\"fill\":\"tozeroy\",\"yaxis\":\"y1\",\"x\":[0.001,0.001,0.002,0.002,0.001,0.001],\"showlegend\":false,\"mode\":\"lines\",\"fillcolor\":\"rgba(0, 154, 250, 1.000)\",\"name\":\"y1\",\"legendgroup\":\"y1\",\"line\":{\"color\":\"rgba(0, 0, 0, 1.000)\",\"dash\":\"solid\",\"width\":1},\"y\":[664.0,0.0,0.0,664.0,664.0,664.0],\"type\":\"scatter\"},{\"xaxis\":\"x1\",\"fill\":\"tozeroy\",\"yaxis\":\"y1\",\"x\":[0.002,0.002,0.003,0.003,0.002,0.002],\"showlegend\":false,\"mode\":\"lines\",\"fillcolor\":\"rgba(0, 154, 250, 1.000)\",\"name\":\"y1\",\"legendgroup\":\"y1\",\"line\":{\"color\":\"rgba(0, 0, 0, 1.000)\",\"dash\":\"solid\",\"width\":1},\"y\":[643.0,0.0,0.0,643.0,643.0,643.0],\"type\":\"scatter\"},{\"xaxis\":\"x1\",\"fill\":\"tozeroy\",\"yaxis\":\"y1\",\"x\":[0.003,0.003,0.004,0.004,0.003,0.003],\"showlegend\":false,\"mode\":\"lines\",\"fillcolor\":\"rgba(0, 154, 250, 1.000)\",\"name\":\"y1\",\"legendgroup\":\"y1\",\"line\":{\"color\":\"rgba(0, 0, 0, 1.000)\",\"dash\":\"solid\",\"width\":1},\"y\":[707.0,0.0,0.0,707.0,707.0,707.0],\"type\":\"scatter\"},{\"xaxis\":\"x1\",\"fill\":\"tozeroy\",\"yaxis\":\"y1\",\"x\":[0.004,0.004,0.005000000000000001,0.005000000000000001,0.004,0.004],\"showlegend\":false,\"mode\":\"lines\",\"fillcolor\":\"rgba(0, 154, 250, 1.000)\",\"name\":\"y1\",\"legendgroup\":\"y1\",\"line\":{\"color\":\"rgba(0, 0, 0, 1.000)\",\"dash\":\"solid\",\"width\":1},\"y\":[687.0,0.0,0.0,687.0,687.0,687.0],\"type\":\"scatter\"},{\"xaxis\":\"x1\",\"fill\":\"tozeroy\",\"yaxis\":\"y1\",\"x\":[0.004999999999999999,0.004999999999999999,0.006,0.006,0.004999999999999999,0.004999999999999999],\"showlegend\":false,\"mode\":\"lines\",\"fillcolor\":\"rgba(0, 154, 250, 1.000)\",\"name\":\"y1\",\"legendgroup\":\"y1\",\"line\":{\"color\":\"rgba(0, 0, 0, 1.000)\",\"dash\":\"solid\",\"width\":1},\"y\":[787.0,0.0,0.0,787.0,787.0,787.0],\"type\":\"scatter\"},{\"xaxis\":\"x1\",\"fill\":\"tozeroy\",\"yaxis\":\"y1\",\"x\":[0.006,0.006,0.007000000000000001,0.007000000000000001,0.006,0.006],\"showlegend\":false,\"mode\":\"lines\",\"fillcolor\":\"rgba(0, 154, 250, 1.000)\",\"name\":\"y1\",\"legendgroup\":\"y1\",\"line\":{\"color\":\"rgba(0, 0, 0, 1.000)\",\"dash\":\"solid\",\"width\":1},\"y\":[851.0,0.0,0.0,851.0,851.0,851.0],\"type\":\"scatter\"},{\"xaxis\":\"x1\",\"fill\":\"tozeroy\",\"yaxis\":\"y1\",\"x\":[0.006999999999999999,0.006999999999999999,0.008,0.008,0.006999999999999999,0.006999999999999999],\"showlegend\":false,\"mode\":\"lines\",\"fillcolor\":\"rgba(0, 154, 250, 1.000)\",\"name\":\"y1\",\"legendgroup\":\"y1\",\"line\":{\"color\":\"rgba(0, 0, 0, 1.000)\",\"dash\":\"solid\",\"width\":1},\"y\":[973.0,0.0,0.0,973.0,973.0,973.0],\"type\":\"scatter\"},{\"xaxis\":\"x1\",\"fill\":\"tozeroy\",\"yaxis\":\"y1\",\"x\":[0.008,0.008,0.009000000000000001,0.009000000000000001,0.008,0.008],\"showlegend\":false,\"mode\":\"lines\",\"fillcolor\":\"rgba(0, 154, 250, 1.000)\",\"name\":\"y1\",\"legendgroup\":\"y1\",\"line\":{\"color\":\"rgba(0, 0, 0, 1.000)\",\"dash\":\"solid\",\"width\":1},\"y\":[1227.0,0.0,0.0,1227.0,1227.0,1227.0],\"type\":\"scatter\"},{\"xaxis\":\"x1\",\"fill\":\"tozeroy\",\"yaxis\":\"y1\",\"x\":[0.009,0.009,0.01,0.01,0.009,0.009],\"showlegend\":false,\"mode\":\"lines\",\"fillcolor\":\"rgba(0, 154, 250, 1.000)\",\"name\":\"y1\",\"legendgroup\":\"y1\",\"line\":{\"color\":\"rgba(0, 0, 0, 1.000)\",\"dash\":\"solid\",\"width\":1},\"y\":[2706.0,0.0,0.0,2706.0,2706.0,2706.0],\"type\":\"scatter\"},{\"xaxis\":\"x1\",\"fill\":\"tozeroy\",\"yaxis\":\"y1\",\"x\":[0.009999999999999998,0.009999999999999998,0.011,0.011,0.009999999999999998,0.009999999999999998],\"showlegend\":false,\"mode\":\"lines\",\"fillcolor\":\"rgba(0, 154, 250, 1.000)\",\"name\":\"y1\",\"legendgroup\":\"y1\",\"line\":{\"color\":\"rgba(0, 0, 0, 1.000)\",\"dash\":\"solid\",\"width\":1},\"y\":[134.0,0.0,0.0,134.0,134.0,134.0],\"type\":\"scatter\"}], {\"showlegend\":true,\"xaxis\":{\"showticklabels\":true,\"gridwidth\":0.5,\"tickvals\":[-0.01,-0.005,0.0,0.005,0.01],\"visible\":true,\"ticks\":\"inside\",\"range\":[-0.012359599999999998,0.012359599999999998],\"domain\":[0.0658209390492855,0.9934383202099738],\"tickmode\":\"array\",\"linecolor\":\"rgba(0, 0, 0, 1.000)\",\"showgrid\":true,\"title\":\"\",\"mirror\":false,\"tickangle\":0,\"showline\":true,\"gridcolor\":\"rgba(0, 0, 0, 0.100)\",\"titlefont\":{\"color\":\"rgba(0, 0, 0, 1.000)\",\"family\":\"sans-serif\",\"size\":15},\"tickcolor\":\"rgb(0, 0, 0)\",\"ticktext\":[\"-0.010\",\"-0.005\",\"0.000\",\"0.005\",\"0.010\"],\"zeroline\":false,\"type\":\"-\",\"tickfont\":{\"color\":\"rgba(0, 0, 0, 1.000)\",\"family\":\"sans-serif\",\"size\":11},\"zerolinecolor\":\"rgba(0, 0, 0, 1.000)\",\"anchor\":\"y1\"},\"paper_bgcolor\":\"rgba(255, 255, 255, 1.000)\",\"annotations\":[],\"height\":400,\"margin\":{\"l\":0,\"b\":20,\"r\":0,\"t\":20},\"plot_bgcolor\":\"rgba(255, 255, 255, 1.000)\",\"yaxis\":{\"showticklabels\":true,\"gridwidth\":0.5,\"tickvals\":[0.0,500.0,1000.0,1500.0,2000.0,2500.0],\"visible\":true,\"ticks\":\"inside\",\"range\":[-82.67999999999999,2838.68],\"domain\":[0.03762029746281716,0.9901574803149606],\"tickmode\":\"array\",\"linecolor\":\"rgba(0, 0, 0, 1.000)\",\"showgrid\":true,\"title\":\"\",\"mirror\":false,\"tickangle\":0,\"showline\":true,\"gridcolor\":\"rgba(0, 0, 0, 0.100)\",\"titlefont\":{\"color\":\"rgba(0, 0, 0, 1.000)\",\"family\":\"sans-serif\",\"size\":15},\"tickcolor\":\"rgb(0, 0, 0)\",\"ticktext\":[\"0\",\"500\",\"1000\",\"1500\",\"2000\",\"2500\"],\"zeroline\":false,\"type\":\"-\",\"tickfont\":{\"color\":\"rgba(0, 0, 0, 1.000)\",\"family\":\"sans-serif\",\"size\":11},\"zerolinecolor\":\"rgba(0, 0, 0, 1.000)\",\"anchor\":\"x1\"},\"legend\":{\"tracegroupgap\":0,\"bordercolor\":\"rgba(0, 0, 0, 1.000)\",\"bgcolor\":\"rgba(255, 255, 255, 1.000)\",\"font\":{\"color\":\"rgba(0, 0, 0, 1.000)\",\"family\":\"sans-serif\",\"size\":11},\"y\":1.0,\"x\":1.0},\"width\":600});\n",
       "    </script>\n"
      ]
     },
     "execution_count": 248,
     "metadata": {},
     "output_type": "execute_result"
    }
   ],
   "source": [
    "h_2 = histogram(it_aleatorios_norm, nbins = 20)"
   ]
  },
  {
   "cell_type": "markdown",
   "metadata": {},
   "source": [
    "## 6\n",
    "\n",
    "Analicen los mapeos\n",
    "\n",
    "- F(x) = x^2,\n",
    "\n",
    "- F(x) = x^3,\n",
    "\n",
    "- F(x) = -x^3,\n",
    "\n",
    "que se satisface $F(0) = F'(0) = 0$. ¿Qué podemos decir de la convergencia?"
   ]
  },
  {
   "cell_type": "code",
   "execution_count": null,
   "metadata": {},
   "outputs": [],
   "source": []
  },
  {
   "cell_type": "code",
   "execution_count": null,
   "metadata": {},
   "outputs": [],
   "source": []
  },
  {
   "cell_type": "markdown",
   "metadata": {},
   "source": [
    "## 7\n",
    "\n",
    "Analicen los mapeos\n",
    "\n",
    "- F(x) = x,\n",
    "\n",
    "- F(x) = -x,\n",
    "\n",
    "- F(x) = x-x^2,\n",
    "\n",
    "que se satisface $F(0) = 0$ y $|F'(0)| = 1$. (Este tipo de puntos son *neutralmente* atractivos o repulsivos.) ¿Qué podemos decir de la convergencia?"
   ]
  },
  {
   "cell_type": "code",
   "execution_count": null,
   "metadata": {},
   "outputs": [],
   "source": []
  },
  {
   "cell_type": "markdown",
   "metadata": {},
   "source": [
    "## 8\n",
    "\n",
    "En el ejercicio 3, implementaron el análisis gráfico (y el método de Newton) para encontrar los puntos de periodo dos del mapeo $F(x) = x^2 -1.1$. Usen el módulo de duales para mostrar la estabilidad de esos puntos."
   ]
  },
  {
   "cell_type": "code",
   "execution_count": null,
   "metadata": {},
   "outputs": [],
   "source": []
  }
 ],
 "metadata": {
  "kernel_info": {
   "name": "julia-0.6"
  },
  "kernelspec": {
   "display_name": "Julia 0.6.4",
   "language": "julia",
   "name": "julia-0.6"
  },
  "language_info": {
   "file_extension": ".jl",
   "mimetype": "application/julia",
   "name": "julia",
   "version": "0.6.4"
  },
  "nteract": {
   "version": "0.11.6"
  }
 },
 "nbformat": 4,
 "nbformat_minor": 2
}
