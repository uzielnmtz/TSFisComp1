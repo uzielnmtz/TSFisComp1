{
 "cells": [
  {
   "cell_type": "markdown",
   "metadata": {},
   "source": [
    "# Tarea 1"
   ]
  },
  {
   "cell_type": "markdown",
   "metadata": {},
   "source": [
    "**Envío del PR inicial:** viernes 21 de septiembre\n",
    "\n",
    "**Aceptación del PR:** martes 25 de septiembre"
   ]
  },
  {
   "cell_type": "markdown",
   "metadata": {},
   "source": [
    "## 1\n",
    "\n",
    "Consideren el mapeo $F(x) = x^2-2$ definido en el intervalo $[-2,2]$. \n",
    "\n",
    "- ¿Qué podemos concluir después de muchos iterados para las condiciones iniciales $x_0=0$, $x_0=0.1$, $x_0=0.001$?\n",
    "    \n",
    "- ¿Qué propiedad hace que el interés en este mapeo sea el intervalo [-2,2]$\n"
   ]
  },
  {
   "cell_type": "code",
   "execution_count": 83,
   "metadata": {},
   "outputs": [
    {
     "data": {
      "text/plain": [
       "Fμ"
      ]
     },
     "execution_count": 83,
     "metadata": {},
     "output_type": "execute_result"
    }
   ],
   "source": [
    "doc\"\"\"\n",
    "    Fμ(f, x0, n_iter)\n",
    "Devuelve la n-ésima iteración de la función `f` a partir de la condición inicial $x_0$.\n",
    "\n",
    "\"\"\"\n",
    "function Fμ(f, x0, n_iter::Int64=1000)\n",
    "    \n",
    "    x_nn = x_n = x0\n",
    "    for i in 1:n_iter\n",
    "        x_nn = f(x_n)\n",
    "        x_n = x_nn\n",
    "    end\n",
    "    return float(x_nn)\n",
    "end"
   ]
  },
  {
   "cell_type": "code",
   "execution_count": 84,
   "metadata": {},
   "outputs": [
    {
     "data": {
      "text/plain": [
       "F (generic function with 1 method)"
      ]
     },
     "execution_count": 84,
     "metadata": {},
     "output_type": "execute_result"
    }
   ],
   "source": [
    "F(x) = x^2 - 2"
   ]
  },
  {
   "cell_type": "markdown",
   "metadata": {},
   "source": [
    "### (a) Condición inicial $x_0 = 0 $"
   ]
  },
  {
   "cell_type": "code",
   "execution_count": 85,
   "metadata": {},
   "outputs": [],
   "source": [
    "x0 = 0\n",
    "iters = 1:10:1000\n",
    "iterados1 = []\n",
    "for n_iter in iters\n",
    "    iterado = Fμ(F, x0, n_iter=n_iter)\n",
    "    push!(iterados1, iterado)\n",
    "end"
   ]
  },
  {
   "cell_type": "code",
   "execution_count": 86,
   "metadata": {},
   "outputs": [
    {
     "data": {
      "text/plain": [
       "100-element Array{Any,1}:\n",
       " -2.0\n",
       "  2.0\n",
       "  2.0\n",
       "  2.0\n",
       "  2.0\n",
       "  2.0\n",
       "  2.0\n",
       "  2.0\n",
       "  2.0\n",
       "  2.0\n",
       "  2.0\n",
       "  2.0\n",
       "  2.0\n",
       "  ⋮  \n",
       "  2.0\n",
       "  2.0\n",
       "  2.0\n",
       "  2.0\n",
       "  2.0\n",
       "  2.0\n",
       "  2.0\n",
       "  2.0\n",
       "  2.0\n",
       "  2.0\n",
       "  2.0\n",
       "  2.0"
      ]
     },
     "execution_count": 86,
     "metadata": {},
     "output_type": "execute_result"
    }
   ],
   "source": [
    "iterados1"
   ]
  },
  {
   "cell_type": "markdown",
   "metadata": {},
   "source": [
    " Para la condición $x_0 = 0$ observamos que a partir de $F^2$, $F(x) = 2$, es decir, que desde $F^2(x)$ hasta $F^{100}(x)$, $F(x) = 2$. Dicho de otra manera, el unico itereado diferente de 2 es el primer iterado $F^1(x)$"
   ]
  },
  {
   "cell_type": "markdown",
   "metadata": {},
   "source": [
    "### (b) Condición inicial $x_0 = 0.1$"
   ]
  },
  {
   "cell_type": "code",
   "execution_count": 87,
   "metadata": {},
   "outputs": [],
   "source": [
    "x0 = 0.1\n",
    "iters = 1:10:1000\n",
    "iterados2 = []\n",
    "for n_iter in iters\n",
    "    iterado = Fμ(F, x0, n_iter=n_iter)\n",
    "    push!(iterados2, iterado)\n",
    "end"
   ]
  },
  {
   "cell_type": "code",
   "execution_count": 88,
   "metadata": {},
   "outputs": [
    {
     "data": {
      "text/plain": [
       "100-element Array{Any,1}:\n",
       " -2.0      \n",
       "  1.03991  \n",
       "  1.509    \n",
       " -0.919219 \n",
       "  0.957554 \n",
       " -1.34097  \n",
       "  0.171768 \n",
       "  1.99211  \n",
       " -1.98257  \n",
       " -1.95598  \n",
       " -0.0592823\n",
       "  0.979574 \n",
       " -1.73906  \n",
       "  ⋮        \n",
       "  1.96525  \n",
       " -1.79088  \n",
       "  0.708872 \n",
       "  1.91165  \n",
       " -1.42677  \n",
       " -1.91347  \n",
       "  1.50959  \n",
       " -1.60681  \n",
       "  1.88548  \n",
       " -1.74975  \n",
       " -1.63544  \n",
       "  1.94435  "
      ]
     },
     "execution_count": 88,
     "metadata": {},
     "output_type": "execute_result"
    }
   ],
   "source": [
    "iterados3"
   ]
  },
  {
   "cell_type": "markdown",
   "metadata": {},
   "source": [
    "### (c) Condición inicial $x_0 = 0.001$"
   ]
  },
  {
   "cell_type": "code",
   "execution_count": 89,
   "metadata": {},
   "outputs": [],
   "source": [
    "x0 = 0.001\n",
    "iters = 1:10:1000\n",
    "iterados3 = []\n",
    "for n_iter in iters\n",
    "    iterado = Fμ(F, x0, n_iter=n_iter)\n",
    "    push!(iterados3, iterado)\n",
    "end"
   ]
  },
  {
   "cell_type": "code",
   "execution_count": 90,
   "metadata": {},
   "outputs": [
    {
     "data": {
      "text/plain": [
       "100-element Array{Any,1}:\n",
       " -2.0      \n",
       "  1.03991  \n",
       "  1.509    \n",
       " -0.919219 \n",
       "  0.957554 \n",
       " -1.34097  \n",
       "  0.171768 \n",
       "  1.99211  \n",
       " -1.98257  \n",
       " -1.95598  \n",
       " -0.0592823\n",
       "  0.979574 \n",
       " -1.73906  \n",
       "  ⋮        \n",
       "  1.96525  \n",
       " -1.79088  \n",
       "  0.708872 \n",
       "  1.91165  \n",
       " -1.42677  \n",
       " -1.91347  \n",
       "  1.50959  \n",
       " -1.60681  \n",
       "  1.88548  \n",
       " -1.74975  \n",
       " -1.63544  \n",
       "  1.94435  "
      ]
     },
     "execution_count": 90,
     "metadata": {},
     "output_type": "execute_result"
    }
   ],
   "source": [
    "iterados3"
   ]
  },
  {
   "cell_type": "code",
   "execution_count": null,
   "metadata": {},
   "outputs": [],
   "source": []
  },
  {
   "cell_type": "markdown",
   "metadata": {},
   "source": [
    "## 2\n",
    "\n",
    "Escriban una función cuyos argumentos son la función `F` del mapeo, `x0`, la condición inicial, y `n` el número de iterados del mapeo (un número entero), que genere los `n` iterados del mapeo y haga el análisis gráfico descrito del mapeo. Ilustren el funcionamiento con $F(x)=\\sqrt{x}$.\n",
    "\n",
    "¿Qué pueden concluir de iterar *muchas* veces una condición inicial?"
   ]
  },
  {
   "cell_type": "code",
   "execution_count": 91,
   "metadata": {},
   "outputs": [
    {
     "data": {
      "text/plain": [
       "Fμ"
      ]
     },
     "execution_count": 91,
     "metadata": {},
     "output_type": "execute_result"
    }
   ],
   "source": [
    "doc\"\"\"\n",
    "    Fμ(f, x0, n_iter)\n",
    "Devuelve la n-ésima iteración de la función `f` a partir de la condición inicial $x_0$.\n",
    "\n",
    "\"\"\"\n",
    "function Fμ(f, x0, n_iter::Int64=1000)\n",
    "    \n",
    "    x_nn = x_n = x0\n",
    "    for i in 1:n_iter\n",
    "        x_nn = f(x_n)\n",
    "        x_n = x_nn\n",
    "    end\n",
    "    return float(x_nn)\n",
    "end"
   ]
  },
  {
   "cell_type": "code",
   "execution_count": 94,
   "metadata": {},
   "outputs": [],
   "source": [
    "G(x) = sqrt(x)\n",
    "\n",
    "x0 = 0.1\n",
    "iters = 1:10:1000\n",
    "iterados4 = []\n",
    "for n_iter in iters\n",
    "    iterado = Fμ(G, x0, n_iter=n_iter)\n",
    "    push!(iterados4, iterado)\n",
    "end"
   ]
  },
  {
   "cell_type": "code",
   "execution_count": 95,
   "metadata": {},
   "outputs": [
    {
     "data": {
      "text/plain": [
       "100-element Array{Any,1}:\n",
       " 0.316228\n",
       " 0.998876\n",
       " 0.999999\n",
       " 1.0     \n",
       " 1.0     \n",
       " 1.0     \n",
       " 1.0     \n",
       " 1.0     \n",
       " 1.0     \n",
       " 1.0     \n",
       " 1.0     \n",
       " 1.0     \n",
       " 1.0     \n",
       " ⋮       \n",
       " 1.0     \n",
       " 1.0     \n",
       " 1.0     \n",
       " 1.0     \n",
       " 1.0     \n",
       " 1.0     \n",
       " 1.0     \n",
       " 1.0     \n",
       " 1.0     \n",
       " 1.0     \n",
       " 1.0     \n",
       " 1.0     "
      ]
     },
     "execution_count": 95,
     "metadata": {},
     "output_type": "execute_result"
    }
   ],
   "source": [
    "iterados4"
   ]
  },
  {
   "cell_type": "code",
   "execution_count": 98,
   "metadata": {},
   "outputs": [],
   "source": [
    "x0 = 0.01\n",
    "iters = 1:10:1000\n",
    "iterados5 = []\n",
    "for n_iter in iters\n",
    "    iterado = Fμ(G, x0, n_iter=n_iter)\n",
    "    push!(iterados5, iterado)\n",
    "end"
   ]
  },
  {
   "cell_type": "code",
   "execution_count": 99,
   "metadata": {},
   "outputs": [
    {
     "data": {
      "text/plain": [
       "100-element Array{Any,1}:\n",
       " 0.1     \n",
       " 0.997754\n",
       " 0.999998\n",
       " 1.0     \n",
       " 1.0     \n",
       " 1.0     \n",
       " 1.0     \n",
       " 1.0     \n",
       " 1.0     \n",
       " 1.0     \n",
       " 1.0     \n",
       " 1.0     \n",
       " 1.0     \n",
       " ⋮       \n",
       " 1.0     \n",
       " 1.0     \n",
       " 1.0     \n",
       " 1.0     \n",
       " 1.0     \n",
       " 1.0     \n",
       " 1.0     \n",
       " 1.0     \n",
       " 1.0     \n",
       " 1.0     \n",
       " 1.0     \n",
       " 1.0     "
      ]
     },
     "execution_count": 99,
     "metadata": {},
     "output_type": "execute_result"
    }
   ],
   "source": [
    "iterados5"
   ]
  },
  {
   "cell_type": "code",
   "execution_count": null,
   "metadata": {},
   "outputs": [],
   "source": []
  },
  {
   "cell_type": "code",
   "execution_count": null,
   "metadata": {},
   "outputs": [],
   "source": []
  },
  {
   "cell_type": "code",
   "execution_count": null,
   "metadata": {},
   "outputs": [],
   "source": []
  },
  {
   "cell_type": "markdown",
   "metadata": {},
   "source": [
    "## 3\n",
    "\n",
    "- Usen el análisis gráfico para encontrar los puntos de periodo dos del mapeo $F(x) = x^2 -1.1$. Den explícitamente los puntos fijos.\n",
    "    \n",
    "- Usen el método de Newton, usando iterados iniciales  sagazmente seleccionados, para obtener los puntos fijos."
   ]
  },
  {
   "cell_type": "code",
   "execution_count": null,
   "metadata": {},
   "outputs": [],
   "source": []
  },
  {
   "cell_type": "markdown",
   "metadata": {},
   "source": [
    "## 4\n",
    "\n",
    "Hagan un análisis completo de las posibles órbitas de los siguientes mapeos, usando distintos colores para distintas órbitas. Interesa entre otras cosas saber cuántos puntos fijos tiene y cómo es la dinámica cerca de ésos puntos.\n",
    "\n",
    "- $F_1(x) = \\frac{1}{3x}$.\n",
    "\n",
    "- $F_2(x) = -\\frac{x^5}{5}$.\n",
    "\n",
    "- $F_3(x) = \\frac{x}{2}-2$."
   ]
  },
  {
   "cell_type": "code",
   "execution_count": null,
   "metadata": {},
   "outputs": [],
   "source": []
  },
  {
   "cell_type": "markdown",
   "metadata": {},
   "source": [
    "## 5\n",
    "\n",
    "- Para el mapeo mapeo $F(x) = x^2-2$ en el intervalo $[-2,2]$ (ejercicio 1), consideren un punto al azar en el intervalo $[-2,2]$ y construyan una órbita muy larga, por ejemplo, de $20\\,000$ iterados. Obtengan el histograma de frecuencia (normalizado) de visita de los puntos de la órbita. ¿Qué conclusión podemos sacar de este histograma?\n",
    "\n",
    "- \\Repitan el inciso anterior para el mapeo: $G(x) = 2x \\mod 1$ en el intervalo [0,1].\n",
    "\n",
    "(NOTA: En cuanto al histograma, pueden construir su propia función que haga el histograma, o buscar en las entrañas de la documentación.)"
   ]
  },
  {
   "cell_type": "code",
   "execution_count": null,
   "metadata": {},
   "outputs": [],
   "source": []
  },
  {
   "cell_type": "markdown",
   "metadata": {},
   "source": [
    "## 6\n",
    "\n",
    "Analicen los mapeos\n",
    "\n",
    "- F(x) = x^2,\n",
    "\n",
    "- F(x) = x^3,\n",
    "\n",
    "- F(x) = -x^3,\n",
    "\n",
    "que se satisface $F(0) = F'(0) = 0$. ¿Qué podemos decir de la convergencia?"
   ]
  },
  {
   "cell_type": "code",
   "execution_count": null,
   "metadata": {},
   "outputs": [],
   "source": []
  },
  {
   "cell_type": "markdown",
   "metadata": {},
   "source": [
    "## 7\n",
    "\n",
    "Analicen los mapeos\n",
    "\n",
    "- F(x) = x,\n",
    "\n",
    "- F(x) = -x,\n",
    "\n",
    "- F(x) = x-x^2,\n",
    "\n",
    "que se satisface $F(0) = 0$ y $|F'(0)| = 1$. (Este tipo de puntos son *neutralmente* atractivos o repulsivos.) ¿Qué podemos decir de la convergencia?"
   ]
  },
  {
   "cell_type": "code",
   "execution_count": null,
   "metadata": {},
   "outputs": [],
   "source": []
  },
  {
   "cell_type": "markdown",
   "metadata": {},
   "source": [
    "## 8\n",
    "\n",
    "En el ejercicio 3, implementaron el análisis gráfico (y el método de Newton) para encontrar los puntos de periodo dos del mapeo $F(x) = x^2 -1.1$. Usen el módulo de duales para mostrar la estabilidad de esos puntos."
   ]
  },
  {
   "cell_type": "code",
   "execution_count": null,
   "metadata": {},
   "outputs": [],
   "source": []
  }
 ],
 "metadata": {
  "kernel_info": {
   "name": "julia-0.6"
  },
  "kernelspec": {
   "display_name": "Julia 0.6.4",
   "language": "julia",
   "name": "julia-0.6"
  },
  "language_info": {
   "file_extension": ".jl",
   "mimetype": "application/julia",
   "name": "julia",
   "version": "0.6.4"
  },
  "nteract": {
   "version": "0.11.6"
  }
 },
 "nbformat": 4,
 "nbformat_minor": 2
}
