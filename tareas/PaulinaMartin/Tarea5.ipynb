{
 "cells": [
  {
   "cell_type": "markdown",
   "metadata": {},
   "source": [
    "# Tarea 5"
   ]
  },
  {
   "cell_type": "markdown",
   "metadata": {},
   "source": [
    "**Envío del PR inicial:** 15 de octubre\n",
    "\n",
    "**Aceptación del PR:** 21 de octubre"
   ]
  },
  {
   "cell_type": "markdown",
   "metadata": {},
   "source": [
    "NOTA: Esta tarea debe entregarse en equipo."
   ]
  },
  {
   "cell_type": "markdown",
   "metadata": {},
   "source": [
    "## 1\n",
    "\n",
    "Llamemos $c_n$ el valor del parámetro $c$ donde ocurre la bifurcación de doblamiento de periodo para el mapeo $Q_c(x)=x^2+c$, donde la órbita de periodo $2^n$ nace. Como hemos visto en notebooks anteriores, tenemos que $c_0=1/4$ marca la aparición del atractor de periodo $2^0=1$, $c_1=-1/4$ corresponde a la aparición del atractor de periodo $2^1=2$, $c_2=-3/4$ a la aparición del atractor de periodo $2^2=4$, etc. \n",
    "\n",
    "A partir de estos valores y otros que calcularán (al menos deben encontrar $c_6$), definimos la secuencia: $\\{f_0, f_1, f_2, \\dots\\}$, donde\n",
    "\n",
    "\\begin{equation}\n",
    "f_n = \\frac{c_n-c_{n+1}}{c_{n+1}-c_{n+2}} .\n",
    "\\end{equation}\n",
    "\n",
    "La pregunta es, ¿a qué valor converge esta secuencia?, es decir, dar una estimación de $f_\\infty$.\n",
    "\n",
    "\n",
    "*Hint:* Para realizar este ejercicio deben calcular el atractor para varios valores de $c$, de tal manera que puedan aislar las órbitas de periodo $2^p$ y de ahí determinar varios valores $c_n$. Se requerir suficiente cuidado para obtener una buena aproximación de $c_n$. \n",
    "Una opción se basa en recordar/usar que las bifurcaciones de doblamiento de periodo ocurren cuando los puntos de la órbita de periodo $p$ se tornan en repulsores, es decir, $(Q_c^p)'(x)=-1$. Esta opción, entonces, involucra obtener los valores $c_n$ a partir de órbitas periódicas de periodo $2^n$ usando los polinomios $Q_c^{2^p}(x)$ y diferenciación automática."
   ]
  },
  {
   "cell_type": "code",
   "execution_count": null,
   "metadata": {},
   "outputs": [],
   "source": []
  },
  {
   "cell_type": "code",
   "execution_count": 16,
   "metadata": {},
   "outputs": [
    {
     "data": {
      "text/plain": [
       "f_n (generic function with 1 method)"
      ]
     },
     "execution_count": 16,
     "metadata": {},
     "output_type": "execute_result"
    }
   ],
   "source": [
    "##f_n devuelve la distancia entre el valor c_n (donde ocurre la n-esima bifurcacion) y el de valor c_n+1 \n",
    "\n",
    "function f_n(cn, cn1, cn2)\n",
    "    \n",
    "    f_n = (cn - cn1) / (cn1 - cn2)\n",
    "    \n",
    "end"
   ]
  },
  {
   "cell_type": "code",
   "execution_count": 295,
   "metadata": {},
   "outputs": [
    {
     "ename": "LoadError",
     "evalue": "\u001b[91mUndefVarError: iterate not defined\u001b[39m",
     "output_type": "error",
     "traceback": [
      "\u001b[91mUndefVarError: iterate not defined\u001b[39m",
      "",
      "Stacktrace:",
      " [1] \u001b[1minclude_string\u001b[22m\u001b[22m\u001b[1m(\u001b[22m\u001b[22m::String, ::String\u001b[1m)\u001b[22m\u001b[22m at \u001b[1m.\\loading.jl:522\u001b[22m\u001b[22m",
      " [2] \u001b[1mexecute_request\u001b[22m\u001b[22m\u001b[1m(\u001b[22m\u001b[22m::ZMQ.Socket, ::IJulia.Msg\u001b[1m)\u001b[22m\u001b[22m at \u001b[1mC:\\Users\\Pau Martin\\.julia\\v0.6\\IJulia\\src\\execute_request.jl:193\u001b[22m\u001b[22m",
      " [3] \u001b[1m(::Compat.#inner#14{Array{Any,1},IJulia.#execute_request,Tuple{ZMQ.Socket,IJulia.Msg}})\u001b[22m\u001b[22m\u001b[1m(\u001b[22m\u001b[22m\u001b[1m)\u001b[22m\u001b[22m at \u001b[1mC:\\Users\\Pau Martin\\.julia\\v0.6\\Compat\\src\\Compat.jl:332\u001b[22m\u001b[22m",
      " [4] \u001b[1meventloop\u001b[22m\u001b[22m\u001b[1m(\u001b[22m\u001b[22m::ZMQ.Socket\u001b[1m)\u001b[22m\u001b[22m at \u001b[1mC:\\Users\\Pau Martin\\.julia\\v0.6\\IJulia\\src\\eventloop.jl:8\u001b[22m\u001b[22m",
      " [5] \u001b[1m(::IJulia.##13#16)\u001b[22m\u001b[22m\u001b[1m(\u001b[22m\u001b[22m\u001b[1m)\u001b[22m\u001b[22m at \u001b[1m.\\task.jl:335\u001b[22m\u001b[22m"
     ]
    }
   ],
   "source": [
    "iterate(x->x, 2)"
   ]
  },
  {
   "cell_type": "code",
   "execution_count": 347,
   "metadata": {},
   "outputs": [
    {
     "data": {
      "text/plain": [
       "compone (generic function with 1 method)"
      ]
     },
     "execution_count": 347,
     "metadata": {},
     "output_type": "execute_result"
    }
   ],
   "source": [
    "function compone(f0::Function, n_comp)\n",
    "    \n",
    "    fn(x) = f0(x)\n",
    "    f_2n(x) = fn(f0(x))\n",
    "    f_3n(x) = f_2n(fn(x))\n",
    "    f_4n(x) = f_3n(f0(x))\n",
    "    f_5n(x) = f_4n(f0(x))\n",
    "    f_6n(x) = f_5n(f0(x))\n",
    "    f_7n(x) = f_6n(f0(x))\n",
    "    f_8n(x) = f_7n(f0(x))\n",
    "    f_9n(x) = f_8n(f0(x))\n",
    "    f_10n(x) = f_9n(f0(x))\n",
    "    \n",
    "    if n_comp==0\n",
    "    return fn\n",
    "        \n",
    "        elseif n_comp==1\n",
    "        return f_2n\n",
    "        \n",
    "    elseif n_comp==2\n",
    "        return f_3n\n",
    "        \n",
    "    elseif n_comp==3\n",
    "        return f_4n\n",
    "        \n",
    "    elseif n_comp==4\n",
    "        return f_5n\n",
    "        \n",
    "    elseif n_comp==5\n",
    "        return f_6n\n",
    "        \n",
    "    elseif n_comp==6\n",
    "        return f_7n\n",
    "        \n",
    "    elseif n_comp==7\n",
    "        return f_8n\n",
    "        \n",
    "    elseif n_comp==8\n",
    "        return f_9n\n",
    "        \n",
    "    elseif n_comp==9\n",
    "        return f_10n\n",
    "        \n",
    "    end\n",
    "end\n",
    "    \n",
    "    #for i in 1:n_comp\n",
    "       # fnnn(x) = fnn(fn(f0(x)))\n",
    "        #fnn(x) = fnnn(x) \n",
    "    #end\n",
    "    #return fnnn\n",
    "#end\n",
    "    "
   ]
  },
  {
   "cell_type": "code",
   "execution_count": 348,
   "metadata": {},
   "outputs": [
    {
     "data": {
      "text/plain": [
       "f (generic function with 1 method)"
      ]
     },
     "execution_count": 348,
     "metadata": {},
     "output_type": "execute_result"
    }
   ],
   "source": [
    "f(x) = x^2"
   ]
  },
  {
   "cell_type": "code",
   "execution_count": 349,
   "metadata": {},
   "outputs": [
    {
     "data": {
      "text/plain": [
       "(::f_5n) (generic function with 1 method)"
      ]
     },
     "execution_count": 349,
     "metadata": {},
     "output_type": "execute_result"
    }
   ],
   "source": [
    "octava = compone(x -> x+1, 4)"
   ]
  },
  {
   "cell_type": "code",
   "execution_count": 350,
   "metadata": {},
   "outputs": [
    {
     "data": {
      "text/plain": [
       "6"
      ]
     },
     "execution_count": 350,
     "metadata": {},
     "output_type": "execute_result"
    }
   ],
   "source": [
    "octava(1)"
   ]
  },
  {
   "cell_type": "code",
   "execution_count": null,
   "metadata": {},
   "outputs": [],
   "source": []
  },
  {
   "cell_type": "markdown",
   "metadata": {},
   "source": [
    "## 2\n",
    "\n",
    "Repitan el ejercicio anterior para el mapeo $S_c(x) = c \\sin(x)$. \n",
    "\n",
    "- ¿Cómo se comparan los valores obtenidos de $f_n$? \n",
    "\n",
    "- ¿Qué interpretación le pueden dar a este resultado, en comparación del ejercicio anterior?"
   ]
  },
  {
   "cell_type": "code",
   "execution_count": null,
   "metadata": {},
   "outputs": [],
   "source": []
  },
  {
   "cell_type": "markdown",
   "metadata": {},
   "source": [
    "## 3\n",
    "\n",
    "Como se ve en la Fig. 1 del diagrama de bifurcaciones de $Q_c$, $x=0$ pertenece a un ciclo de periodo $2^n$ para ciertos valores $C_n$ del parámetro. Dichos valores son *especiales*, ya que el hecho de que $x=0$ pertenezca a un ciclo de periodo $2^n$ define los llamados *ciclos superestable*, donde tenemos $(Q^{2^p}_{C_n})'(0)=0$.\n",
    "\n",
    "- ¿A qué converge la secuencia $f_n$, definida ahora a partir de los valores $C_n$.\n",
    "\n",
    "- De los $2^p$ puntos del ciclo de periodo $2^p$, es decir, $\\{0, p_1, \\dots p_{2^{n-1}}\\,\\}$ hay uno (distinto del 0) cuya distancia a 0 es la menor; a esa distancia la identificaremos como $d_n$. Calcular numéricamente a qué converge la secuencia $d_n/d_{n+1}$."
   ]
  },
  {
   "cell_type": "code",
   "execution_count": null,
   "metadata": {},
   "outputs": [],
   "source": []
  }
 ],
 "metadata": {
  "kernelspec": {
   "display_name": "Julia 0.6.4",
   "language": "julia",
   "name": "julia-0.6"
  },
  "language_info": {
   "file_extension": ".jl",
   "mimetype": "application/julia",
   "name": "julia",
   "version": "0.6.4"
  }
 },
 "nbformat": 4,
 "nbformat_minor": 1
}
