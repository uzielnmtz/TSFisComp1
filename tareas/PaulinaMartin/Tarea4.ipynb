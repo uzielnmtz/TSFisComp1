{
 "cells": [
  {
   "cell_type": "markdown",
   "metadata": {},
   "source": [
    "# Tarea 4"
   ]
  },
  {
   "cell_type": "markdown",
   "metadata": {},
   "source": [
    "**Envío del PR inicial:** viernes 28 de septiembre\n",
    "\n",
    "**Aceptación del PR:** martes 9 de octubre"
   ]
  },
  {
   "cell_type": "code",
   "execution_count": 1,
   "metadata": {},
   "outputs": [
    {
     "data": {
      "text/plain": [
       "Plots.GRBackend()"
      ]
     },
     "execution_count": 1,
     "metadata": {},
     "output_type": "execute_result"
    }
   ],
   "source": [
    "include(\"Mapeos.jl\")\n",
    "using Plots\n",
    "using LaTeXStrings\n",
    "using Mapeos\n",
    "\n",
    "gr(grid=false)"
   ]
  },
  {
   "cell_type": "markdown",
   "metadata": {},
   "source": [
    "### Documentación del módulo $Mapeos.jl$"
   ]
  },
  {
   "cell_type": "markdown",
   "metadata": {},
   "source": [
    "A grandes rasgos, el script `Mapeos.jl` contiene dos funciones útiles para el cálculo y análisis de órbitas. \n",
    "\n",
    "#### A. Función  Mapeo (F, $x_0$; n_iters)\n",
    "\n",
    "La función `Mapeo` devuelve un vector `xnn` que tiene por componentes los iterados calculados a partir de un punto inicial `x_0` evaluado en la funcion `F(x)` que es iterada un número $n$ de veces (`n_iters`). \n",
    "\n",
    "Dos puntos importantes deben mencionarse acerca de `Mapeo`:\n",
    "\n",
    "##### [1] La función $Mapeo$ contiene 5 parámetros que pueden resultar útiles.\n",
    "    \n",
    "- `F::Function` es la función `F` que es evaluada en el punto inical $x_0$.\n",
    "\n",
    "- `x₀::Real` es la condición inicial a partir de la cual comienza a iterarse la función `F` para generar la órbita del mapeo.\n",
    "- `n::Int` es el número de iteraciones que se aplicarán a la función `F`.\n",
    "\n",
    "- `xnn::Vector{Float64}` es un vector que tiene por componenetes al punto inicial $x_0$ como primer elemento, y a cada uno de los $n$ iterados $X^n$.\n",
    "\n",
    "- `div::Bool` es una variable booleana que devuelve la etiqueta `true` si la órbita diverge a infinito positivo (o a infitino negativo) en algún iterado $X^n$ elemeneto del vector $xnn$, o `false` si la órbita está definida (no diverge) y presenta puntos fijos (atractores, repulsores, etc.).\n",
    "\n",
    "##### Ejemplo\n",
    "\n",
    "Sea $Mapeo1 = Mapeo(G, 3.0, 100)$ una varible definida como la función `G(x)` evaluada en el punto inicial $3.0$ y que será iterada 100 veces para generar una órbita descrita por las componenetes del vector $xnn$. \n",
    "\n",
    "Para llamar a las disntintas componentes se utilizará la siguiente convención:\n",
    "\n",
    "- `Mapeo1.F` devuelve la función `G` del mapeo $Mapeo1$.\n",
    "\n",
    "- `Mapeo1.x₀` arroja la condición inicial a partir de la cual comienza a iterarse la función `G` para generar la órbita del mapeo.\n",
    "\n",
    "- `Mapeo1.n` devuelve el número de iteraciones que se aplicaron a la función `G`.\n",
    "\n",
    "- `Mapeo1.xnn` arroja el vector que genera la órbita de Mapeo1. Tiene por componenetes al punto inicial $x_0  = 3.0$ como primer elemento, y a cada uno de los $100$ iterados $X^n$ (desde $X^1$ hasta $X^100$.\n",
    "\n",
    "- `div::Bool` es una variable booleana que devuelve la etiqueta `true` si la órbita diverge a infinito positivo (o a infitino negativo) en alguno de los $100$ iterados $X^n$ (elemenetos del vector $xnn$), o `false` si la órbita está definida (no diverge) y presenta puntos fijos (atractores, repuulsores, etc.) en alguno de los $100$ iterados $X^n$.\n",
    "\n",
    "[2] La función `Mapeo` tiene por cuarta componente a la cantidad numérica a partir de la cual se considerará que un iterado en el mapeo de F diverge a $infinito$. Por default se ha establecido el valor de este parámetro como $inf=1e7$.\n",
    "\n",
    "\n",
    "#### B. Función grafica_mapeo\n",
    "\n",
    "La función `grafica_mapeo` genera el análisis gráfico correspondiente a la órbita del mapeo `F(x)` evaluado en el punto inicial $x_0$ e iterado un número $n$ de veces (n_iters).  \n",
    "\n",
    "grafica_mapeo(F, n) recibe un mapeo `F` y el intervalo de iteraciones que se desean incluir en el análisis gráfico. Se pueden añadir argumentos adicionales compatibles con `Plots`.\n",
    "\n",
    "##### Ejemplo\n",
    "\n",
    "Sea $Mapeo1 = Mapeo(G, 3.0, 100)$ una varible definida como la función `G(x)` evaluada en el punto inicial $3.0$ y que será iterada 100 veces para generar una órbita descrita por las componenetes del vector $xnn$. \n",
    "\n",
    "    grafica_mapeo(G, 1:20, legend=false) devuelve el análisis gráfico del mapeo `G(x)` evaluado en el punto inicial $3.0$ para las primeras 20 iteraciones. "
   ]
  },
  {
   "cell_type": "markdown",
   "metadata": {},
   "source": [
    "## 1\n",
    "\n",
    "Para el mapeo $Q_c(x) = x^2 + c$, ¿cuál es el dominio $\\cal{D}\\subset \\mathbb{R}$ de $Q_c(x)$ tal que la órbita generada por una condición inicial $x_0\\in \\cal{D}$ *no* escapa a infinito a ningún tiempo?"
   ]
  },
  {
   "cell_type": "markdown",
   "metadata": {},
   "source": [
    "Definimos la función $Q_c(x) = x^2 + c$"
   ]
  },
  {
   "cell_type": "code",
   "execution_count": 9,
   "metadata": {},
   "outputs": [
    {
     "data": {
      "text/plain": [
       "Qc (generic function with 1 method)"
      ]
     },
     "execution_count": 9,
     "metadata": {},
     "output_type": "execute_result"
    }
   ],
   "source": [
    "Qc(x, c) = x^2 + c"
   ]
  },
  {
   "cell_type": "markdown",
   "metadata": {},
   "source": [
    "Usando el módulo `Mapeos.jl` para el análisis gráfico de `Qc(x)` con diferentes valores de $c < 1/4$, obtenemos los siguientes reusltados:"
   ]
  },
  {
   "cell_type": "markdown",
   "metadata": {},
   "source": [
    "### (a) $c = 0.10$"
   ]
  },
  {
   "cell_type": "code",
   "execution_count": 10,
   "metadata": {},
   "outputs": [
    {
     "data": {
      "text/plain": [
       "(::#1) (generic function with 1 method)"
      ]
     },
     "execution_count": 10,
     "metadata": {},
     "output_type": "execute_result"
    }
   ],
   "source": [
    "Qc1 = x -> Qc(x, 0.10)"
   ]
  },
  {
   "cell_type": "code",
   "execution_count": 14,
   "metadata": {},
   "outputs": [],
   "source": [
    "rango1_x₀ = -2:0.1:2\n",
    "mapeo1_Qc = [Mapeo(Qc1, x₀, 50) for x₀ in rango1_x₀];"
   ]
  },
  {
   "cell_type": "code",
   "execution_count": 59,
   "metadata": {},
   "outputs": [
    {
     "name": "stdout",
     "output_type": "stream",
     "text": [
      "-2.0\ttrue\n",
      "-1.9\ttrue\n",
      "-1.8\ttrue\n",
      "-1.7\ttrue\n",
      "-1.6\ttrue\n",
      "-1.5\ttrue\n",
      "-1.4\ttrue\n",
      "-1.3\ttrue\n",
      "-1.2\ttrue\n",
      "-1.1\ttrue\n",
      "-1.0\ttrue\n",
      "-0.9\ttrue\n",
      "-0.8\tfalse\n",
      "-0.7\tfalse\n",
      "-0.6\tfalse\n",
      "-0.5\tfalse\n",
      "-0.4\tfalse\n",
      "-0.3\tfalse\n",
      "-0.2\tfalse\n",
      "-0.1\tfalse\n",
      "0.0\tfalse\n",
      "0.1\tfalse\n",
      "0.2\tfalse\n",
      "0.3\tfalse\n",
      "0.4\tfalse\n",
      "0.5\tfalse\n",
      "0.6\tfalse\n",
      "0.7\tfalse\n",
      "0.8\tfalse\n",
      "0.9\ttrue\n",
      "1.0\ttrue\n",
      "1.1\ttrue\n",
      "1.2\ttrue\n",
      "1.3\ttrue\n",
      "1.4\ttrue\n",
      "1.5\ttrue\n",
      "1.6\ttrue\n",
      "1.7\ttrue\n",
      "1.8\ttrue\n",
      "1.9\ttrue\n",
      "2.0\ttrue\n"
     ]
    }
   ],
   "source": [
    "for m in mapeo1_Qc\n",
    "    println(m.x₀, \"\\t\", m.div)\n",
    "    end"
   ]
  },
  {
   "cell_type": "code",
   "execution_count": 16,
   "metadata": {},
   "outputs": [],
   "source": [
    "mapeo1_false = []\n",
    "mapeo1_true = []\n",
    "for m in mapeo1_Qc\n",
    "    if m.div == false\n",
    "        push!(mapeo1_false, m)\n",
    "        else m.div == true\n",
    "        push!(mapeo1_true, m)\n",
    "    end\n",
    "end"
   ]
  },
  {
   "cell_type": "code",
   "execution_count": 56,
   "metadata": {},
   "outputs": [],
   "source": [
    "mapeo1 = grafica_mapeo(mapeo1_false[1], 1:50, legend=false)\n",
    "for m in mapeo1_false[2:end]\n",
    "    grafica_mapeo!(m, 1:50)\n",
    "end\n",
    "xlims!(-1,1)\n",
    "\n",
    "mapeo1;"
   ]
  },
  {
   "cell_type": "raw",
   "metadata": {},
   "source": []
  },
  {
   "cell_type": "markdown",
   "metadata": {},
   "source": [
    "### (b) $c = 0$"
   ]
  },
  {
   "cell_type": "code",
   "execution_count": 42,
   "metadata": {},
   "outputs": [
    {
     "data": {
      "text/plain": [
       "(::#17) (generic function with 1 method)"
      ]
     },
     "execution_count": 42,
     "metadata": {},
     "output_type": "execute_result"
    }
   ],
   "source": [
    "Qc2 = x -> Qc(x, 0.0)"
   ]
  },
  {
   "cell_type": "code",
   "execution_count": 60,
   "metadata": {},
   "outputs": [],
   "source": [
    "rango2_x₀ = -2:0.1:2\n",
    "mapeo2_Qc = [Mapeo(Qc2, x₀, 50) for x₀ in rango2_x₀];"
   ]
  },
  {
   "cell_type": "code",
   "execution_count": 61,
   "metadata": {},
   "outputs": [
    {
     "name": "stdout",
     "output_type": "stream",
     "text": [
      "-2.0\ttrue\n",
      "-1.9\ttrue\n",
      "-1.8\ttrue\n",
      "-1.7\ttrue\n",
      "-1.6\ttrue\n",
      "-1.5\ttrue\n",
      "-1.4\ttrue\n",
      "-1.3\ttrue\n",
      "-1.2\ttrue\n",
      "-1.1\ttrue\n",
      "-1.0\tfalse\n",
      "-0.9\tfalse\n",
      "-0.8\tfalse\n",
      "-0.7\tfalse\n",
      "-0.6\tfalse\n",
      "-0.5\tfalse\n",
      "-0.4\tfalse\n",
      "-0.3\tfalse\n",
      "-0.2\tfalse\n",
      "-0.1\tfalse\n",
      "0.0\tfalse\n",
      "0.1\tfalse\n",
      "0.2\tfalse\n",
      "0.3\tfalse\n",
      "0.4\tfalse\n",
      "0.5\tfalse\n",
      "0.6\tfalse\n",
      "0.7\tfalse\n",
      "0.8\tfalse\n",
      "0.9\tfalse\n",
      "1.0\tfalse\n",
      "1.1\ttrue\n",
      "1.2\ttrue\n",
      "1.3\ttrue\n",
      "1.4\ttrue\n",
      "1.5\ttrue\n",
      "1.6\ttrue\n",
      "1.7\ttrue\n",
      "1.8\ttrue\n",
      "1.9\ttrue\n",
      "2.0\ttrue\n"
     ]
    }
   ],
   "source": [
    "for m in mapeo2_Qc\n",
    "    println(m.x₀, \"\\t\", m.div)\n",
    "    end"
   ]
  },
  {
   "cell_type": "code",
   "execution_count": 64,
   "metadata": {},
   "outputs": [],
   "source": [
    "mapeo2_false = []\n",
    "mapeo2_true = []\n",
    "for m in mapeo2_Qc\n",
    "    if m.div == false\n",
    "        push!(mapeo2_false, m)\n",
    "        else m.div == true\n",
    "        push!(mapeo2_true, m)\n",
    "    end\n",
    "end"
   ]
  },
  {
   "cell_type": "code",
   "execution_count": 67,
   "metadata": {},
   "outputs": [],
   "source": [
    "mapeo2 = grafica_mapeo(mapeo2_false[1], 1:50, legend=false)\n",
    "for m in mapeo2_false[2:end]\n",
    "    grafica_mapeo!(m, 1:50)\n",
    "end\n",
    "xlims!(-1.5,1.5)\n",
    "ylims!(-1.5, 2.5)\n",
    "\n",
    "mapeo2;"
   ]
  },
  {
   "cell_type": "markdown",
   "metadata": {},
   "source": [
    "### (c) $c = -0.10$"
   ]
  },
  {
   "cell_type": "code",
   "execution_count": 68,
   "metadata": {},
   "outputs": [
    {
     "data": {
      "text/plain": [
       "(::#23) (generic function with 1 method)"
      ]
     },
     "execution_count": 68,
     "metadata": {},
     "output_type": "execute_result"
    }
   ],
   "source": [
    "Qc3 = x -> Qc(x, -0.10)"
   ]
  },
  {
   "cell_type": "code",
   "execution_count": 69,
   "metadata": {},
   "outputs": [],
   "source": [
    "rango3_x₀ = -2:0.1:2\n",
    "mapeo3_Qc = [Mapeo(Qc3, x₀, 50) for x₀ in rango1_x₀];"
   ]
  },
  {
   "cell_type": "code",
   "execution_count": 70,
   "metadata": {},
   "outputs": [
    {
     "name": "stdout",
     "output_type": "stream",
     "text": [
      "-2.0\ttrue\n",
      "-1.9\ttrue\n",
      "-1.8\ttrue\n",
      "-1.7\ttrue\n",
      "-1.6\ttrue\n",
      "-1.5\ttrue\n",
      "-1.4\ttrue\n",
      "-1.3\ttrue\n",
      "-1.2\ttrue\n",
      "-1.1\ttrue\n",
      "-1.0\tfalse\n",
      "-0.9\tfalse\n",
      "-0.8\tfalse\n",
      "-0.7\tfalse\n",
      "-0.6\tfalse\n",
      "-0.5\tfalse\n",
      "-0.4\tfalse\n",
      "-0.3\tfalse\n",
      "-0.2\tfalse\n",
      "-0.1\tfalse\n",
      "0.0\tfalse\n",
      "0.1\tfalse\n",
      "0.2\tfalse\n",
      "0.3\tfalse\n",
      "0.4\tfalse\n",
      "0.5\tfalse\n",
      "0.6\tfalse\n",
      "0.7\tfalse\n",
      "0.8\tfalse\n",
      "0.9\tfalse\n",
      "1.0\tfalse\n",
      "1.1\ttrue\n",
      "1.2\ttrue\n",
      "1.3\ttrue\n",
      "1.4\ttrue\n",
      "1.5\ttrue\n",
      "1.6\ttrue\n",
      "1.7\ttrue\n",
      "1.8\ttrue\n",
      "1.9\ttrue\n",
      "2.0\ttrue\n"
     ]
    }
   ],
   "source": [
    "for m in mapeo3_Qc\n",
    "    println(m.x₀, \"\\t\", m.div)\n",
    "    end"
   ]
  },
  {
   "cell_type": "code",
   "execution_count": 71,
   "metadata": {},
   "outputs": [],
   "source": [
    "mapeo3_false = []\n",
    "mapeo3_true = []\n",
    "for m in mapeo3_Qc\n",
    "    if m.div == false\n",
    "        push!(mapeo3_false, m)\n",
    "        else m.div == true\n",
    "        push!(mapeo3_true, m)\n",
    "    end\n",
    "end"
   ]
  },
  {
   "cell_type": "code",
   "execution_count": 74,
   "metadata": {},
   "outputs": [],
   "source": [
    "mapeo3 = grafica_mapeo(mapeo3_false[1], 1:25, legend=false)\n",
    "for m in mapeo3_false[2:end]\n",
    "    grafica_mapeo!(m, 1:25)\n",
    "end\n",
    "xlims!(-1.5,1.5)\n",
    "\n",
    "mapeo3;"
   ]
  },
  {
   "cell_type": "markdown",
   "metadata": {},
   "source": [
    "### (d) $c = -0.50$"
   ]
  },
  {
   "cell_type": "code",
   "execution_count": 76,
   "metadata": {},
   "outputs": [
    {
     "data": {
      "text/plain": [
       "(::#27) (generic function with 1 method)"
      ]
     },
     "execution_count": 76,
     "metadata": {},
     "output_type": "execute_result"
    }
   ],
   "source": [
    "Qc4 = x -> Qc(x, -0.50)"
   ]
  },
  {
   "cell_type": "code",
   "execution_count": 84,
   "metadata": {},
   "outputs": [],
   "source": [
    "rango4_x₀ = -2:0.2:2\n",
    "mapeo4_Qc = [Mapeo(Qc4, x₀, 50) for x₀ in rango4_x₀];"
   ]
  },
  {
   "cell_type": "code",
   "execution_count": 85,
   "metadata": {},
   "outputs": [
    {
     "name": "stdout",
     "output_type": "stream",
     "text": [
      "-2.0\ttrue\n",
      "-1.8\ttrue\n",
      "-1.6\ttrue\n",
      "-1.4\ttrue\n",
      "-1.2\tfalse\n",
      "-1.0\tfalse\n",
      "-0.8\tfalse\n",
      "-0.6\tfalse\n",
      "-0.4\tfalse\n",
      "-0.2\tfalse\n",
      "0.0\tfalse\n",
      "0.2\tfalse\n",
      "0.4\tfalse\n",
      "0.6\tfalse\n",
      "0.8\tfalse\n",
      "1.0\tfalse\n",
      "1.2\tfalse\n",
      "1.4\ttrue\n",
      "1.6\ttrue\n",
      "1.8\ttrue\n",
      "2.0\ttrue\n"
     ]
    }
   ],
   "source": [
    "for m in mapeo4_Qc\n",
    "    println(m.x₀, \"\\t\", m.div)\n",
    "    end"
   ]
  },
  {
   "cell_type": "code",
   "execution_count": 86,
   "metadata": {},
   "outputs": [],
   "source": [
    "mapeo4_false = []\n",
    "mapeo4_true = []\n",
    "for m in mapeo4_Qc\n",
    "    if m.div == false\n",
    "        push!(mapeo4_false, m)\n",
    "        else m.div == true\n",
    "        push!(mapeo4_true, m)\n",
    "    end\n",
    "end"
   ]
  },
  {
   "cell_type": "code",
   "execution_count": 102,
   "metadata": {},
   "outputs": [],
   "source": [
    "mapeo4 = grafica_mapeo(mapeo4_false[1], 1:25, legend=false)\n",
    "for m in mapeo4_false[2:end]\n",
    "    grafica_mapeo!(m, 1:25)\n",
    "end\n",
    "xlims!(-1.5, 2)\n",
    "\n",
    "mapeo4;\n",
    "#savefig(mapeo4, \"mapeo4_periodico2\")"
   ]
  },
  {
   "attachments": {
    "mapeo4_periodico2.png": {
     "image/png": "[encoded data removed]"
    }
   },
   "cell_type": "markdown",
   "metadata": {},
   "source": [
    "![mapeo4_periodico2.png](attachment:mapeo4_periodico2.png)"
   ]
  },
  {
   "cell_type": "code",
   "execution_count": null,
   "metadata": {},
   "outputs": [],
   "source": []
  },
  {
   "cell_type": "markdown",
   "metadata": {},
   "source": [
    "### (e) $c = - 0.8$"
   ]
  },
  {
   "cell_type": "code",
   "execution_count": 124,
   "metadata": {},
   "outputs": [
    {
     "data": {
      "text/plain": [
       "(::#51) (generic function with 1 method)"
      ]
     },
     "execution_count": 124,
     "metadata": {},
     "output_type": "execute_result"
    }
   ],
   "source": [
    "Qc5 = x -> Qc(x, - .9999999)"
   ]
  },
  {
   "cell_type": "code",
   "execution_count": 133,
   "metadata": {},
   "outputs": [],
   "source": [
    "rango5_x₀ = -2:0.2:2\n",
    "mapeo5_Qc = [Mapeo(Qc5, x₀, 50) for x₀ in rango5_x₀];"
   ]
  },
  {
   "cell_type": "code",
   "execution_count": 134,
   "metadata": {},
   "outputs": [
    {
     "name": "stdout",
     "output_type": "stream",
     "text": [
      "-2.0\ttrue\n",
      "-1.8\ttrue\n",
      "-1.6\tfalse\n",
      "-1.4\tfalse\n",
      "-1.2\tfalse\n",
      "-1.0\tfalse\n",
      "-0.8\tfalse\n",
      "-0.6\tfalse\n",
      "-0.4\tfalse\n",
      "-0.2\tfalse\n",
      "0.0\tfalse\n",
      "0.2\tfalse\n",
      "0.4\tfalse\n",
      "0.6\tfalse\n",
      "0.8\tfalse\n",
      "1.0\tfalse\n",
      "1.2\tfalse\n",
      "1.4\tfalse\n",
      "1.6\tfalse\n",
      "1.8\ttrue\n",
      "2.0\ttrue\n"
     ]
    }
   ],
   "source": [
    "for m in mapeo5_Qc\n",
    "    println(m.x₀, \"\\t\", m.div)\n",
    "    end"
   ]
  },
  {
   "cell_type": "code",
   "execution_count": 135,
   "metadata": {},
   "outputs": [],
   "source": [
    "mapeo5_false = []\n",
    "mapeo5_true = []\n",
    "for m in mapeo5_Qc\n",
    "    if m.div == false\n",
    "        push!(mapeo5_false, m)\n",
    "        else m.div == true\n",
    "        push!(mapeo5_true, m)\n",
    "    end\n",
    "end"
   ]
  },
  {
   "cell_type": "code",
   "execution_count": 137,
   "metadata": {},
   "outputs": [],
   "source": [
    "mapeo5 = grafica_mapeo(mapeo5_false[1], 1:25, legend=false)\n",
    "for m in mapeo5_false[2:end]\n",
    "    grafica_mapeo!(m, 1:25)\n",
    "end\n",
    "xlims!(-2, 2.5)\n",
    "ylims!(-2.5, 2.1)\n",
    "\n",
    "mapeo5;"
   ]
  },
  {
   "cell_type": "code",
   "execution_count": null,
   "metadata": {},
   "outputs": [],
   "source": []
  },
  {
   "cell_type": "code",
   "execution_count": null,
   "metadata": {},
   "outputs": [],
   "source": []
  },
  {
   "cell_type": "markdown",
   "metadata": {},
   "source": [
    "## 2\n",
    "\n",
    "- Obtengan el diagrama de bifurcación que se muestra en la Fig. 2 del mapeo $Q_c(x)$ a partir de la iteración de una condición inicial.\n",
    "\n",
    "- Caractericen la cuenca de atracción de $p_-(c)$ cuando el punto es estable.\n"
   ]
  },
  {
   "cell_type": "code",
   "execution_count": null,
   "metadata": {},
   "outputs": [],
   "source": []
  },
  {
   "cell_type": "markdown",
   "metadata": {},
   "source": [
    "## 3\n",
    "\n",
    "Para el mapeo $F_\\lambda(x) = \\lambda x(1-x)$, ¿qué podemos decir de la bifurcación que ocurre en $\\lambda_0=1$? ¿Es o no una bifurcación de silla-nodo?"
   ]
  },
  {
   "cell_type": "code",
   "execution_count": null,
   "metadata": {},
   "outputs": [],
   "source": []
  },
  {
   "cell_type": "markdown",
   "metadata": {},
   "source": [
    "## 4\n",
    "\n",
    "- Obtengan numéricamente el diagrama de bifurcación del mapeo $Q_c(x)$ a partir de la iteración de una condición inicial en el intervalo de parámetros $-2<c<1/4$. Para esto se necesita iterar un gran número de veces (hasta llegar al ciclo periódico) condiciones iniciales, y repetir esto para *muchos* valores de $c$ en el intervalo. Vale la pena hacer notar que, si hay ciclos periódicos, *a priori* no conocen su periodicidad.\n",
    "\n",
    "- Para ciertos valores de $c$ característicos, muestren el análisis gráfico del mapeo $Q_c(x)$ a fin de entender los resultados.\n"
   ]
  },
  {
   "cell_type": "code",
   "execution_count": null,
   "metadata": {},
   "outputs": [],
   "source": []
  },
  {
   "cell_type": "markdown",
   "metadata": {},
   "source": [
    "## 5\n",
    "\n",
    "El objetivo de este ejercicio es relacionar, la velocidad de convergencia con que un punto fijo (o una órbita periódica, en el caso de los dos últimos incisos) atraen a puntos suficientemente cercanos, con la derivada del mapeo en el punto fijo (o ciclo periódico). La idea es, entonces, calcular primero el punto fijo y, después, medir cómo la distancia de los iterados sucesivos (de una condición inicial $x_0$) al punto fijo se comporta en el tiempo, para los siguientes mapeos:\n",
    "\n",
    "- $F(x) = x^2+0.25$\n",
    "\n",
    "- $F(x) = 3x(1-x)$\n",
    "\n",
    "- $F(x) = \\exp(x-1)$\n",
    "\n",
    "- $F(x) = x^2 - 1.25$\n",
    "\n",
    "- $F(x) = \\exp(x+1)$\n",
    "\n",
    "Deberán resolver algunas cosas intermedias. Por ejemplo, ¿qué tanto deben acercarse al punto fijo, a fin de evitar ruido numérico? ¿Qué hay que hacer en el caso en que el punto tenga una estabilidad neutra, i.e., no sea no atractivo ni repulsivo?\n",
    "\n",
    "En los dos últimos incisos, el interés está en los ciclos de periodo 2."
   ]
  },
  {
   "cell_type": "code",
   "execution_count": null,
   "metadata": {},
   "outputs": [],
   "source": []
  }
 ],
 "metadata": {
  "kernelspec": {
   "display_name": "Julia 0.6.4",
   "language": "julia",
   "name": "julia-0.6"
  },
  "language_info": {
   "file_extension": ".jl",
   "mimetype": "application/julia",
   "name": "julia",
   "version": "0.6.4"
  },
  "nteract": {
   "version": "0.11.6"
  }
 },
 "nbformat": 4,
 "nbformat_minor": 1
}
