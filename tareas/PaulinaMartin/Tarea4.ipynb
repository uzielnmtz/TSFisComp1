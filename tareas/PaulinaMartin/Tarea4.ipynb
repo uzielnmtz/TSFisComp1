{
 "cells": [
  {
   "cell_type": "markdown",
   "metadata": {},
   "source": [
    "# Tarea 4"
   ]
  },
  {
   "cell_type": "markdown",
   "metadata": {},
   "source": [
    "**Envío del PR inicial:** viernes 28 de septiembre\n",
    "\n",
    "**Aceptación del PR:** martes 9 de octubre"
   ]
  },
  {
   "cell_type": "code",
   "execution_count": 3,
   "metadata": {},
   "outputs": [
    {
     "data": {
      "text/plain": [
       "Plots.GRBackend()"
      ]
     },
     "execution_count": 3,
     "metadata": {},
     "output_type": "execute_result"
    }
   ],
   "source": [
    "using Plots, LaTeXStrings\n",
    "\n",
    "gr(grid=false)"
   ]
  },
  {
   "cell_type": "code",
   "execution_count": 5,
   "metadata": {},
   "outputs": [
    {
     "data": {
      "text/plain": [
       "Mapeos"
      ]
     },
     "execution_count": 5,
     "metadata": {},
     "output_type": "execute_result"
    }
   ],
   "source": [
    "module Mapeos\n",
    "using RecipesBase\n",
    "\n",
    "export Mapeo, f\n",
    "\n",
    "struct Mapeo\n",
    "    F::Function\n",
    "    x₀::Real\n",
    "    n::Int\n",
    "    xnn::Vector{Float64}\n",
    "    x::Vector{Float64}\n",
    "    y::Vector{Float64}\n",
    "end\n",
    "\n",
    "function itera_mapeo(F, x0; n_iters=100)\n",
    "    xnn = Float64[x0]\n",
    "    x = Float64[x0]; y = [-10000.]\n",
    "    for i in 1:n_iters\n",
    "        xn = xnn[end]\n",
    "        Fn = F(xn)\n",
    "        push!(xnn, Fn)\n",
    "        push!(x, xn)\n",
    "        push!(y, Fn)\n",
    "        push!(x, Fn)\n",
    "        push!(y, Fn)\n",
    "    end\n",
    "    xnn, (x, y)\n",
    "end\n",
    "\n",
    "function Mapeo(F::Function, x₀::Real, n::Int)\n",
    "    xnn, x_y = itera_mapeo(F, x₀, n_iters=n)\n",
    "    Mapeo(F, x₀, n, xnn, x_y...)\n",
    "end\n",
    "\n",
    "@userplot grafica_mapeo\n",
    "\n",
    "@recipe function f(p::grafica_mapeo)\n",
    "    if length(p.args) != 2 || !(typeof(p.args[1]) <: Mapeo) # Revisar esto, la primer condición no se evalúa\n",
    "        error(\"grafica_mapeo recibe dos parámetros, el mapeo y el número de pasos.\")\n",
    "    end\n",
    "    mapeo = p.args[1]\n",
    "    n = p.args[2]\n",
    "    F, x, y = mapeo.F, mapeo.x, mapeo.y\n",
    "    rango_x = [minimum(x), maximum(x) + 2]\n",
    "    rango_y = [minimum(y[2:end]) - 2, maximum(y) + 2]\n",
    "    xx = linspace(rango_x[1], rango_x[2], 1000)\n",
    "    xlims := rango_x\n",
    "    ylims := rango_y\n",
    "    @series begin\n",
    "        seriestype := :line\n",
    "        label := \"F(x)\"\n",
    "        xx, x -> F(x)\n",
    "    end\n",
    "    @series begin\n",
    "        seriestype := :line\n",
    "        label := \"y=x\"\n",
    "        xx, x -> x\n",
    "    end\n",
    "    @series begin\n",
    "        seriestype := :path\n",
    "        ls := :dash\n",
    "        marker := (3, .5, :dot)\n",
    "        label := \"Trayectoria\"\n",
    "        x[1:n], y[1:n]\n",
    "    end\n",
    "end\n",
    "\n",
    "end"
   ]
  },
  {
   "cell_type": "markdown",
   "metadata": {},
   "source": [
    "## 1\n",
    "\n",
    "Para el mapeo $Q_c(x) = x^2 + c$, ¿cuál es el dominio $\\cal{D}\\subset \\mathbb{R}$ de $Q_c(x)$ tal que la órbita generada por una condición inicial $x_0\\in \\cal{D}$ *no* escapa a infinito a ningún tiempo?"
   ]
  },
  {
   "cell_type": "code",
   "execution_count": 6,
   "metadata": {},
   "outputs": [
    {
     "data": {
      "text/plain": [
       "Q_c (generic function with 1 method)"
      ]
     },
     "execution_count": 6,
     "metadata": {},
     "output_type": "execute_result"
    }
   ],
   "source": [
    "Q_c(x, c) = x^2 + c"
   ]
  },
  {
   "cell_type": "code",
   "execution_count": null,
   "metadata": {},
   "outputs": [],
   "source": [
    "pplus(c) = 0.5*(1+sqrt(1-4*c))\n",
    "pminus(c) = 0.5*(1-sqrt(1-4*c))\n",
    "\n",
    "domc = -2:1/64:1/4\n",
    "\n",
    "plot(-2:1/64:1/4, pplus, xaxis=(\"c\", (-2,1)), yaxis=(\"p_\\pm(c)\"), \n",
    "    label=\"p_+(c)\", color=:red)\n",
    "plot!(-3/4:1/64:1/4, pminus, label=\"p_-(c)\", color=:blue)\n",
    "plot!(-2:1/64:-3/4, pminus, label=\"\", color=:red, line=(:dash))\n",
    "title!(\"Fig. 2\")"
   ]
  },
  {
   "cell_type": "code",
   "execution_count": null,
   "metadata": {},
   "outputs": [],
   "source": []
  },
  {
   "cell_type": "code",
   "execution_count": null,
   "metadata": {},
   "outputs": [],
   "source": []
  },
  {
   "cell_type": "code",
   "execution_count": null,
   "metadata": {},
   "outputs": [],
   "source": []
  },
  {
   "cell_type": "markdown",
   "metadata": {},
   "source": [
    "## 2\n",
    "\n",
    "- Obtengan el diagrama de bifurcación que se muestra en la Fig. 2 del mapeo $Q_c(x)$ a partir de la iteración de una condición inicial.\n",
    "\n",
    "- Caractericen la cuenca de atracción de $p_-(c)$ cuando el punto es estable.\n"
   ]
  },
  {
   "cell_type": "code",
   "execution_count": null,
   "metadata": {},
   "outputs": [],
   "source": []
  },
  {
   "cell_type": "markdown",
   "metadata": {},
   "source": [
    "## 3\n",
    "\n",
    "Para el mapeo $F_\\lambda(x) = \\lambda x(1-x)$, ¿qué podemos decir de la bifurcación que ocurre en $\\lambda_0=1$? ¿Es o no una bifurcación de silla-nodo?"
   ]
  },
  {
   "cell_type": "code",
   "execution_count": null,
   "metadata": {},
   "outputs": [],
   "source": []
  },
  {
   "cell_type": "markdown",
   "metadata": {},
   "source": [
    "## 4\n",
    "\n",
    "- Obtengan numéricamente el diagrama de bifurcación del mapeo $Q_c(x)$ a partir de la iteración de una condición inicial en el intervalo de parámetros $-2<c<1/4$. Para esto se necesita iterar un gran número de veces (hasta llegar al ciclo periódico) condiciones iniciales, y repetir esto para *muchos* valores de $c$ en el intervalo. Vale la pena hacer notar que, si hay ciclos periódicos, *a priori* no conocen su periodicidad.\n",
    "\n",
    "- Para ciertos valores de $c$ característicos, muestren el análisis gráfico del mapeo $Q_c(x)$ a fin de entender los resultados.\n"
   ]
  },
  {
   "cell_type": "code",
   "execution_count": null,
   "metadata": {},
   "outputs": [],
   "source": []
  },
  {
   "cell_type": "markdown",
   "metadata": {},
   "source": [
    "## 5\n",
    "\n",
    "El objetivo de este ejercicio es relacionar, la velocidad de convergencia con que un punto fijo (o una órbita periódica, en el caso de los dos últimos incisos) atraen a puntos suficientemente cercanos, con la derivada del mapeo en el punto fijo (o ciclo periódico). La idea es, entonces, calcular primero el punto fijo y, después, medir cómo la distancia de los iterados sucesivos (de una condición inicial $x_0$) al punto fijo se comporta en el tiempo, para los siguientes mapeos:\n",
    "\n",
    "- $F(x) = x^2+0.25$\n",
    "\n",
    "- $F(x) = 3x(1-x)$\n",
    "\n",
    "- $F(x) = \\exp(x-1)$\n",
    "\n",
    "- $F(x) = x^2 - 1.25$\n",
    "\n",
    "- $F(x) = \\exp(x+1)$\n",
    "\n",
    "Deberán resolver algunas cosas intermedias. Por ejemplo, ¿qué tanto deben acercarse al punto fijo, a fin de evitar ruido numérico? ¿Qué hay que hacer en el caso en que el punto tenga una estabilidad neutra, i.e., no sea no atractivo ni repulsivo?\n",
    "\n",
    "En los dos últimos incisos, el interés está en los ciclos de periodo 2."
   ]
  },
  {
   "cell_type": "code",
   "execution_count": null,
   "metadata": {
    "collapsed": true
   },
   "outputs": [],
   "source": []
  }
 ],
 "metadata": {
  "kernelspec": {
   "display_name": "Julia 0.6.4",
   "language": "julia",
   "name": "julia-0.6"
  },
  "language_info": {
   "file_extension": ".jl",
   "mimetype": "application/julia",
   "name": "julia",
   "version": "0.6.4"
  },
  "nteract": {
   "version": "0.11.6"
  }
 },
 "nbformat": 4,
 "nbformat_minor": 1
}
